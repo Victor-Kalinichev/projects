{
 "cells": [
  {
   "cell_type": "markdown",
   "metadata": {},
   "source": [
    "# Исследование для магазина видеоигр «Стримчик»"
   ]
  },
  {
   "cell_type": "markdown",
   "metadata": {},
   "source": [
    "### **Описание проекта**\n",
    "\n",
    "**Заказчик:** интернет-магазин «Стримчик», который продаёт по всему миру компьютерные игры. \n",
    "\n",
    "**Данные:** из открытых источников были получены данные от 2016 года о продажах игр, оценки пользователей и экспертов, жанры и платформы (например, Xbox или PlayStation). \n",
    "\n",
    "В наборе данных попадается аббревиатура ESRB (Entertainment Software Rating Board) — это ассоциация, определяющая возрастной рейтинг компьютерных игр. ESRB оценивает игровой контент и присваивает ему подходящую возрастную категорию: «Для взрослых», «Для детей младшего возраста» или «Для подростков»."
   ]
  },
  {
   "cell_type": "markdown",
   "metadata": {},
   "source": [
    "**Цели исследования**\n",
    "\n",
    "Необходимо выявить определяющие успешность игры закономерности. Это позволит сделать ставку на потенциально популярный продукт и спланировать рекламные кампании. Также нужно проверить **следующие гипотезы**:\n",
    "\n",
    "\n",
    "- Средние пользовательские рейтинги платформ Xbox One и PC одинаковые;\n",
    "- Средние пользовательские рейтинги жанров Action (англ. «действие», экшен-игры) и Sports (англ. «спортивные соревнования») разные.\n"
   ]
  },
  {
   "cell_type": "markdown",
   "metadata": {},
   "source": [
    "**Ход иследования**\n",
    "\n",
    "- **Подготовка данных**: загрузка и изучение общей информации из предоставленного датасета.\n",
    "\n",
    "- **Предобработка данных**: обработка пропущенных значений, корректировка типов данных, дубликатов и других аномалий.\n",
    "\n",
    "- **Исследовательский анализ данных**: описание и визуалиция информации об играх и платформах.\n",
    "\n",
    "- **Составление портрета пользователя**: определение самых популярных платформ и жанров для пользователя из каждого региона.\n",
    "\n",
    "- **Проверка гипотез**: проверка гипотез, описанных в целях исслелования.\n",
    "\n",
    "- **Общий вывод** и подведение итогов по проделанным работам."
   ]
  },
  {
   "cell_type": "markdown",
   "metadata": {},
   "source": [
    "### **Содержание**\n",
    "\n",
    "\n",
    "\n",
    "[Шаг 1. Загрузка данных](#1)\n",
    "\n",
    "[Шаг 2. Предобработка данных](#2)\n",
    "\n",
    "[Шаг 3. Исследовательский анализ данных](#3)\n",
    "\n",
    "[Шаг 4. Составление портрета пользователя](#4)\n",
    "\n",
    "[Шаг 5. Проверка гипотез](#5) \n",
    "\n",
    "[Общий вывод](#6)"
   ]
  },
  {
   "cell_type": "code",
   "execution_count": 1,
   "metadata": {},
   "outputs": [],
   "source": [
    "import pandas as pd\n",
    "import numpy as np\n",
    "from scipy import stats as st\n",
    "from matplotlib import pyplot as plt"
   ]
  },
  {
   "cell_type": "markdown",
   "metadata": {},
   "source": [
    "<a id=1></a>\n",
    "### Загрузка данных"
   ]
  },
  {
   "cell_type": "code",
   "execution_count": 2,
   "metadata": {},
   "outputs": [
    {
     "data": {
      "text/html": [
       "<div>\n",
       "<style scoped>\n",
       "    .dataframe tbody tr th:only-of-type {\n",
       "        vertical-align: middle;\n",
       "    }\n",
       "\n",
       "    .dataframe tbody tr th {\n",
       "        vertical-align: top;\n",
       "    }\n",
       "\n",
       "    .dataframe thead th {\n",
       "        text-align: right;\n",
       "    }\n",
       "</style>\n",
       "<table border=\"1\" class=\"dataframe\">\n",
       "  <thead>\n",
       "    <tr style=\"text-align: right;\">\n",
       "      <th></th>\n",
       "      <th>Name</th>\n",
       "      <th>Platform</th>\n",
       "      <th>Year_of_Release</th>\n",
       "      <th>Genre</th>\n",
       "      <th>NA_sales</th>\n",
       "      <th>EU_sales</th>\n",
       "      <th>JP_sales</th>\n",
       "      <th>Other_sales</th>\n",
       "      <th>Critic_Score</th>\n",
       "      <th>User_Score</th>\n",
       "      <th>Rating</th>\n",
       "    </tr>\n",
       "  </thead>\n",
       "  <tbody>\n",
       "    <tr>\n",
       "      <th>0</th>\n",
       "      <td>Wii Sports</td>\n",
       "      <td>Wii</td>\n",
       "      <td>2006.0</td>\n",
       "      <td>Sports</td>\n",
       "      <td>41.36</td>\n",
       "      <td>28.96</td>\n",
       "      <td>3.77</td>\n",
       "      <td>8.45</td>\n",
       "      <td>76.0</td>\n",
       "      <td>8</td>\n",
       "      <td>E</td>\n",
       "    </tr>\n",
       "    <tr>\n",
       "      <th>1</th>\n",
       "      <td>Super Mario Bros.</td>\n",
       "      <td>NES</td>\n",
       "      <td>1985.0</td>\n",
       "      <td>Platform</td>\n",
       "      <td>29.08</td>\n",
       "      <td>3.58</td>\n",
       "      <td>6.81</td>\n",
       "      <td>0.77</td>\n",
       "      <td>NaN</td>\n",
       "      <td>NaN</td>\n",
       "      <td>NaN</td>\n",
       "    </tr>\n",
       "    <tr>\n",
       "      <th>2</th>\n",
       "      <td>Mario Kart Wii</td>\n",
       "      <td>Wii</td>\n",
       "      <td>2008.0</td>\n",
       "      <td>Racing</td>\n",
       "      <td>15.68</td>\n",
       "      <td>12.76</td>\n",
       "      <td>3.79</td>\n",
       "      <td>3.29</td>\n",
       "      <td>82.0</td>\n",
       "      <td>8.3</td>\n",
       "      <td>E</td>\n",
       "    </tr>\n",
       "    <tr>\n",
       "      <th>3</th>\n",
       "      <td>Wii Sports Resort</td>\n",
       "      <td>Wii</td>\n",
       "      <td>2009.0</td>\n",
       "      <td>Sports</td>\n",
       "      <td>15.61</td>\n",
       "      <td>10.93</td>\n",
       "      <td>3.28</td>\n",
       "      <td>2.95</td>\n",
       "      <td>80.0</td>\n",
       "      <td>8</td>\n",
       "      <td>E</td>\n",
       "    </tr>\n",
       "    <tr>\n",
       "      <th>4</th>\n",
       "      <td>Pokemon Red/Pokemon Blue</td>\n",
       "      <td>GB</td>\n",
       "      <td>1996.0</td>\n",
       "      <td>Role-Playing</td>\n",
       "      <td>11.27</td>\n",
       "      <td>8.89</td>\n",
       "      <td>10.22</td>\n",
       "      <td>1.00</td>\n",
       "      <td>NaN</td>\n",
       "      <td>NaN</td>\n",
       "      <td>NaN</td>\n",
       "    </tr>\n",
       "    <tr>\n",
       "      <th>...</th>\n",
       "      <td>...</td>\n",
       "      <td>...</td>\n",
       "      <td>...</td>\n",
       "      <td>...</td>\n",
       "      <td>...</td>\n",
       "      <td>...</td>\n",
       "      <td>...</td>\n",
       "      <td>...</td>\n",
       "      <td>...</td>\n",
       "      <td>...</td>\n",
       "      <td>...</td>\n",
       "    </tr>\n",
       "    <tr>\n",
       "      <th>16710</th>\n",
       "      <td>Samurai Warriors: Sanada Maru</td>\n",
       "      <td>PS3</td>\n",
       "      <td>2016.0</td>\n",
       "      <td>Action</td>\n",
       "      <td>0.00</td>\n",
       "      <td>0.00</td>\n",
       "      <td>0.01</td>\n",
       "      <td>0.00</td>\n",
       "      <td>NaN</td>\n",
       "      <td>NaN</td>\n",
       "      <td>NaN</td>\n",
       "    </tr>\n",
       "    <tr>\n",
       "      <th>16711</th>\n",
       "      <td>LMA Manager 2007</td>\n",
       "      <td>X360</td>\n",
       "      <td>2006.0</td>\n",
       "      <td>Sports</td>\n",
       "      <td>0.00</td>\n",
       "      <td>0.01</td>\n",
       "      <td>0.00</td>\n",
       "      <td>0.00</td>\n",
       "      <td>NaN</td>\n",
       "      <td>NaN</td>\n",
       "      <td>NaN</td>\n",
       "    </tr>\n",
       "    <tr>\n",
       "      <th>16712</th>\n",
       "      <td>Haitaka no Psychedelica</td>\n",
       "      <td>PSV</td>\n",
       "      <td>2016.0</td>\n",
       "      <td>Adventure</td>\n",
       "      <td>0.00</td>\n",
       "      <td>0.00</td>\n",
       "      <td>0.01</td>\n",
       "      <td>0.00</td>\n",
       "      <td>NaN</td>\n",
       "      <td>NaN</td>\n",
       "      <td>NaN</td>\n",
       "    </tr>\n",
       "    <tr>\n",
       "      <th>16713</th>\n",
       "      <td>Spirits &amp; Spells</td>\n",
       "      <td>GBA</td>\n",
       "      <td>2003.0</td>\n",
       "      <td>Platform</td>\n",
       "      <td>0.01</td>\n",
       "      <td>0.00</td>\n",
       "      <td>0.00</td>\n",
       "      <td>0.00</td>\n",
       "      <td>NaN</td>\n",
       "      <td>NaN</td>\n",
       "      <td>NaN</td>\n",
       "    </tr>\n",
       "    <tr>\n",
       "      <th>16714</th>\n",
       "      <td>Winning Post 8 2016</td>\n",
       "      <td>PSV</td>\n",
       "      <td>2016.0</td>\n",
       "      <td>Simulation</td>\n",
       "      <td>0.00</td>\n",
       "      <td>0.00</td>\n",
       "      <td>0.01</td>\n",
       "      <td>0.00</td>\n",
       "      <td>NaN</td>\n",
       "      <td>NaN</td>\n",
       "      <td>NaN</td>\n",
       "    </tr>\n",
       "  </tbody>\n",
       "</table>\n",
       "<p>16715 rows × 11 columns</p>\n",
       "</div>"
      ],
      "text/plain": [
       "                                Name Platform  Year_of_Release         Genre  \\\n",
       "0                         Wii Sports      Wii           2006.0        Sports   \n",
       "1                  Super Mario Bros.      NES           1985.0      Platform   \n",
       "2                     Mario Kart Wii      Wii           2008.0        Racing   \n",
       "3                  Wii Sports Resort      Wii           2009.0        Sports   \n",
       "4           Pokemon Red/Pokemon Blue       GB           1996.0  Role-Playing   \n",
       "...                              ...      ...              ...           ...   \n",
       "16710  Samurai Warriors: Sanada Maru      PS3           2016.0        Action   \n",
       "16711               LMA Manager 2007     X360           2006.0        Sports   \n",
       "16712        Haitaka no Psychedelica      PSV           2016.0     Adventure   \n",
       "16713               Spirits & Spells      GBA           2003.0      Platform   \n",
       "16714            Winning Post 8 2016      PSV           2016.0    Simulation   \n",
       "\n",
       "       NA_sales  EU_sales  JP_sales  Other_sales  Critic_Score User_Score  \\\n",
       "0         41.36     28.96      3.77         8.45          76.0          8   \n",
       "1         29.08      3.58      6.81         0.77           NaN        NaN   \n",
       "2         15.68     12.76      3.79         3.29          82.0        8.3   \n",
       "3         15.61     10.93      3.28         2.95          80.0          8   \n",
       "4         11.27      8.89     10.22         1.00           NaN        NaN   \n",
       "...         ...       ...       ...          ...           ...        ...   \n",
       "16710      0.00      0.00      0.01         0.00           NaN        NaN   \n",
       "16711      0.00      0.01      0.00         0.00           NaN        NaN   \n",
       "16712      0.00      0.00      0.01         0.00           NaN        NaN   \n",
       "16713      0.01      0.00      0.00         0.00           NaN        NaN   \n",
       "16714      0.00      0.00      0.01         0.00           NaN        NaN   \n",
       "\n",
       "      Rating  \n",
       "0          E  \n",
       "1        NaN  \n",
       "2          E  \n",
       "3          E  \n",
       "4        NaN  \n",
       "...      ...  \n",
       "16710    NaN  \n",
       "16711    NaN  \n",
       "16712    NaN  \n",
       "16713    NaN  \n",
       "16714    NaN  \n",
       "\n",
       "[16715 rows x 11 columns]"
      ]
     },
     "execution_count": 2,
     "metadata": {},
     "output_type": "execute_result"
    }
   ],
   "source": [
    "df = pd.read_csv('/games_data.csv')\n",
    "df"
   ]
  },
  {
   "cell_type": "code",
   "execution_count": 3,
   "metadata": {},
   "outputs": [
    {
     "name": "stdout",
     "output_type": "stream",
     "text": [
      "<class 'pandas.core.frame.DataFrame'>\n",
      "RangeIndex: 16715 entries, 0 to 16714\n",
      "Data columns (total 11 columns):\n",
      " #   Column           Non-Null Count  Dtype  \n",
      "---  ------           --------------  -----  \n",
      " 0   Name             16713 non-null  object \n",
      " 1   Platform         16715 non-null  object \n",
      " 2   Year_of_Release  16446 non-null  float64\n",
      " 3   Genre            16713 non-null  object \n",
      " 4   NA_sales         16715 non-null  float64\n",
      " 5   EU_sales         16715 non-null  float64\n",
      " 6   JP_sales         16715 non-null  float64\n",
      " 7   Other_sales      16715 non-null  float64\n",
      " 8   Critic_Score     8137 non-null   float64\n",
      " 9   User_Score       10014 non-null  object \n",
      " 10  Rating           9949 non-null   object \n",
      "dtypes: float64(6), object(5)\n",
      "memory usage: 1.4+ MB\n"
     ]
    }
   ],
   "source": [
    "df.info()"
   ]
  },
  {
   "cell_type": "markdown",
   "metadata": {},
   "source": [
    "**Вывод по знакомству с данными**\n",
    "\n",
    "- Всего в датасете 11 столбцов и 16715 строк.\n",
    "\n",
    "\n",
    "- Названия столбцов написаны с большой буквы, это не по правилам хорошего кода. \n",
    "\n",
    "\n",
    "- Количество ненулевых значений в столбцах отличается, значит в следующих столбцах есть пропуски:\n",
    "    - Name\n",
    "    - Year_of_Release\n",
    "    - Genre\n",
    "    - Critic_Score\n",
    "    - User_Score\n",
    "    - Rating\n",
    "    \n",
    "    \n",
    "- Датасет состоит из следующих типов данных:\n",
    "    - object\n",
    "    - float64"
   ]
  },
  {
   "cell_type": "markdown",
   "metadata": {},
   "source": [
    "<a id=2></a>\n",
    "### Предобработка данных"
   ]
  },
  {
   "cell_type": "markdown",
   "metadata": {},
   "source": [
    "Приведём названия столбцов к нижнему регистру."
   ]
  },
  {
   "cell_type": "code",
   "execution_count": 4,
   "metadata": {},
   "outputs": [
    {
     "data": {
      "text/html": [
       "<div>\n",
       "<style scoped>\n",
       "    .dataframe tbody tr th:only-of-type {\n",
       "        vertical-align: middle;\n",
       "    }\n",
       "\n",
       "    .dataframe tbody tr th {\n",
       "        vertical-align: top;\n",
       "    }\n",
       "\n",
       "    .dataframe thead th {\n",
       "        text-align: right;\n",
       "    }\n",
       "</style>\n",
       "<table border=\"1\" class=\"dataframe\">\n",
       "  <thead>\n",
       "    <tr style=\"text-align: right;\">\n",
       "      <th></th>\n",
       "      <th>name</th>\n",
       "      <th>platform</th>\n",
       "      <th>year_of_release</th>\n",
       "      <th>genre</th>\n",
       "      <th>na_sales</th>\n",
       "      <th>eu_sales</th>\n",
       "      <th>jp_sales</th>\n",
       "      <th>other_sales</th>\n",
       "      <th>critic_score</th>\n",
       "      <th>user_score</th>\n",
       "      <th>rating</th>\n",
       "    </tr>\n",
       "  </thead>\n",
       "  <tbody>\n",
       "    <tr>\n",
       "      <th>0</th>\n",
       "      <td>Wii Sports</td>\n",
       "      <td>Wii</td>\n",
       "      <td>2006.0</td>\n",
       "      <td>Sports</td>\n",
       "      <td>41.36</td>\n",
       "      <td>28.96</td>\n",
       "      <td>3.77</td>\n",
       "      <td>8.45</td>\n",
       "      <td>76.0</td>\n",
       "      <td>8</td>\n",
       "      <td>E</td>\n",
       "    </tr>\n",
       "    <tr>\n",
       "      <th>1</th>\n",
       "      <td>Super Mario Bros.</td>\n",
       "      <td>NES</td>\n",
       "      <td>1985.0</td>\n",
       "      <td>Platform</td>\n",
       "      <td>29.08</td>\n",
       "      <td>3.58</td>\n",
       "      <td>6.81</td>\n",
       "      <td>0.77</td>\n",
       "      <td>NaN</td>\n",
       "      <td>NaN</td>\n",
       "      <td>NaN</td>\n",
       "    </tr>\n",
       "    <tr>\n",
       "      <th>2</th>\n",
       "      <td>Mario Kart Wii</td>\n",
       "      <td>Wii</td>\n",
       "      <td>2008.0</td>\n",
       "      <td>Racing</td>\n",
       "      <td>15.68</td>\n",
       "      <td>12.76</td>\n",
       "      <td>3.79</td>\n",
       "      <td>3.29</td>\n",
       "      <td>82.0</td>\n",
       "      <td>8.3</td>\n",
       "      <td>E</td>\n",
       "    </tr>\n",
       "    <tr>\n",
       "      <th>3</th>\n",
       "      <td>Wii Sports Resort</td>\n",
       "      <td>Wii</td>\n",
       "      <td>2009.0</td>\n",
       "      <td>Sports</td>\n",
       "      <td>15.61</td>\n",
       "      <td>10.93</td>\n",
       "      <td>3.28</td>\n",
       "      <td>2.95</td>\n",
       "      <td>80.0</td>\n",
       "      <td>8</td>\n",
       "      <td>E</td>\n",
       "    </tr>\n",
       "    <tr>\n",
       "      <th>4</th>\n",
       "      <td>Pokemon Red/Pokemon Blue</td>\n",
       "      <td>GB</td>\n",
       "      <td>1996.0</td>\n",
       "      <td>Role-Playing</td>\n",
       "      <td>11.27</td>\n",
       "      <td>8.89</td>\n",
       "      <td>10.22</td>\n",
       "      <td>1.00</td>\n",
       "      <td>NaN</td>\n",
       "      <td>NaN</td>\n",
       "      <td>NaN</td>\n",
       "    </tr>\n",
       "    <tr>\n",
       "      <th>...</th>\n",
       "      <td>...</td>\n",
       "      <td>...</td>\n",
       "      <td>...</td>\n",
       "      <td>...</td>\n",
       "      <td>...</td>\n",
       "      <td>...</td>\n",
       "      <td>...</td>\n",
       "      <td>...</td>\n",
       "      <td>...</td>\n",
       "      <td>...</td>\n",
       "      <td>...</td>\n",
       "    </tr>\n",
       "    <tr>\n",
       "      <th>16710</th>\n",
       "      <td>Samurai Warriors: Sanada Maru</td>\n",
       "      <td>PS3</td>\n",
       "      <td>2016.0</td>\n",
       "      <td>Action</td>\n",
       "      <td>0.00</td>\n",
       "      <td>0.00</td>\n",
       "      <td>0.01</td>\n",
       "      <td>0.00</td>\n",
       "      <td>NaN</td>\n",
       "      <td>NaN</td>\n",
       "      <td>NaN</td>\n",
       "    </tr>\n",
       "    <tr>\n",
       "      <th>16711</th>\n",
       "      <td>LMA Manager 2007</td>\n",
       "      <td>X360</td>\n",
       "      <td>2006.0</td>\n",
       "      <td>Sports</td>\n",
       "      <td>0.00</td>\n",
       "      <td>0.01</td>\n",
       "      <td>0.00</td>\n",
       "      <td>0.00</td>\n",
       "      <td>NaN</td>\n",
       "      <td>NaN</td>\n",
       "      <td>NaN</td>\n",
       "    </tr>\n",
       "    <tr>\n",
       "      <th>16712</th>\n",
       "      <td>Haitaka no Psychedelica</td>\n",
       "      <td>PSV</td>\n",
       "      <td>2016.0</td>\n",
       "      <td>Adventure</td>\n",
       "      <td>0.00</td>\n",
       "      <td>0.00</td>\n",
       "      <td>0.01</td>\n",
       "      <td>0.00</td>\n",
       "      <td>NaN</td>\n",
       "      <td>NaN</td>\n",
       "      <td>NaN</td>\n",
       "    </tr>\n",
       "    <tr>\n",
       "      <th>16713</th>\n",
       "      <td>Spirits &amp; Spells</td>\n",
       "      <td>GBA</td>\n",
       "      <td>2003.0</td>\n",
       "      <td>Platform</td>\n",
       "      <td>0.01</td>\n",
       "      <td>0.00</td>\n",
       "      <td>0.00</td>\n",
       "      <td>0.00</td>\n",
       "      <td>NaN</td>\n",
       "      <td>NaN</td>\n",
       "      <td>NaN</td>\n",
       "    </tr>\n",
       "    <tr>\n",
       "      <th>16714</th>\n",
       "      <td>Winning Post 8 2016</td>\n",
       "      <td>PSV</td>\n",
       "      <td>2016.0</td>\n",
       "      <td>Simulation</td>\n",
       "      <td>0.00</td>\n",
       "      <td>0.00</td>\n",
       "      <td>0.01</td>\n",
       "      <td>0.00</td>\n",
       "      <td>NaN</td>\n",
       "      <td>NaN</td>\n",
       "      <td>NaN</td>\n",
       "    </tr>\n",
       "  </tbody>\n",
       "</table>\n",
       "<p>16715 rows × 11 columns</p>\n",
       "</div>"
      ],
      "text/plain": [
       "                                name platform  year_of_release         genre  \\\n",
       "0                         Wii Sports      Wii           2006.0        Sports   \n",
       "1                  Super Mario Bros.      NES           1985.0      Platform   \n",
       "2                     Mario Kart Wii      Wii           2008.0        Racing   \n",
       "3                  Wii Sports Resort      Wii           2009.0        Sports   \n",
       "4           Pokemon Red/Pokemon Blue       GB           1996.0  Role-Playing   \n",
       "...                              ...      ...              ...           ...   \n",
       "16710  Samurai Warriors: Sanada Maru      PS3           2016.0        Action   \n",
       "16711               LMA Manager 2007     X360           2006.0        Sports   \n",
       "16712        Haitaka no Psychedelica      PSV           2016.0     Adventure   \n",
       "16713               Spirits & Spells      GBA           2003.0      Platform   \n",
       "16714            Winning Post 8 2016      PSV           2016.0    Simulation   \n",
       "\n",
       "       na_sales  eu_sales  jp_sales  other_sales  critic_score user_score  \\\n",
       "0         41.36     28.96      3.77         8.45          76.0          8   \n",
       "1         29.08      3.58      6.81         0.77           NaN        NaN   \n",
       "2         15.68     12.76      3.79         3.29          82.0        8.3   \n",
       "3         15.61     10.93      3.28         2.95          80.0          8   \n",
       "4         11.27      8.89     10.22         1.00           NaN        NaN   \n",
       "...         ...       ...       ...          ...           ...        ...   \n",
       "16710      0.00      0.00      0.01         0.00           NaN        NaN   \n",
       "16711      0.00      0.01      0.00         0.00           NaN        NaN   \n",
       "16712      0.00      0.00      0.01         0.00           NaN        NaN   \n",
       "16713      0.01      0.00      0.00         0.00           NaN        NaN   \n",
       "16714      0.00      0.00      0.01         0.00           NaN        NaN   \n",
       "\n",
       "      rating  \n",
       "0          E  \n",
       "1        NaN  \n",
       "2          E  \n",
       "3          E  \n",
       "4        NaN  \n",
       "...      ...  \n",
       "16710    NaN  \n",
       "16711    NaN  \n",
       "16712    NaN  \n",
       "16713    NaN  \n",
       "16714    NaN  \n",
       "\n",
       "[16715 rows x 11 columns]"
      ]
     },
     "execution_count": 4,
     "metadata": {},
     "output_type": "execute_result"
    }
   ],
   "source": [
    "df.columns = df.columns.str.lower()\n",
    "df"
   ]
  },
  {
   "cell_type": "markdown",
   "metadata": {},
   "source": [
    "Еще раз ознакомимся с типами данных по каждому столбцу с помощью dtypes."
   ]
  },
  {
   "cell_type": "code",
   "execution_count": 5,
   "metadata": {},
   "outputs": [
    {
     "data": {
      "text/plain": [
       "name                object\n",
       "platform            object\n",
       "year_of_release    float64\n",
       "genre               object\n",
       "na_sales           float64\n",
       "eu_sales           float64\n",
       "jp_sales           float64\n",
       "other_sales        float64\n",
       "critic_score       float64\n",
       "user_score          object\n",
       "rating              object\n",
       "dtype: object"
      ]
     },
     "execution_count": 5,
     "metadata": {},
     "output_type": "execute_result"
    }
   ],
   "source": [
    "df.dtypes"
   ]
  },
  {
   "cell_type": "markdown",
   "metadata": {},
   "source": [
    "Выведем на экран уникальные значения столбца critic_score."
   ]
  },
  {
   "cell_type": "code",
   "execution_count": 6,
   "metadata": {},
   "outputs": [
    {
     "data": {
      "text/plain": [
       "array([76., nan, 82., 80., 89., 58., 87., 91., 61., 97., 95., 77., 88.,\n",
       "       83., 94., 93., 85., 86., 98., 96., 90., 84., 73., 74., 78., 92.,\n",
       "       71., 72., 68., 62., 49., 67., 81., 66., 56., 79., 70., 59., 64.,\n",
       "       75., 60., 63., 69., 50., 25., 42., 44., 55., 48., 57., 29., 47.,\n",
       "       65., 54., 20., 53., 37., 38., 33., 52., 30., 32., 43., 45., 51.,\n",
       "       40., 46., 39., 34., 35., 41., 36., 28., 31., 27., 26., 19., 23.,\n",
       "       24., 21., 17., 22., 13.])"
      ]
     },
     "execution_count": 6,
     "metadata": {},
     "output_type": "execute_result"
    }
   ],
   "source": [
    "df['critic_score'].unique()"
   ]
  },
  {
   "cell_type": "markdown",
   "metadata": {},
   "source": [
    "Так как столбцы critic_score и year_of_release содержат только целые числа (помимо пропусков) — приведём их к целочисленному типу данных. Затем выведем на экран список самых частотных значений по столбцу user_score."
   ]
  },
  {
   "cell_type": "code",
   "execution_count": 7,
   "metadata": {},
   "outputs": [
    {
     "data": {
      "text/plain": [
       "tbd    2424\n",
       "7.8     324\n",
       "8       290\n",
       "8.2     282\n",
       "8.3     254\n",
       "       ... \n",
       "1.5       2\n",
       "1         2\n",
       "0.9       2\n",
       "9.7       1\n",
       "0         1\n",
       "Name: user_score, Length: 96, dtype: int64"
      ]
     },
     "execution_count": 7,
     "metadata": {},
     "output_type": "execute_result"
    }
   ],
   "source": [
    "df['year_of_release'] = df['year_of_release'].astype('Int64')\n",
    "df['critic_score'] = df['critic_score'].astype('Int64')\n",
    "df['user_score'].value_counts()"
   ]
  },
  {
   "cell_type": "markdown",
   "metadata": {},
   "source": [
    "Столбец user_score имеет тип object из-за часто встречающегося значения «tbd». Оно расшифровывается как «to be determined» и означает, что игра пока не получила рейтинг. То есть по сути такое значение равносильно пропуску. \n",
    "\n",
    "Заменим все значения «tbd» по столбцу на пропуск и изменим тип данных по столбцу на float.\n",
    "Затем проверим ещё раз типы данных по датасету."
   ]
  },
  {
   "cell_type": "code",
   "execution_count": 8,
   "metadata": {},
   "outputs": [
    {
     "data": {
      "text/plain": [
       "name                object\n",
       "platform            object\n",
       "year_of_release      Int64\n",
       "genre               object\n",
       "na_sales           float64\n",
       "eu_sales           float64\n",
       "jp_sales           float64\n",
       "other_sales        float64\n",
       "critic_score         Int64\n",
       "user_score         float64\n",
       "rating              object\n",
       "dtype: object"
      ]
     },
     "execution_count": 8,
     "metadata": {},
     "output_type": "execute_result"
    }
   ],
   "source": [
    "df.loc[df['user_score'] == 'tbd', 'user_score'] = np.nan\n",
    "df['user_score'] = df['user_score'].astype('float')\n",
    "df.dtypes"
   ]
  },
  {
   "cell_type": "markdown",
   "metadata": {},
   "source": [
    "Посчитаем пропуски по каждому столбцу."
   ]
  },
  {
   "cell_type": "code",
   "execution_count": 9,
   "metadata": {},
   "outputs": [
    {
     "data": {
      "text/plain": [
       "name                  2\n",
       "platform              0\n",
       "year_of_release     269\n",
       "genre                 2\n",
       "na_sales              0\n",
       "eu_sales              0\n",
       "jp_sales              0\n",
       "other_sales           0\n",
       "critic_score       8578\n",
       "user_score         9125\n",
       "rating             6766\n",
       "dtype: int64"
      ]
     },
     "execution_count": 9,
     "metadata": {},
     "output_type": "execute_result"
    }
   ],
   "source": [
    "df.isna().sum()"
   ]
  },
  {
   "cell_type": "markdown",
   "metadata": {},
   "source": [
    "**Обшие причины пропусков**:\n",
    "\n",
    "- техническая ошибка\n",
    "- человеческий фактор \n",
    "\n",
    "Дополнительные причины по столбцу **year_of_release**:\n",
    "- нет информации о годе релиза игры\n",
    "\n",
    "Дополнительные причины по столбцам **critic_score, user_score, rating**:\n",
    "- Игра не получила оценки пользователей, критиков или ESRB "
   ]
  },
  {
   "cell_type": "code",
   "execution_count": 10,
   "metadata": {},
   "outputs": [
    {
     "data": {
      "text/html": [
       "<div>\n",
       "<style scoped>\n",
       "    .dataframe tbody tr th:only-of-type {\n",
       "        vertical-align: middle;\n",
       "    }\n",
       "\n",
       "    .dataframe tbody tr th {\n",
       "        vertical-align: top;\n",
       "    }\n",
       "\n",
       "    .dataframe thead th {\n",
       "        text-align: right;\n",
       "    }\n",
       "</style>\n",
       "<table border=\"1\" class=\"dataframe\">\n",
       "  <thead>\n",
       "    <tr style=\"text-align: right;\">\n",
       "      <th></th>\n",
       "      <th>name</th>\n",
       "      <th>platform</th>\n",
       "      <th>year_of_release</th>\n",
       "      <th>genre</th>\n",
       "      <th>na_sales</th>\n",
       "      <th>eu_sales</th>\n",
       "      <th>jp_sales</th>\n",
       "      <th>other_sales</th>\n",
       "      <th>critic_score</th>\n",
       "      <th>user_score</th>\n",
       "      <th>rating</th>\n",
       "    </tr>\n",
       "  </thead>\n",
       "  <tbody>\n",
       "    <tr>\n",
       "      <th>659</th>\n",
       "      <td>NaN</td>\n",
       "      <td>GEN</td>\n",
       "      <td>1993</td>\n",
       "      <td>NaN</td>\n",
       "      <td>1.78</td>\n",
       "      <td>0.53</td>\n",
       "      <td>0.00</td>\n",
       "      <td>0.08</td>\n",
       "      <td>&lt;NA&gt;</td>\n",
       "      <td>NaN</td>\n",
       "      <td>NaN</td>\n",
       "    </tr>\n",
       "    <tr>\n",
       "      <th>14244</th>\n",
       "      <td>NaN</td>\n",
       "      <td>GEN</td>\n",
       "      <td>1993</td>\n",
       "      <td>NaN</td>\n",
       "      <td>0.00</td>\n",
       "      <td>0.00</td>\n",
       "      <td>0.03</td>\n",
       "      <td>0.00</td>\n",
       "      <td>&lt;NA&gt;</td>\n",
       "      <td>NaN</td>\n",
       "      <td>NaN</td>\n",
       "    </tr>\n",
       "  </tbody>\n",
       "</table>\n",
       "</div>"
      ],
      "text/plain": [
       "      name platform  year_of_release genre  na_sales  eu_sales  jp_sales  \\\n",
       "659    NaN      GEN             1993   NaN      1.78      0.53      0.00   \n",
       "14244  NaN      GEN             1993   NaN      0.00      0.00      0.03   \n",
       "\n",
       "       other_sales  critic_score  user_score rating  \n",
       "659           0.08          <NA>         NaN    NaN  \n",
       "14244         0.00          <NA>         NaN    NaN  "
      ]
     },
     "execution_count": 10,
     "metadata": {},
     "output_type": "execute_result"
    }
   ],
   "source": [
    "df[df['name'].isna() == True]"
   ]
  },
  {
   "cell_type": "markdown",
   "metadata": {},
   "source": [
    "- Пропуски в name и genre взаимосвязаны, они встречаются на одних и тех же строках. Заполнить их к сожалению никак нельзя, удалим их. "
   ]
  },
  {
   "cell_type": "code",
   "execution_count": 11,
   "metadata": {},
   "outputs": [],
   "source": [
    "df = df.loc[df['name'].isna() == False]"
   ]
  },
  {
   "cell_type": "markdown",
   "metadata": {},
   "source": [
    "- Пропуски в столбце year_of_release при желании можно заполнить вручную - нужно прогуглить название каждой игры и узнать дату её выхода. Но это слишком долго, поэтому оставим пропуски как есть."
   ]
  },
  {
   "cell_type": "markdown",
   "metadata": {},
   "source": [
    "- Пропуски в рейтинговых столбцах (critic_score, user_score, rating) также можно было бы заполнить вручную, если бы мы знали, с каких сайтов были взяты оценки игр. Но опять же, делать это очень долго.\n",
    "\n",
    "\n",
    "- В critic_score и user_score мы можем заполнить пропуски средним или медианой, но мне кажется, что это будет некорректно. Эти значения могут исказить результаты исследования, так как занимают значительную часть выборки. Лучше оставить пропуски как есть.\n",
    "\n",
    "\n",
    "- В rating также оставляем пропуски: вручную их заполнять слишком долго, а по-другому это сделать не получится."
   ]
  },
  {
   "cell_type": "markdown",
   "metadata": {},
   "source": [
    "Далее создадим столбец с суммарными продажами по каждой игре во всех регионах:"
   ]
  },
  {
   "cell_type": "code",
   "execution_count": 12,
   "metadata": {
    "scrolled": true
   },
   "outputs": [
    {
     "name": "stderr",
     "output_type": "stream",
     "text": [
      "/tmp/ipykernel_48/3126312005.py:1: SettingWithCopyWarning: \n",
      "A value is trying to be set on a copy of a slice from a DataFrame.\n",
      "Try using .loc[row_indexer,col_indexer] = value instead\n",
      "\n",
      "See the caveats in the documentation: https://pandas.pydata.org/pandas-docs/stable/user_guide/indexing.html#returning-a-view-versus-a-copy\n",
      "  df['total_sales'] = df[['na_sales','eu_sales','jp_sales', 'other_sales']].sum(axis = 1)\n"
     ]
    },
    {
     "data": {
      "text/html": [
       "<div>\n",
       "<style scoped>\n",
       "    .dataframe tbody tr th:only-of-type {\n",
       "        vertical-align: middle;\n",
       "    }\n",
       "\n",
       "    .dataframe tbody tr th {\n",
       "        vertical-align: top;\n",
       "    }\n",
       "\n",
       "    .dataframe thead th {\n",
       "        text-align: right;\n",
       "    }\n",
       "</style>\n",
       "<table border=\"1\" class=\"dataframe\">\n",
       "  <thead>\n",
       "    <tr style=\"text-align: right;\">\n",
       "      <th></th>\n",
       "      <th>name</th>\n",
       "      <th>platform</th>\n",
       "      <th>year_of_release</th>\n",
       "      <th>genre</th>\n",
       "      <th>na_sales</th>\n",
       "      <th>eu_sales</th>\n",
       "      <th>jp_sales</th>\n",
       "      <th>other_sales</th>\n",
       "      <th>critic_score</th>\n",
       "      <th>user_score</th>\n",
       "      <th>rating</th>\n",
       "      <th>total_sales</th>\n",
       "    </tr>\n",
       "  </thead>\n",
       "  <tbody>\n",
       "    <tr>\n",
       "      <th>0</th>\n",
       "      <td>Wii Sports</td>\n",
       "      <td>Wii</td>\n",
       "      <td>2006</td>\n",
       "      <td>Sports</td>\n",
       "      <td>41.36</td>\n",
       "      <td>28.96</td>\n",
       "      <td>3.77</td>\n",
       "      <td>8.45</td>\n",
       "      <td>76</td>\n",
       "      <td>8.0</td>\n",
       "      <td>E</td>\n",
       "      <td>82.54</td>\n",
       "    </tr>\n",
       "    <tr>\n",
       "      <th>1</th>\n",
       "      <td>Super Mario Bros.</td>\n",
       "      <td>NES</td>\n",
       "      <td>1985</td>\n",
       "      <td>Platform</td>\n",
       "      <td>29.08</td>\n",
       "      <td>3.58</td>\n",
       "      <td>6.81</td>\n",
       "      <td>0.77</td>\n",
       "      <td>&lt;NA&gt;</td>\n",
       "      <td>NaN</td>\n",
       "      <td>NaN</td>\n",
       "      <td>40.24</td>\n",
       "    </tr>\n",
       "    <tr>\n",
       "      <th>2</th>\n",
       "      <td>Mario Kart Wii</td>\n",
       "      <td>Wii</td>\n",
       "      <td>2008</td>\n",
       "      <td>Racing</td>\n",
       "      <td>15.68</td>\n",
       "      <td>12.76</td>\n",
       "      <td>3.79</td>\n",
       "      <td>3.29</td>\n",
       "      <td>82</td>\n",
       "      <td>8.3</td>\n",
       "      <td>E</td>\n",
       "      <td>35.52</td>\n",
       "    </tr>\n",
       "    <tr>\n",
       "      <th>3</th>\n",
       "      <td>Wii Sports Resort</td>\n",
       "      <td>Wii</td>\n",
       "      <td>2009</td>\n",
       "      <td>Sports</td>\n",
       "      <td>15.61</td>\n",
       "      <td>10.93</td>\n",
       "      <td>3.28</td>\n",
       "      <td>2.95</td>\n",
       "      <td>80</td>\n",
       "      <td>8.0</td>\n",
       "      <td>E</td>\n",
       "      <td>32.77</td>\n",
       "    </tr>\n",
       "    <tr>\n",
       "      <th>4</th>\n",
       "      <td>Pokemon Red/Pokemon Blue</td>\n",
       "      <td>GB</td>\n",
       "      <td>1996</td>\n",
       "      <td>Role-Playing</td>\n",
       "      <td>11.27</td>\n",
       "      <td>8.89</td>\n",
       "      <td>10.22</td>\n",
       "      <td>1.00</td>\n",
       "      <td>&lt;NA&gt;</td>\n",
       "      <td>NaN</td>\n",
       "      <td>NaN</td>\n",
       "      <td>31.38</td>\n",
       "    </tr>\n",
       "    <tr>\n",
       "      <th>...</th>\n",
       "      <td>...</td>\n",
       "      <td>...</td>\n",
       "      <td>...</td>\n",
       "      <td>...</td>\n",
       "      <td>...</td>\n",
       "      <td>...</td>\n",
       "      <td>...</td>\n",
       "      <td>...</td>\n",
       "      <td>...</td>\n",
       "      <td>...</td>\n",
       "      <td>...</td>\n",
       "      <td>...</td>\n",
       "    </tr>\n",
       "    <tr>\n",
       "      <th>16710</th>\n",
       "      <td>Samurai Warriors: Sanada Maru</td>\n",
       "      <td>PS3</td>\n",
       "      <td>2016</td>\n",
       "      <td>Action</td>\n",
       "      <td>0.00</td>\n",
       "      <td>0.00</td>\n",
       "      <td>0.01</td>\n",
       "      <td>0.00</td>\n",
       "      <td>&lt;NA&gt;</td>\n",
       "      <td>NaN</td>\n",
       "      <td>NaN</td>\n",
       "      <td>0.01</td>\n",
       "    </tr>\n",
       "    <tr>\n",
       "      <th>16711</th>\n",
       "      <td>LMA Manager 2007</td>\n",
       "      <td>X360</td>\n",
       "      <td>2006</td>\n",
       "      <td>Sports</td>\n",
       "      <td>0.00</td>\n",
       "      <td>0.01</td>\n",
       "      <td>0.00</td>\n",
       "      <td>0.00</td>\n",
       "      <td>&lt;NA&gt;</td>\n",
       "      <td>NaN</td>\n",
       "      <td>NaN</td>\n",
       "      <td>0.01</td>\n",
       "    </tr>\n",
       "    <tr>\n",
       "      <th>16712</th>\n",
       "      <td>Haitaka no Psychedelica</td>\n",
       "      <td>PSV</td>\n",
       "      <td>2016</td>\n",
       "      <td>Adventure</td>\n",
       "      <td>0.00</td>\n",
       "      <td>0.00</td>\n",
       "      <td>0.01</td>\n",
       "      <td>0.00</td>\n",
       "      <td>&lt;NA&gt;</td>\n",
       "      <td>NaN</td>\n",
       "      <td>NaN</td>\n",
       "      <td>0.01</td>\n",
       "    </tr>\n",
       "    <tr>\n",
       "      <th>16713</th>\n",
       "      <td>Spirits &amp; Spells</td>\n",
       "      <td>GBA</td>\n",
       "      <td>2003</td>\n",
       "      <td>Platform</td>\n",
       "      <td>0.01</td>\n",
       "      <td>0.00</td>\n",
       "      <td>0.00</td>\n",
       "      <td>0.00</td>\n",
       "      <td>&lt;NA&gt;</td>\n",
       "      <td>NaN</td>\n",
       "      <td>NaN</td>\n",
       "      <td>0.01</td>\n",
       "    </tr>\n",
       "    <tr>\n",
       "      <th>16714</th>\n",
       "      <td>Winning Post 8 2016</td>\n",
       "      <td>PSV</td>\n",
       "      <td>2016</td>\n",
       "      <td>Simulation</td>\n",
       "      <td>0.00</td>\n",
       "      <td>0.00</td>\n",
       "      <td>0.01</td>\n",
       "      <td>0.00</td>\n",
       "      <td>&lt;NA&gt;</td>\n",
       "      <td>NaN</td>\n",
       "      <td>NaN</td>\n",
       "      <td>0.01</td>\n",
       "    </tr>\n",
       "  </tbody>\n",
       "</table>\n",
       "<p>16713 rows × 12 columns</p>\n",
       "</div>"
      ],
      "text/plain": [
       "                                name platform  year_of_release         genre  \\\n",
       "0                         Wii Sports      Wii             2006        Sports   \n",
       "1                  Super Mario Bros.      NES             1985      Platform   \n",
       "2                     Mario Kart Wii      Wii             2008        Racing   \n",
       "3                  Wii Sports Resort      Wii             2009        Sports   \n",
       "4           Pokemon Red/Pokemon Blue       GB             1996  Role-Playing   \n",
       "...                              ...      ...              ...           ...   \n",
       "16710  Samurai Warriors: Sanada Maru      PS3             2016        Action   \n",
       "16711               LMA Manager 2007     X360             2006        Sports   \n",
       "16712        Haitaka no Psychedelica      PSV             2016     Adventure   \n",
       "16713               Spirits & Spells      GBA             2003      Platform   \n",
       "16714            Winning Post 8 2016      PSV             2016    Simulation   \n",
       "\n",
       "       na_sales  eu_sales  jp_sales  other_sales  critic_score  user_score  \\\n",
       "0         41.36     28.96      3.77         8.45            76         8.0   \n",
       "1         29.08      3.58      6.81         0.77          <NA>         NaN   \n",
       "2         15.68     12.76      3.79         3.29            82         8.3   \n",
       "3         15.61     10.93      3.28         2.95            80         8.0   \n",
       "4         11.27      8.89     10.22         1.00          <NA>         NaN   \n",
       "...         ...       ...       ...          ...           ...         ...   \n",
       "16710      0.00      0.00      0.01         0.00          <NA>         NaN   \n",
       "16711      0.00      0.01      0.00         0.00          <NA>         NaN   \n",
       "16712      0.00      0.00      0.01         0.00          <NA>         NaN   \n",
       "16713      0.01      0.00      0.00         0.00          <NA>         NaN   \n",
       "16714      0.00      0.00      0.01         0.00          <NA>         NaN   \n",
       "\n",
       "      rating  total_sales  \n",
       "0          E        82.54  \n",
       "1        NaN        40.24  \n",
       "2          E        35.52  \n",
       "3          E        32.77  \n",
       "4        NaN        31.38  \n",
       "...      ...          ...  \n",
       "16710    NaN         0.01  \n",
       "16711    NaN         0.01  \n",
       "16712    NaN         0.01  \n",
       "16713    NaN         0.01  \n",
       "16714    NaN         0.01  \n",
       "\n",
       "[16713 rows x 12 columns]"
      ]
     },
     "execution_count": 12,
     "metadata": {},
     "output_type": "execute_result"
    }
   ],
   "source": [
    "df['total_sales'] = df[['na_sales','eu_sales','jp_sales', 'other_sales']].sum(axis = 1)\n",
    "df"
   ]
  },
  {
   "cell_type": "code",
   "execution_count": 13,
   "metadata": {},
   "outputs": [
    {
     "data": {
      "text/plain": [
       "0"
      ]
     },
     "execution_count": 13,
     "metadata": {},
     "output_type": "execute_result"
    }
   ],
   "source": [
    "df.duplicated().sum()"
   ]
  },
  {
   "cell_type": "markdown",
   "metadata": {},
   "source": [
    "Полных дубликатов в данных не обнаружено. Дубликаты по стобцу name допускаются: одна и та же игра могла выйти сразу на нескольких платформах. То есть в датасете мы можем встретить строки с одинаковым названием игры, но разными платформами (например, PS3 и PC).\n",
    "\n",
    "\n",
    "Однако в данных не должно быть несколько строк с данными об одной и той же игре на одной платформе. То есть, если мы встречаем две строки об игре Sonic the Hedgehog на платформе PS3, то одна из этих строк - неявный дубликат, его нужно удалить. Если первая строка с данными о PS3, а вторая - об XBOX360 — то всё окей, такие данные мы оставляем."
   ]
  },
  {
   "cell_type": "code",
   "execution_count": 14,
   "metadata": {},
   "outputs": [
    {
     "data": {
      "text/html": [
       "<div>\n",
       "<style scoped>\n",
       "    .dataframe tbody tr th:only-of-type {\n",
       "        vertical-align: middle;\n",
       "    }\n",
       "\n",
       "    .dataframe tbody tr th {\n",
       "        vertical-align: top;\n",
       "    }\n",
       "\n",
       "    .dataframe thead th {\n",
       "        text-align: right;\n",
       "    }\n",
       "</style>\n",
       "<table border=\"1\" class=\"dataframe\">\n",
       "  <thead>\n",
       "    <tr style=\"text-align: right;\">\n",
       "      <th></th>\n",
       "      <th>name</th>\n",
       "      <th>platform</th>\n",
       "      <th>year_of_release</th>\n",
       "      <th>genre</th>\n",
       "      <th>na_sales</th>\n",
       "      <th>eu_sales</th>\n",
       "      <th>jp_sales</th>\n",
       "      <th>other_sales</th>\n",
       "      <th>critic_score</th>\n",
       "      <th>user_score</th>\n",
       "      <th>rating</th>\n",
       "      <th>total_sales</th>\n",
       "    </tr>\n",
       "  </thead>\n",
       "  <tbody>\n",
       "    <tr>\n",
       "      <th>604</th>\n",
       "      <td>Madden NFL 13</td>\n",
       "      <td>PS3</td>\n",
       "      <td>2012</td>\n",
       "      <td>Sports</td>\n",
       "      <td>2.11</td>\n",
       "      <td>0.22</td>\n",
       "      <td>0.00</td>\n",
       "      <td>0.23</td>\n",
       "      <td>83</td>\n",
       "      <td>5.5</td>\n",
       "      <td>E</td>\n",
       "      <td>2.56</td>\n",
       "    </tr>\n",
       "    <tr>\n",
       "      <th>1190</th>\n",
       "      <td>Need for Speed: Most Wanted</td>\n",
       "      <td>X360</td>\n",
       "      <td>2012</td>\n",
       "      <td>Racing</td>\n",
       "      <td>0.62</td>\n",
       "      <td>0.78</td>\n",
       "      <td>0.01</td>\n",
       "      <td>0.15</td>\n",
       "      <td>83</td>\n",
       "      <td>8.5</td>\n",
       "      <td>T</td>\n",
       "      <td>1.56</td>\n",
       "    </tr>\n",
       "    <tr>\n",
       "      <th>1591</th>\n",
       "      <td>Need for Speed: Most Wanted</td>\n",
       "      <td>X360</td>\n",
       "      <td>2005</td>\n",
       "      <td>Racing</td>\n",
       "      <td>1.00</td>\n",
       "      <td>0.13</td>\n",
       "      <td>0.02</td>\n",
       "      <td>0.10</td>\n",
       "      <td>83</td>\n",
       "      <td>8.5</td>\n",
       "      <td>T</td>\n",
       "      <td>1.25</td>\n",
       "    </tr>\n",
       "    <tr>\n",
       "      <th>1745</th>\n",
       "      <td>Sonic the Hedgehog</td>\n",
       "      <td>PS3</td>\n",
       "      <td>2006</td>\n",
       "      <td>Platform</td>\n",
       "      <td>0.41</td>\n",
       "      <td>0.06</td>\n",
       "      <td>0.04</td>\n",
       "      <td>0.66</td>\n",
       "      <td>43</td>\n",
       "      <td>4.1</td>\n",
       "      <td>E10+</td>\n",
       "      <td>1.17</td>\n",
       "    </tr>\n",
       "    <tr>\n",
       "      <th>4127</th>\n",
       "      <td>Sonic the Hedgehog</td>\n",
       "      <td>PS3</td>\n",
       "      <td>&lt;NA&gt;</td>\n",
       "      <td>Platform</td>\n",
       "      <td>0.00</td>\n",
       "      <td>0.48</td>\n",
       "      <td>0.00</td>\n",
       "      <td>0.00</td>\n",
       "      <td>43</td>\n",
       "      <td>4.1</td>\n",
       "      <td>E10+</td>\n",
       "      <td>0.48</td>\n",
       "    </tr>\n",
       "    <tr>\n",
       "      <th>5972</th>\n",
       "      <td>Need for Speed: Most Wanted</td>\n",
       "      <td>PC</td>\n",
       "      <td>2005</td>\n",
       "      <td>Racing</td>\n",
       "      <td>0.02</td>\n",
       "      <td>0.23</td>\n",
       "      <td>0.00</td>\n",
       "      <td>0.04</td>\n",
       "      <td>82</td>\n",
       "      <td>8.5</td>\n",
       "      <td>T</td>\n",
       "      <td>0.29</td>\n",
       "    </tr>\n",
       "    <tr>\n",
       "      <th>11715</th>\n",
       "      <td>Need for Speed: Most Wanted</td>\n",
       "      <td>PC</td>\n",
       "      <td>2012</td>\n",
       "      <td>Racing</td>\n",
       "      <td>0.00</td>\n",
       "      <td>0.06</td>\n",
       "      <td>0.00</td>\n",
       "      <td>0.02</td>\n",
       "      <td>82</td>\n",
       "      <td>8.5</td>\n",
       "      <td>T</td>\n",
       "      <td>0.08</td>\n",
       "    </tr>\n",
       "    <tr>\n",
       "      <th>16230</th>\n",
       "      <td>Madden NFL 13</td>\n",
       "      <td>PS3</td>\n",
       "      <td>2012</td>\n",
       "      <td>Sports</td>\n",
       "      <td>0.00</td>\n",
       "      <td>0.01</td>\n",
       "      <td>0.00</td>\n",
       "      <td>0.00</td>\n",
       "      <td>83</td>\n",
       "      <td>5.5</td>\n",
       "      <td>E</td>\n",
       "      <td>0.01</td>\n",
       "    </tr>\n",
       "  </tbody>\n",
       "</table>\n",
       "</div>"
      ],
      "text/plain": [
       "                              name platform  year_of_release     genre  \\\n",
       "604                  Madden NFL 13      PS3             2012    Sports   \n",
       "1190   Need for Speed: Most Wanted     X360             2012    Racing   \n",
       "1591   Need for Speed: Most Wanted     X360             2005    Racing   \n",
       "1745            Sonic the Hedgehog      PS3             2006  Platform   \n",
       "4127            Sonic the Hedgehog      PS3             <NA>  Platform   \n",
       "5972   Need for Speed: Most Wanted       PC             2005    Racing   \n",
       "11715  Need for Speed: Most Wanted       PC             2012    Racing   \n",
       "16230                Madden NFL 13      PS3             2012    Sports   \n",
       "\n",
       "       na_sales  eu_sales  jp_sales  other_sales  critic_score  user_score  \\\n",
       "604        2.11      0.22      0.00         0.23            83         5.5   \n",
       "1190       0.62      0.78      0.01         0.15            83         8.5   \n",
       "1591       1.00      0.13      0.02         0.10            83         8.5   \n",
       "1745       0.41      0.06      0.04         0.66            43         4.1   \n",
       "4127       0.00      0.48      0.00         0.00            43         4.1   \n",
       "5972       0.02      0.23      0.00         0.04            82         8.5   \n",
       "11715      0.00      0.06      0.00         0.02            82         8.5   \n",
       "16230      0.00      0.01      0.00         0.00            83         5.5   \n",
       "\n",
       "      rating  total_sales  \n",
       "604        E         2.56  \n",
       "1190       T         1.56  \n",
       "1591       T         1.25  \n",
       "1745    E10+         1.17  \n",
       "4127    E10+         0.48  \n",
       "5972       T         0.29  \n",
       "11715      T         0.08  \n",
       "16230      E         0.01  "
      ]
     },
     "execution_count": 14,
     "metadata": {},
     "output_type": "execute_result"
    }
   ],
   "source": [
    "df.loc[df.duplicated(subset=['name', 'platform'], keep=False) == True]"
   ]
  },
  {
   "cell_type": "markdown",
   "metadata": {},
   "source": [
    "С одной из игр всё не так просто: Need for Speed: Most Wanted выходила и в 2005, и в 2012. (То есть в 2012 вышел её ремейк с улучшенной графикой и тд.) Поэтому такие строки не являются дубликатами. Удалим неявные дубликаты по конкретным индексам строк: 4127 и 16230."
   ]
  },
  {
   "cell_type": "code",
   "execution_count": 15,
   "metadata": {
    "scrolled": true
   },
   "outputs": [
    {
     "name": "stderr",
     "output_type": "stream",
     "text": [
      "/opt/conda/lib/python3.9/site-packages/pandas/core/frame.py:4308: SettingWithCopyWarning: \n",
      "A value is trying to be set on a copy of a slice from a DataFrame\n",
      "\n",
      "See the caveats in the documentation: https://pandas.pydata.org/pandas-docs/stable/user_guide/indexing.html#returning-a-view-versus-a-copy\n",
      "  return super().drop(\n"
     ]
    },
    {
     "data": {
      "text/html": [
       "<div>\n",
       "<style scoped>\n",
       "    .dataframe tbody tr th:only-of-type {\n",
       "        vertical-align: middle;\n",
       "    }\n",
       "\n",
       "    .dataframe tbody tr th {\n",
       "        vertical-align: top;\n",
       "    }\n",
       "\n",
       "    .dataframe thead th {\n",
       "        text-align: right;\n",
       "    }\n",
       "</style>\n",
       "<table border=\"1\" class=\"dataframe\">\n",
       "  <thead>\n",
       "    <tr style=\"text-align: right;\">\n",
       "      <th></th>\n",
       "      <th>name</th>\n",
       "      <th>platform</th>\n",
       "      <th>year_of_release</th>\n",
       "      <th>genre</th>\n",
       "      <th>na_sales</th>\n",
       "      <th>eu_sales</th>\n",
       "      <th>jp_sales</th>\n",
       "      <th>other_sales</th>\n",
       "      <th>critic_score</th>\n",
       "      <th>user_score</th>\n",
       "      <th>rating</th>\n",
       "      <th>total_sales</th>\n",
       "    </tr>\n",
       "  </thead>\n",
       "  <tbody>\n",
       "    <tr>\n",
       "      <th>1190</th>\n",
       "      <td>Need for Speed: Most Wanted</td>\n",
       "      <td>X360</td>\n",
       "      <td>2012</td>\n",
       "      <td>Racing</td>\n",
       "      <td>0.62</td>\n",
       "      <td>0.78</td>\n",
       "      <td>0.01</td>\n",
       "      <td>0.15</td>\n",
       "      <td>83</td>\n",
       "      <td>8.5</td>\n",
       "      <td>T</td>\n",
       "      <td>1.56</td>\n",
       "    </tr>\n",
       "    <tr>\n",
       "      <th>1591</th>\n",
       "      <td>Need for Speed: Most Wanted</td>\n",
       "      <td>X360</td>\n",
       "      <td>2005</td>\n",
       "      <td>Racing</td>\n",
       "      <td>1.00</td>\n",
       "      <td>0.13</td>\n",
       "      <td>0.02</td>\n",
       "      <td>0.10</td>\n",
       "      <td>83</td>\n",
       "      <td>8.5</td>\n",
       "      <td>T</td>\n",
       "      <td>1.25</td>\n",
       "    </tr>\n",
       "    <tr>\n",
       "      <th>5972</th>\n",
       "      <td>Need for Speed: Most Wanted</td>\n",
       "      <td>PC</td>\n",
       "      <td>2005</td>\n",
       "      <td>Racing</td>\n",
       "      <td>0.02</td>\n",
       "      <td>0.23</td>\n",
       "      <td>0.00</td>\n",
       "      <td>0.04</td>\n",
       "      <td>82</td>\n",
       "      <td>8.5</td>\n",
       "      <td>T</td>\n",
       "      <td>0.29</td>\n",
       "    </tr>\n",
       "    <tr>\n",
       "      <th>11715</th>\n",
       "      <td>Need for Speed: Most Wanted</td>\n",
       "      <td>PC</td>\n",
       "      <td>2012</td>\n",
       "      <td>Racing</td>\n",
       "      <td>0.00</td>\n",
       "      <td>0.06</td>\n",
       "      <td>0.00</td>\n",
       "      <td>0.02</td>\n",
       "      <td>82</td>\n",
       "      <td>8.5</td>\n",
       "      <td>T</td>\n",
       "      <td>0.08</td>\n",
       "    </tr>\n",
       "  </tbody>\n",
       "</table>\n",
       "</div>"
      ],
      "text/plain": [
       "                              name platform  year_of_release   genre  \\\n",
       "1190   Need for Speed: Most Wanted     X360             2012  Racing   \n",
       "1591   Need for Speed: Most Wanted     X360             2005  Racing   \n",
       "5972   Need for Speed: Most Wanted       PC             2005  Racing   \n",
       "11715  Need for Speed: Most Wanted       PC             2012  Racing   \n",
       "\n",
       "       na_sales  eu_sales  jp_sales  other_sales  critic_score  user_score  \\\n",
       "1190       0.62      0.78      0.01         0.15            83         8.5   \n",
       "1591       1.00      0.13      0.02         0.10            83         8.5   \n",
       "5972       0.02      0.23      0.00         0.04            82         8.5   \n",
       "11715      0.00      0.06      0.00         0.02            82         8.5   \n",
       "\n",
       "      rating  total_sales  \n",
       "1190       T         1.56  \n",
       "1591       T         1.25  \n",
       "5972       T         0.29  \n",
       "11715      T         0.08  "
      ]
     },
     "execution_count": 15,
     "metadata": {},
     "output_type": "execute_result"
    }
   ],
   "source": [
    "df.drop(index=[4127, 16230], inplace=True)\n",
    "df.loc[df.duplicated(subset=['name', 'platform'], keep=False) == True]"
   ]
  },
  {
   "cell_type": "markdown",
   "metadata": {},
   "source": [
    "Неявные дубликаты удалены."
   ]
  },
  {
   "cell_type": "markdown",
   "metadata": {},
   "source": [
    "**Вывод по предобработке данных**\n",
    "\n",
    "\n",
    "- Названия всех столбцов в таблице по правилам хорошего кода приведены к нижнему регистру.\n",
    "- Столбы year_of_release и critic_score приведены к целочисленному типу, так как содержат лишь целые числа.\n",
    "- В столбце user_score значения «tbd» заменены на пропуски, так как равносильны им. Далее столбец приведён к типу данных float.\n",
    "- Найдены пропуски в столбцах name, year_of_release, genre, critic_score, user_score, rating.\n",
    "- Удалены пропуски по столбцам name и genre.\n",
    "- По всем остальным столбцам пропуски остались необработанными.\n",
    "- Создан столбец с суммарными продажами по каждой игре во всех регионах 'total_sales'.\n",
    "- Полные дубликаты в данных отсутствуют.\n",
    "- Найдены неявные дубликаты, содержащие информацию об одной и той же игре на одной и той же платформе. Первые вхождения сохранены, остальные вхождения - удалены.\n"
   ]
  },
  {
   "cell_type": "markdown",
   "metadata": {},
   "source": [
    "<a id=3></a>\n",
    "### Исследовательский анализ данных"
   ]
  },
  {
   "cell_type": "markdown",
   "metadata": {},
   "source": [
    "Отсортируем игры по году выпуска. Затем построим гистограмму по столбцу."
   ]
  },
  {
   "cell_type": "code",
   "execution_count": 16,
   "metadata": {},
   "outputs": [
    {
     "name": "stdout",
     "output_type": "stream",
     "text": [
      "Количество уникальных значений в столбце year_of_release: 37\n"
     ]
    },
    {
     "data": {
      "text/plain": [
       "2008    1427\n",
       "2009    1426\n",
       "2010    1255\n",
       "2007    1197\n",
       "2011    1136\n",
       "2006    1006\n",
       "2005     939\n",
       "2002     829\n",
       "2003     775\n",
       "2004     762\n",
       "2012     652\n",
       "2015     606\n",
       "2014     581\n",
       "2013     544\n",
       "2016     502\n",
       "2001     482\n",
       "1998     379\n",
       "2000     350\n",
       "1999     338\n",
       "1997     289\n",
       "1996     263\n",
       "1995     219\n",
       "1994     121\n",
       "1993      60\n",
       "1981      46\n",
       "1992      43\n",
       "1991      41\n",
       "1982      36\n",
       "1986      21\n",
       "1983      17\n",
       "1989      17\n",
       "1990      16\n",
       "1987      16\n",
       "1988      15\n",
       "1985      14\n",
       "1984      14\n",
       "1980       9\n",
       "Name: year_of_release, dtype: Int64"
      ]
     },
     "execution_count": 16,
     "metadata": {},
     "output_type": "execute_result"
    }
   ],
   "source": [
    "print('Количество уникальных значений в столбце year_of_release:', len(df['year_of_release'].value_counts()))\n",
    "df['year_of_release'].value_counts()"
   ]
  },
  {
   "cell_type": "code",
   "execution_count": 17,
   "metadata": {},
   "outputs": [
    {
     "data": {
      "text/plain": [
       "Text(0, 0.5, 'количество выпущенных игр')"
      ]
     },
     "execution_count": 17,
     "metadata": {},
     "output_type": "execute_result"
    },
    {
     "data": {
      "image/png": "[encoded data removed]",
      "text/plain": [
       "<Figure size 432x288 with 1 Axes>"
      ]
     },
     "metadata": {
      "needs_background": "light"
     },
     "output_type": "display_data"
    }
   ],
   "source": [
    "df['year_of_release'].hist(bins=37)\n",
    "plt.title('годы выпуска игр')\n",
    "plt.xlabel('год')\n",
    "plt.ylabel('количество выпущенных игр')"
   ]
  },
  {
   "cell_type": "markdown",
   "metadata": {},
   "source": [
    "Меньше всего игр было выпущено в 1980, 1983, 1984, 1985, 1986, 1987, 1988 и 1990 годах (от 9 до 17 игр за год). Они окажут самое незначительное влияние на результаты исследования. Больше всего игр было выпущено в 2008, 2009 и 2010 годах (1427, 1426, 1255 игр соответственно)."
   ]
  },
  {
   "cell_type": "markdown",
   "metadata": {},
   "source": [
    "Далее изучим изменение продаж по платформам. Сначала сделаем сводную таблицу с общими продажами за каждый год по каждой платформе."
   ]
  },
  {
   "cell_type": "code",
   "execution_count": 18,
   "metadata": {
    "scrolled": true
   },
   "outputs": [
    {
     "data": {
      "text/html": [
       "<div>\n",
       "<style scoped>\n",
       "    .dataframe tbody tr th:only-of-type {\n",
       "        vertical-align: middle;\n",
       "    }\n",
       "\n",
       "    .dataframe tbody tr th {\n",
       "        vertical-align: top;\n",
       "    }\n",
       "\n",
       "    .dataframe thead th {\n",
       "        text-align: right;\n",
       "    }\n",
       "</style>\n",
       "<table border=\"1\" class=\"dataframe\">\n",
       "  <thead>\n",
       "    <tr style=\"text-align: right;\">\n",
       "      <th></th>\n",
       "      <th>total_sales</th>\n",
       "    </tr>\n",
       "    <tr>\n",
       "      <th>platform</th>\n",
       "      <th></th>\n",
       "    </tr>\n",
       "  </thead>\n",
       "  <tbody>\n",
       "    <tr>\n",
       "      <th>PS2</th>\n",
       "      <td>1255.77</td>\n",
       "    </tr>\n",
       "    <tr>\n",
       "      <th>X360</th>\n",
       "      <td>971.42</td>\n",
       "    </tr>\n",
       "    <tr>\n",
       "      <th>PS3</th>\n",
       "      <td>939.16</td>\n",
       "    </tr>\n",
       "    <tr>\n",
       "      <th>Wii</th>\n",
       "      <td>907.51</td>\n",
       "    </tr>\n",
       "    <tr>\n",
       "      <th>DS</th>\n",
       "      <td>806.12</td>\n",
       "    </tr>\n",
       "  </tbody>\n",
       "</table>\n",
       "</div>"
      ],
      "text/plain": [
       "          total_sales\n",
       "platform             \n",
       "PS2           1255.77\n",
       "X360           971.42\n",
       "PS3            939.16\n",
       "Wii            907.51\n",
       "DS             806.12"
      ]
     },
     "execution_count": 18,
     "metadata": {},
     "output_type": "execute_result"
    }
   ],
   "source": [
    "platform_sales = df.pivot_table(index='platform', values='total_sales', aggfunc='sum')\n",
    "platform_sales.sort_values('total_sales', ascending=False).head()\n"
   ]
  },
  {
   "cell_type": "markdown",
   "metadata": {},
   "source": [
    "**Далее найдём выбросы по нинтендо DS**. Она выпущена в 2004, при этом в датасете исть информация об играх, выпущенных на этой платформе до 2004 года."
   ]
  },
  {
   "cell_type": "code",
   "execution_count": 19,
   "metadata": {},
   "outputs": [
    {
     "data": {
      "text/html": [
       "<div>\n",
       "<style scoped>\n",
       "    .dataframe tbody tr th:only-of-type {\n",
       "        vertical-align: middle;\n",
       "    }\n",
       "\n",
       "    .dataframe tbody tr th {\n",
       "        vertical-align: top;\n",
       "    }\n",
       "\n",
       "    .dataframe thead th {\n",
       "        text-align: right;\n",
       "    }\n",
       "</style>\n",
       "<table border=\"1\" class=\"dataframe\">\n",
       "  <thead>\n",
       "    <tr style=\"text-align: right;\">\n",
       "      <th></th>\n",
       "      <th>name</th>\n",
       "      <th>platform</th>\n",
       "      <th>year_of_release</th>\n",
       "      <th>genre</th>\n",
       "      <th>na_sales</th>\n",
       "      <th>eu_sales</th>\n",
       "      <th>jp_sales</th>\n",
       "      <th>other_sales</th>\n",
       "      <th>critic_score</th>\n",
       "      <th>user_score</th>\n",
       "      <th>rating</th>\n",
       "      <th>total_sales</th>\n",
       "    </tr>\n",
       "  </thead>\n",
       "  <tbody>\n",
       "    <tr>\n",
       "      <th>15957</th>\n",
       "      <td>Strongest Tokyo University Shogi DS</td>\n",
       "      <td>DS</td>\n",
       "      <td>1985</td>\n",
       "      <td>Action</td>\n",
       "      <td>0.0</td>\n",
       "      <td>0.0</td>\n",
       "      <td>0.02</td>\n",
       "      <td>0.0</td>\n",
       "      <td>&lt;NA&gt;</td>\n",
       "      <td>NaN</td>\n",
       "      <td>NaN</td>\n",
       "      <td>0.02</td>\n",
       "    </tr>\n",
       "  </tbody>\n",
       "</table>\n",
       "</div>"
      ],
      "text/plain": [
       "                                      name platform  year_of_release   genre  \\\n",
       "15957  Strongest Tokyo University Shogi DS       DS             1985  Action   \n",
       "\n",
       "       na_sales  eu_sales  jp_sales  other_sales  critic_score  user_score  \\\n",
       "15957       0.0       0.0      0.02          0.0          <NA>         NaN   \n",
       "\n",
       "      rating  total_sales  \n",
       "15957    NaN         0.02  "
      ]
     },
     "execution_count": 19,
     "metadata": {},
     "output_type": "execute_result"
    }
   ],
   "source": [
    "df.loc[(df['platform'] == 'DS') & (df['year_of_release'] < 2004)]\n"
   ]
  },
  {
   "cell_type": "code",
   "execution_count": 20,
   "metadata": {
    "scrolled": true
   },
   "outputs": [
    {
     "data": {
      "text/html": [
       "<div>\n",
       "<style scoped>\n",
       "    .dataframe tbody tr th:only-of-type {\n",
       "        vertical-align: middle;\n",
       "    }\n",
       "\n",
       "    .dataframe tbody tr th {\n",
       "        vertical-align: top;\n",
       "    }\n",
       "\n",
       "    .dataframe thead th {\n",
       "        text-align: right;\n",
       "    }\n",
       "</style>\n",
       "<table border=\"1\" class=\"dataframe\">\n",
       "  <thead>\n",
       "    <tr style=\"text-align: right;\">\n",
       "      <th></th>\n",
       "      <th>name</th>\n",
       "      <th>platform</th>\n",
       "      <th>year_of_release</th>\n",
       "      <th>genre</th>\n",
       "      <th>na_sales</th>\n",
       "      <th>eu_sales</th>\n",
       "      <th>jp_sales</th>\n",
       "      <th>other_sales</th>\n",
       "      <th>critic_score</th>\n",
       "      <th>user_score</th>\n",
       "      <th>rating</th>\n",
       "      <th>total_sales</th>\n",
       "    </tr>\n",
       "  </thead>\n",
       "  <tbody>\n",
       "    <tr>\n",
       "      <th>15957</th>\n",
       "      <td>Strongest Tokyo University Shogi DS</td>\n",
       "      <td>DS</td>\n",
       "      <td>1985</td>\n",
       "      <td>Action</td>\n",
       "      <td>0.0</td>\n",
       "      <td>0.0</td>\n",
       "      <td>0.02</td>\n",
       "      <td>0.0</td>\n",
       "      <td>&lt;NA&gt;</td>\n",
       "      <td>NaN</td>\n",
       "      <td>NaN</td>\n",
       "      <td>0.02</td>\n",
       "    </tr>\n",
       "  </tbody>\n",
       "</table>\n",
       "</div>"
      ],
      "text/plain": [
       "                                      name platform  year_of_release   genre  \\\n",
       "15957  Strongest Tokyo University Shogi DS       DS             1985  Action   \n",
       "\n",
       "       na_sales  eu_sales  jp_sales  other_sales  critic_score  user_score  \\\n",
       "15957       0.0       0.0      0.02          0.0          <NA>         NaN   \n",
       "\n",
       "      rating  total_sales  \n",
       "15957    NaN         0.02  "
      ]
     },
     "execution_count": 20,
     "metadata": {},
     "output_type": "execute_result"
    }
   ],
   "source": [
    "df.loc[(df['platform'] == 'DS') & (df['name'] == 'Strongest Tokyo University Shogi DS')]"
   ]
  },
  {
   "cell_type": "markdown",
   "metadata": {},
   "source": [
    "Больше строк с информацией об этой игре нет, поэтому можно не удалять её, а просто поменять год релиза на корректный. Она была выпушена в мае 2007 года."
   ]
  },
  {
   "cell_type": "code",
   "execution_count": 21,
   "metadata": {},
   "outputs": [
    {
     "name": "stderr",
     "output_type": "stream",
     "text": [
      "/opt/conda/lib/python3.9/site-packages/pandas/core/indexing.py:1720: SettingWithCopyWarning: \n",
      "A value is trying to be set on a copy of a slice from a DataFrame.\n",
      "Try using .loc[row_indexer,col_indexer] = value instead\n",
      "\n",
      "See the caveats in the documentation: https://pandas.pydata.org/pandas-docs/stable/user_guide/indexing.html#returning-a-view-versus-a-copy\n",
      "  self._setitem_single_column(loc, value, pi)\n"
     ]
    },
    {
     "data": {
      "text/html": [
       "<div>\n",
       "<style scoped>\n",
       "    .dataframe tbody tr th:only-of-type {\n",
       "        vertical-align: middle;\n",
       "    }\n",
       "\n",
       "    .dataframe tbody tr th {\n",
       "        vertical-align: top;\n",
       "    }\n",
       "\n",
       "    .dataframe thead th {\n",
       "        text-align: right;\n",
       "    }\n",
       "</style>\n",
       "<table border=\"1\" class=\"dataframe\">\n",
       "  <thead>\n",
       "    <tr style=\"text-align: right;\">\n",
       "      <th></th>\n",
       "      <th>name</th>\n",
       "      <th>platform</th>\n",
       "      <th>year_of_release</th>\n",
       "      <th>genre</th>\n",
       "      <th>na_sales</th>\n",
       "      <th>eu_sales</th>\n",
       "      <th>jp_sales</th>\n",
       "      <th>other_sales</th>\n",
       "      <th>critic_score</th>\n",
       "      <th>user_score</th>\n",
       "      <th>rating</th>\n",
       "      <th>total_sales</th>\n",
       "    </tr>\n",
       "  </thead>\n",
       "  <tbody>\n",
       "  </tbody>\n",
       "</table>\n",
       "</div>"
      ],
      "text/plain": [
       "Empty DataFrame\n",
       "Columns: [name, platform, year_of_release, genre, na_sales, eu_sales, jp_sales, other_sales, critic_score, user_score, rating, total_sales]\n",
       "Index: []"
      ]
     },
     "execution_count": 21,
     "metadata": {},
     "output_type": "execute_result"
    }
   ],
   "source": [
    "df.loc[15957, 'year_of_release'] = 2007\n",
    "df.loc[(df['platform'] == 'DS') & (df['year_of_release'] < 2004)]"
   ]
  },
  {
   "cell_type": "markdown",
   "metadata": {},
   "source": [
    "Далее нужно визуализировать распределение продаж по годам для топ-5 платформ из полученного списка (то есть ps2, X360, ps3, wii и DS). "
   ]
  },
  {
   "cell_type": "code",
   "execution_count": 22,
   "metadata": {
    "scrolled": true
   },
   "outputs": [
    {
     "data": {
      "text/html": [
       "<div>\n",
       "<style scoped>\n",
       "    .dataframe tbody tr th:only-of-type {\n",
       "        vertical-align: middle;\n",
       "    }\n",
       "\n",
       "    .dataframe tbody tr th {\n",
       "        vertical-align: top;\n",
       "    }\n",
       "\n",
       "    .dataframe thead th {\n",
       "        text-align: right;\n",
       "    }\n",
       "</style>\n",
       "<table border=\"1\" class=\"dataframe\">\n",
       "  <thead>\n",
       "    <tr style=\"text-align: right;\">\n",
       "      <th></th>\n",
       "      <th>platform</th>\n",
       "      <th>year_of_release</th>\n",
       "      <th>total_sales</th>\n",
       "    </tr>\n",
       "  </thead>\n",
       "  <tbody>\n",
       "    <tr>\n",
       "      <th>0</th>\n",
       "      <td>DS</td>\n",
       "      <td>2004</td>\n",
       "      <td>17.27</td>\n",
       "    </tr>\n",
       "    <tr>\n",
       "      <th>1</th>\n",
       "      <td>DS</td>\n",
       "      <td>2005</td>\n",
       "      <td>130.14</td>\n",
       "    </tr>\n",
       "    <tr>\n",
       "      <th>2</th>\n",
       "      <td>DS</td>\n",
       "      <td>2006</td>\n",
       "      <td>119.81</td>\n",
       "    </tr>\n",
       "    <tr>\n",
       "      <th>3</th>\n",
       "      <td>DS</td>\n",
       "      <td>2007</td>\n",
       "      <td>146.96</td>\n",
       "    </tr>\n",
       "    <tr>\n",
       "      <th>4</th>\n",
       "      <td>DS</td>\n",
       "      <td>2008</td>\n",
       "      <td>145.31</td>\n",
       "    </tr>\n",
       "    <tr>\n",
       "      <th>5</th>\n",
       "      <td>DS</td>\n",
       "      <td>2009</td>\n",
       "      <td>119.54</td>\n",
       "    </tr>\n",
       "    <tr>\n",
       "      <th>6</th>\n",
       "      <td>DS</td>\n",
       "      <td>2010</td>\n",
       "      <td>85.02</td>\n",
       "    </tr>\n",
       "    <tr>\n",
       "      <th>7</th>\n",
       "      <td>DS</td>\n",
       "      <td>2011</td>\n",
       "      <td>26.18</td>\n",
       "    </tr>\n",
       "    <tr>\n",
       "      <th>8</th>\n",
       "      <td>DS</td>\n",
       "      <td>2012</td>\n",
       "      <td>11.01</td>\n",
       "    </tr>\n",
       "    <tr>\n",
       "      <th>9</th>\n",
       "      <td>DS</td>\n",
       "      <td>2013</td>\n",
       "      <td>1.54</td>\n",
       "    </tr>\n",
       "    <tr>\n",
       "      <th>10</th>\n",
       "      <td>PS2</td>\n",
       "      <td>2000</td>\n",
       "      <td>39.17</td>\n",
       "    </tr>\n",
       "    <tr>\n",
       "      <th>11</th>\n",
       "      <td>PS2</td>\n",
       "      <td>2001</td>\n",
       "      <td>166.43</td>\n",
       "    </tr>\n",
       "    <tr>\n",
       "      <th>12</th>\n",
       "      <td>PS2</td>\n",
       "      <td>2002</td>\n",
       "      <td>205.38</td>\n",
       "    </tr>\n",
       "    <tr>\n",
       "      <th>13</th>\n",
       "      <td>PS2</td>\n",
       "      <td>2003</td>\n",
       "      <td>184.31</td>\n",
       "    </tr>\n",
       "    <tr>\n",
       "      <th>14</th>\n",
       "      <td>PS2</td>\n",
       "      <td>2004</td>\n",
       "      <td>211.81</td>\n",
       "    </tr>\n",
       "    <tr>\n",
       "      <th>15</th>\n",
       "      <td>PS2</td>\n",
       "      <td>2005</td>\n",
       "      <td>160.66</td>\n",
       "    </tr>\n",
       "    <tr>\n",
       "      <th>16</th>\n",
       "      <td>PS2</td>\n",
       "      <td>2006</td>\n",
       "      <td>103.42</td>\n",
       "    </tr>\n",
       "    <tr>\n",
       "      <th>17</th>\n",
       "      <td>PS2</td>\n",
       "      <td>2007</td>\n",
       "      <td>75.99</td>\n",
       "    </tr>\n",
       "    <tr>\n",
       "      <th>18</th>\n",
       "      <td>PS2</td>\n",
       "      <td>2008</td>\n",
       "      <td>53.90</td>\n",
       "    </tr>\n",
       "    <tr>\n",
       "      <th>19</th>\n",
       "      <td>PS2</td>\n",
       "      <td>2009</td>\n",
       "      <td>26.40</td>\n",
       "    </tr>\n",
       "    <tr>\n",
       "      <th>20</th>\n",
       "      <td>PS2</td>\n",
       "      <td>2010</td>\n",
       "      <td>5.64</td>\n",
       "    </tr>\n",
       "    <tr>\n",
       "      <th>21</th>\n",
       "      <td>PS2</td>\n",
       "      <td>2011</td>\n",
       "      <td>0.45</td>\n",
       "    </tr>\n",
       "    <tr>\n",
       "      <th>22</th>\n",
       "      <td>PS3</td>\n",
       "      <td>2006</td>\n",
       "      <td>20.96</td>\n",
       "    </tr>\n",
       "    <tr>\n",
       "      <th>23</th>\n",
       "      <td>PS3</td>\n",
       "      <td>2007</td>\n",
       "      <td>73.19</td>\n",
       "    </tr>\n",
       "    <tr>\n",
       "      <th>24</th>\n",
       "      <td>PS3</td>\n",
       "      <td>2008</td>\n",
       "      <td>118.52</td>\n",
       "    </tr>\n",
       "    <tr>\n",
       "      <th>25</th>\n",
       "      <td>PS3</td>\n",
       "      <td>2009</td>\n",
       "      <td>130.93</td>\n",
       "    </tr>\n",
       "    <tr>\n",
       "      <th>26</th>\n",
       "      <td>PS3</td>\n",
       "      <td>2010</td>\n",
       "      <td>142.17</td>\n",
       "    </tr>\n",
       "    <tr>\n",
       "      <th>27</th>\n",
       "      <td>PS3</td>\n",
       "      <td>2011</td>\n",
       "      <td>156.78</td>\n",
       "    </tr>\n",
       "    <tr>\n",
       "      <th>28</th>\n",
       "      <td>PS3</td>\n",
       "      <td>2012</td>\n",
       "      <td>107.35</td>\n",
       "    </tr>\n",
       "    <tr>\n",
       "      <th>29</th>\n",
       "      <td>PS3</td>\n",
       "      <td>2013</td>\n",
       "      <td>113.25</td>\n",
       "    </tr>\n",
       "    <tr>\n",
       "      <th>30</th>\n",
       "      <td>PS3</td>\n",
       "      <td>2014</td>\n",
       "      <td>47.76</td>\n",
       "    </tr>\n",
       "    <tr>\n",
       "      <th>31</th>\n",
       "      <td>PS3</td>\n",
       "      <td>2015</td>\n",
       "      <td>16.82</td>\n",
       "    </tr>\n",
       "    <tr>\n",
       "      <th>32</th>\n",
       "      <td>PS3</td>\n",
       "      <td>2016</td>\n",
       "      <td>3.60</td>\n",
       "    </tr>\n",
       "    <tr>\n",
       "      <th>33</th>\n",
       "      <td>Wii</td>\n",
       "      <td>2006</td>\n",
       "      <td>137.15</td>\n",
       "    </tr>\n",
       "    <tr>\n",
       "      <th>34</th>\n",
       "      <td>Wii</td>\n",
       "      <td>2007</td>\n",
       "      <td>152.77</td>\n",
       "    </tr>\n",
       "    <tr>\n",
       "      <th>35</th>\n",
       "      <td>Wii</td>\n",
       "      <td>2008</td>\n",
       "      <td>171.32</td>\n",
       "    </tr>\n",
       "    <tr>\n",
       "      <th>36</th>\n",
       "      <td>Wii</td>\n",
       "      <td>2009</td>\n",
       "      <td>206.97</td>\n",
       "    </tr>\n",
       "    <tr>\n",
       "      <th>37</th>\n",
       "      <td>Wii</td>\n",
       "      <td>2010</td>\n",
       "      <td>127.95</td>\n",
       "    </tr>\n",
       "    <tr>\n",
       "      <th>38</th>\n",
       "      <td>Wii</td>\n",
       "      <td>2011</td>\n",
       "      <td>59.65</td>\n",
       "    </tr>\n",
       "    <tr>\n",
       "      <th>39</th>\n",
       "      <td>Wii</td>\n",
       "      <td>2012</td>\n",
       "      <td>21.71</td>\n",
       "    </tr>\n",
       "    <tr>\n",
       "      <th>40</th>\n",
       "      <td>Wii</td>\n",
       "      <td>2013</td>\n",
       "      <td>8.59</td>\n",
       "    </tr>\n",
       "    <tr>\n",
       "      <th>41</th>\n",
       "      <td>Wii</td>\n",
       "      <td>2014</td>\n",
       "      <td>3.75</td>\n",
       "    </tr>\n",
       "    <tr>\n",
       "      <th>42</th>\n",
       "      <td>Wii</td>\n",
       "      <td>2015</td>\n",
       "      <td>1.14</td>\n",
       "    </tr>\n",
       "    <tr>\n",
       "      <th>43</th>\n",
       "      <td>Wii</td>\n",
       "      <td>2016</td>\n",
       "      <td>0.18</td>\n",
       "    </tr>\n",
       "    <tr>\n",
       "      <th>44</th>\n",
       "      <td>X360</td>\n",
       "      <td>2005</td>\n",
       "      <td>8.25</td>\n",
       "    </tr>\n",
       "    <tr>\n",
       "      <th>45</th>\n",
       "      <td>X360</td>\n",
       "      <td>2006</td>\n",
       "      <td>51.62</td>\n",
       "    </tr>\n",
       "    <tr>\n",
       "      <th>46</th>\n",
       "      <td>X360</td>\n",
       "      <td>2007</td>\n",
       "      <td>95.41</td>\n",
       "    </tr>\n",
       "    <tr>\n",
       "      <th>47</th>\n",
       "      <td>X360</td>\n",
       "      <td>2008</td>\n",
       "      <td>135.26</td>\n",
       "    </tr>\n",
       "    <tr>\n",
       "      <th>48</th>\n",
       "      <td>X360</td>\n",
       "      <td>2009</td>\n",
       "      <td>120.29</td>\n",
       "    </tr>\n",
       "    <tr>\n",
       "      <th>49</th>\n",
       "      <td>X360</td>\n",
       "      <td>2010</td>\n",
       "      <td>170.03</td>\n",
       "    </tr>\n",
       "    <tr>\n",
       "      <th>50</th>\n",
       "      <td>X360</td>\n",
       "      <td>2011</td>\n",
       "      <td>143.84</td>\n",
       "    </tr>\n",
       "    <tr>\n",
       "      <th>51</th>\n",
       "      <td>X360</td>\n",
       "      <td>2012</td>\n",
       "      <td>99.74</td>\n",
       "    </tr>\n",
       "    <tr>\n",
       "      <th>52</th>\n",
       "      <td>X360</td>\n",
       "      <td>2013</td>\n",
       "      <td>88.58</td>\n",
       "    </tr>\n",
       "    <tr>\n",
       "      <th>53</th>\n",
       "      <td>X360</td>\n",
       "      <td>2014</td>\n",
       "      <td>34.74</td>\n",
       "    </tr>\n",
       "    <tr>\n",
       "      <th>54</th>\n",
       "      <td>X360</td>\n",
       "      <td>2015</td>\n",
       "      <td>11.96</td>\n",
       "    </tr>\n",
       "    <tr>\n",
       "      <th>55</th>\n",
       "      <td>X360</td>\n",
       "      <td>2016</td>\n",
       "      <td>1.52</td>\n",
       "    </tr>\n",
       "  </tbody>\n",
       "</table>\n",
       "</div>"
      ],
      "text/plain": [
       "   platform  year_of_release  total_sales\n",
       "0        DS             2004        17.27\n",
       "1        DS             2005       130.14\n",
       "2        DS             2006       119.81\n",
       "3        DS             2007       146.96\n",
       "4        DS             2008       145.31\n",
       "5        DS             2009       119.54\n",
       "6        DS             2010        85.02\n",
       "7        DS             2011        26.18\n",
       "8        DS             2012        11.01\n",
       "9        DS             2013         1.54\n",
       "10      PS2             2000        39.17\n",
       "11      PS2             2001       166.43\n",
       "12      PS2             2002       205.38\n",
       "13      PS2             2003       184.31\n",
       "14      PS2             2004       211.81\n",
       "15      PS2             2005       160.66\n",
       "16      PS2             2006       103.42\n",
       "17      PS2             2007        75.99\n",
       "18      PS2             2008        53.90\n",
       "19      PS2             2009        26.40\n",
       "20      PS2             2010         5.64\n",
       "21      PS2             2011         0.45\n",
       "22      PS3             2006        20.96\n",
       "23      PS3             2007        73.19\n",
       "24      PS3             2008       118.52\n",
       "25      PS3             2009       130.93\n",
       "26      PS3             2010       142.17\n",
       "27      PS3             2011       156.78\n",
       "28      PS3             2012       107.35\n",
       "29      PS3             2013       113.25\n",
       "30      PS3             2014        47.76\n",
       "31      PS3             2015        16.82\n",
       "32      PS3             2016         3.60\n",
       "33      Wii             2006       137.15\n",
       "34      Wii             2007       152.77\n",
       "35      Wii             2008       171.32\n",
       "36      Wii             2009       206.97\n",
       "37      Wii             2010       127.95\n",
       "38      Wii             2011        59.65\n",
       "39      Wii             2012        21.71\n",
       "40      Wii             2013         8.59\n",
       "41      Wii             2014         3.75\n",
       "42      Wii             2015         1.14\n",
       "43      Wii             2016         0.18\n",
       "44     X360             2005         8.25\n",
       "45     X360             2006        51.62\n",
       "46     X360             2007        95.41\n",
       "47     X360             2008       135.26\n",
       "48     X360             2009       120.29\n",
       "49     X360             2010       170.03\n",
       "50     X360             2011       143.84\n",
       "51     X360             2012        99.74\n",
       "52     X360             2013        88.58\n",
       "53     X360             2014        34.74\n",
       "54     X360             2015        11.96\n",
       "55     X360             2016         1.52"
      ]
     },
     "execution_count": 22,
     "metadata": {},
     "output_type": "execute_result"
    }
   ],
   "source": [
    "top_platforms = df[df['platform'].isin(['PS2', 'X360', 'PS3', 'Wii', 'DS'])]\n",
    "top_platforms = top_platforms.groupby(['platform','year_of_release'])['total_sales'].sum().reset_index()\n",
    "top_platforms"
   ]
  },
  {
   "cell_type": "code",
   "execution_count": 23,
   "metadata": {},
   "outputs": [
    {
     "data": {
      "image/png": "[encoded data removed]",
      "text/plain": [
       "<Figure size 1224x792 with 1 Axes>"
      ]
     },
     "metadata": {
      "needs_background": "light"
     },
     "output_type": "display_data"
    }
   ],
   "source": [
    "plt.figure(figsize=(17, 11))\n",
    "\n",
    "for platform in top_platforms['platform'].unique():\n",
    "    platform_data = top_platforms[top_platforms['platform'] == platform]\n",
    "    plt.plot(platform_data['year_of_release'], platform_data['total_sales'], label=platform)\n",
    "\n",
    "plt.title('Продажи видеоигр на платформах')\n",
    "plt.xlabel('Год')\n",
    "plt.ylabel('Сумма продаж')\n",
    "plt.xticks(top_platforms['year_of_release'].unique())\n",
    "plt.grid(visible=True, linestyle='--', linewidth=0.5, color='gray')\n",
    "plt.legend(title='Платформы')\n",
    "plt.show()\n",
    "\n"
   ]
  },
  {
   "cell_type": "markdown",
   "metadata": {},
   "source": [
    "- По этим графикам трудно выделить конкретный промежуток жизни консолей, так как их здесь представлено всего 5 штук. Если судить по тому, что мы видим — это 4-7 лет. (Например, нинтендо ви сильно просела по продажам уже на 4 год существования, тогда как иксбоксу на это потребовалось 8 лет). "
   ]
  },
  {
   "cell_type": "markdown",
   "metadata": {},
   "source": [
    "Следующий шаг — выбрать в данных **актуальный период**. Думаю стоит взять последние три года (2014-2016), так как индустрия очень динамичная, и нам нужно захватить только свежие тренды."
   ]
  },
  {
   "cell_type": "code",
   "execution_count": 24,
   "metadata": {},
   "outputs": [],
   "source": [
    "df = df.query('year_of_release >= 2014')"
   ]
  },
  {
   "cell_type": "markdown",
   "metadata": {},
   "source": [
    "Далее определим лидирующие, растущие и падающие по продажам платформы относительно актуального периода. Сначала перезапишем нашу переменную со сводной таблицей с общими продажами по каждой консоли. Затем сравним их на столбчатой диаграмме."
   ]
  },
  {
   "cell_type": "code",
   "execution_count": 25,
   "metadata": {},
   "outputs": [
    {
     "data": {
      "text/html": [
       "<div>\n",
       "<style scoped>\n",
       "    .dataframe tbody tr th:only-of-type {\n",
       "        vertical-align: middle;\n",
       "    }\n",
       "\n",
       "    .dataframe tbody tr th {\n",
       "        vertical-align: top;\n",
       "    }\n",
       "\n",
       "    .dataframe thead th {\n",
       "        text-align: right;\n",
       "    }\n",
       "</style>\n",
       "<table border=\"1\" class=\"dataframe\">\n",
       "  <thead>\n",
       "    <tr style=\"text-align: right;\">\n",
       "      <th></th>\n",
       "      <th>platform</th>\n",
       "      <th>total_sales</th>\n",
       "    </tr>\n",
       "  </thead>\n",
       "  <tbody>\n",
       "    <tr>\n",
       "      <th>3</th>\n",
       "      <td>PS4</td>\n",
       "      <td>288.15</td>\n",
       "    </tr>\n",
       "    <tr>\n",
       "      <th>9</th>\n",
       "      <td>XOne</td>\n",
       "      <td>140.36</td>\n",
       "    </tr>\n",
       "    <tr>\n",
       "      <th>0</th>\n",
       "      <td>3DS</td>\n",
       "      <td>86.68</td>\n",
       "    </tr>\n",
       "    <tr>\n",
       "      <th>2</th>\n",
       "      <td>PS3</td>\n",
       "      <td>68.18</td>\n",
       "    </tr>\n",
       "    <tr>\n",
       "      <th>8</th>\n",
       "      <td>X360</td>\n",
       "      <td>48.22</td>\n",
       "    </tr>\n",
       "    <tr>\n",
       "      <th>7</th>\n",
       "      <td>WiiU</td>\n",
       "      <td>42.98</td>\n",
       "    </tr>\n",
       "    <tr>\n",
       "      <th>1</th>\n",
       "      <td>PC</td>\n",
       "      <td>27.05</td>\n",
       "    </tr>\n",
       "    <tr>\n",
       "      <th>5</th>\n",
       "      <td>PSV</td>\n",
       "      <td>22.40</td>\n",
       "    </tr>\n",
       "    <tr>\n",
       "      <th>6</th>\n",
       "      <td>Wii</td>\n",
       "      <td>5.07</td>\n",
       "    </tr>\n",
       "    <tr>\n",
       "      <th>4</th>\n",
       "      <td>PSP</td>\n",
       "      <td>0.36</td>\n",
       "    </tr>\n",
       "  </tbody>\n",
       "</table>\n",
       "</div>"
      ],
      "text/plain": [
       "  platform  total_sales\n",
       "3      PS4       288.15\n",
       "9     XOne       140.36\n",
       "0      3DS        86.68\n",
       "2      PS3        68.18\n",
       "8     X360        48.22\n",
       "7     WiiU        42.98\n",
       "1       PC        27.05\n",
       "5      PSV        22.40\n",
       "6      Wii         5.07\n",
       "4      PSP         0.36"
      ]
     },
     "execution_count": 25,
     "metadata": {},
     "output_type": "execute_result"
    }
   ],
   "source": [
    "platform_sales = df.pivot_table(index='platform', values='total_sales', aggfunc='sum').reset_index()\n",
    "platform_sales.sort_values('total_sales', ascending=False)\n"
   ]
  },
  {
   "cell_type": "code",
   "execution_count": 26,
   "metadata": {
    "scrolled": true
   },
   "outputs": [
    {
     "data": {
      "image/png": "[encoded data removed]",
      "text/plain": [
       "<Figure size 864x432 with 1 Axes>"
      ]
     },
     "metadata": {
      "needs_background": "light"
     },
     "output_type": "display_data"
    }
   ],
   "source": [
    "plt.figure(figsize=(12, 6))\n",
    "plt.bar(platform_sales['platform'], platform_sales['total_sales'], color = ['green', 'violet'])\n",
    "plt.title('Общие продажи по платформам за 2014-2016 гг.')\n",
    "plt.xlabel('Платформа')\n",
    "plt.ylabel('Общие продажи, млн.')\n",
    "plt.xticks(rotation=45)\n",
    "plt.show()"
   ]
  },
  {
   "cell_type": "markdown",
   "metadata": {},
   "source": [
    "**В топ-5 самых кассовых платформ входят PS4, XOne, 3DS, PS3 и XBOX360.**"
   ]
  },
  {
   "cell_type": "markdown",
   "metadata": {},
   "source": [
    "Далее с помощью визуализации определим растущие и падающие платформы. Так получится выделить наиболее перспекивные платформы из общей массы. \n",
    "\n",
    "\n",
    "Так как у нас 10 уникальных платформ — строить график по каждой будет долго, да и сравнивать их так будет не очень удобно. Но строить график сразу по 10 консолям тоже неправильно — график будет перегружен. Данные нужно категоризировать по поколениям консолей. \n",
    "\n",
    "Для портативок определим отдельную категорию, построим графики по всем им сразу."
   ]
  },
  {
   "cell_type": "code",
   "execution_count": 27,
   "metadata": {
    "scrolled": true
   },
   "outputs": [
    {
     "name": "stderr",
     "output_type": "stream",
     "text": [
      "/tmp/ipykernel_48/415389107.py:12: SettingWithCopyWarning: \n",
      "A value is trying to be set on a copy of a slice from a DataFrame.\n",
      "Try using .loc[row_indexer,col_indexer] = value instead\n",
      "\n",
      "See the caveats in the documentation: https://pandas.pydata.org/pandas-docs/stable/user_guide/indexing.html#returning-a-view-versus-a-copy\n",
      "  df['category'] = df['platform'].map(platform_categories)\n"
     ]
    },
    {
     "data": {
      "text/html": [
       "<div>\n",
       "<style scoped>\n",
       "    .dataframe tbody tr th:only-of-type {\n",
       "        vertical-align: middle;\n",
       "    }\n",
       "\n",
       "    .dataframe tbody tr th {\n",
       "        vertical-align: top;\n",
       "    }\n",
       "\n",
       "    .dataframe thead th {\n",
       "        text-align: right;\n",
       "    }\n",
       "</style>\n",
       "<table border=\"1\" class=\"dataframe\">\n",
       "  <thead>\n",
       "    <tr style=\"text-align: right;\">\n",
       "      <th></th>\n",
       "      <th>platform</th>\n",
       "      <th>year_of_release</th>\n",
       "      <th>category</th>\n",
       "      <th>total_sales</th>\n",
       "    </tr>\n",
       "  </thead>\n",
       "  <tbody>\n",
       "    <tr>\n",
       "      <th>0</th>\n",
       "      <td>3DS</td>\n",
       "      <td>2014</td>\n",
       "      <td>портативные</td>\n",
       "      <td>43.76</td>\n",
       "    </tr>\n",
       "    <tr>\n",
       "      <th>1</th>\n",
       "      <td>3DS</td>\n",
       "      <td>2015</td>\n",
       "      <td>портативные</td>\n",
       "      <td>27.78</td>\n",
       "    </tr>\n",
       "    <tr>\n",
       "      <th>2</th>\n",
       "      <td>3DS</td>\n",
       "      <td>2016</td>\n",
       "      <td>портативные</td>\n",
       "      <td>15.14</td>\n",
       "    </tr>\n",
       "    <tr>\n",
       "      <th>3</th>\n",
       "      <td>PC</td>\n",
       "      <td>2014</td>\n",
       "      <td>восьмое поколение</td>\n",
       "      <td>13.28</td>\n",
       "    </tr>\n",
       "    <tr>\n",
       "      <th>4</th>\n",
       "      <td>PC</td>\n",
       "      <td>2015</td>\n",
       "      <td>восьмое поколение</td>\n",
       "      <td>8.52</td>\n",
       "    </tr>\n",
       "    <tr>\n",
       "      <th>5</th>\n",
       "      <td>PC</td>\n",
       "      <td>2016</td>\n",
       "      <td>восьмое поколение</td>\n",
       "      <td>5.25</td>\n",
       "    </tr>\n",
       "    <tr>\n",
       "      <th>6</th>\n",
       "      <td>PS3</td>\n",
       "      <td>2014</td>\n",
       "      <td>седьмое поколение</td>\n",
       "      <td>47.76</td>\n",
       "    </tr>\n",
       "    <tr>\n",
       "      <th>7</th>\n",
       "      <td>PS3</td>\n",
       "      <td>2015</td>\n",
       "      <td>седьмое поколение</td>\n",
       "      <td>16.82</td>\n",
       "    </tr>\n",
       "    <tr>\n",
       "      <th>8</th>\n",
       "      <td>PS3</td>\n",
       "      <td>2016</td>\n",
       "      <td>седьмое поколение</td>\n",
       "      <td>3.60</td>\n",
       "    </tr>\n",
       "    <tr>\n",
       "      <th>9</th>\n",
       "      <td>PS4</td>\n",
       "      <td>2014</td>\n",
       "      <td>восьмое поколение</td>\n",
       "      <td>100.00</td>\n",
       "    </tr>\n",
       "    <tr>\n",
       "      <th>10</th>\n",
       "      <td>PS4</td>\n",
       "      <td>2015</td>\n",
       "      <td>восьмое поколение</td>\n",
       "      <td>118.90</td>\n",
       "    </tr>\n",
       "    <tr>\n",
       "      <th>11</th>\n",
       "      <td>PS4</td>\n",
       "      <td>2016</td>\n",
       "      <td>восьмое поколение</td>\n",
       "      <td>69.25</td>\n",
       "    </tr>\n",
       "    <tr>\n",
       "      <th>12</th>\n",
       "      <td>PSP</td>\n",
       "      <td>2014</td>\n",
       "      <td>портативные</td>\n",
       "      <td>0.24</td>\n",
       "    </tr>\n",
       "    <tr>\n",
       "      <th>13</th>\n",
       "      <td>PSP</td>\n",
       "      <td>2015</td>\n",
       "      <td>портативные</td>\n",
       "      <td>0.12</td>\n",
       "    </tr>\n",
       "    <tr>\n",
       "      <th>14</th>\n",
       "      <td>PSV</td>\n",
       "      <td>2014</td>\n",
       "      <td>портативные</td>\n",
       "      <td>11.90</td>\n",
       "    </tr>\n",
       "    <tr>\n",
       "      <th>15</th>\n",
       "      <td>PSV</td>\n",
       "      <td>2015</td>\n",
       "      <td>портативные</td>\n",
       "      <td>6.25</td>\n",
       "    </tr>\n",
       "    <tr>\n",
       "      <th>16</th>\n",
       "      <td>PSV</td>\n",
       "      <td>2016</td>\n",
       "      <td>портативные</td>\n",
       "      <td>4.25</td>\n",
       "    </tr>\n",
       "    <tr>\n",
       "      <th>17</th>\n",
       "      <td>Wii</td>\n",
       "      <td>2014</td>\n",
       "      <td>седьмое поколение</td>\n",
       "      <td>3.75</td>\n",
       "    </tr>\n",
       "    <tr>\n",
       "      <th>18</th>\n",
       "      <td>Wii</td>\n",
       "      <td>2015</td>\n",
       "      <td>седьмое поколение</td>\n",
       "      <td>1.14</td>\n",
       "    </tr>\n",
       "    <tr>\n",
       "      <th>19</th>\n",
       "      <td>Wii</td>\n",
       "      <td>2016</td>\n",
       "      <td>седьмое поколение</td>\n",
       "      <td>0.18</td>\n",
       "    </tr>\n",
       "    <tr>\n",
       "      <th>20</th>\n",
       "      <td>WiiU</td>\n",
       "      <td>2014</td>\n",
       "      <td>восьмое поколение</td>\n",
       "      <td>22.03</td>\n",
       "    </tr>\n",
       "    <tr>\n",
       "      <th>21</th>\n",
       "      <td>WiiU</td>\n",
       "      <td>2015</td>\n",
       "      <td>восьмое поколение</td>\n",
       "      <td>16.35</td>\n",
       "    </tr>\n",
       "    <tr>\n",
       "      <th>22</th>\n",
       "      <td>WiiU</td>\n",
       "      <td>2016</td>\n",
       "      <td>восьмое поколение</td>\n",
       "      <td>4.60</td>\n",
       "    </tr>\n",
       "    <tr>\n",
       "      <th>23</th>\n",
       "      <td>X360</td>\n",
       "      <td>2014</td>\n",
       "      <td>седьмое поколение</td>\n",
       "      <td>34.74</td>\n",
       "    </tr>\n",
       "    <tr>\n",
       "      <th>24</th>\n",
       "      <td>X360</td>\n",
       "      <td>2015</td>\n",
       "      <td>седьмое поколение</td>\n",
       "      <td>11.96</td>\n",
       "    </tr>\n",
       "    <tr>\n",
       "      <th>25</th>\n",
       "      <td>X360</td>\n",
       "      <td>2016</td>\n",
       "      <td>седьмое поколение</td>\n",
       "      <td>1.52</td>\n",
       "    </tr>\n",
       "    <tr>\n",
       "      <th>26</th>\n",
       "      <td>XOne</td>\n",
       "      <td>2014</td>\n",
       "      <td>восьмое поколение</td>\n",
       "      <td>54.07</td>\n",
       "    </tr>\n",
       "    <tr>\n",
       "      <th>27</th>\n",
       "      <td>XOne</td>\n",
       "      <td>2015</td>\n",
       "      <td>восьмое поколение</td>\n",
       "      <td>60.14</td>\n",
       "    </tr>\n",
       "    <tr>\n",
       "      <th>28</th>\n",
       "      <td>XOne</td>\n",
       "      <td>2016</td>\n",
       "      <td>восьмое поколение</td>\n",
       "      <td>26.15</td>\n",
       "    </tr>\n",
       "  </tbody>\n",
       "</table>\n",
       "</div>"
      ],
      "text/plain": [
       "   platform  year_of_release           category  total_sales\n",
       "0       3DS             2014        портативные        43.76\n",
       "1       3DS             2015        портативные        27.78\n",
       "2       3DS             2016        портативные        15.14\n",
       "3        PC             2014  восьмое поколение        13.28\n",
       "4        PC             2015  восьмое поколение         8.52\n",
       "5        PC             2016  восьмое поколение         5.25\n",
       "6       PS3             2014  седьмое поколение        47.76\n",
       "7       PS3             2015  седьмое поколение        16.82\n",
       "8       PS3             2016  седьмое поколение         3.60\n",
       "9       PS4             2014  восьмое поколение       100.00\n",
       "10      PS4             2015  восьмое поколение       118.90\n",
       "11      PS4             2016  восьмое поколение        69.25\n",
       "12      PSP             2014        портативные         0.24\n",
       "13      PSP             2015        портативные         0.12\n",
       "14      PSV             2014        портативные        11.90\n",
       "15      PSV             2015        портативные         6.25\n",
       "16      PSV             2016        портативные         4.25\n",
       "17      Wii             2014  седьмое поколение         3.75\n",
       "18      Wii             2015  седьмое поколение         1.14\n",
       "19      Wii             2016  седьмое поколение         0.18\n",
       "20     WiiU             2014  восьмое поколение        22.03\n",
       "21     WiiU             2015  восьмое поколение        16.35\n",
       "22     WiiU             2016  восьмое поколение         4.60\n",
       "23     X360             2014  седьмое поколение        34.74\n",
       "24     X360             2015  седьмое поколение        11.96\n",
       "25     X360             2016  седьмое поколение         1.52\n",
       "26     XOne             2014  восьмое поколение        54.07\n",
       "27     XOne             2015  восьмое поколение        60.14\n",
       "28     XOne             2016  восьмое поколение        26.15"
      ]
     },
     "execution_count": 27,
     "metadata": {},
     "output_type": "execute_result"
    }
   ],
   "source": [
    "platform_categories = {\n",
    "    'PS4': 'восьмое поколение',\n",
    "    'XOne': 'восьмое поколение',\n",
    "    'PC': 'восьмое поколение',\n",
    "    'WiiU': 'восьмое поколение',\n",
    "    'X360': 'седьмое поколение',\n",
    "    'PS3': 'седьмое поколение',\n",
    "    'Wii': 'седьмое поколение',\n",
    "    '3DS': 'портативные',\n",
    "    'PSP': 'портативные',\n",
    "    'PSV': 'портативные',}\n",
    "df['category'] = df['platform'].map(platform_categories)\n",
    "grouped_df = df.groupby(['platform','year_of_release','category'])['total_sales'].sum().reset_index()\n",
    "grouped_df\n"
   ]
  },
  {
   "cell_type": "code",
   "execution_count": 28,
   "metadata": {},
   "outputs": [
    {
     "data": {
      "image/png": "[encoded data removed]",
      "text/plain": [
       "<Figure size 1224x936 with 3 Axes>"
      ]
     },
     "metadata": {
      "needs_background": "light"
     },
     "output_type": "display_data"
    }
   ],
   "source": [
    "plt.figure(figsize=(17, 13))\n",
    "\n",
    "#Седьмое поколение\n",
    "plt.subplot(2, 2, 1)\n",
    "platforms_to_plot = []\n",
    "for platform in grouped_df['platform'].unique():\n",
    "    platform_data = grouped_df.loc[(grouped_df['platform'] == platform) & \n",
    "        (grouped_df['category'].isin(['седьмое поколение']))]\n",
    "    \n",
    "    if not platform_data.empty:\n",
    "        plt.plot(platform_data['year_of_release'], platform_data['total_sales'], label=platform)\n",
    "        platforms_to_plot.append(platform)\n",
    "\n",
    "plt.title('Продажи видеоигр на платформах седьмого поколения (2014-2016 гг.)')\n",
    "plt.xlabel('Год')\n",
    "plt.ylabel('Сумма продаж')\n",
    "plt.xticks(grouped_df['year_of_release'].unique())\n",
    "plt.grid(visible=True, linestyle='--', linewidth=0.5, color='gray')\n",
    "plt.legend(title='Платформы', labels=platforms_to_plot)\n",
    "\n",
    "#Восьмое поколение\n",
    "plt.subplot(2, 2, 2)\n",
    "platforms_to_plot = []\n",
    "for platform in grouped_df['platform'].unique():\n",
    "    platform_data = grouped_df.loc[(grouped_df['platform'] == platform) & \n",
    "        (grouped_df['category'].isin(['восьмое поколение']))]\n",
    "    \n",
    "    if not platform_data.empty:\n",
    "        plt.plot(platform_data['year_of_release'], platform_data['total_sales'], label=platform)\n",
    "        platforms_to_plot.append(platform)\n",
    "\n",
    "plt.title('Продажи видеоигр на платформах восьмого поколения (2014-2016 гг.)')\n",
    "plt.xlabel('Год')\n",
    "plt.ylabel('Сумма продаж')\n",
    "plt.xticks(grouped_df['year_of_release'].unique())\n",
    "plt.grid(visible=True, linestyle='--', linewidth=0.5, color='gray')\n",
    "plt.legend(title='Платформы', labels=platforms_to_plot)\n",
    "\n",
    "#Портативные консоли\n",
    "plt.subplot(2, 2, 3)\n",
    "platforms_to_plot = []\n",
    "for platform in grouped_df['platform'].unique():\n",
    "    platform_data = grouped_df.loc[(grouped_df['platform'] == platform) & \n",
    "        (grouped_df['category'].isin(['портативные']))]\n",
    "    \n",
    "    if not platform_data.empty:\n",
    "        plt.plot(platform_data['year_of_release'], platform_data['total_sales'], label=platform)\n",
    "        platforms_to_plot.append(platform)\n",
    "\n",
    "plt.title('Продажи видеоигр на портативных консолях (2014-2016 гг.)')\n",
    "plt.xlabel('Год')\n",
    "plt.ylabel('Сумма продаж')\n",
    "plt.xticks(grouped_df['year_of_release'].unique())\n",
    "plt.grid(visible=True, linestyle='--', linewidth=0.5, color='gray')\n",
    "plt.legend(title='Платформы', labels=platforms_to_plot)\n",
    "plt.show()"
   ]
  },
  {
   "cell_type": "markdown",
   "metadata": {},
   "source": [
    "**Промежуточный вывод по потенциальной прибыльности платформ** \n",
    "\n",
    "\n",
    "- За период 2014-16 гг. продажи 7 поколения консолей сильно упали. Можем это связать с появлением новых, более соверменных платформ.\n",
    "\n",
    "\n",
    "- У 8 поколения консолей наоборот, высокие продажи и потенциал, несмотря на сильное падение в 2016. (Оно может быть связано с тем, что данные за 2016 год неполные).\n",
    "\n",
    "\n",
    "- Далее о портативных консолях. По ним, как и по консолям 7 поколения, мы видим тенденцию к снижению продаж. Она может быть связана с развитием видоигровой индустрии на мобильных устройствах (всё больше игр выходит на телефонах, и портативки теряют свою актуальность). Однако на момент 2016 всё ещё выпускают игры на пс вита и нинтендо 3дс. \n",
    "\n",
    "\n",
    "На основе всего вышеказанного, выделю потенциально прибыльные платформы на момент 2016:\n",
    "\n",
    "- PS4\n",
    "- XOne\n",
    "- 3DS"
   ]
  },
  {
   "cell_type": "markdown",
   "metadata": {},
   "source": [
    "Далее построим боксплот по глобальным продажам игр в разбивке по платформам. "
   ]
  },
  {
   "cell_type": "code",
   "execution_count": 29,
   "metadata": {},
   "outputs": [
    {
     "data": {
      "image/png": "[encoded data removed]",
      "text/plain": [
       "<Figure size 864x432 with 1 Axes>"
      ]
     },
     "metadata": {
      "needs_background": "light"
     },
     "output_type": "display_data"
    }
   ],
   "source": [
    "top_platforms = df[df['platform'].isin(['PS4', 'XOne', 'PS3', '3DS', 'X360'])]\n",
    "data_to_plot = [top_platforms[top_platforms['platform'] == platform]['total_sales'].values\n",
    "                for platform in top_platforms['platform'].unique()]\n",
    "\n",
    "colors = ['skyblue', 'lightblue', 'lightgreen', 'pink', 'green']\n",
    "\n",
    "plt.figure(figsize=(12, 6))\n",
    "                    \n",
    "box = plt.boxplot(data_to_plot, patch_artist=True, medianprops=dict(color='black',  linewidth=2))\n",
    "\n",
    "for patch, color in zip(box['boxes'], colors):\n",
    "    patch.set_facecolor(color)\n",
    "\n",
    "plt.xticks(range(1, len(data_to_plot) + 1), top_platforms['platform'].unique())  \n",
    "plt.title('Диаграммы разброса по 5 самым прибыльным платформам', fontsize=15)\n",
    "plt.ylabel('Продажи, млн. копий', fontsize=14)\n",
    "plt.xlabel('Платформы', fontsize=14)\n",
    "plt.ylim(0, 3)\n",
    "plt.tight_layout()\n",
    "plt.grid()\n",
    "\n",
    "plt.show()"
   ]
  },
  {
   "cell_type": "code",
   "execution_count": 30,
   "metadata": {},
   "outputs": [
    {
     "data": {
      "text/plain": [
       "platform\n",
       "XOne    0.205\n",
       "WiiU    0.190\n",
       "PS4     0.185\n",
       "Wii     0.180\n",
       "X360    0.180\n",
       "Name: total_sales, dtype: float64"
      ]
     },
     "execution_count": 30,
     "metadata": {},
     "output_type": "execute_result"
    }
   ],
   "source": [
    "df.groupby('platform')['total_sales'].median().sort_values(ascending=False).head()"
   ]
  },
  {
   "cell_type": "markdown",
   "metadata": {},
   "source": [
    "- Медианы по всем платформам не превышают 0,5 млн проданных копий. \n",
    "- Самые высокие медианные продажи за актуальный период на XOne: 0.205 млн копий.\n",
    "- Самые низкие - на X360 и Wii, по 0,180 млн копий.\n",
    "- Ни по одной из платформ не обнаружено выбросов ниже нуля. \n",
    "- По PS4 и XOne третий квартиль превысил значение в 0,5 млн. \n",
    "- Медианы 3DS и PS3 меньше, чем на остальных платформах. Можем предположить, что игры на них продаются хуже."
   ]
  },
  {
   "cell_type": "markdown",
   "metadata": {},
   "source": [
    "Далее посмотрим, как влияют на продажи внутри одной популярной платформы отзывы пользователей и критиков. Построим диаграммы рассеяния и посчитаем корреляцию между отзывами и продажами. Одна диаграмма будет по отзывам критиков, другая — по отзывам пользователей.\n",
    "\n",
    "Диаграммы построим относительно XOne."
   ]
  },
  {
   "cell_type": "code",
   "execution_count": 31,
   "metadata": {},
   "outputs": [
    {
     "data": {
      "image/png": "[encoded data removed]",
      "text/plain": [
       "<Figure size 1008x432 with 2 Axes>"
      ]
     },
     "metadata": {
      "needs_background": "light"
     },
     "output_type": "display_data"
    },
    {
     "name": "stdout",
     "output_type": "stream",
     "text": [
      "Корреляция между отзывами критиков и продажами: 0.42\n",
      "Корреляция между отзывами пользователей и продажами: -0.09\n"
     ]
    }
   ],
   "source": [
    "plt.figure(figsize=(14, 6))\n",
    "\n",
    "corr_research = df[df['platform'] == 'XOne'].dropna(subset=['critic_score', 'user_score', 'total_sales']).reset_index(drop=True)\n",
    "corr_research['critic_score'] = corr_research['critic_score'].astype(float)\n",
    "\n",
    "plt.subplot(1, 2, 1)\n",
    "plt.scatter(corr_research['critic_score'], corr_research['total_sales'], color='blue', alpha=0.6)\n",
    "plt.title('Влияние отзывов критиков на продажи, XOne')\n",
    "plt.xlabel('Отзывы критиков')\n",
    "plt.ylabel('Сумма продаж')\n",
    "plt.grid()\n",
    "\n",
    "plt.subplot(1, 2, 2)\n",
    "plt.scatter(corr_research['user_score'], corr_research['total_sales'], color='orange', alpha=0.6)\n",
    "plt.title('Влияние отзывов пользователей на продажи, XOne')\n",
    "plt.xlabel('Отзывы пользователей')\n",
    "plt.ylabel('Сумма продаж')\n",
    "plt.grid()\n",
    "\n",
    "plt.tight_layout()\n",
    "plt.show()\n",
    "\n",
    "critic_correlation = corr_research['critic_score'].corr(corr_research['total_sales'])\n",
    "user_correlation = corr_research['user_score'].corr(corr_research['total_sales'])\n",
    "\n",
    "print(f'Корреляция между отзывами критиков и продажами: {critic_correlation:.2f}')\n",
    "print(f'Корреляция между отзывами пользователей и продажами: {user_correlation:.2f}')"
   ]
  },
  {
   "cell_type": "code",
   "execution_count": 32,
   "metadata": {
    "scrolled": true
   },
   "outputs": [
    {
     "name": "stdout",
     "output_type": "stream",
     "text": [
      "PS4: Критики: 0.40, Пользователи: -0.04\n",
      "XOne: Критики: 0.43, Пользователи: -0.07\n",
      "PS3: Критики: 0.45, Пользователи: -0.17\n",
      "3DS: Критики: 0.31, Пользователи: 0.22\n",
      "X360: Критики: 0.53, Пользователи: -0.14\n"
     ]
    }
   ],
   "source": [
    "correlations = {}\n",
    "\n",
    "for platform in ['PS4', 'XOne', 'PS3', '3DS', 'X360']:\n",
    "    corr = df[df['platform'] == platform][['critic_score', 'user_score', 'total_sales']].corr()\n",
    "    correlations[platform] = {\n",
    "        'critic_sales': corr.loc['critic_score', 'total_sales'],\n",
    "        'user_sales': corr.loc['user_score', 'total_sales']\n",
    "    }\n",
    "\n",
    "for platform, corr_values in correlations.items():\n",
    "    print(f\"{platform}: Критики: {corr_values['critic_sales']:.2f}, Пользователи: {corr_values['user_sales']:.2f}\")"
   ]
  },
  {
   "cell_type": "markdown",
   "metadata": {},
   "source": [
    "По XboxOne получили немного другие значения, так как в этот раз не избавились от пропусков.\n",
    "\n",
    "Выводы по влиянию отзывов на продажи видеоигр:\n",
    "\n",
    "- Между отзывами критиков и продажами игр корреляция умеренно-положительная. Это может говорить о том, что **высокие отзывы критиков положительно влияют на продажи игр**. \n",
    "\n",
    "- Между отзывами пользователей и продажами игр корреляция в большинстве случаев отрицательная или близка к нулю. Это может указывать на **отсутствие или даже обратную связь между оценками пользователей и продажами.**"
   ]
  },
  {
   "cell_type": "markdown",
   "metadata": {},
   "source": [
    "Далее посмотрим на общее распределение игр по жанрам. Визуализируем его с помощью столбчатой диаграммы."
   ]
  },
  {
   "cell_type": "code",
   "execution_count": 33,
   "metadata": {},
   "outputs": [
    {
     "data": {
      "text/plain": [
       "array(['Shooter', 'Action', 'Role-Playing', 'Sports', 'Fighting',\n",
       "       'Racing', 'Misc', 'Platform', 'Simulation', 'Adventure', 'Puzzle',\n",
       "       'Strategy'], dtype=object)"
      ]
     },
     "metadata": {},
     "output_type": "display_data"
    },
    {
     "data": {
      "image/png": "[encoded data removed]",
      "text/plain": [
       "<Figure size 1008x504 with 1 Axes>"
      ]
     },
     "metadata": {
      "needs_background": "light"
     },
     "output_type": "display_data"
    }
   ],
   "source": [
    "display(df['genre'].unique())\n",
    "group_by_genre = df.groupby('genre')['total_sales'].sum().reset_index()\n",
    "\n",
    "plt.figure(figsize=(14, 7))\n",
    "plt.bar(group_by_genre['genre'], group_by_genre['total_sales'], color=['orange', 'darkgreen'])\n",
    "plt.title('Распределение общих продаж игр по жанрам, 2014-2016 гг.')\n",
    "plt.xlabel('Жанр')\n",
    "plt.ylabel('Общие продажи, млн.')\n",
    "plt.xticks(rotation=45)\n",
    "plt.show()"
   ]
  },
  {
   "cell_type": "code",
   "execution_count": 34,
   "metadata": {},
   "outputs": [
    {
     "data": {
      "image/png": "[encoded data removed]",
      "text/plain": [
       "<Figure size 864x432 with 1 Axes>"
      ]
     },
     "metadata": {
      "needs_background": "light"
     },
     "output_type": "display_data"
    }
   ],
   "source": [
    "genres_to_plot = [df[df['genre'] == genre]['total_sales'].values\n",
    "                for genre in df['genre'].unique()]\n",
    "\n",
    "colors = ['skyblue', 'lightblue', 'lightgreen', 'pink', 'green', 'yellow', 'red', 'green', 'orange', 'grey', 'violet']\n",
    "\n",
    "plt.figure(figsize=(12, 6))\n",
    "                    \n",
    "box = plt.boxplot(genres_to_plot, patch_artist=True, medianprops=dict(color='black',  linewidth=2))\n",
    "\n",
    "for patch, color in zip(box['boxes'], colors):\n",
    "    patch.set_facecolor(color)\n",
    "    \n",
    "plt.xticks(range(1, len(genres_to_plot) + 1), df['genre'].unique())  \n",
    "plt.title('Диаграммы распределения продаж по жанрам', fontsize=15)\n",
    "plt.ylabel('Продажи, млн. копий', fontsize=14)\n",
    "plt.xlabel('жанры', fontsize=14)\n",
    "plt.ylim(0, 2)\n",
    "plt.tight_layout()\n",
    "plt.grid()\n",
    "\n",
    "plt.show()"
   ]
  },
  {
   "cell_type": "code",
   "execution_count": 35,
   "metadata": {
    "scrolled": true
   },
   "outputs": [
    {
     "data": {
      "text/plain": [
       "genre\n",
       "Shooter         0.515\n",
       "Sports          0.180\n",
       "Platform        0.140\n",
       "Fighting        0.125\n",
       "Role-Playing    0.110\n",
       "Simulation      0.100\n",
       "Action          0.090\n",
       "Misc            0.090\n",
       "Racing          0.090\n",
       "Strategy        0.060\n",
       "Puzzle          0.045\n",
       "Adventure       0.030\n",
       "Name: total_sales, dtype: float64"
      ]
     },
     "execution_count": 35,
     "metadata": {},
     "output_type": "execute_result"
    }
   ],
   "source": [
    "df.groupby('genre')['total_sales'].median().sort_values(ascending=False)\n",
    "                                                       "
   ]
  },
  {
   "cell_type": "markdown",
   "metadata": {},
   "source": [
    "- Самые прибыльные жанры - шутеры, спорт и платформеры. По ним самые высокие медианы продаж. Кроме того, первый квартиль по шутерам больше, чем медианы по многим другим жанрам.\n",
    "- Жанры с самыми низкими продажами: стратегии, пазлы и приключения.\n",
    "- У экшенов много выбросов, это может влиять на то, что по суммарным продажам они лидируют."
   ]
  },
  {
   "cell_type": "markdown",
   "metadata": {
    "jp-MarkdownHeadingCollapsed": true
   },
   "source": [
    "#### **Вывод по исследовательскому анализу данных**\n",
    "\n",
    "\n",
    "Определен топ 5 самых кассовых платформ за всё время согласно нашему датасету: PS2, XBOX360, PS3, 3DS, Wii;\n",
    "\n",
    "\n",
    "По датасету определен актуальный период с 2014 по 2016 гг.\n",
    "\n",
    "\n",
    "- За период 2014-16 гг. продажи 7 поколения консолей сильно упали. Можем это связать с появлением новых, более соверменных платформ.\n",
    "\n",
    "- У 8 поколения консолей наоборот, высокие продажи и потенциал, несмотря на сильное падение в 2016. (Оно может быть связано с тем, что данные за 2016 год неполные).\n",
    "\n",
    "- Далее о портативных консолях. По ним, как и по консолям 7 поколения, мы видим тенденцию к снижению продаж. Она может быть связана с развитием видоигровой индустрии на мобильных устройствах (всё больше игр выходит на телефонах, и портативки теряют свою актуальность). Однако на момент 2016 всё ещё выпускают игры на пс вита и нинтендо 3дс. \n",
    "\n",
    "\n",
    "потенциально прибыльные платформы на момент 2016: **PS4, XOne, 3DS**\n",
    "\n",
    "\n",
    "- Медианы по всем платформам за актуальный период не превышают 0,5 млн проданных копий. \n",
    "- Самые высокие медианные продажи за актуальный период на XOne: 0.205 млн копий.\n",
    "- Самые низкие - на X360 и Wii, по 0,180 млн копий.\n",
    "- Медианы 3DS и PS3 меньше, чем на остальных платформах. Можем предположить, что игры на них продаются хуже.\n",
    "\n",
    "\n",
    "Между отзывами критиков и продажами игр корреляция умеренно-положительная. Это может говорить о том, что **высокие отзывы критиков положительно влияют на продажи игр**. \n",
    "\n",
    "Между отзывами пользователей и продажами игр корреляция в большинстве случаев отрицательная или близка к нулю. Это может указывать на **отсутствие или даже обратную связь между оценками пользователей и продажами.**\n",
    "\n",
    "\n",
    "Самые прибыльные жанры - шутеры, спорт и платформеры. По ним самые высокие медианы продаж. Кроме того, первый квартиль по шутерам больше, чем медианы по многим другим жанрам.\n",
    "\n",
    "Жанры с самыми низкими продажами: стратегии, пазлы и приключения."
   ]
  },
  {
   "cell_type": "markdown",
   "metadata": {},
   "source": [
    "<a id=4></a>\n",
    "### Портреты пользователей"
   ]
  },
  {
   "cell_type": "markdown",
   "metadata": {},
   "source": [
    "Для составления портретов сначала сделаем 3 отдельных датафрейма по каждому региону. Условие фильтрации: продажи по каждой игре в регионе должны быть больше нуля. То есть так мы будем уверены, что игра **была выпущена** в интересующем нас регионе.\n",
    "\n",
    "После создания датафрейма для каждого регионо сделаем **круговую диаграмму с долями продаж**. На ней будет отображен топ-5 консолей с их долями, а также все остальные платформы, объединенные в одну группу. "
   ]
  },
  {
   "cell_type": "code",
   "execution_count": 36,
   "metadata": {},
   "outputs": [
    {
     "name": "stdout",
     "output_type": "stream",
     "text": [
      "981 1067 873\n"
     ]
    }
   ],
   "source": [
    "na_df = df[df['na_sales'] != 0]\n",
    "eu_df = df[df['eu_sales'] != 0]\n",
    "jp_df = df[df['jp_sales'] != 0]\n",
    "print(len(na_df), len(eu_df), len(jp_df))"
   ]
  },
  {
   "cell_type": "code",
   "execution_count": 37,
   "metadata": {},
   "outputs": [
    {
     "data": {
      "text/html": [
       "<div>\n",
       "<style scoped>\n",
       "    .dataframe tbody tr th:only-of-type {\n",
       "        vertical-align: middle;\n",
       "    }\n",
       "\n",
       "    .dataframe tbody tr th {\n",
       "        vertical-align: top;\n",
       "    }\n",
       "\n",
       "    .dataframe thead th {\n",
       "        text-align: right;\n",
       "    }\n",
       "</style>\n",
       "<table border=\"1\" class=\"dataframe\">\n",
       "  <thead>\n",
       "    <tr style=\"text-align: right;\">\n",
       "      <th></th>\n",
       "      <th>platform</th>\n",
       "      <th>total_sales</th>\n",
       "    </tr>\n",
       "  </thead>\n",
       "  <tbody>\n",
       "    <tr>\n",
       "      <th>3</th>\n",
       "      <td>PS4</td>\n",
       "      <td>281.49</td>\n",
       "    </tr>\n",
       "    <tr>\n",
       "      <th>8</th>\n",
       "      <td>XOne</td>\n",
       "      <td>140.04</td>\n",
       "    </tr>\n",
       "    <tr>\n",
       "      <th>0</th>\n",
       "      <td>3DS</td>\n",
       "      <td>67.13</td>\n",
       "    </tr>\n",
       "    <tr>\n",
       "      <th>2</th>\n",
       "      <td>PS3</td>\n",
       "      <td>61.17</td>\n",
       "    </tr>\n",
       "    <tr>\n",
       "      <th>7</th>\n",
       "      <td>X360</td>\n",
       "      <td>48.02</td>\n",
       "    </tr>\n",
       "  </tbody>\n",
       "</table>\n",
       "</div>"
      ],
      "text/plain": [
       "  platform  total_sales\n",
       "3      PS4       281.49\n",
       "8     XOne       140.04\n",
       "0      3DS        67.13\n",
       "2      PS3        61.17\n",
       "7     X360        48.02"
      ]
     },
     "metadata": {},
     "output_type": "display_data"
    },
    {
     "data": {
      "text/plain": [
       "<function matplotlib.pyplot.show(close=None, block=None)>"
      ]
     },
     "execution_count": 37,
     "metadata": {},
     "output_type": "execute_result"
    },
    {
     "data": {
      "image/png": "[encoded data removed]",
      "text/plain": [
       "<Figure size 432x288 with 1 Axes>"
      ]
     },
     "metadata": {},
     "output_type": "display_data"
    }
   ],
   "source": [
    "na_platforms = na_df.pivot_table(index='platform', values='total_sales', aggfunc='sum').reset_index()\n",
    "na_platforms = na_platforms.sort_values('total_sales', ascending=False)\n",
    "display(na_platforms.head())\n",
    "\n",
    "top_na_platforms = na_platforms.head(5)\n",
    "other_na_sales = na_platforms.iloc[5:]['total_sales'].sum()\n",
    "top_na_platforms = top_na_platforms.append({'platform': 'Прочие консоли', 'total_sales': other_na_sales}, ignore_index=True)\n",
    "\n",
    "plt.pie(top_na_platforms.sort_values('total_sales', ascending=False)['total_sales'],\n",
    "    labels=top_na_platforms['platform'].unique(),\n",
    "    autopct='%1.1f%%', startangle=140)\n",
    "plt.title('Cоотношение продаж по платформам (Северная Америка)')\n",
    "plt.axis('equal')\n",
    "plt.show"
   ]
  },
  {
   "cell_type": "code",
   "execution_count": 38,
   "metadata": {},
   "outputs": [
    {
     "data": {
      "text/html": [
       "<div>\n",
       "<style scoped>\n",
       "    .dataframe tbody tr th:only-of-type {\n",
       "        vertical-align: middle;\n",
       "    }\n",
       "\n",
       "    .dataframe tbody tr th {\n",
       "        vertical-align: top;\n",
       "    }\n",
       "\n",
       "    .dataframe thead th {\n",
       "        text-align: right;\n",
       "    }\n",
       "</style>\n",
       "<table border=\"1\" class=\"dataframe\">\n",
       "  <thead>\n",
       "    <tr style=\"text-align: right;\">\n",
       "      <th></th>\n",
       "      <th>platform</th>\n",
       "      <th>total_sales</th>\n",
       "    </tr>\n",
       "  </thead>\n",
       "  <tbody>\n",
       "    <tr>\n",
       "      <th>3</th>\n",
       "      <td>PS4</td>\n",
       "      <td>280.42</td>\n",
       "    </tr>\n",
       "    <tr>\n",
       "      <th>8</th>\n",
       "      <td>XOne</td>\n",
       "      <td>139.70</td>\n",
       "    </tr>\n",
       "    <tr>\n",
       "      <th>0</th>\n",
       "      <td>3DS</td>\n",
       "      <td>64.21</td>\n",
       "    </tr>\n",
       "    <tr>\n",
       "      <th>2</th>\n",
       "      <td>PS3</td>\n",
       "      <td>60.53</td>\n",
       "    </tr>\n",
       "    <tr>\n",
       "      <th>7</th>\n",
       "      <td>X360</td>\n",
       "      <td>47.50</td>\n",
       "    </tr>\n",
       "  </tbody>\n",
       "</table>\n",
       "</div>"
      ],
      "text/plain": [
       "  platform  total_sales\n",
       "3      PS4       280.42\n",
       "8     XOne       139.70\n",
       "0      3DS        64.21\n",
       "2      PS3        60.53\n",
       "7     X360        47.50"
      ]
     },
     "metadata": {},
     "output_type": "display_data"
    },
    {
     "data": {
      "text/plain": [
       "<function matplotlib.pyplot.show(close=None, block=None)>"
      ]
     },
     "execution_count": 38,
     "metadata": {},
     "output_type": "execute_result"
    },
    {
     "data": {
      "image/png": "[encoded data removed]",
      "text/plain": [
       "<Figure size 432x288 with 1 Axes>"
      ]
     },
     "metadata": {},
     "output_type": "display_data"
    }
   ],
   "source": [
    "eu_platforms = eu_df.pivot_table(index='platform', values='total_sales', aggfunc='sum').reset_index()\n",
    "eu_platforms = eu_platforms.sort_values('total_sales', ascending=False)\n",
    "display(eu_platforms.head())\n",
    "\n",
    "\n",
    "top_eu_platforms = eu_platforms.head(5)\n",
    "other_eu_sales = eu_platforms.iloc[5:]['total_sales'].sum()\n",
    "top_eu_platforms = top_eu_platforms.append({'platform': 'Прочие консоли', 'total_sales': other_eu_sales}, ignore_index=True)\n",
    "\n",
    "plt.pie(top_eu_platforms.sort_values('total_sales', ascending=False)['total_sales'],\n",
    "    labels=top_eu_platforms['platform'].unique(),\n",
    "    autopct='%1.1f%%', startangle=140)\n",
    "plt.title('Cоотношение продаж по платформам (Европа)')\n",
    "plt.axis('equal')\n",
    "plt.show"
   ]
  },
  {
   "cell_type": "code",
   "execution_count": 39,
   "metadata": {},
   "outputs": [
    {
     "data": {
      "text/html": [
       "<div>\n",
       "<style scoped>\n",
       "    .dataframe tbody tr th:only-of-type {\n",
       "        vertical-align: middle;\n",
       "    }\n",
       "\n",
       "    .dataframe tbody tr th {\n",
       "        vertical-align: top;\n",
       "    }\n",
       "\n",
       "    .dataframe thead th {\n",
       "        text-align: right;\n",
       "    }\n",
       "</style>\n",
       "<table border=\"1\" class=\"dataframe\">\n",
       "  <thead>\n",
       "    <tr style=\"text-align: right;\">\n",
       "      <th></th>\n",
       "      <th>platform</th>\n",
       "      <th>total_sales</th>\n",
       "    </tr>\n",
       "  </thead>\n",
       "  <tbody>\n",
       "    <tr>\n",
       "      <th>2</th>\n",
       "      <td>PS4</td>\n",
       "      <td>242.12</td>\n",
       "    </tr>\n",
       "    <tr>\n",
       "      <th>0</th>\n",
       "      <td>3DS</td>\n",
       "      <td>82.65</td>\n",
       "    </tr>\n",
       "    <tr>\n",
       "      <th>1</th>\n",
       "      <td>PS3</td>\n",
       "      <td>46.10</td>\n",
       "    </tr>\n",
       "    <tr>\n",
       "      <th>7</th>\n",
       "      <td>XOne</td>\n",
       "      <td>44.09</td>\n",
       "    </tr>\n",
       "    <tr>\n",
       "      <th>5</th>\n",
       "      <td>WiiU</td>\n",
       "      <td>36.14</td>\n",
       "    </tr>\n",
       "  </tbody>\n",
       "</table>\n",
       "</div>"
      ],
      "text/plain": [
       "  platform  total_sales\n",
       "2      PS4       242.12\n",
       "0      3DS        82.65\n",
       "1      PS3        46.10\n",
       "7     XOne        44.09\n",
       "5     WiiU        36.14"
      ]
     },
     "metadata": {},
     "output_type": "display_data"
    },
    {
     "data": {
      "text/plain": [
       "<function matplotlib.pyplot.show(close=None, block=None)>"
      ]
     },
     "execution_count": 39,
     "metadata": {},
     "output_type": "execute_result"
    },
    {
     "data": {
      "image/png": "[encoded data removed]",
      "text/plain": [
       "<Figure size 432x288 with 1 Axes>"
      ]
     },
     "metadata": {},
     "output_type": "display_data"
    }
   ],
   "source": [
    "jp_platforms = jp_df.pivot_table(index='platform', values='total_sales', aggfunc='sum').reset_index()\n",
    "jp_platforms = jp_platforms.sort_values('total_sales', ascending=False)\n",
    "display(jp_platforms.head())\n",
    "\n",
    "\n",
    "top_jp_platforms = jp_platforms.head(5)\n",
    "other_jp_sales = jp_platforms.iloc[5:]['total_sales'].sum()\n",
    "top_jp_platforms = top_jp_platforms.append({'platform': 'Прочие консоли', 'total_sales': other_jp_sales}, ignore_index=True)\n",
    "\n",
    "plt.pie(top_jp_platforms.sort_values('total_sales', ascending=False)['total_sales'],\n",
    "    labels=top_jp_platforms['platform'].unique(),\n",
    "    autopct='%1.1f%%', startangle=140)\n",
    "plt.title('Cоотношение продаж по платформам (Япония)')\n",
    "plt.axis('equal')\n",
    "plt.show"
   ]
  },
  {
   "cell_type": "markdown",
   "metadata": {},
   "source": [
    "На круговых диаграммах выше видно, что распределения продаж по Европе И Северной Америке похожи, только есть небольшие раличия в долях. А в по Японии диаграмма выгядит по-другому. \n",
    "- Более половины от общих продаж занимает PS4 (50,8%) - в Америке это 41,5, а в Европе 41,3%.\n",
    "- Также 3DS занимает большую часть рынка. чем в других регионах (17,3%). В Америке это 11,8%, в Европе - 12,7%.\n",
    "- XOne в Японии на 4 месте по продажам (9,2%), во всём остальном мире - на втором. В Америке и Европе по 20,6%.\n",
    "- X360 вообще не вошел в топ-5 в Японии, его место занимает WiiU (7,6%)"
   ]
  },
  {
   "cell_type": "markdown",
   "metadata": {},
   "source": [
    "Далее для каждого региона найдём топ-5 самых популярных жанров."
   ]
  },
  {
   "cell_type": "code",
   "execution_count": 40,
   "metadata": {},
   "outputs": [
    {
     "data": {
      "text/plain": [
       "'5 самых популярных игровых жанров в Северной америке'"
      ]
     },
     "metadata": {},
     "output_type": "display_data"
    },
    {
     "data": {
      "text/html": [
       "<div>\n",
       "<style scoped>\n",
       "    .dataframe tbody tr th:only-of-type {\n",
       "        vertical-align: middle;\n",
       "    }\n",
       "\n",
       "    .dataframe tbody tr th {\n",
       "        vertical-align: top;\n",
       "    }\n",
       "\n",
       "    .dataframe thead th {\n",
       "        text-align: right;\n",
       "    }\n",
       "</style>\n",
       "<table border=\"1\" class=\"dataframe\">\n",
       "  <thead>\n",
       "    <tr style=\"text-align: right;\">\n",
       "      <th></th>\n",
       "      <th>genre</th>\n",
       "      <th>total_sales</th>\n",
       "    </tr>\n",
       "  </thead>\n",
       "  <tbody>\n",
       "    <tr>\n",
       "      <th>0</th>\n",
       "      <td>Action</td>\n",
       "      <td>178.57</td>\n",
       "    </tr>\n",
       "    <tr>\n",
       "      <th>8</th>\n",
       "      <td>Shooter</td>\n",
       "      <td>170.32</td>\n",
       "    </tr>\n",
       "    <tr>\n",
       "      <th>10</th>\n",
       "      <td>Sports</td>\n",
       "      <td>106.18</td>\n",
       "    </tr>\n",
       "    <tr>\n",
       "      <th>7</th>\n",
       "      <td>Role-Playing</td>\n",
       "      <td>89.07</td>\n",
       "    </tr>\n",
       "    <tr>\n",
       "      <th>3</th>\n",
       "      <td>Misc</td>\n",
       "      <td>34.23</td>\n",
       "    </tr>\n",
       "  </tbody>\n",
       "</table>\n",
       "</div>"
      ],
      "text/plain": [
       "           genre  total_sales\n",
       "0         Action       178.57\n",
       "8        Shooter       170.32\n",
       "10        Sports       106.18\n",
       "7   Role-Playing        89.07\n",
       "3           Misc        34.23"
      ]
     },
     "metadata": {},
     "output_type": "display_data"
    },
    {
     "data": {
      "text/plain": [
       "'5 самых популярных игровых жанров в Европе'"
      ]
     },
     "metadata": {},
     "output_type": "display_data"
    },
    {
     "data": {
      "text/html": [
       "<div>\n",
       "<style scoped>\n",
       "    .dataframe tbody tr th:only-of-type {\n",
       "        vertical-align: middle;\n",
       "    }\n",
       "\n",
       "    .dataframe tbody tr th {\n",
       "        vertical-align: top;\n",
       "    }\n",
       "\n",
       "    .dataframe thead th {\n",
       "        text-align: right;\n",
       "    }\n",
       "</style>\n",
       "<table border=\"1\" class=\"dataframe\">\n",
       "  <thead>\n",
       "    <tr style=\"text-align: right;\">\n",
       "      <th></th>\n",
       "      <th>genre</th>\n",
       "      <th>total_sales</th>\n",
       "    </tr>\n",
       "  </thead>\n",
       "  <tbody>\n",
       "    <tr>\n",
       "      <th>0</th>\n",
       "      <td>Action</td>\n",
       "      <td>178.92</td>\n",
       "    </tr>\n",
       "    <tr>\n",
       "      <th>8</th>\n",
       "      <td>Shooter</td>\n",
       "      <td>170.58</td>\n",
       "    </tr>\n",
       "    <tr>\n",
       "      <th>10</th>\n",
       "      <td>Sports</td>\n",
       "      <td>106.22</td>\n",
       "    </tr>\n",
       "    <tr>\n",
       "      <th>7</th>\n",
       "      <td>Role-Playing</td>\n",
       "      <td>86.09</td>\n",
       "    </tr>\n",
       "    <tr>\n",
       "      <th>3</th>\n",
       "      <td>Misc</td>\n",
       "      <td>34.93</td>\n",
       "    </tr>\n",
       "  </tbody>\n",
       "</table>\n",
       "</div>"
      ],
      "text/plain": [
       "           genre  total_sales\n",
       "0         Action       178.92\n",
       "8        Shooter       170.58\n",
       "10        Sports       106.22\n",
       "7   Role-Playing        86.09\n",
       "3           Misc        34.93"
      ]
     },
     "metadata": {},
     "output_type": "display_data"
    },
    {
     "data": {
      "text/plain": [
       "'5 самых популярных игровых жанров в Японии'"
      ]
     },
     "metadata": {},
     "output_type": "display_data"
    },
    {
     "data": {
      "text/html": [
       "<div>\n",
       "<style scoped>\n",
       "    .dataframe tbody tr th:only-of-type {\n",
       "        vertical-align: middle;\n",
       "    }\n",
       "\n",
       "    .dataframe tbody tr th {\n",
       "        vertical-align: top;\n",
       "    }\n",
       "\n",
       "    .dataframe thead th {\n",
       "        text-align: right;\n",
       "    }\n",
       "</style>\n",
       "<table border=\"1\" class=\"dataframe\">\n",
       "  <thead>\n",
       "    <tr style=\"text-align: right;\">\n",
       "      <th></th>\n",
       "      <th>genre</th>\n",
       "      <th>total_sales</th>\n",
       "    </tr>\n",
       "  </thead>\n",
       "  <tbody>\n",
       "    <tr>\n",
       "      <th>0</th>\n",
       "      <td>Action</td>\n",
       "      <td>127.77</td>\n",
       "    </tr>\n",
       "    <tr>\n",
       "      <th>8</th>\n",
       "      <td>Shooter</td>\n",
       "      <td>124.94</td>\n",
       "    </tr>\n",
       "    <tr>\n",
       "      <th>7</th>\n",
       "      <td>Role-Playing</td>\n",
       "      <td>84.30</td>\n",
       "    </tr>\n",
       "    <tr>\n",
       "      <th>10</th>\n",
       "      <td>Sports</td>\n",
       "      <td>49.42</td>\n",
       "    </tr>\n",
       "    <tr>\n",
       "      <th>2</th>\n",
       "      <td>Fighting</td>\n",
       "      <td>22.16</td>\n",
       "    </tr>\n",
       "  </tbody>\n",
       "</table>\n",
       "</div>"
      ],
      "text/plain": [
       "           genre  total_sales\n",
       "0         Action       127.77\n",
       "8        Shooter       124.94\n",
       "7   Role-Playing        84.30\n",
       "10        Sports        49.42\n",
       "2       Fighting        22.16"
      ]
     },
     "metadata": {},
     "output_type": "display_data"
    }
   ],
   "source": [
    "#Северная Америка\n",
    "na_genres = na_df.pivot_table(index='genre', values='total_sales', aggfunc='sum').reset_index()\n",
    "na_genres = na_genres.sort_values('total_sales', ascending=False)\n",
    "\n",
    "#Европа\n",
    "eu_genres = eu_df.pivot_table(index='genre', values='total_sales', aggfunc='sum').reset_index()\n",
    "eu_genres = eu_genres.sort_values('total_sales', ascending=False)\n",
    "\n",
    "#Япония\n",
    "jp_genres = jp_df.pivot_table(index='genre', values='total_sales', aggfunc='sum').reset_index()\n",
    "jp_genres = jp_genres.sort_values('total_sales', ascending=False)\n",
    "\n",
    "\n",
    "display('5 самых популярных игровых жанров в Северной америке', na_genres.head())\n",
    "display('5 самых популярных игровых жанров в Европе', eu_genres.head())\n",
    "display('5 самых популярных игровых жанров в Японии', jp_genres.head())"
   ]
  },
  {
   "cell_type": "markdown",
   "metadata": {},
   "source": [
    "- Во всех трёх регионах на первом месте находятся видеоигры жанра экшен;\n",
    "- Также по всем регионам в топе присутствуют шутеры, ролевые игры и спортивные игры;\n",
    "- В Северной Америке и Европе 5 место занимает жанр «Misc», (miscellaneous - смешанный). То есть в эту группу входят самые разнообразные игры, не вошедшие в остальные жанры;\n",
    "- В японском топе эта категория отсутствует, её место занимают файтинги."
   ]
  },
  {
   "cell_type": "markdown",
   "metadata": {},
   "source": [
    "Далее выясним, влияет ли рейтинг ESRB на продажи в отдельном регионе. Построим столбчатую диаграмму на примере Японии."
   ]
  },
  {
   "cell_type": "code",
   "execution_count": 41,
   "metadata": {},
   "outputs": [
    {
     "data": {
      "text/plain": [
       "339"
      ]
     },
     "metadata": {},
     "output_type": "display_data"
    },
    {
     "data": {
      "text/plain": [
       "rating\n",
       "E        54\n",
       "E10+     42\n",
       "M       104\n",
       "T       139\n",
       "Name: name, dtype: int64"
      ]
     },
     "metadata": {},
     "output_type": "display_data"
    },
    {
     "data": {
      "image/png": "[encoded data removed]",
      "text/plain": [
       "<Figure size 864x576 with 1 Axes>"
      ]
     },
     "metadata": {
      "needs_background": "light"
     },
     "output_type": "display_data"
    }
   ],
   "source": [
    "plt.figure(figsize=(12, 8))\n",
    "jp_grouped = jp_df.groupby('rating')['total_sales'].sum().reset_index()\n",
    "display(len(jp_df[jp_df['rating'].isna() == False]), jp_df.groupby('rating')['name'].count())\n",
    "plt.bar(jp_grouped['rating'], jp_grouped['total_sales'], color=['lightgreen', 'pink', 'lightblue', 'brown'])\n",
    "plt.title('Влияние рейтинга ESRB на продажи, Япония, 2014-2016 гг.')\n",
    "plt.xlabel('Рейтинг ESRB')\n",
    "plt.ylabel('Сумма продаж')\n",
    "plt.grid()\n",
    "plt.tight_layout()\n",
    "plt.show()\n",
    "\n",
    "\n"
   ]
  },
  {
   "cell_type": "markdown",
   "metadata": {},
   "source": [
    "- Лучше всего в Японии продаются игры с рейтингом M (mature) - то есть игры для взрослых.\n",
    "\n",
    "- На втором месте игры категории E (everyone) - то есть игры для всех возрастов.\n",
    "\n",
    "- Третье место - рейтинг T (Teen) - игры для подростков.\n",
    "\n",
    "- И меньше всего продаж у игр с рейтингом E10+ (Everyone 10 and older) - то есть для всех, кто старше 10 лет. Вероятно это из-за того, что категория в принципе маленькая. Из 339 строк в неё входит только 42. \n",
    "\n",
    "- Мы не можем быть уверены в этих выводах на 100%. Как видно из кода ниже, рейтинг был выставлен менее чем половине из всех игр, выпущенных в Японии (либо произошла техническая ошибка при обработке и передаче данных). Поэтому то, что игры для взрослых продаются лучше, может быть неправдой."
   ]
  },
  {
   "cell_type": "code",
   "execution_count": 42,
   "metadata": {},
   "outputs": [
    {
     "data": {
      "text/plain": [
       "873"
      ]
     },
     "metadata": {},
     "output_type": "display_data"
    },
    {
     "name": "stderr",
     "output_type": "stream",
     "text": [
      "/tmp/ipykernel_48/352800040.py:2: UserWarning: Boolean Series key will be reindexed to match DataFrame index.\n",
      "  len(jp_df[df['rating'].isna() == True])\n"
     ]
    },
    {
     "data": {
      "text/plain": [
       "534"
      ]
     },
     "execution_count": 42,
     "metadata": {},
     "output_type": "execute_result"
    }
   ],
   "source": [
    "display(len(jp_df))\n",
    "len(jp_df[df['rating'].isna() == True])"
   ]
  },
  {
   "cell_type": "markdown",
   "metadata": {},
   "source": [
    "#### Вывод по портретам пользователей\n",
    "\n",
    "- Для общих продаж каждого из трех регионов (Северная Америка, Европа, Япония) построена круговая диаграмма. На ней отображены доли продаж по 5 самым популярным платформам в регионе, а также по остальным платформам, объединённым в одну группу.\n",
    "\n",
    "\n",
    "- Топ-5 платформ по Америке и Европе идентичен: Playstation 4, XBOX One, Nintendo 3DS, Playstation 3, Xbox 360. Однако в Японии он другой: Playstation 4, Nintendo 3DS, Playstation 3, XBOX One, Nintendo WiiU.\n",
    "\n",
    "\n",
    "- Во всех трёх регионах на первом месте находятся видеоигры жанра экшен;\n",
    "- Также по всем регионам в топе присутствуют шутеры, ролевые игры и спортивные игры;\n",
    "- В Северной Америке и Европе 5 место занимает жанр «Misc», (miscellaneous - смешанный). То есть в эту группу входят самые разнообразные игры, не вошедшие в остальные жанры;\n",
    "- В японском топе эта категория отсутствует, её место занимают файтинги.\n",
    "\n",
    "\n",
    "- Произведен анализ влияния рейтинг ESRB на продажи на примере Японии. Самые высокие продажи у рейтинга M (для взрослых возврастов), на втором месте - E (для всех возврастов), на третьем месте - T (для подростков), но последнем месте - E10 (для всех старше 10 лет.)"
   ]
  },
  {
   "cell_type": "markdown",
   "metadata": {},
   "source": [
    "<a id=5></a>\n",
    "### Проверка гипотез"
   ]
  },
  {
   "cell_type": "markdown",
   "metadata": {},
   "source": [
    "**Средние пользовательские рейтинги платформ Xbox One и PC одинаковые**\n",
    "\n",
    "Эту гипотезу можно проверить с помощью двухстороннего т-теста для двух выборок: \n",
    "- первая выборка: пользовательские рейтинги для игр на Xbox One\n",
    "- вторая выборка: пользовательские рейтинги для игр на ПК\n",
    "\n",
    "\n",
    "Нулевая гипотеза: средние пользовательские рейтинги платформ Xbox One и PC одинаковые;\n",
    "\n",
    "Альтернативная гипотеза: средние пользовательские рейтинги платформ Xbox One и PC различны.\n",
    "\n",
    "\n",
    "Во время проверки для этой и следующей гипотез зададим параметру альфа значение 0.01 (для большей точности)"
   ]
  },
  {
   "cell_type": "code",
   "execution_count": 43,
   "metadata": {},
   "outputs": [
    {
     "name": "stdout",
     "output_type": "stream",
     "text": [
      "p-значение: 0.10450507919348415\n",
      "Не отвергаем нулевую гипотезу: нет достаточных доказательств того, что средние пользовательские рейтинги платформ Xbox One и PC различны.\n"
     ]
    }
   ],
   "source": [
    "alpha = .01\n",
    "\n",
    "xone_u_score = df.loc[df['platform'] == 'XOne', 'user_score'].dropna().reset_index(drop=True)\n",
    "pc_u_score = df.loc[df['platform'] == 'PC', 'user_score'].dropna().reset_index(drop=True)\n",
    "\n",
    "results = st.ttest_ind(xone_u_score, pc_u_score)\n",
    "print('p-значение:', results.pvalue)\n",
    "if results.pvalue < alpha:\n",
    "    print('Отвергаем нулевую гипотезу: средние пользовательские рейтинги платформ Xbox One и PC различны.')\n",
    "else:\n",
    "    print('Не отвергаем нулевую гипотезу: нет достаточных доказательств того, что средние пользовательские рейтинги платформ Xbox One и PC различны.')"
   ]
  },
  {
   "cell_type": "markdown",
   "metadata": {},
   "source": [
    "**Средние пользовательские рейтинги жанров Action и Sports разные.**\n",
    "\n",
    "\n",
    "Эту гипотезу также можно проверить с помощью двухстороннего т-теста для двух выборок: \n",
    "- первая выборка: пользовательские рейтинги для игр жанра Action\n",
    "- вторая выборка: пользовательские рейтинги для игр жанра Sports\n",
    "\n",
    "\n",
    "Нулевая гипотеза: средние пользовательские рейтинги жанров Action и Sports одинаковые;\n",
    "\n",
    "Альтернативная гипотеза: средние пользовательские рейтинги жанров Action и Sports различны."
   ]
  },
  {
   "cell_type": "code",
   "execution_count": 44,
   "metadata": {},
   "outputs": [
    {
     "name": "stdout",
     "output_type": "stream",
     "text": [
      "p-значение: 2.8711147985105864e-19\n",
      "Отвергаем нулевую гипотезу: средние пользовательские рейтинги жанров Action и Sports различны.\n"
     ]
    }
   ],
   "source": [
    "action_u_score = df.loc[df['genre'] == 'Action', 'user_score'].dropna().reset_index(drop=True)\n",
    "sports_u_score = df.loc[df['genre'] == 'Sports', 'user_score'].dropna().reset_index(drop=True)\n",
    "\n",
    "results = st.ttest_ind(action_u_score, sports_u_score)\n",
    "print('p-значение:', results.pvalue)\n",
    "if results.pvalue < alpha:\n",
    "    print('Отвергаем нулевую гипотезу: средние пользовательские рейтинги жанров Action и Sports различны.')\n",
    "else:\n",
    "    print('Не отвергаем нулевую гипотезу: нет достаточных доказательств того, что средние пользовательские рейтинги жанров Action и Sports различны.')"
   ]
  },
  {
   "cell_type": "markdown",
   "metadata": {},
   "source": [
    "**Вывод по проверкам гипотез**\n",
    "\n",
    "- В ходе исследования не удалось опровергнуть гипотезу о том, что средние пользовательские рейтинги платформ Xbox One и PC одинаковые;\n",
    "\n",
    "- В ходе исследования не удалось опровергнуть гипотезу о том, что средние пользовательские рейтинги жанров Action  и Sports разные."
   ]
  },
  {
   "cell_type": "markdown",
   "metadata": {},
   "source": [
    "<a id=6></a>\n",
    "### Общий вывод"
   ]
  },
  {
   "cell_type": "markdown",
   "metadata": {},
   "source": [
    "#### Предобработка данных с описанием найденных проблем и путей их решения"
   ]
  },
  {
   "cell_type": "markdown",
   "metadata": {},
   "source": [
    "- Названия всех столбцов в таблице по правилам хорошего кода приведены к нижнему регистру.\n",
    "- Столбы year_of_release и critic_score приведены к целочисленному типу, так как содержат лишь целые числа.\n",
    "- В столбце user_score значения «tbd» заменены на пропуски, так как равносильны им. Далее столбец приведён к типу данных float.\n",
    "- Найдены пропуски в столбцах name, year_of_release, genre, critic_score, user_score, rating.\n",
    "- Удалены пропуски по столбцам name и genre.\n",
    "- По всем остальным столбцам пропуски остались необработанными.\n",
    "- Создан столбец с суммарными продажами по каждой игре во всех регионах 'total_sales'.\n",
    "- Полные дубликаты в данных отсутствуют.\n",
    "- Найдены неявные дубликаты, содержащие информацию об одной и той же игре на одной и той же платформе. Первые вхождения сохранены, остальные вхождения - удалены.\n"
   ]
  },
  {
   "cell_type": "markdown",
   "metadata": {},
   "source": [
    "#### Исследовательский анализ данных"
   ]
  },
  {
   "cell_type": "markdown",
   "metadata": {},
   "source": [
    "Определен топ 5 самых кассовых платформ за всё время согласно нашему датасету: PS2, XBOX360, PS3, 3DS, Wii;\n",
    "\n",
    "\n",
    "По датасету определен актуальный период с 2014 по 2016 гг.\n",
    "\n",
    "\n",
    "- За период 2014-16 гг. продажи 7 поколения консолей сильно упали. Можем это связать с появлением новых, более соверменных платформ.\n",
    "\n",
    "- У 8 поколения консолей наоборот, высокие продажи и потенциал, несмотря на сильное падение в 2016. (Оно может быть связано с тем, что данные за 2016 год неполные).\n",
    "\n",
    "- Далее о портативных консолях. По ним, как и по консолям 7 поколения, мы видим тенденцию к снижению продаж. Она может быть связана с развитием видоигровой индустрии на мобильных устройствах (всё больше игр выходит на телефонах, и портативки теряют свою актуальность). Однако на момент 2016 всё ещё выпускают игры на пс вита и нинтендо 3дс. \n",
    "\n",
    "\n",
    "потенциально прибыльные платформы на момент 2016: **PS4, XOne, 3DS**\n",
    "\n",
    "\n",
    "- Медианы по всем платформам за актуальный период не превышают 0,5 млн проданных копий. \n",
    "- Самые высокие медианные продажи за актуальный период на XOne: 0.205 млн копий.\n",
    "- Самые низкие - на X360 и Wii, по 0,180 млн копий.\n",
    "- Медианы 3DS и PS3 меньше, чем на остальных платформах. Можем предположить, что игры на них продаются хуже.\n",
    "\n",
    "\n",
    "Между отзывами критиков и продажами игр корреляция умеренно-положительная. Это может говорить о том, что **высокие отзывы критиков положительно влияют на продажи игр**. \n",
    "\n",
    "Между отзывами пользователей и продажами игр корреляция в большинстве случаев отрицательная или близка к нулю. Это может указывать на **отсутствие или даже обратную связь между оценками пользователей и продажами.**\n",
    "\n",
    "\n",
    "Самые прибыльные жанры - шутеры, спорт и платформеры. По ним самые высокие медианы продаж. Кроме того, первый квартиль по шутерам больше, чем медианы по многим другим жанрам.\n",
    "\n",
    "Жанры с самыми низкими продажами: стратегии, пазлы и приключения."
   ]
  },
  {
   "cell_type": "markdown",
   "metadata": {},
   "source": [
    "##### Портреты пользователей в различных регионах"
   ]
  },
  {
   "cell_type": "markdown",
   "metadata": {},
   "source": [
    "- Для общих продаж каждого из трех регионов (Северная Америка, Европа, Япония) построена круговая диаграмма. На ней отображены доли продаж по 5 самым популярным платформам в регионе, а также по остальным платформам, объединённым в одну группу.\n",
    "\n",
    "\n",
    "- Топ-5 платформ по Америке и Европе идентичен: Playstation 4, XBOX One, Nintendo 3DS, Playstation 3, Xbox 360. Однако в Японии он другой: Playstation 4, Nintendo 3DS, Playstation 3, XBOX One, Nintendo WiiU.\n",
    "\n",
    "\n",
    "- Во всех трёх регионах на первом месте находятся видеоигры жанра экшен;\n",
    "- Также по всем регионам в топе присутствуют шутеры, ролевые игры и спортивные игры;\n",
    "- В Северной Америке и Европе 5 место занимает жанр «Misc», (miscellaneous - смешанный). То есть в эту группу входят самые разнообразные игры, не вошедшие в остальные жанры;\n",
    "- В японском топе эта категория отсутствует, её место занимают файтинги.\n",
    "\n",
    "\n",
    "- Произведен анализ влияния рейтинг ESRB на продажи на примере Японии. Самые высокие продажи у рейтинга M (для взрослых возврастов), на втором месте - E (для всех возврастов), на третьем месте - T (для подростков), но последнем месте - E10 (для всех старше 10 лет.)"
   ]
  },
  {
   "cell_type": "markdown",
   "metadata": {},
   "source": [
    "#### Проверка гипотез"
   ]
  },
  {
   "cell_type": "markdown",
   "metadata": {},
   "source": [
    "- В ходе исследования не удалось опровергнуть гипотезу о том, что средние пользовательские рейтинги платформ Xbox One и PC одинаковые;\n",
    "\n",
    "- В ходе исследования не удалось опровергнуть гипотезу о том, что средние пользовательские рейтинги жанров Action  и Sports разные."
   ]
  },
  {
   "cell_type": "markdown",
   "metadata": {},
   "source": [
    "#### Ответы на вопросы и цели исследования"
   ]
  },
  {
   "cell_type": "markdown",
   "metadata": {},
   "source": [
    "В ходе исследования выявлены следующие закономерности, влияющие на успешность игр:\n",
    "- На продажи игр положительно влияют отзывы критиков;\n",
    "- Отзывы пользователей об играх слабо влияют на решение покупателя;\n",
    "- Самые прибыльные жанры - шутеры, спорт и платформеры;\n",
    "- Потенциально прибыльные платформы на момент 2016 года: **PS4, XOne, 3DS**.\n"
   ]
  },
  {
   "cell_type": "markdown",
   "metadata": {},
   "source": [
    "#### Рекомендации для заказчика"
   ]
  },
  {
   "cell_type": "markdown",
   "metadata": {},
   "source": [
    "Для повышения продаж рекомендую основывать свой ассортимент преимущественно на видеоиграх, которые удовлетворяют вышеописанным закономерностям. То есть на видеоиграх прибыльных жанров на актуальных платформах с высокими отзывами критиков.\n",
    "\n",
    "Если компания хочет нацелиться на какой-то конкретный, региональный рынок — рекомендую обращать внимание на его особенности: в разных регионах популярны разные жанры и платформы. "
   ]
  }
 ],
 "metadata": {
  "ExecuteTimeLog": [
   {
    "duration": 1350,
    "start_time": "2024-12-11T16:35:25.726Z"
   },
   {
    "duration": 199,
    "start_time": "2024-12-11T16:37:21.135Z"
   },
   {
    "duration": 99,
    "start_time": "2024-12-11T16:46:15.226Z"
   },
   {
    "duration": 92,
    "start_time": "2024-12-11T16:47:02.737Z"
   },
   {
    "duration": 22,
    "start_time": "2024-12-11T16:47:06.720Z"
   },
   {
    "duration": 23,
    "start_time": "2024-12-11T16:50:26.910Z"
   },
   {
    "duration": 3,
    "start_time": "2024-12-11T16:50:30.307Z"
   },
   {
    "duration": 133,
    "start_time": "2024-12-11T16:50:30.312Z"
   },
   {
    "duration": 21,
    "start_time": "2024-12-11T16:50:30.447Z"
   },
   {
    "duration": 5,
    "start_time": "2024-12-11T16:51:04.316Z"
   },
   {
    "duration": 14,
    "start_time": "2024-12-11T16:58:10.199Z"
   },
   {
    "duration": 5,
    "start_time": "2024-12-11T16:58:26.823Z"
   },
   {
    "duration": 10,
    "start_time": "2024-12-11T17:00:29.149Z"
   },
   {
    "duration": 10,
    "start_time": "2024-12-11T17:00:47.837Z"
   },
   {
    "duration": 8,
    "start_time": "2024-12-11T17:00:58.717Z"
   },
   {
    "duration": 13,
    "start_time": "2024-12-11T17:01:23.644Z"
   },
   {
    "duration": 6,
    "start_time": "2024-12-11T17:01:29.341Z"
   },
   {
    "duration": 8,
    "start_time": "2024-12-11T17:04:21.843Z"
   },
   {
    "duration": 3,
    "start_time": "2024-12-11T17:04:35.565Z"
   },
   {
    "duration": 95,
    "start_time": "2024-12-11T17:04:35.570Z"
   },
   {
    "duration": 21,
    "start_time": "2024-12-11T17:04:35.666Z"
   },
   {
    "duration": 25,
    "start_time": "2024-12-11T17:04:35.688Z"
   },
   {
    "duration": 6,
    "start_time": "2024-12-11T17:04:39.641Z"
   },
   {
    "duration": 6,
    "start_time": "2024-12-11T17:05:20.867Z"
   },
   {
    "duration": 8,
    "start_time": "2024-12-11T17:15:18.923Z"
   },
   {
    "duration": 81,
    "start_time": "2024-12-11T17:15:25.659Z"
   },
   {
    "duration": 14,
    "start_time": "2024-12-11T17:15:29.483Z"
   },
   {
    "duration": 8,
    "start_time": "2024-12-11T17:16:31.884Z"
   },
   {
    "duration": 10,
    "start_time": "2024-12-11T17:16:39.841Z"
   },
   {
    "duration": 33,
    "start_time": "2024-12-11T17:16:48.337Z"
   },
   {
    "duration": 9,
    "start_time": "2024-12-11T17:17:11.323Z"
   },
   {
    "duration": 10,
    "start_time": "2024-12-11T17:17:46.913Z"
   },
   {
    "duration": 3,
    "start_time": "2024-12-11T17:18:13.272Z"
   },
   {
    "duration": 96,
    "start_time": "2024-12-11T17:18:13.277Z"
   },
   {
    "duration": 20,
    "start_time": "2024-12-11T17:18:13.375Z"
   },
   {
    "duration": 6,
    "start_time": "2024-12-11T17:18:13.396Z"
   },
   {
    "duration": 24,
    "start_time": "2024-12-11T17:18:13.404Z"
   },
   {
    "duration": 27,
    "start_time": "2024-12-11T17:18:13.429Z"
   },
   {
    "duration": 14,
    "start_time": "2024-12-11T17:18:13.458Z"
   },
   {
    "duration": 2,
    "start_time": "2024-12-11T17:18:27.243Z"
   },
   {
    "duration": 86,
    "start_time": "2024-12-11T17:18:27.247Z"
   },
   {
    "duration": 21,
    "start_time": "2024-12-11T17:18:27.335Z"
   },
   {
    "duration": 16,
    "start_time": "2024-12-11T17:18:27.357Z"
   },
   {
    "duration": 5,
    "start_time": "2024-12-11T17:18:27.375Z"
   },
   {
    "duration": 10,
    "start_time": "2024-12-11T17:18:27.381Z"
   },
   {
    "duration": 7,
    "start_time": "2024-12-11T17:18:27.392Z"
   },
   {
    "duration": 10,
    "start_time": "2024-12-11T17:19:15.392Z"
   },
   {
    "duration": 10,
    "start_time": "2024-12-11T17:24:27.197Z"
   },
   {
    "duration": 15,
    "start_time": "2024-12-11T17:25:13.403Z"
   },
   {
    "duration": 22,
    "start_time": "2024-12-11T17:30:54.839Z"
   },
   {
    "duration": 20,
    "start_time": "2024-12-11T17:50:30.921Z"
   },
   {
    "duration": 24,
    "start_time": "2024-12-11T17:51:55.040Z"
   },
   {
    "duration": 1275,
    "start_time": "2024-12-12T14:03:32.412Z"
   },
   {
    "duration": 205,
    "start_time": "2024-12-12T14:03:33.690Z"
   },
   {
    "duration": 21,
    "start_time": "2024-12-12T14:03:33.896Z"
   },
   {
    "duration": 12,
    "start_time": "2024-12-12T14:03:33.918Z"
   },
   {
    "duration": 32,
    "start_time": "2024-12-12T14:03:33.932Z"
   },
   {
    "duration": 36,
    "start_time": "2024-12-12T14:03:33.965Z"
   },
   {
    "duration": 31,
    "start_time": "2024-12-12T14:03:34.002Z"
   },
   {
    "duration": 9,
    "start_time": "2024-12-12T14:03:34.035Z"
   },
   {
    "duration": 75,
    "start_time": "2024-12-12T14:03:34.046Z"
   },
   {
    "duration": 26,
    "start_time": "2024-12-12T14:03:34.122Z"
   },
   {
    "duration": 16,
    "start_time": "2024-12-12T14:03:47.616Z"
   },
   {
    "duration": 17,
    "start_time": "2024-12-12T14:03:51.454Z"
   },
   {
    "duration": 15,
    "start_time": "2024-12-12T14:03:58.131Z"
   },
   {
    "duration": 93,
    "start_time": "2024-12-12T14:04:08.286Z"
   },
   {
    "duration": 6,
    "start_time": "2024-12-12T14:04:17.675Z"
   },
   {
    "duration": 27,
    "start_time": "2024-12-12T14:05:00.714Z"
   },
   {
    "duration": 24,
    "start_time": "2024-12-12T14:05:28.273Z"
   },
   {
    "duration": 38,
    "start_time": "2024-12-12T14:05:40.025Z"
   },
   {
    "duration": 14,
    "start_time": "2024-12-12T14:06:06.394Z"
   },
   {
    "duration": 19,
    "start_time": "2024-12-12T14:06:09.887Z"
   },
   {
    "duration": 16,
    "start_time": "2024-12-12T14:06:14.864Z"
   },
   {
    "duration": 17,
    "start_time": "2024-12-12T14:06:34.400Z"
   },
   {
    "duration": 2,
    "start_time": "2024-12-12T14:06:37.038Z"
   },
   {
    "duration": 117,
    "start_time": "2024-12-12T14:06:37.042Z"
   },
   {
    "duration": 20,
    "start_time": "2024-12-12T14:06:37.160Z"
   },
   {
    "duration": 25,
    "start_time": "2024-12-12T14:06:37.182Z"
   },
   {
    "duration": 14,
    "start_time": "2024-12-12T14:06:37.209Z"
   },
   {
    "duration": 21,
    "start_time": "2024-12-12T14:06:37.225Z"
   },
   {
    "duration": 30,
    "start_time": "2024-12-12T14:06:37.248Z"
   },
   {
    "duration": 31,
    "start_time": "2024-12-12T14:06:37.280Z"
   },
   {
    "duration": 48,
    "start_time": "2024-12-12T14:06:37.313Z"
   },
   {
    "duration": 28,
    "start_time": "2024-12-12T14:06:37.362Z"
   },
   {
    "duration": 31,
    "start_time": "2024-12-12T14:06:37.392Z"
   },
   {
    "duration": 117,
    "start_time": "2024-12-12T14:19:19.490Z"
   },
   {
    "duration": 100,
    "start_time": "2024-12-12T14:19:59.671Z"
   },
   {
    "duration": 6,
    "start_time": "2024-12-12T14:20:04.087Z"
   },
   {
    "duration": 191,
    "start_time": "2024-12-12T14:23:49.026Z"
   },
   {
    "duration": 200,
    "start_time": "2024-12-12T14:24:24.012Z"
   },
   {
    "duration": 11,
    "start_time": "2024-12-12T14:35:55.369Z"
   },
   {
    "duration": 9,
    "start_time": "2024-12-12T14:36:18.603Z"
   },
   {
    "duration": 8,
    "start_time": "2024-12-12T14:36:28.895Z"
   },
   {
    "duration": 5,
    "start_time": "2024-12-12T14:36:58.795Z"
   },
   {
    "duration": 16,
    "start_time": "2024-12-12T14:38:54.841Z"
   },
   {
    "duration": 16,
    "start_time": "2024-12-12T14:40:05.475Z"
   },
   {
    "duration": 15,
    "start_time": "2024-12-12T14:40:19.869Z"
   },
   {
    "duration": 16,
    "start_time": "2024-12-12T14:40:37.945Z"
   },
   {
    "duration": 16,
    "start_time": "2024-12-12T14:40:51.534Z"
   },
   {
    "duration": 16,
    "start_time": "2024-12-12T14:40:56.114Z"
   },
   {
    "duration": 15,
    "start_time": "2024-12-12T14:49:30.275Z"
   },
   {
    "duration": 17,
    "start_time": "2024-12-12T15:05:50.975Z"
   },
   {
    "duration": 12,
    "start_time": "2024-12-12T15:09:19.003Z"
   },
   {
    "duration": 17,
    "start_time": "2024-12-12T15:09:23.219Z"
   },
   {
    "duration": 21,
    "start_time": "2024-12-12T15:10:52.257Z"
   },
   {
    "duration": 15,
    "start_time": "2024-12-12T15:36:49.349Z"
   },
   {
    "duration": 20,
    "start_time": "2024-12-12T15:36:55.762Z"
   },
   {
    "duration": 14,
    "start_time": "2024-12-12T15:37:25.768Z"
   },
   {
    "duration": 22,
    "start_time": "2024-12-12T15:37:29.727Z"
   },
   {
    "duration": 25,
    "start_time": "2024-12-12T15:39:42.349Z"
   },
   {
    "duration": 19,
    "start_time": "2024-12-12T15:40:08.486Z"
   },
   {
    "duration": 20,
    "start_time": "2024-12-12T15:42:02.192Z"
   },
   {
    "duration": 3,
    "start_time": "2024-12-12T15:46:59.854Z"
   },
   {
    "duration": 90,
    "start_time": "2024-12-12T15:46:59.860Z"
   },
   {
    "duration": 26,
    "start_time": "2024-12-12T15:46:59.952Z"
   },
   {
    "duration": 31,
    "start_time": "2024-12-12T15:46:59.984Z"
   },
   {
    "duration": 46,
    "start_time": "2024-12-12T15:47:00.017Z"
   },
   {
    "duration": 53,
    "start_time": "2024-12-12T15:47:00.065Z"
   },
   {
    "duration": 68,
    "start_time": "2024-12-12T15:47:00.119Z"
   },
   {
    "duration": 46,
    "start_time": "2024-12-12T15:47:00.190Z"
   },
   {
    "duration": 48,
    "start_time": "2024-12-12T15:47:00.240Z"
   },
   {
    "duration": 82,
    "start_time": "2024-12-12T15:47:00.290Z"
   },
   {
    "duration": 121,
    "start_time": "2024-12-12T15:47:00.373Z"
   },
   {
    "duration": 29,
    "start_time": "2024-12-12T15:47:00.495Z"
   },
   {
    "duration": 30,
    "start_time": "2024-12-12T15:47:00.525Z"
   },
   {
    "duration": 256,
    "start_time": "2024-12-12T15:47:00.556Z"
   },
   {
    "duration": 26,
    "start_time": "2024-12-12T15:47:00.813Z"
   },
   {
    "duration": 22,
    "start_time": "2024-12-12T15:47:00.841Z"
   },
   {
    "duration": 13,
    "start_time": "2024-12-12T15:47:47.178Z"
   },
   {
    "duration": 8,
    "start_time": "2024-12-12T15:47:51.200Z"
   },
   {
    "duration": 19,
    "start_time": "2024-12-12T16:05:24.251Z"
   },
   {
    "duration": 17,
    "start_time": "2024-12-12T16:06:01.381Z"
   },
   {
    "duration": 14,
    "start_time": "2024-12-12T16:07:09.536Z"
   },
   {
    "duration": 3,
    "start_time": "2024-12-12T16:07:20.824Z"
   },
   {
    "duration": 112,
    "start_time": "2024-12-12T16:07:20.829Z"
   },
   {
    "duration": 21,
    "start_time": "2024-12-12T16:07:20.943Z"
   },
   {
    "duration": 10,
    "start_time": "2024-12-12T16:07:20.966Z"
   },
   {
    "duration": 9,
    "start_time": "2024-12-12T16:07:20.980Z"
   },
   {
    "duration": 22,
    "start_time": "2024-12-12T16:07:20.990Z"
   },
   {
    "duration": 28,
    "start_time": "2024-12-12T16:07:21.014Z"
   },
   {
    "duration": 20,
    "start_time": "2024-12-12T16:07:21.044Z"
   },
   {
    "duration": 31,
    "start_time": "2024-12-12T16:07:21.066Z"
   },
   {
    "duration": 8,
    "start_time": "2024-12-12T16:07:21.099Z"
   },
   {
    "duration": 60,
    "start_time": "2024-12-12T16:07:21.109Z"
   },
   {
    "duration": 20,
    "start_time": "2024-12-12T16:07:21.170Z"
   },
   {
    "duration": 8,
    "start_time": "2024-12-12T16:07:21.298Z"
   },
   {
    "duration": 238,
    "start_time": "2024-12-12T16:07:21.308Z"
   },
   {
    "duration": 16,
    "start_time": "2024-12-12T16:07:21.547Z"
   },
   {
    "duration": 25,
    "start_time": "2024-12-12T16:09:28.717Z"
   },
   {
    "duration": 85,
    "start_time": "2024-12-12T16:09:41.151Z"
   },
   {
    "duration": 31,
    "start_time": "2024-12-12T16:09:44.167Z"
   },
   {
    "duration": 31,
    "start_time": "2024-12-12T16:10:06.447Z"
   },
   {
    "duration": 20,
    "start_time": "2024-12-12T16:12:31.488Z"
   },
   {
    "duration": 19,
    "start_time": "2024-12-12T16:14:21.034Z"
   },
   {
    "duration": 1682,
    "start_time": "2024-12-12T16:23:12.077Z"
   },
   {
    "duration": 1991,
    "start_time": "2024-12-12T16:23:28.910Z"
   },
   {
    "duration": 1588,
    "start_time": "2024-12-12T17:16:15.219Z"
   },
   {
    "duration": 1668,
    "start_time": "2024-12-12T17:17:38.735Z"
   },
   {
    "duration": 1487,
    "start_time": "2024-12-12T17:26:58.843Z"
   },
   {
    "duration": 1515,
    "start_time": "2024-12-12T17:27:39.945Z"
   },
   {
    "duration": 3,
    "start_time": "2024-12-12T17:28:44.874Z"
   },
   {
    "duration": 94,
    "start_time": "2024-12-12T17:28:44.878Z"
   },
   {
    "duration": 21,
    "start_time": "2024-12-12T17:28:44.974Z"
   },
   {
    "duration": 27,
    "start_time": "2024-12-12T17:28:44.997Z"
   },
   {
    "duration": 60,
    "start_time": "2024-12-12T17:28:45.026Z"
   },
   {
    "duration": 34,
    "start_time": "2024-12-12T17:28:45.087Z"
   },
   {
    "duration": 10,
    "start_time": "2024-12-12T17:28:45.122Z"
   },
   {
    "duration": 11,
    "start_time": "2024-12-12T17:28:45.133Z"
   },
   {
    "duration": 24,
    "start_time": "2024-12-12T17:28:45.145Z"
   },
   {
    "duration": 7,
    "start_time": "2024-12-12T17:28:45.170Z"
   },
   {
    "duration": 43,
    "start_time": "2024-12-12T17:28:45.178Z"
   },
   {
    "duration": 23,
    "start_time": "2024-12-12T17:28:45.222Z"
   },
   {
    "duration": 26,
    "start_time": "2024-12-12T17:28:45.246Z"
   },
   {
    "duration": 234,
    "start_time": "2024-12-12T17:28:45.275Z"
   },
   {
    "duration": 15,
    "start_time": "2024-12-12T17:28:45.511Z"
   },
   {
    "duration": 19,
    "start_time": "2024-12-12T17:28:45.537Z"
   },
   {
    "duration": 1802,
    "start_time": "2024-12-12T17:28:45.558Z"
   },
   {
    "duration": 20,
    "start_time": "2024-12-12T17:31:54.376Z"
   },
   {
    "duration": 1632,
    "start_time": "2024-12-12T17:32:17.626Z"
   },
   {
    "duration": 2,
    "start_time": "2024-12-12T17:32:32.193Z"
   },
   {
    "duration": 99,
    "start_time": "2024-12-12T17:32:32.197Z"
   },
   {
    "duration": 22,
    "start_time": "2024-12-12T17:32:32.298Z"
   },
   {
    "duration": 17,
    "start_time": "2024-12-12T17:32:32.321Z"
   },
   {
    "duration": 25,
    "start_time": "2024-12-12T17:32:32.340Z"
   },
   {
    "duration": 27,
    "start_time": "2024-12-12T17:32:32.367Z"
   },
   {
    "duration": 10,
    "start_time": "2024-12-12T17:32:32.427Z"
   },
   {
    "duration": 25,
    "start_time": "2024-12-12T17:32:32.440Z"
   },
   {
    "duration": 18,
    "start_time": "2024-12-12T17:32:32.467Z"
   },
   {
    "duration": 53,
    "start_time": "2024-12-12T17:32:32.487Z"
   },
   {
    "duration": 49,
    "start_time": "2024-12-12T17:32:32.542Z"
   },
   {
    "duration": 17,
    "start_time": "2024-12-12T17:32:33.039Z"
   },
   {
    "duration": 9,
    "start_time": "2024-12-12T17:32:33.058Z"
   },
   {
    "duration": 212,
    "start_time": "2024-12-12T17:32:33.069Z"
   },
   {
    "duration": 15,
    "start_time": "2024-12-12T17:32:33.283Z"
   },
   {
    "duration": 32,
    "start_time": "2024-12-12T17:32:33.300Z"
   },
   {
    "duration": 1733,
    "start_time": "2024-12-12T17:32:33.337Z"
   },
   {
    "duration": 20,
    "start_time": "2024-12-12T17:33:47.462Z"
   },
   {
    "duration": 1391,
    "start_time": "2024-12-12T17:33:49.888Z"
   },
   {
    "duration": 1667,
    "start_time": "2024-12-12T17:38:54.991Z"
   },
   {
    "duration": 20,
    "start_time": "2024-12-12T17:39:13.526Z"
   },
   {
    "duration": 1539,
    "start_time": "2024-12-12T17:40:01.251Z"
   },
   {
    "duration": 1623,
    "start_time": "2024-12-12T17:40:53.119Z"
   },
   {
    "duration": 3,
    "start_time": "2024-12-12T17:41:00.604Z"
   },
   {
    "duration": 92,
    "start_time": "2024-12-12T17:41:00.609Z"
   },
   {
    "duration": 25,
    "start_time": "2024-12-12T17:41:00.703Z"
   },
   {
    "duration": 11,
    "start_time": "2024-12-12T17:41:00.738Z"
   },
   {
    "duration": 51,
    "start_time": "2024-12-12T17:41:00.752Z"
   },
   {
    "duration": 21,
    "start_time": "2024-12-12T17:41:00.805Z"
   },
   {
    "duration": 29,
    "start_time": "2024-12-12T17:41:00.829Z"
   },
   {
    "duration": 23,
    "start_time": "2024-12-12T17:41:00.861Z"
   },
   {
    "duration": 22,
    "start_time": "2024-12-12T17:41:00.886Z"
   },
   {
    "duration": 19,
    "start_time": "2024-12-12T17:41:00.910Z"
   },
   {
    "duration": 58,
    "start_time": "2024-12-12T17:41:00.931Z"
   },
   {
    "duration": 25,
    "start_time": "2024-12-12T17:41:00.991Z"
   },
   {
    "duration": 13,
    "start_time": "2024-12-12T17:41:01.018Z"
   },
   {
    "duration": 221,
    "start_time": "2024-12-12T17:41:01.038Z"
   },
   {
    "duration": 23,
    "start_time": "2024-12-12T17:41:01.261Z"
   },
   {
    "duration": 19,
    "start_time": "2024-12-12T17:41:01.286Z"
   },
   {
    "duration": 1719,
    "start_time": "2024-12-12T17:41:01.307Z"
   },
   {
    "duration": 13,
    "start_time": "2024-12-12T17:41:18.175Z"
   },
   {
    "duration": 1374,
    "start_time": "2024-12-12T17:41:33.922Z"
   },
   {
    "duration": 29,
    "start_time": "2024-12-12T17:41:44.622Z"
   },
   {
    "duration": 1653,
    "start_time": "2024-12-12T17:44:34.314Z"
   },
   {
    "duration": 484,
    "start_time": "2024-12-12T17:45:11.650Z"
   },
   {
    "duration": 416,
    "start_time": "2024-12-12T17:45:23.166Z"
   },
   {
    "duration": 273,
    "start_time": "2024-12-12T17:45:30.232Z"
   },
   {
    "duration": 164,
    "start_time": "2024-12-12T17:46:47.393Z"
   },
   {
    "duration": 329,
    "start_time": "2024-12-12T17:48:42.935Z"
   },
   {
    "duration": 197,
    "start_time": "2024-12-12T17:49:30.160Z"
   },
   {
    "duration": 278,
    "start_time": "2024-12-12T17:49:42.408Z"
   },
   {
    "duration": 404,
    "start_time": "2024-12-12T17:51:41.140Z"
   },
   {
    "duration": 269,
    "start_time": "2024-12-12T17:52:03.243Z"
   },
   {
    "duration": 251,
    "start_time": "2024-12-12T17:52:55.849Z"
   },
   {
    "duration": 296,
    "start_time": "2024-12-12T17:53:08.574Z"
   },
   {
    "duration": 292,
    "start_time": "2024-12-12T17:53:22.077Z"
   },
   {
    "duration": 289,
    "start_time": "2024-12-12T17:55:06.172Z"
   },
   {
    "duration": 278,
    "start_time": "2024-12-12T17:55:53.150Z"
   },
   {
    "duration": 298,
    "start_time": "2024-12-12T17:57:46.029Z"
   },
   {
    "duration": 296,
    "start_time": "2024-12-12T17:58:03.922Z"
   },
   {
    "duration": 400,
    "start_time": "2024-12-12T17:58:49.034Z"
   },
   {
    "duration": 272,
    "start_time": "2024-12-12T17:59:50.315Z"
   },
   {
    "duration": 108,
    "start_time": "2024-12-12T18:00:25.368Z"
   },
   {
    "duration": 418,
    "start_time": "2024-12-12T18:00:27.257Z"
   },
   {
    "duration": 278,
    "start_time": "2024-12-12T18:01:17.771Z"
   },
   {
    "duration": 261,
    "start_time": "2024-12-12T18:01:44.848Z"
   },
   {
    "duration": 303,
    "start_time": "2024-12-12T18:03:44.868Z"
   },
   {
    "duration": 334,
    "start_time": "2024-12-12T18:04:04.357Z"
   },
   {
    "duration": 323,
    "start_time": "2024-12-12T18:04:11.668Z"
   },
   {
    "duration": 28,
    "start_time": "2024-12-12T18:20:39.238Z"
   },
   {
    "duration": 305,
    "start_time": "2024-12-12T18:20:48.944Z"
   },
   {
    "duration": 300,
    "start_time": "2024-12-12T18:21:03.063Z"
   },
   {
    "duration": 3,
    "start_time": "2024-12-12T18:21:14.992Z"
   },
   {
    "duration": 107,
    "start_time": "2024-12-12T18:21:14.997Z"
   },
   {
    "duration": 20,
    "start_time": "2024-12-12T18:21:15.105Z"
   },
   {
    "duration": 17,
    "start_time": "2024-12-12T18:21:15.127Z"
   },
   {
    "duration": 23,
    "start_time": "2024-12-12T18:21:15.146Z"
   },
   {
    "duration": 33,
    "start_time": "2024-12-12T18:21:15.171Z"
   },
   {
    "duration": 44,
    "start_time": "2024-12-12T18:21:15.206Z"
   },
   {
    "duration": 33,
    "start_time": "2024-12-12T18:21:15.252Z"
   },
   {
    "duration": 29,
    "start_time": "2024-12-12T18:21:15.287Z"
   },
   {
    "duration": 16,
    "start_time": "2024-12-12T18:21:15.317Z"
   },
   {
    "duration": 32,
    "start_time": "2024-12-12T18:21:15.335Z"
   },
   {
    "duration": 15,
    "start_time": "2024-12-12T18:21:15.368Z"
   },
   {
    "duration": 41,
    "start_time": "2024-12-12T18:21:15.386Z"
   },
   {
    "duration": 226,
    "start_time": "2024-12-12T18:21:15.429Z"
   },
   {
    "duration": 16,
    "start_time": "2024-12-12T18:21:15.657Z"
   },
   {
    "duration": 20,
    "start_time": "2024-12-12T18:21:15.676Z"
   },
   {
    "duration": 346,
    "start_time": "2024-12-12T18:21:15.698Z"
   },
   {
    "duration": 24,
    "start_time": "2024-12-12T18:21:16.046Z"
   },
   {
    "duration": 318,
    "start_time": "2024-12-12T18:21:16.072Z"
   },
   {
    "duration": 458,
    "start_time": "2024-12-12T18:21:42.657Z"
   },
   {
    "duration": 9,
    "start_time": "2024-12-12T18:21:58.113Z"
   },
   {
    "duration": 20,
    "start_time": "2024-12-12T18:23:31.855Z"
   },
   {
    "duration": 38,
    "start_time": "2024-12-12T18:25:25.255Z"
   },
   {
    "duration": 7,
    "start_time": "2024-12-12T18:25:32.748Z"
   },
   {
    "duration": 2,
    "start_time": "2024-12-12T18:25:36.294Z"
   },
   {
    "duration": 93,
    "start_time": "2024-12-12T18:25:36.299Z"
   },
   {
    "duration": 21,
    "start_time": "2024-12-12T18:25:36.393Z"
   },
   {
    "duration": 7,
    "start_time": "2024-12-12T18:25:36.416Z"
   },
   {
    "duration": 5,
    "start_time": "2024-12-12T18:25:36.438Z"
   },
   {
    "duration": 47,
    "start_time": "2024-12-12T18:25:36.446Z"
   },
   {
    "duration": 29,
    "start_time": "2024-12-12T18:25:36.495Z"
   },
   {
    "duration": 21,
    "start_time": "2024-12-12T18:25:36.525Z"
   },
   {
    "duration": 25,
    "start_time": "2024-12-12T18:25:36.547Z"
   },
   {
    "duration": 26,
    "start_time": "2024-12-12T18:25:36.574Z"
   },
   {
    "duration": 78,
    "start_time": "2024-12-12T18:25:36.602Z"
   },
   {
    "duration": 15,
    "start_time": "2024-12-12T18:25:36.683Z"
   },
   {
    "duration": 25,
    "start_time": "2024-12-12T18:25:36.700Z"
   },
   {
    "duration": 226,
    "start_time": "2024-12-12T18:25:36.727Z"
   },
   {
    "duration": 15,
    "start_time": "2024-12-12T18:25:36.955Z"
   },
   {
    "duration": 31,
    "start_time": "2024-12-12T18:25:36.972Z"
   },
   {
    "duration": 320,
    "start_time": "2024-12-12T18:25:37.005Z"
   },
   {
    "duration": 14,
    "start_time": "2024-12-12T18:25:37.327Z"
   },
   {
    "duration": 27,
    "start_time": "2024-12-12T18:25:37.343Z"
   },
   {
    "duration": 7,
    "start_time": "2024-12-12T18:26:28.261Z"
   },
   {
    "duration": 16,
    "start_time": "2024-12-12T18:26:30.174Z"
   },
   {
    "duration": 4,
    "start_time": "2024-12-12T18:26:50.554Z"
   },
   {
    "duration": 101,
    "start_time": "2024-12-12T18:26:50.561Z"
   },
   {
    "duration": 22,
    "start_time": "2024-12-12T18:26:50.664Z"
   },
   {
    "duration": 18,
    "start_time": "2024-12-12T18:26:50.687Z"
   },
   {
    "duration": 15,
    "start_time": "2024-12-12T18:26:50.707Z"
   },
   {
    "duration": 14,
    "start_time": "2024-12-12T18:26:50.724Z"
   },
   {
    "duration": 9,
    "start_time": "2024-12-12T18:26:50.739Z"
   },
   {
    "duration": 9,
    "start_time": "2024-12-12T18:26:50.750Z"
   },
   {
    "duration": 19,
    "start_time": "2024-12-12T18:26:50.760Z"
   },
   {
    "duration": 6,
    "start_time": "2024-12-12T18:26:50.781Z"
   },
   {
    "duration": 58,
    "start_time": "2024-12-12T18:26:50.789Z"
   },
   {
    "duration": 16,
    "start_time": "2024-12-12T18:26:50.848Z"
   },
   {
    "duration": 9,
    "start_time": "2024-12-12T18:26:50.866Z"
   },
   {
    "duration": 222,
    "start_time": "2024-12-12T18:26:50.878Z"
   },
   {
    "duration": 15,
    "start_time": "2024-12-12T18:26:51.102Z"
   },
   {
    "duration": 33,
    "start_time": "2024-12-12T18:26:51.119Z"
   },
   {
    "duration": 340,
    "start_time": "2024-12-12T18:26:51.154Z"
   },
   {
    "duration": 7,
    "start_time": "2024-12-12T18:26:51.495Z"
   },
   {
    "duration": 37,
    "start_time": "2024-12-12T18:26:51.504Z"
   },
   {
    "duration": 10,
    "start_time": "2024-12-12T18:27:08.947Z"
   },
   {
    "duration": 17,
    "start_time": "2024-12-12T18:27:11.878Z"
   },
   {
    "duration": 3,
    "start_time": "2024-12-12T18:27:15.266Z"
   },
   {
    "duration": 106,
    "start_time": "2024-12-12T18:27:15.271Z"
   },
   {
    "duration": 20,
    "start_time": "2024-12-12T18:27:15.379Z"
   },
   {
    "duration": 30,
    "start_time": "2024-12-12T18:27:15.400Z"
   },
   {
    "duration": 8,
    "start_time": "2024-12-12T18:27:15.432Z"
   },
   {
    "duration": 31,
    "start_time": "2024-12-12T18:27:15.441Z"
   },
   {
    "duration": 35,
    "start_time": "2024-12-12T18:27:15.474Z"
   },
   {
    "duration": 9,
    "start_time": "2024-12-12T18:27:15.511Z"
   },
   {
    "duration": 16,
    "start_time": "2024-12-12T18:27:15.521Z"
   },
   {
    "duration": 7,
    "start_time": "2024-12-12T18:27:15.539Z"
   },
   {
    "duration": 29,
    "start_time": "2024-12-12T18:27:15.547Z"
   },
   {
    "duration": 14,
    "start_time": "2024-12-12T18:27:15.578Z"
   },
   {
    "duration": 6,
    "start_time": "2024-12-12T18:27:15.594Z"
   },
   {
    "duration": 241,
    "start_time": "2024-12-12T18:27:15.602Z"
   },
   {
    "duration": 16,
    "start_time": "2024-12-12T18:27:15.845Z"
   },
   {
    "duration": 21,
    "start_time": "2024-12-12T18:27:15.863Z"
   },
   {
    "duration": 335,
    "start_time": "2024-12-12T18:27:15.886Z"
   },
   {
    "duration": 15,
    "start_time": "2024-12-12T18:27:16.222Z"
   },
   {
    "duration": 15,
    "start_time": "2024-12-12T18:27:16.238Z"
   },
   {
    "duration": 1378,
    "start_time": "2024-12-12T18:32:51.067Z"
   },
   {
    "duration": 1308,
    "start_time": "2024-12-12T18:32:59.149Z"
   },
   {
    "duration": 16,
    "start_time": "2024-12-12T18:33:11.862Z"
   },
   {
    "duration": 16,
    "start_time": "2024-12-12T18:33:34.846Z"
   },
   {
    "duration": 84,
    "start_time": "2024-12-12T18:33:51.470Z"
   },
   {
    "duration": 225,
    "start_time": "2024-12-12T18:33:55.801Z"
   },
   {
    "duration": 3,
    "start_time": "2024-12-12T18:34:11.845Z"
   },
   {
    "duration": 100,
    "start_time": "2024-12-12T18:34:11.850Z"
   },
   {
    "duration": 22,
    "start_time": "2024-12-12T18:34:11.952Z"
   },
   {
    "duration": 16,
    "start_time": "2024-12-12T18:34:11.976Z"
   },
   {
    "duration": 10,
    "start_time": "2024-12-12T18:34:11.995Z"
   },
   {
    "duration": 17,
    "start_time": "2024-12-12T18:34:12.007Z"
   },
   {
    "duration": 28,
    "start_time": "2024-12-12T18:34:12.026Z"
   },
   {
    "duration": 9,
    "start_time": "2024-12-12T18:34:12.056Z"
   },
   {
    "duration": 15,
    "start_time": "2024-12-12T18:34:12.067Z"
   },
   {
    "duration": 6,
    "start_time": "2024-12-12T18:34:12.084Z"
   },
   {
    "duration": 168,
    "start_time": "2024-12-12T18:34:12.093Z"
   },
   {
    "duration": 18,
    "start_time": "2024-12-12T18:34:12.264Z"
   },
   {
    "duration": 7,
    "start_time": "2024-12-12T18:34:12.284Z"
   },
   {
    "duration": 241,
    "start_time": "2024-12-12T18:34:12.293Z"
   },
   {
    "duration": 16,
    "start_time": "2024-12-12T18:34:12.536Z"
   },
   {
    "duration": 19,
    "start_time": "2024-12-12T18:34:12.554Z"
   },
   {
    "duration": 339,
    "start_time": "2024-12-12T18:34:12.575Z"
   },
   {
    "duration": 7,
    "start_time": "2024-12-12T18:34:12.916Z"
   },
   {
    "duration": 18,
    "start_time": "2024-12-12T18:34:12.937Z"
   },
   {
    "duration": 242,
    "start_time": "2024-12-12T18:34:12.956Z"
   },
   {
    "duration": 221,
    "start_time": "2024-12-12T18:34:28.999Z"
   },
   {
    "duration": 209,
    "start_time": "2024-12-12T18:34:54.409Z"
   },
   {
    "duration": 129,
    "start_time": "2024-12-12T18:35:28.384Z"
   },
   {
    "duration": 230,
    "start_time": "2024-12-12T18:35:34.139Z"
   },
   {
    "duration": 257,
    "start_time": "2024-12-12T18:35:48.102Z"
   },
   {
    "duration": 224,
    "start_time": "2024-12-12T18:35:58.617Z"
   },
   {
    "duration": 216,
    "start_time": "2024-12-12T18:39:59.875Z"
   },
   {
    "duration": 244,
    "start_time": "2024-12-12T18:40:37.560Z"
   },
   {
    "duration": 1138,
    "start_time": "2024-12-15T17:24:54.673Z"
   },
   {
    "duration": 229,
    "start_time": "2024-12-15T17:24:55.813Z"
   },
   {
    "duration": 20,
    "start_time": "2024-12-15T17:24:56.044Z"
   },
   {
    "duration": 7,
    "start_time": "2024-12-15T17:24:56.065Z"
   },
   {
    "duration": 5,
    "start_time": "2024-12-15T17:24:56.075Z"
   },
   {
    "duration": 10,
    "start_time": "2024-12-15T17:24:56.081Z"
   },
   {
    "duration": 9,
    "start_time": "2024-12-15T17:24:56.093Z"
   },
   {
    "duration": 45,
    "start_time": "2024-12-15T17:24:56.103Z"
   },
   {
    "duration": 17,
    "start_time": "2024-12-15T17:24:56.149Z"
   },
   {
    "duration": 7,
    "start_time": "2024-12-15T17:24:56.170Z"
   },
   {
    "duration": 25,
    "start_time": "2024-12-15T17:24:56.179Z"
   },
   {
    "duration": 41,
    "start_time": "2024-12-15T17:24:56.206Z"
   },
   {
    "duration": 6,
    "start_time": "2024-12-15T17:24:56.249Z"
   },
   {
    "duration": 191,
    "start_time": "2024-12-15T17:24:56.257Z"
   },
   {
    "duration": 15,
    "start_time": "2024-12-15T17:24:56.450Z"
   },
   {
    "duration": 18,
    "start_time": "2024-12-15T17:24:56.466Z"
   },
   {
    "duration": 352,
    "start_time": "2024-12-15T17:24:56.486Z"
   },
   {
    "duration": 7,
    "start_time": "2024-12-15T17:24:56.840Z"
   },
   {
    "duration": 31,
    "start_time": "2024-12-15T17:24:56.848Z"
   },
   {
    "duration": 203,
    "start_time": "2024-12-15T17:24:56.881Z"
   },
   {
    "duration": 192,
    "start_time": "2024-12-15T17:43:40.901Z"
   },
   {
    "duration": 440,
    "start_time": "2024-12-15T17:46:07.090Z"
   },
   {
    "duration": 24,
    "start_time": "2024-12-15T18:07:38.993Z"
   },
   {
    "duration": 19,
    "start_time": "2024-12-15T18:07:59.603Z"
   },
   {
    "duration": 19,
    "start_time": "2024-12-15T18:08:13.282Z"
   },
   {
    "duration": 22,
    "start_time": "2024-12-15T18:08:17.609Z"
   },
   {
    "duration": 20,
    "start_time": "2024-12-15T18:08:21.241Z"
   },
   {
    "duration": 19,
    "start_time": "2024-12-15T18:08:25.481Z"
   },
   {
    "duration": 22,
    "start_time": "2024-12-15T18:08:28.665Z"
   },
   {
    "duration": 20,
    "start_time": "2024-12-15T18:08:33.905Z"
   },
   {
    "duration": 6,
    "start_time": "2024-12-15T18:09:07.004Z"
   },
   {
    "duration": 111,
    "start_time": "2024-12-15T18:16:31.766Z"
   },
   {
    "duration": 272,
    "start_time": "2024-12-15T18:16:48.336Z"
   },
   {
    "duration": 8,
    "start_time": "2024-12-15T18:18:39.828Z"
   },
   {
    "duration": 13,
    "start_time": "2024-12-15T18:18:46.821Z"
   },
   {
    "duration": 21,
    "start_time": "2024-12-15T18:18:52.685Z"
   },
   {
    "duration": 432,
    "start_time": "2024-12-15T18:29:00.887Z"
   },
   {
    "duration": 4,
    "start_time": "2024-12-15T18:48:28.961Z"
   },
   {
    "duration": 3,
    "start_time": "2024-12-15T18:48:58.945Z"
   },
   {
    "duration": 25,
    "start_time": "2024-12-15T18:53:04.819Z"
   },
   {
    "duration": 3,
    "start_time": "2024-12-15T18:53:15.156Z"
   },
   {
    "duration": 109,
    "start_time": "2024-12-15T18:53:15.161Z"
   },
   {
    "duration": 20,
    "start_time": "2024-12-15T18:53:15.271Z"
   },
   {
    "duration": 48,
    "start_time": "2024-12-15T18:53:15.292Z"
   },
   {
    "duration": 89,
    "start_time": "2024-12-15T18:53:15.342Z"
   },
   {
    "duration": 9,
    "start_time": "2024-12-15T18:53:15.432Z"
   },
   {
    "duration": 15,
    "start_time": "2024-12-15T18:53:15.443Z"
   },
   {
    "duration": 22,
    "start_time": "2024-12-15T18:53:15.459Z"
   },
   {
    "duration": 13,
    "start_time": "2024-12-15T18:53:15.483Z"
   },
   {
    "duration": 6,
    "start_time": "2024-12-15T18:53:15.498Z"
   },
   {
    "duration": 23,
    "start_time": "2024-12-15T18:53:15.506Z"
   },
   {
    "duration": 18,
    "start_time": "2024-12-15T18:53:15.530Z"
   },
   {
    "duration": 45,
    "start_time": "2024-12-15T18:53:15.549Z"
   },
   {
    "duration": 239,
    "start_time": "2024-12-15T18:53:15.596Z"
   },
   {
    "duration": 12,
    "start_time": "2024-12-15T18:53:15.837Z"
   },
   {
    "duration": 16,
    "start_time": "2024-12-15T18:53:15.851Z"
   },
   {
    "duration": 306,
    "start_time": "2024-12-15T18:53:15.868Z"
   },
   {
    "duration": 8,
    "start_time": "2024-12-15T18:53:16.176Z"
   },
   {
    "duration": 55,
    "start_time": "2024-12-15T18:53:16.187Z"
   },
   {
    "duration": 187,
    "start_time": "2024-12-15T18:53:16.243Z"
   },
   {
    "duration": 31,
    "start_time": "2024-12-15T18:53:16.431Z"
   },
   {
    "duration": 427,
    "start_time": "2024-12-15T18:53:16.464Z"
   },
   {
    "duration": 25,
    "start_time": "2024-12-15T18:54:39.225Z"
   },
   {
    "duration": 34,
    "start_time": "2024-12-15T18:54:58.137Z"
   },
   {
    "duration": 26,
    "start_time": "2024-12-15T18:55:03.699Z"
   },
   {
    "duration": 27,
    "start_time": "2024-12-15T18:55:12.969Z"
   },
   {
    "duration": 19,
    "start_time": "2024-12-15T18:55:30.153Z"
   },
   {
    "duration": 15,
    "start_time": "2024-12-15T18:55:44.056Z"
   },
   {
    "duration": 4,
    "start_time": "2024-12-15T18:55:48.183Z"
   },
   {
    "duration": 81,
    "start_time": "2024-12-15T18:55:48.190Z"
   },
   {
    "duration": 18,
    "start_time": "2024-12-15T18:55:48.273Z"
   },
   {
    "duration": 17,
    "start_time": "2024-12-15T18:55:48.293Z"
   },
   {
    "duration": 9,
    "start_time": "2024-12-15T18:55:48.312Z"
   },
   {
    "duration": 28,
    "start_time": "2024-12-15T18:55:48.324Z"
   },
   {
    "duration": 10,
    "start_time": "2024-12-15T18:55:48.353Z"
   },
   {
    "duration": 8,
    "start_time": "2024-12-15T18:55:48.365Z"
   },
   {
    "duration": 13,
    "start_time": "2024-12-15T18:55:48.374Z"
   },
   {
    "duration": 6,
    "start_time": "2024-12-15T18:55:48.388Z"
   },
   {
    "duration": 58,
    "start_time": "2024-12-15T18:55:48.396Z"
   },
   {
    "duration": 15,
    "start_time": "2024-12-15T18:55:48.455Z"
   },
   {
    "duration": 8,
    "start_time": "2024-12-15T18:55:48.472Z"
   },
   {
    "duration": 202,
    "start_time": "2024-12-15T18:55:48.482Z"
   },
   {
    "duration": 13,
    "start_time": "2024-12-15T18:55:48.686Z"
   },
   {
    "duration": 36,
    "start_time": "2024-12-15T18:55:48.701Z"
   },
   {
    "duration": 310,
    "start_time": "2024-12-15T18:55:48.739Z"
   },
   {
    "duration": 7,
    "start_time": "2024-12-15T18:55:49.051Z"
   },
   {
    "duration": 15,
    "start_time": "2024-12-15T18:55:49.060Z"
   },
   {
    "duration": 219,
    "start_time": "2024-12-15T18:55:49.077Z"
   },
   {
    "duration": 14,
    "start_time": "2024-12-15T18:55:49.298Z"
   },
   {
    "duration": 433,
    "start_time": "2024-12-15T18:55:49.313Z"
   },
   {
    "duration": 20,
    "start_time": "2024-12-15T18:55:58.616Z"
   },
   {
    "duration": 24,
    "start_time": "2024-12-15T18:56:42.294Z"
   },
   {
    "duration": 24,
    "start_time": "2024-12-15T18:58:36.788Z"
   },
   {
    "duration": 3,
    "start_time": "2024-12-15T18:59:47.932Z"
   },
   {
    "duration": 72,
    "start_time": "2024-12-15T18:59:47.940Z"
   },
   {
    "duration": 18,
    "start_time": "2024-12-15T18:59:48.013Z"
   },
   {
    "duration": 7,
    "start_time": "2024-12-15T18:59:48.032Z"
   },
   {
    "duration": 4,
    "start_time": "2024-12-15T18:59:48.040Z"
   },
   {
    "duration": 77,
    "start_time": "2024-12-15T18:59:48.046Z"
   },
   {
    "duration": 22,
    "start_time": "2024-12-15T18:59:48.124Z"
   },
   {
    "duration": 9,
    "start_time": "2024-12-15T18:59:48.147Z"
   },
   {
    "duration": 14,
    "start_time": "2024-12-15T18:59:48.158Z"
   },
   {
    "duration": 6,
    "start_time": "2024-12-15T18:59:48.173Z"
   },
   {
    "duration": 25,
    "start_time": "2024-12-15T18:59:48.181Z"
   },
   {
    "duration": 43,
    "start_time": "2024-12-15T18:59:48.208Z"
   },
   {
    "duration": 8,
    "start_time": "2024-12-15T18:59:48.253Z"
   },
   {
    "duration": 210,
    "start_time": "2024-12-15T18:59:48.263Z"
   },
   {
    "duration": 13,
    "start_time": "2024-12-15T18:59:48.475Z"
   },
   {
    "duration": 26,
    "start_time": "2024-12-15T18:59:48.489Z"
   },
   {
    "duration": 303,
    "start_time": "2024-12-15T18:59:48.517Z"
   },
   {
    "duration": 7,
    "start_time": "2024-12-15T18:59:48.821Z"
   },
   {
    "duration": 29,
    "start_time": "2024-12-15T18:59:48.829Z"
   },
   {
    "duration": 212,
    "start_time": "2024-12-15T18:59:48.859Z"
   },
   {
    "duration": 7,
    "start_time": "2024-12-15T18:59:49.072Z"
   },
   {
    "duration": 456,
    "start_time": "2024-12-15T18:59:49.081Z"
   },
   {
    "duration": 23,
    "start_time": "2024-12-15T19:00:14.011Z"
   },
   {
    "duration": 14,
    "start_time": "2024-12-15T19:00:29.091Z"
   },
   {
    "duration": 26,
    "start_time": "2024-12-15T19:00:44.986Z"
   },
   {
    "duration": 3,
    "start_time": "2024-12-15T19:00:50.422Z"
   },
   {
    "duration": 72,
    "start_time": "2024-12-15T19:00:50.427Z"
   },
   {
    "duration": 16,
    "start_time": "2024-12-15T19:00:50.500Z"
   },
   {
    "duration": 8,
    "start_time": "2024-12-15T19:00:50.518Z"
   },
   {
    "duration": 18,
    "start_time": "2024-12-15T19:00:50.528Z"
   },
   {
    "duration": 9,
    "start_time": "2024-12-15T19:00:50.548Z"
   },
   {
    "duration": 9,
    "start_time": "2024-12-15T19:00:50.558Z"
   },
   {
    "duration": 8,
    "start_time": "2024-12-15T19:00:50.568Z"
   },
   {
    "duration": 12,
    "start_time": "2024-12-15T19:00:50.578Z"
   },
   {
    "duration": 5,
    "start_time": "2024-12-15T19:00:50.591Z"
   },
   {
    "duration": 64,
    "start_time": "2024-12-15T19:00:50.598Z"
   },
   {
    "duration": 15,
    "start_time": "2024-12-15T19:00:50.664Z"
   },
   {
    "duration": 6,
    "start_time": "2024-12-15T19:00:50.681Z"
   },
   {
    "duration": 190,
    "start_time": "2024-12-15T19:00:50.689Z"
   },
   {
    "duration": 13,
    "start_time": "2024-12-15T19:00:50.880Z"
   },
   {
    "duration": 20,
    "start_time": "2024-12-15T19:00:50.895Z"
   },
   {
    "duration": 306,
    "start_time": "2024-12-15T19:00:50.917Z"
   },
   {
    "duration": 6,
    "start_time": "2024-12-15T19:00:51.225Z"
   },
   {
    "duration": 28,
    "start_time": "2024-12-15T19:00:51.232Z"
   },
   {
    "duration": 208,
    "start_time": "2024-12-15T19:00:51.261Z"
   },
   {
    "duration": 19,
    "start_time": "2024-12-15T19:00:51.471Z"
   },
   {
    "duration": 447,
    "start_time": "2024-12-15T19:00:51.492Z"
   },
   {
    "duration": 27,
    "start_time": "2024-12-15T19:00:57.962Z"
   },
   {
    "duration": 3,
    "start_time": "2024-12-15T19:01:05.100Z"
   },
   {
    "duration": 77,
    "start_time": "2024-12-15T19:01:05.106Z"
   },
   {
    "duration": 19,
    "start_time": "2024-12-15T19:01:05.185Z"
   },
   {
    "duration": 31,
    "start_time": "2024-12-15T19:01:05.205Z"
   },
   {
    "duration": 15,
    "start_time": "2024-12-15T19:01:05.238Z"
   },
   {
    "duration": 14,
    "start_time": "2024-12-15T19:01:05.254Z"
   },
   {
    "duration": 81,
    "start_time": "2024-12-15T19:01:05.269Z"
   },
   {
    "duration": 12,
    "start_time": "2024-12-15T19:01:05.352Z"
   },
   {
    "duration": 15,
    "start_time": "2024-12-15T19:01:05.366Z"
   },
   {
    "duration": 5,
    "start_time": "2024-12-15T19:01:05.383Z"
   },
   {
    "duration": 33,
    "start_time": "2024-12-15T19:01:05.390Z"
   },
   {
    "duration": 22,
    "start_time": "2024-12-15T19:01:05.424Z"
   },
   {
    "duration": 34,
    "start_time": "2024-12-15T19:01:05.448Z"
   },
   {
    "duration": 167,
    "start_time": "2024-12-15T19:01:05.484Z"
   },
   {
    "duration": 12,
    "start_time": "2024-12-15T19:01:05.653Z"
   },
   {
    "duration": 110,
    "start_time": "2024-12-15T19:01:05.667Z"
   },
   {
    "duration": 347,
    "start_time": "2024-12-15T19:01:05.778Z"
   },
   {
    "duration": 9,
    "start_time": "2024-12-15T19:01:06.126Z"
   },
   {
    "duration": 49,
    "start_time": "2024-12-15T19:01:06.146Z"
   },
   {
    "duration": 195,
    "start_time": "2024-12-15T19:01:06.197Z"
   },
   {
    "duration": 26,
    "start_time": "2024-12-15T19:01:06.393Z"
   },
   {
    "duration": 442,
    "start_time": "2024-12-15T19:01:06.421Z"
   },
   {
    "duration": 33,
    "start_time": "2024-12-15T19:02:52.905Z"
   },
   {
    "duration": 12,
    "start_time": "2024-12-15T19:06:50.229Z"
   },
   {
    "duration": 251,
    "start_time": "2024-12-15T19:07:01.349Z"
   },
   {
    "duration": 58,
    "start_time": "2024-12-15T19:12:22.528Z"
   },
   {
    "duration": 44,
    "start_time": "2024-12-15T19:12:44.624Z"
   },
   {
    "duration": 51,
    "start_time": "2024-12-15T19:13:18.207Z"
   },
   {
    "duration": 377,
    "start_time": "2024-12-15T19:14:04.238Z"
   },
   {
    "duration": 393,
    "start_time": "2024-12-15T19:14:55.829Z"
   },
   {
    "duration": 114,
    "start_time": "2024-12-15T19:20:06.697Z"
   },
   {
    "duration": 234,
    "start_time": "2024-12-15T19:20:15.041Z"
   },
   {
    "duration": 320,
    "start_time": "2024-12-15T19:20:39.890Z"
   },
   {
    "duration": 43,
    "start_time": "2024-12-15T19:21:08.448Z"
   },
   {
    "duration": 265,
    "start_time": "2024-12-15T19:21:14.091Z"
   },
   {
    "duration": 363,
    "start_time": "2024-12-15T19:22:23.216Z"
   },
   {
    "duration": 48,
    "start_time": "2024-12-15T19:24:57.328Z"
   },
   {
    "duration": 302,
    "start_time": "2024-12-15T19:25:07.598Z"
   },
   {
    "duration": 294,
    "start_time": "2024-12-15T19:26:47.246Z"
   },
   {
    "duration": 293,
    "start_time": "2024-12-15T19:27:02.747Z"
   },
   {
    "duration": 15,
    "start_time": "2024-12-15T19:28:43.045Z"
   },
   {
    "duration": 13,
    "start_time": "2024-12-15T19:29:16.029Z"
   },
   {
    "duration": 308,
    "start_time": "2024-12-15T19:31:47.948Z"
   },
   {
    "duration": 313,
    "start_time": "2024-12-15T19:32:16.996Z"
   },
   {
    "duration": 350,
    "start_time": "2024-12-15T19:32:59.171Z"
   },
   {
    "duration": 271,
    "start_time": "2024-12-15T19:33:40.570Z"
   },
   {
    "duration": 304,
    "start_time": "2024-12-15T19:34:28.498Z"
   },
   {
    "duration": 1204,
    "start_time": "2024-12-16T12:00:35.583Z"
   },
   {
    "duration": 274,
    "start_time": "2024-12-16T12:00:36.789Z"
   },
   {
    "duration": 17,
    "start_time": "2024-12-16T12:00:37.065Z"
   },
   {
    "duration": 10,
    "start_time": "2024-12-16T12:00:37.084Z"
   },
   {
    "duration": 19,
    "start_time": "2024-12-16T12:00:37.096Z"
   },
   {
    "duration": 33,
    "start_time": "2024-12-16T12:00:37.116Z"
   },
   {
    "duration": 17,
    "start_time": "2024-12-16T12:00:37.150Z"
   },
   {
    "duration": 22,
    "start_time": "2024-12-16T12:00:37.168Z"
   },
   {
    "duration": 14,
    "start_time": "2024-12-16T12:00:37.191Z"
   },
   {
    "duration": 5,
    "start_time": "2024-12-16T12:00:37.207Z"
   },
   {
    "duration": 29,
    "start_time": "2024-12-16T12:00:37.213Z"
   },
   {
    "duration": 14,
    "start_time": "2024-12-16T12:00:37.244Z"
   },
   {
    "duration": 5,
    "start_time": "2024-12-16T12:00:37.259Z"
   },
   {
    "duration": 184,
    "start_time": "2024-12-16T12:00:37.267Z"
   },
   {
    "duration": 13,
    "start_time": "2024-12-16T12:00:37.452Z"
   },
   {
    "duration": 35,
    "start_time": "2024-12-16T12:00:37.466Z"
   },
   {
    "duration": 297,
    "start_time": "2024-12-16T12:00:37.502Z"
   },
   {
    "duration": 6,
    "start_time": "2024-12-16T12:00:37.801Z"
   },
   {
    "duration": 39,
    "start_time": "2024-12-16T12:00:37.809Z"
   },
   {
    "duration": 223,
    "start_time": "2024-12-16T12:00:37.849Z"
   },
   {
    "duration": 22,
    "start_time": "2024-12-16T12:00:38.074Z"
   },
   {
    "duration": 306,
    "start_time": "2024-12-16T12:00:38.098Z"
   },
   {
    "duration": 275,
    "start_time": "2024-12-16T12:00:38.406Z"
   },
   {
    "duration": 284,
    "start_time": "2024-12-16T12:00:38.683Z"
   },
   {
    "duration": 317,
    "start_time": "2024-12-16T12:00:38.968Z"
   },
   {
    "duration": 335,
    "start_time": "2024-12-16T12:01:43.365Z"
   },
   {
    "duration": 274,
    "start_time": "2024-12-16T12:30:04.047Z"
   },
   {
    "duration": 856,
    "start_time": "2024-12-16T12:34:36.029Z"
   },
   {
    "duration": 169,
    "start_time": "2024-12-16T12:35:13.676Z"
   },
   {
    "duration": 106,
    "start_time": "2024-12-16T12:36:04.828Z"
   },
   {
    "duration": 112,
    "start_time": "2024-12-16T12:36:22.188Z"
   },
   {
    "duration": 102,
    "start_time": "2024-12-16T12:37:05.747Z"
   },
   {
    "duration": 160,
    "start_time": "2024-12-16T12:38:03.987Z"
   },
   {
    "duration": 117,
    "start_time": "2024-12-16T12:38:42.066Z"
   },
   {
    "duration": 4289,
    "start_time": "2024-12-16T12:39:59.097Z"
   },
   {
    "duration": 122,
    "start_time": "2024-12-16T12:41:59.640Z"
   },
   {
    "duration": 4,
    "start_time": "2024-12-16T12:42:35.360Z"
   },
   {
    "duration": 4,
    "start_time": "2024-12-16T12:43:06.663Z"
   },
   {
    "duration": 125,
    "start_time": "2024-12-16T12:44:27.023Z"
   },
   {
    "duration": 133,
    "start_time": "2024-12-16T12:45:06.470Z"
   },
   {
    "duration": 136,
    "start_time": "2024-12-16T12:45:10.110Z"
   },
   {
    "duration": 149,
    "start_time": "2024-12-16T12:45:20.573Z"
   },
   {
    "duration": 1054,
    "start_time": "2024-12-16T12:46:12.708Z"
   },
   {
    "duration": 1017,
    "start_time": "2024-12-16T12:46:22.782Z"
   },
   {
    "duration": 7,
    "start_time": "2024-12-16T12:46:43.341Z"
   },
   {
    "duration": 11,
    "start_time": "2024-12-16T12:47:22.172Z"
   },
   {
    "duration": 162,
    "start_time": "2024-12-16T12:48:56.996Z"
   },
   {
    "duration": 136,
    "start_time": "2024-12-16T12:49:30.667Z"
   },
   {
    "duration": 133,
    "start_time": "2024-12-16T12:49:49.707Z"
   },
   {
    "duration": 11,
    "start_time": "2024-12-16T12:49:57.154Z"
   },
   {
    "duration": 11,
    "start_time": "2024-12-16T13:50:10.518Z"
   },
   {
    "duration": 2,
    "start_time": "2024-12-16T13:50:21.391Z"
   },
   {
    "duration": 74,
    "start_time": "2024-12-16T13:50:21.395Z"
   },
   {
    "duration": 17,
    "start_time": "2024-12-16T13:50:21.470Z"
   },
   {
    "duration": 8,
    "start_time": "2024-12-16T13:50:21.489Z"
   },
   {
    "duration": 15,
    "start_time": "2024-12-16T13:50:21.499Z"
   },
   {
    "duration": 18,
    "start_time": "2024-12-16T13:50:21.516Z"
   },
   {
    "duration": 8,
    "start_time": "2024-12-16T13:50:21.535Z"
   },
   {
    "duration": 9,
    "start_time": "2024-12-16T13:50:21.545Z"
   },
   {
    "duration": 12,
    "start_time": "2024-12-16T13:50:21.555Z"
   },
   {
    "duration": 11,
    "start_time": "2024-12-16T13:50:21.569Z"
   },
   {
    "duration": 48,
    "start_time": "2024-12-16T13:50:21.581Z"
   },
   {
    "duration": 14,
    "start_time": "2024-12-16T13:50:21.631Z"
   },
   {
    "duration": 7,
    "start_time": "2024-12-16T13:50:21.647Z"
   },
   {
    "duration": 188,
    "start_time": "2024-12-16T13:50:21.656Z"
   },
   {
    "duration": 13,
    "start_time": "2024-12-16T13:50:21.846Z"
   },
   {
    "duration": 17,
    "start_time": "2024-12-16T13:50:21.861Z"
   },
   {
    "duration": 307,
    "start_time": "2024-12-16T13:50:21.880Z"
   },
   {
    "duration": 5,
    "start_time": "2024-12-16T13:50:22.189Z"
   },
   {
    "duration": 31,
    "start_time": "2024-12-16T13:50:22.196Z"
   },
   {
    "duration": 201,
    "start_time": "2024-12-16T13:50:22.229Z"
   },
   {
    "duration": 22,
    "start_time": "2024-12-16T13:50:22.431Z"
   },
   {
    "duration": 310,
    "start_time": "2024-12-16T13:50:22.455Z"
   },
   {
    "duration": 396,
    "start_time": "2024-12-16T13:50:22.766Z"
   },
   {
    "duration": 295,
    "start_time": "2024-12-16T13:50:23.163Z"
   },
   {
    "duration": 313,
    "start_time": "2024-12-16T13:50:23.460Z"
   },
   {
    "duration": 130,
    "start_time": "2024-12-16T13:50:23.775Z"
   },
   {
    "duration": 12,
    "start_time": "2024-12-16T13:50:23.911Z"
   },
   {
    "duration": 2023,
    "start_time": "2024-12-16T13:50:23.925Z"
   },
   {
    "duration": 0,
    "start_time": "2024-12-16T13:50:25.950Z"
   },
   {
    "duration": 9,
    "start_time": "2024-12-16T13:50:34.588Z"
   },
   {
    "duration": 32,
    "start_time": "2024-12-16T13:50:48.709Z"
   },
   {
    "duration": 22,
    "start_time": "2024-12-16T13:50:58.852Z"
   },
   {
    "duration": 140,
    "start_time": "2024-12-16T13:53:01.308Z"
   },
   {
    "duration": 112,
    "start_time": "2024-12-16T13:55:19.291Z"
   },
   {
    "duration": 611,
    "start_time": "2024-12-16T13:55:37.081Z"
   },
   {
    "duration": 3,
    "start_time": "2024-12-16T13:56:39.965Z"
   },
   {
    "duration": 97,
    "start_time": "2024-12-16T13:56:39.971Z"
   },
   {
    "duration": 21,
    "start_time": "2024-12-16T13:56:40.070Z"
   },
   {
    "duration": 20,
    "start_time": "2024-12-16T13:56:40.093Z"
   },
   {
    "duration": 6,
    "start_time": "2024-12-16T13:56:40.115Z"
   },
   {
    "duration": 12,
    "start_time": "2024-12-16T13:56:40.123Z"
   },
   {
    "duration": 9,
    "start_time": "2024-12-16T13:56:40.137Z"
   },
   {
    "duration": 8,
    "start_time": "2024-12-16T13:56:40.147Z"
   },
   {
    "duration": 13,
    "start_time": "2024-12-16T13:56:40.156Z"
   },
   {
    "duration": 42,
    "start_time": "2024-12-16T13:56:40.171Z"
   },
   {
    "duration": 32,
    "start_time": "2024-12-16T13:56:40.215Z"
   },
   {
    "duration": 14,
    "start_time": "2024-12-16T13:56:40.249Z"
   },
   {
    "duration": 6,
    "start_time": "2024-12-16T13:56:40.265Z"
   },
   {
    "duration": 216,
    "start_time": "2024-12-16T13:56:40.275Z"
   },
   {
    "duration": 22,
    "start_time": "2024-12-16T13:56:40.493Z"
   },
   {
    "duration": 20,
    "start_time": "2024-12-16T13:56:40.516Z"
   },
   {
    "duration": 327,
    "start_time": "2024-12-16T13:56:40.538Z"
   },
   {
    "duration": 6,
    "start_time": "2024-12-16T13:56:40.867Z"
   },
   {
    "duration": 16,
    "start_time": "2024-12-16T13:56:40.874Z"
   },
   {
    "duration": 213,
    "start_time": "2024-12-16T13:56:40.892Z"
   },
   {
    "duration": 26,
    "start_time": "2024-12-16T13:56:41.107Z"
   },
   {
    "duration": 363,
    "start_time": "2024-12-16T13:56:41.134Z"
   },
   {
    "duration": 312,
    "start_time": "2024-12-16T13:56:41.499Z"
   },
   {
    "duration": 333,
    "start_time": "2024-12-16T13:56:41.813Z"
   },
   {
    "duration": 337,
    "start_time": "2024-12-16T13:56:42.148Z"
   },
   {
    "duration": 140,
    "start_time": "2024-12-16T13:56:42.487Z"
   },
   {
    "duration": 13,
    "start_time": "2024-12-16T13:56:42.629Z"
   },
   {
    "duration": 129,
    "start_time": "2024-12-16T13:56:42.643Z"
   },
   {
    "duration": 127,
    "start_time": "2024-12-16T14:02:52.261Z"
   },
   {
    "duration": 241,
    "start_time": "2024-12-16T14:02:56.332Z"
   },
   {
    "duration": 68,
    "start_time": "2024-12-16T14:03:28.554Z"
   },
   {
    "duration": 3,
    "start_time": "2024-12-16T14:03:33.651Z"
   },
   {
    "duration": 3,
    "start_time": "2024-12-16T14:03:50.562Z"
   },
   {
    "duration": 5,
    "start_time": "2024-12-16T14:04:17.665Z"
   },
   {
    "duration": 590,
    "start_time": "2024-12-16T14:07:06.425Z"
   },
   {
    "duration": 124,
    "start_time": "2024-12-16T14:08:12.077Z"
   },
   {
    "duration": 2,
    "start_time": "2024-12-16T14:09:19.331Z"
   },
   {
    "duration": 86,
    "start_time": "2024-12-16T14:09:19.335Z"
   },
   {
    "duration": 17,
    "start_time": "2024-12-16T14:09:19.423Z"
   },
   {
    "duration": 8,
    "start_time": "2024-12-16T14:09:19.442Z"
   },
   {
    "duration": 24,
    "start_time": "2024-12-16T14:09:19.451Z"
   },
   {
    "duration": 11,
    "start_time": "2024-12-16T14:09:19.476Z"
   },
   {
    "duration": 10,
    "start_time": "2024-12-16T14:09:19.489Z"
   },
   {
    "duration": 27,
    "start_time": "2024-12-16T14:09:19.500Z"
   },
   {
    "duration": 13,
    "start_time": "2024-12-16T14:09:19.529Z"
   },
   {
    "duration": 6,
    "start_time": "2024-12-16T14:09:19.544Z"
   },
   {
    "duration": 28,
    "start_time": "2024-12-16T14:09:19.551Z"
   },
   {
    "duration": 14,
    "start_time": "2024-12-16T14:09:19.581Z"
   },
   {
    "duration": 19,
    "start_time": "2024-12-16T14:09:19.597Z"
   },
   {
    "duration": 176,
    "start_time": "2024-12-16T14:09:19.617Z"
   },
   {
    "duration": 23,
    "start_time": "2024-12-16T14:09:19.795Z"
   },
   {
    "duration": 21,
    "start_time": "2024-12-16T14:09:19.820Z"
   },
   {
    "duration": 295,
    "start_time": "2024-12-16T14:09:19.842Z"
   },
   {
    "duration": 5,
    "start_time": "2024-12-16T14:09:20.139Z"
   },
   {
    "duration": 14,
    "start_time": "2024-12-16T14:09:20.146Z"
   },
   {
    "duration": 220,
    "start_time": "2024-12-16T14:09:20.161Z"
   },
   {
    "duration": 20,
    "start_time": "2024-12-16T14:09:20.383Z"
   },
   {
    "duration": 345,
    "start_time": "2024-12-16T14:09:20.405Z"
   },
   {
    "duration": 285,
    "start_time": "2024-12-16T14:09:20.752Z"
   },
   {
    "duration": 334,
    "start_time": "2024-12-16T14:09:21.041Z"
   },
   {
    "duration": 356,
    "start_time": "2024-12-16T14:09:21.376Z"
   },
   {
    "duration": 132,
    "start_time": "2024-12-16T14:09:21.734Z"
   },
   {
    "duration": 11,
    "start_time": "2024-12-16T14:09:21.868Z"
   },
   {
    "duration": 12,
    "start_time": "2024-12-16T14:09:53.862Z"
   },
   {
    "duration": 9,
    "start_time": "2024-12-16T14:10:01.694Z"
   },
   {
    "duration": 9,
    "start_time": "2024-12-16T14:13:30.147Z"
   },
   {
    "duration": 8,
    "start_time": "2024-12-16T14:13:38.764Z"
   },
   {
    "duration": 682,
    "start_time": "2024-12-16T14:15:42.435Z"
   },
   {
    "duration": 659,
    "start_time": "2024-12-16T14:19:03.240Z"
   },
   {
    "duration": 7,
    "start_time": "2024-12-16T14:20:29.511Z"
   },
   {
    "duration": 615,
    "start_time": "2024-12-16T14:22:32.350Z"
   },
   {
    "duration": 702,
    "start_time": "2024-12-16T14:24:39.677Z"
   },
   {
    "duration": 605,
    "start_time": "2024-12-16T14:25:53.843Z"
   },
   {
    "duration": 266,
    "start_time": "2024-12-16T14:26:01.116Z"
   },
   {
    "duration": 346,
    "start_time": "2024-12-16T14:26:27.415Z"
   },
   {
    "duration": 6,
    "start_time": "2024-12-16T14:26:57.523Z"
   },
   {
    "duration": 8,
    "start_time": "2024-12-16T14:27:07.402Z"
   },
   {
    "duration": 7,
    "start_time": "2024-12-16T14:27:15.114Z"
   },
   {
    "duration": 7,
    "start_time": "2024-12-16T14:29:04.201Z"
   },
   {
    "duration": 3,
    "start_time": "2024-12-16T14:29:20.905Z"
   },
   {
    "duration": 87,
    "start_time": "2024-12-16T14:29:20.910Z"
   },
   {
    "duration": 19,
    "start_time": "2024-12-16T14:29:20.999Z"
   },
   {
    "duration": 25,
    "start_time": "2024-12-16T14:29:21.020Z"
   },
   {
    "duration": 12,
    "start_time": "2024-12-16T14:29:21.048Z"
   },
   {
    "duration": 12,
    "start_time": "2024-12-16T14:29:21.062Z"
   },
   {
    "duration": 9,
    "start_time": "2024-12-16T14:29:21.076Z"
   },
   {
    "duration": 11,
    "start_time": "2024-12-16T14:29:21.087Z"
   },
   {
    "duration": 14,
    "start_time": "2024-12-16T14:29:21.112Z"
   },
   {
    "duration": 13,
    "start_time": "2024-12-16T14:29:21.127Z"
   },
   {
    "duration": 32,
    "start_time": "2024-12-16T14:29:21.142Z"
   },
   {
    "duration": 15,
    "start_time": "2024-12-16T14:29:21.176Z"
   },
   {
    "duration": 20,
    "start_time": "2024-12-16T14:29:21.192Z"
   },
   {
    "duration": 251,
    "start_time": "2024-12-16T14:29:21.217Z"
   },
   {
    "duration": 16,
    "start_time": "2024-12-16T14:29:21.469Z"
   },
   {
    "duration": 43,
    "start_time": "2024-12-16T14:29:21.486Z"
   },
   {
    "duration": 342,
    "start_time": "2024-12-16T14:29:21.531Z"
   },
   {
    "duration": 9,
    "start_time": "2024-12-16T14:29:21.875Z"
   },
   {
    "duration": 41,
    "start_time": "2024-12-16T14:29:21.886Z"
   },
   {
    "duration": 281,
    "start_time": "2024-12-16T14:29:21.930Z"
   },
   {
    "duration": 27,
    "start_time": "2024-12-16T14:29:22.213Z"
   },
   {
    "duration": 422,
    "start_time": "2024-12-16T14:29:22.243Z"
   },
   {
    "duration": 332,
    "start_time": "2024-12-16T14:29:22.666Z"
   },
   {
    "duration": 330,
    "start_time": "2024-12-16T14:29:23.000Z"
   },
   {
    "duration": 344,
    "start_time": "2024-12-16T14:29:23.332Z"
   },
   {
    "duration": 144,
    "start_time": "2024-12-16T14:29:23.677Z"
   },
   {
    "duration": 12,
    "start_time": "2024-12-16T14:29:23.823Z"
   },
   {
    "duration": 483,
    "start_time": "2024-12-16T14:29:23.837Z"
   },
   {
    "duration": 7,
    "start_time": "2024-12-16T14:29:29.523Z"
   },
   {
    "duration": 576,
    "start_time": "2024-12-16T14:31:28.117Z"
   },
   {
    "duration": 167,
    "start_time": "2024-12-16T15:29:01.866Z"
   },
   {
    "duration": 138,
    "start_time": "2024-12-16T15:31:32.656Z"
   },
   {
    "duration": 3,
    "start_time": "2024-12-16T15:31:47.893Z"
   },
   {
    "duration": 108,
    "start_time": "2024-12-16T15:31:47.898Z"
   },
   {
    "duration": 26,
    "start_time": "2024-12-16T15:31:48.008Z"
   },
   {
    "duration": 6,
    "start_time": "2024-12-16T15:31:48.036Z"
   },
   {
    "duration": 6,
    "start_time": "2024-12-16T15:31:48.043Z"
   },
   {
    "duration": 9,
    "start_time": "2024-12-16T15:31:48.051Z"
   },
   {
    "duration": 10,
    "start_time": "2024-12-16T15:31:48.062Z"
   },
   {
    "duration": 39,
    "start_time": "2024-12-16T15:31:48.073Z"
   },
   {
    "duration": 17,
    "start_time": "2024-12-16T15:31:48.125Z"
   },
   {
    "duration": 17,
    "start_time": "2024-12-16T15:31:48.144Z"
   },
   {
    "duration": 39,
    "start_time": "2024-12-16T15:31:48.163Z"
   },
   {
    "duration": 24,
    "start_time": "2024-12-16T15:31:48.204Z"
   },
   {
    "duration": 6,
    "start_time": "2024-12-16T15:31:48.231Z"
   },
   {
    "duration": 210,
    "start_time": "2024-12-16T15:31:48.239Z"
   },
   {
    "duration": 15,
    "start_time": "2024-12-16T15:31:48.451Z"
   },
   {
    "duration": 23,
    "start_time": "2024-12-16T15:31:48.467Z"
   },
   {
    "duration": 342,
    "start_time": "2024-12-16T15:31:48.491Z"
   },
   {
    "duration": 6,
    "start_time": "2024-12-16T15:31:48.834Z"
   },
   {
    "duration": 17,
    "start_time": "2024-12-16T15:31:48.842Z"
   },
   {
    "duration": 225,
    "start_time": "2024-12-16T15:31:48.860Z"
   },
   {
    "duration": 182,
    "start_time": "2024-12-16T15:31:49.087Z"
   },
   {
    "duration": 363,
    "start_time": "2024-12-16T15:31:49.270Z"
   },
   {
    "duration": 315,
    "start_time": "2024-12-16T15:31:49.634Z"
   },
   {
    "duration": 326,
    "start_time": "2024-12-16T15:31:49.952Z"
   },
   {
    "duration": 381,
    "start_time": "2024-12-16T15:31:50.280Z"
   },
   {
    "duration": 194,
    "start_time": "2024-12-16T15:31:50.662Z"
   },
   {
    "duration": 12,
    "start_time": "2024-12-16T15:31:50.858Z"
   },
   {
    "duration": 474,
    "start_time": "2024-12-16T15:31:50.872Z"
   },
   {
    "duration": 160,
    "start_time": "2024-12-16T15:31:51.347Z"
   },
   {
    "duration": 120,
    "start_time": "2024-12-16T15:32:05.287Z"
   },
   {
    "duration": 176,
    "start_time": "2024-12-16T15:32:07.895Z"
   },
   {
    "duration": 209,
    "start_time": "2024-12-16T15:32:18.359Z"
   },
   {
    "duration": 231,
    "start_time": "2024-12-16T15:32:28.923Z"
   },
   {
    "duration": 159,
    "start_time": "2024-12-16T15:32:33.663Z"
   },
   {
    "duration": 232,
    "start_time": "2024-12-16T15:32:39.904Z"
   },
   {
    "duration": 7,
    "start_time": "2024-12-16T15:32:59.342Z"
   },
   {
    "duration": 215,
    "start_time": "2024-12-16T15:33:48.486Z"
   },
   {
    "duration": 222,
    "start_time": "2024-12-16T15:33:56.909Z"
   },
   {
    "duration": 219,
    "start_time": "2024-12-16T15:34:02.470Z"
   },
   {
    "duration": 207,
    "start_time": "2024-12-16T15:34:09.469Z"
   },
   {
    "duration": 239,
    "start_time": "2024-12-16T15:34:19.061Z"
   },
   {
    "duration": 145,
    "start_time": "2024-12-16T15:34:30.285Z"
   },
   {
    "duration": 212,
    "start_time": "2024-12-16T15:34:33.693Z"
   },
   {
    "duration": 386,
    "start_time": "2024-12-16T15:34:41.397Z"
   },
   {
    "duration": 222,
    "start_time": "2024-12-16T15:34:47.549Z"
   },
   {
    "duration": 241,
    "start_time": "2024-12-16T15:34:56.590Z"
   },
   {
    "duration": 141,
    "start_time": "2024-12-16T15:35:03.692Z"
   },
   {
    "duration": 225,
    "start_time": "2024-12-16T15:35:08.520Z"
   },
   {
    "duration": 204,
    "start_time": "2024-12-16T15:35:20.781Z"
   },
   {
    "duration": 210,
    "start_time": "2024-12-16T15:35:27.332Z"
   },
   {
    "duration": 234,
    "start_time": "2024-12-16T15:35:39.804Z"
   },
   {
    "duration": 232,
    "start_time": "2024-12-16T15:35:46.629Z"
   },
   {
    "duration": 209,
    "start_time": "2024-12-16T15:35:55.388Z"
   },
   {
    "duration": 206,
    "start_time": "2024-12-16T15:36:15.452Z"
   },
   {
    "duration": 133,
    "start_time": "2024-12-16T15:36:30.475Z"
   },
   {
    "duration": 207,
    "start_time": "2024-12-16T15:36:42.980Z"
   },
   {
    "duration": 126,
    "start_time": "2024-12-16T15:36:49.724Z"
   },
   {
    "duration": 216,
    "start_time": "2024-12-16T15:36:54.452Z"
   },
   {
    "duration": 217,
    "start_time": "2024-12-16T15:37:03.579Z"
   },
   {
    "duration": 217,
    "start_time": "2024-12-16T15:37:21.739Z"
   },
   {
    "duration": 209,
    "start_time": "2024-12-16T15:37:46.829Z"
   },
   {
    "duration": 118,
    "start_time": "2024-12-16T15:37:53.635Z"
   },
   {
    "duration": 196,
    "start_time": "2024-12-16T15:37:58.928Z"
   },
   {
    "duration": 130,
    "start_time": "2024-12-16T15:38:12.106Z"
   },
   {
    "duration": 257,
    "start_time": "2024-12-16T15:38:18.627Z"
   },
   {
    "duration": 126,
    "start_time": "2024-12-16T15:38:22.724Z"
   },
   {
    "duration": 145,
    "start_time": "2024-12-16T15:38:28.505Z"
   },
   {
    "duration": 240,
    "start_time": "2024-12-16T15:38:33.012Z"
   },
   {
    "duration": 207,
    "start_time": "2024-12-16T15:39:13.466Z"
   },
   {
    "duration": 23,
    "start_time": "2024-12-16T15:43:48.479Z"
   },
   {
    "duration": 9,
    "start_time": "2024-12-16T15:44:43.631Z"
   },
   {
    "duration": 8,
    "start_time": "2024-12-16T15:44:52.973Z"
   },
   {
    "duration": 23,
    "start_time": "2024-12-16T15:45:06.197Z"
   },
   {
    "duration": 23,
    "start_time": "2024-12-16T15:45:28.436Z"
   },
   {
    "duration": 10,
    "start_time": "2024-12-16T15:45:55.580Z"
   },
   {
    "duration": 11,
    "start_time": "2024-12-16T15:46:23.483Z"
   },
   {
    "duration": 8,
    "start_time": "2024-12-16T15:47:24.051Z"
   },
   {
    "duration": 23,
    "start_time": "2024-12-16T15:47:30.243Z"
   },
   {
    "duration": 9,
    "start_time": "2024-12-16T15:50:01.196Z"
   },
   {
    "duration": 20,
    "start_time": "2024-12-16T15:50:41.446Z"
   },
   {
    "duration": 16,
    "start_time": "2024-12-16T15:53:04.648Z"
   },
   {
    "duration": 14,
    "start_time": "2024-12-16T15:53:55.056Z"
   },
   {
    "duration": 15,
    "start_time": "2024-12-16T15:56:22.813Z"
   },
   {
    "duration": 16,
    "start_time": "2024-12-16T15:56:42.357Z"
   },
   {
    "duration": 14,
    "start_time": "2024-12-16T15:57:21.092Z"
   },
   {
    "duration": 15,
    "start_time": "2024-12-16T15:57:33.076Z"
   },
   {
    "duration": 14,
    "start_time": "2024-12-16T15:57:37.852Z"
   },
   {
    "duration": 15,
    "start_time": "2024-12-16T15:58:22.908Z"
   },
   {
    "duration": 14,
    "start_time": "2024-12-16T15:58:24.755Z"
   },
   {
    "duration": 1178,
    "start_time": "2024-12-16T17:24:11.039Z"
   },
   {
    "duration": 267,
    "start_time": "2024-12-16T17:24:12.225Z"
   },
   {
    "duration": 18,
    "start_time": "2024-12-16T17:24:12.493Z"
   },
   {
    "duration": 21,
    "start_time": "2024-12-16T17:24:12.513Z"
   },
   {
    "duration": 9,
    "start_time": "2024-12-16T17:24:12.535Z"
   },
   {
    "duration": 23,
    "start_time": "2024-12-16T17:24:12.545Z"
   },
   {
    "duration": 9,
    "start_time": "2024-12-16T17:24:12.569Z"
   },
   {
    "duration": 9,
    "start_time": "2024-12-16T17:24:12.579Z"
   },
   {
    "duration": 16,
    "start_time": "2024-12-16T17:24:12.590Z"
   },
   {
    "duration": 18,
    "start_time": "2024-12-16T17:24:12.609Z"
   },
   {
    "duration": 26,
    "start_time": "2024-12-16T17:24:12.629Z"
   },
   {
    "duration": 18,
    "start_time": "2024-12-16T17:24:12.658Z"
   },
   {
    "duration": 6,
    "start_time": "2024-12-16T17:24:12.679Z"
   },
   {
    "duration": 190,
    "start_time": "2024-12-16T17:24:12.686Z"
   },
   {
    "duration": 16,
    "start_time": "2024-12-16T17:24:12.878Z"
   },
   {
    "duration": 37,
    "start_time": "2024-12-16T17:24:12.896Z"
   },
   {
    "duration": 329,
    "start_time": "2024-12-16T17:24:12.935Z"
   },
   {
    "duration": 7,
    "start_time": "2024-12-16T17:24:13.265Z"
   },
   {
    "duration": 15,
    "start_time": "2024-12-16T17:24:13.273Z"
   },
   {
    "duration": 190,
    "start_time": "2024-12-16T17:24:13.289Z"
   },
   {
    "duration": 38,
    "start_time": "2024-12-16T17:24:13.481Z"
   },
   {
    "duration": 300,
    "start_time": "2024-12-16T17:24:13.525Z"
   },
   {
    "duration": 277,
    "start_time": "2024-12-16T17:24:13.826Z"
   },
   {
    "duration": 313,
    "start_time": "2024-12-16T17:24:14.104Z"
   },
   {
    "duration": 336,
    "start_time": "2024-12-16T17:24:14.431Z"
   },
   {
    "duration": 128,
    "start_time": "2024-12-16T17:24:14.768Z"
   },
   {
    "duration": 9,
    "start_time": "2024-12-16T17:24:14.897Z"
   },
   {
    "duration": 468,
    "start_time": "2024-12-16T17:24:14.914Z"
   },
   {
    "duration": 225,
    "start_time": "2024-12-16T17:24:15.383Z"
   },
   {
    "duration": 9,
    "start_time": "2024-12-16T17:24:15.610Z"
   },
   {
    "duration": 41,
    "start_time": "2024-12-16T17:24:15.620Z"
   },
   {
    "duration": 13,
    "start_time": "2024-12-16T17:24:15.663Z"
   },
   {
    "duration": 13,
    "start_time": "2024-12-16T17:24:15.677Z"
   },
   {
    "duration": 272,
    "start_time": "2024-12-16T17:28:23.892Z"
   },
   {
    "duration": 14,
    "start_time": "2024-12-16T17:29:40.261Z"
   },
   {
    "duration": 216,
    "start_time": "2024-12-16T17:32:45.872Z"
   },
   {
    "duration": 193,
    "start_time": "2024-12-16T17:33:00.680Z"
   },
   {
    "duration": 204,
    "start_time": "2024-12-16T17:33:22.423Z"
   },
   {
    "duration": 186,
    "start_time": "2024-12-16T17:33:32.728Z"
   },
   {
    "duration": 183,
    "start_time": "2024-12-16T17:34:46.767Z"
   },
   {
    "duration": 205,
    "start_time": "2024-12-16T17:34:54.017Z"
   },
   {
    "duration": 10,
    "start_time": "2024-12-16T17:42:17.577Z"
   },
   {
    "duration": 15,
    "start_time": "2024-12-16T17:44:07.271Z"
   },
   {
    "duration": 120,
    "start_time": "2024-12-16T17:45:05.207Z"
   },
   {
    "duration": 4,
    "start_time": "2024-12-16T17:45:34.534Z"
   },
   {
    "duration": 6,
    "start_time": "2024-12-16T17:45:58.928Z"
   },
   {
    "duration": 113,
    "start_time": "2024-12-16T17:46:07.488Z"
   },
   {
    "duration": 4,
    "start_time": "2024-12-16T17:46:16.166Z"
   },
   {
    "duration": 106,
    "start_time": "2024-12-16T17:49:45.228Z"
   },
   {
    "duration": 117,
    "start_time": "2024-12-16T17:51:54.434Z"
   },
   {
    "duration": 165,
    "start_time": "2024-12-16T17:54:00.736Z"
   },
   {
    "duration": 106,
    "start_time": "2024-12-16T17:56:12.230Z"
   },
   {
    "duration": 19,
    "start_time": "2024-12-16T18:12:48.403Z"
   },
   {
    "duration": 14,
    "start_time": "2024-12-16T18:15:23.184Z"
   },
   {
    "duration": 14,
    "start_time": "2024-12-16T18:15:54.480Z"
   },
   {
    "duration": 16,
    "start_time": "2024-12-16T18:16:23.191Z"
   },
   {
    "duration": 19,
    "start_time": "2024-12-16T18:17:03.784Z"
   },
   {
    "duration": 35,
    "start_time": "2024-12-16T18:17:49.695Z"
   },
   {
    "duration": 35,
    "start_time": "2024-12-16T18:20:33.853Z"
   },
   {
    "duration": 53,
    "start_time": "2024-12-16T18:20:44.340Z"
   },
   {
    "duration": 34,
    "start_time": "2024-12-16T18:21:01.085Z"
   },
   {
    "duration": 37,
    "start_time": "2024-12-16T18:21:10.749Z"
   },
   {
    "duration": 34,
    "start_time": "2024-12-16T18:21:28.252Z"
   },
   {
    "duration": 20,
    "start_time": "2024-12-16T18:40:08.389Z"
   },
   {
    "duration": 117,
    "start_time": "2024-12-16T18:42:47.283Z"
   },
   {
    "duration": 114,
    "start_time": "2024-12-16T18:43:24.820Z"
   },
   {
    "duration": 115,
    "start_time": "2024-12-16T18:44:39.218Z"
   },
   {
    "duration": 124,
    "start_time": "2024-12-16T18:44:53.122Z"
   },
   {
    "duration": 8,
    "start_time": "2024-12-16T18:46:08.856Z"
   },
   {
    "duration": 9,
    "start_time": "2024-12-16T18:46:23.825Z"
   },
   {
    "duration": 8,
    "start_time": "2024-12-16T18:46:29.345Z"
   },
   {
    "duration": 3,
    "start_time": "2024-12-16T18:46:46.737Z"
   },
   {
    "duration": 79,
    "start_time": "2024-12-16T18:46:46.742Z"
   },
   {
    "duration": 16,
    "start_time": "2024-12-16T18:46:46.822Z"
   },
   {
    "duration": 4,
    "start_time": "2024-12-16T18:46:46.840Z"
   },
   {
    "duration": 5,
    "start_time": "2024-12-16T18:46:46.845Z"
   },
   {
    "duration": 16,
    "start_time": "2024-12-16T18:46:46.851Z"
   },
   {
    "duration": 18,
    "start_time": "2024-12-16T18:46:46.868Z"
   },
   {
    "duration": 24,
    "start_time": "2024-12-16T18:46:46.887Z"
   },
   {
    "duration": 11,
    "start_time": "2024-12-16T18:46:46.912Z"
   },
   {
    "duration": 8,
    "start_time": "2024-12-16T18:46:46.925Z"
   },
   {
    "duration": 44,
    "start_time": "2024-12-16T18:46:46.934Z"
   },
   {
    "duration": 12,
    "start_time": "2024-12-16T18:46:46.979Z"
   },
   {
    "duration": 12,
    "start_time": "2024-12-16T18:46:46.993Z"
   },
   {
    "duration": 167,
    "start_time": "2024-12-16T18:46:47.007Z"
   },
   {
    "duration": 12,
    "start_time": "2024-12-16T18:46:47.175Z"
   },
   {
    "duration": 63,
    "start_time": "2024-12-16T18:46:47.189Z"
   },
   {
    "duration": 264,
    "start_time": "2024-12-16T18:46:47.253Z"
   },
   {
    "duration": 6,
    "start_time": "2024-12-16T18:46:47.518Z"
   },
   {
    "duration": 21,
    "start_time": "2024-12-16T18:46:47.525Z"
   },
   {
    "duration": 197,
    "start_time": "2024-12-16T18:46:47.548Z"
   },
   {
    "duration": 20,
    "start_time": "2024-12-16T18:46:47.747Z"
   },
   {
    "duration": 343,
    "start_time": "2024-12-16T18:46:47.768Z"
   },
   {
    "duration": 276,
    "start_time": "2024-12-16T18:46:48.113Z"
   },
   {
    "duration": 338,
    "start_time": "2024-12-16T18:46:48.391Z"
   },
   {
    "duration": 308,
    "start_time": "2024-12-16T18:46:48.730Z"
   },
   {
    "duration": 130,
    "start_time": "2024-12-16T18:46:49.040Z"
   },
   {
    "duration": 10,
    "start_time": "2024-12-16T18:46:49.171Z"
   },
   {
    "duration": 406,
    "start_time": "2024-12-16T18:46:49.184Z"
   },
   {
    "duration": 191,
    "start_time": "2024-12-16T18:46:49.592Z"
   },
   {
    "duration": 9,
    "start_time": "2024-12-16T18:46:49.784Z"
   },
   {
    "duration": 125,
    "start_time": "2024-12-16T18:46:49.795Z"
   },
   {
    "duration": 115,
    "start_time": "2024-12-16T18:46:49.921Z"
   },
   {
    "duration": 111,
    "start_time": "2024-12-16T18:46:50.038Z"
   },
   {
    "duration": 33,
    "start_time": "2024-12-16T18:46:50.150Z"
   },
   {
    "duration": 7,
    "start_time": "2024-12-16T18:46:50.185Z"
   },
   {
    "duration": 22,
    "start_time": "2024-12-16T18:46:53.751Z"
   },
   {
    "duration": 8,
    "start_time": "2024-12-16T18:47:22.722Z"
   },
   {
    "duration": 11,
    "start_time": "2024-12-16T18:47:35.023Z"
   },
   {
    "duration": 6,
    "start_time": "2024-12-16T18:47:59.424Z"
   },
   {
    "duration": 16,
    "start_time": "2024-12-16T18:50:57.733Z"
   },
   {
    "duration": 4,
    "start_time": "2024-12-16T18:51:47.316Z"
   },
   {
    "duration": 5,
    "start_time": "2024-12-16T18:51:50.093Z"
   },
   {
    "duration": 7,
    "start_time": "2024-12-16T18:51:52.484Z"
   },
   {
    "duration": 6,
    "start_time": "2024-12-16T18:52:00.028Z"
   },
   {
    "duration": 867,
    "start_time": "2024-12-16T18:52:29.796Z"
   },
   {
    "duration": 9,
    "start_time": "2024-12-16T18:53:17.396Z"
   },
   {
    "duration": 6,
    "start_time": "2024-12-16T18:53:23.195Z"
   },
   {
    "duration": 9,
    "start_time": "2024-12-16T18:53:25.866Z"
   },
   {
    "duration": 54,
    "start_time": "2024-12-16T18:53:47.051Z"
   },
   {
    "duration": 280,
    "start_time": "2024-12-16T18:53:53.163Z"
   },
   {
    "duration": 372,
    "start_time": "2024-12-16T18:54:00.060Z"
   },
   {
    "duration": 139,
    "start_time": "2024-12-16T18:57:07.945Z"
   },
   {
    "duration": 114,
    "start_time": "2024-12-16T18:57:48.169Z"
   },
   {
    "duration": 141,
    "start_time": "2024-12-16T18:57:53.673Z"
   },
   {
    "duration": 130,
    "start_time": "2024-12-16T18:58:25.670Z"
   },
   {
    "duration": 136,
    "start_time": "2024-12-16T19:05:14.530Z"
   },
   {
    "duration": 149,
    "start_time": "2024-12-16T19:05:21.209Z"
   },
   {
    "duration": 149,
    "start_time": "2024-12-16T19:07:08.209Z"
   },
   {
    "duration": 15,
    "start_time": "2024-12-16T19:07:31.032Z"
   },
   {
    "duration": 142,
    "start_time": "2024-12-16T19:07:37.524Z"
   },
   {
    "duration": 140,
    "start_time": "2024-12-16T19:08:19.846Z"
   },
   {
    "duration": 136,
    "start_time": "2024-12-16T19:09:18.559Z"
   },
   {
    "duration": 4,
    "start_time": "2024-12-16T19:09:40.414Z"
   },
   {
    "duration": 8,
    "start_time": "2024-12-16T19:09:57.349Z"
   },
   {
    "duration": 278,
    "start_time": "2024-12-16T19:10:21.358Z"
   },
   {
    "duration": 325,
    "start_time": "2024-12-16T19:10:28.565Z"
   },
   {
    "duration": 138,
    "start_time": "2024-12-16T19:10:36.245Z"
   },
   {
    "duration": 287,
    "start_time": "2024-12-16T19:10:39.981Z"
   },
   {
    "duration": 261,
    "start_time": "2024-12-16T19:12:11.508Z"
   },
   {
    "duration": 56,
    "start_time": "2024-12-16T19:13:07.404Z"
   },
   {
    "duration": 259,
    "start_time": "2024-12-16T19:13:14.402Z"
   },
   {
    "duration": 273,
    "start_time": "2024-12-16T19:13:53.355Z"
   },
   {
    "duration": 241,
    "start_time": "2024-12-16T19:14:13.531Z"
   },
   {
    "duration": 288,
    "start_time": "2024-12-16T19:15:51.666Z"
   },
   {
    "duration": 3,
    "start_time": "2024-12-16T19:17:23.462Z"
   },
   {
    "duration": 77,
    "start_time": "2024-12-16T19:17:23.466Z"
   },
   {
    "duration": 16,
    "start_time": "2024-12-16T19:17:23.545Z"
   },
   {
    "duration": 19,
    "start_time": "2024-12-16T19:17:23.563Z"
   },
   {
    "duration": 16,
    "start_time": "2024-12-16T19:17:23.584Z"
   },
   {
    "duration": 13,
    "start_time": "2024-12-16T19:17:23.601Z"
   },
   {
    "duration": 9,
    "start_time": "2024-12-16T19:17:23.615Z"
   },
   {
    "duration": 22,
    "start_time": "2024-12-16T19:17:23.626Z"
   },
   {
    "duration": 12,
    "start_time": "2024-12-16T19:17:23.650Z"
   },
   {
    "duration": 5,
    "start_time": "2024-12-16T19:17:23.663Z"
   },
   {
    "duration": 23,
    "start_time": "2024-12-16T19:17:23.669Z"
   },
   {
    "duration": 29,
    "start_time": "2024-12-16T19:17:23.694Z"
   },
   {
    "duration": 7,
    "start_time": "2024-12-16T19:17:23.726Z"
   },
   {
    "duration": 201,
    "start_time": "2024-12-16T19:17:23.735Z"
   },
   {
    "duration": 13,
    "start_time": "2024-12-16T19:17:23.937Z"
   },
   {
    "duration": 20,
    "start_time": "2024-12-16T19:17:23.951Z"
   },
   {
    "duration": 290,
    "start_time": "2024-12-16T19:17:23.972Z"
   },
   {
    "duration": 7,
    "start_time": "2024-12-16T19:17:24.264Z"
   },
   {
    "duration": 17,
    "start_time": "2024-12-16T19:17:24.273Z"
   },
   {
    "duration": 204,
    "start_time": "2024-12-16T19:17:24.310Z"
   },
   {
    "duration": 110,
    "start_time": "2024-12-16T19:17:24.516Z"
   },
   {
    "duration": 357,
    "start_time": "2024-12-16T19:17:24.628Z"
   },
   {
    "duration": 283,
    "start_time": "2024-12-16T19:17:24.987Z"
   },
   {
    "duration": 286,
    "start_time": "2024-12-16T19:17:25.272Z"
   },
   {
    "duration": 333,
    "start_time": "2024-12-16T19:17:25.559Z"
   },
   {
    "duration": 139,
    "start_time": "2024-12-16T19:17:25.895Z"
   },
   {
    "duration": 13,
    "start_time": "2024-12-16T19:17:26.035Z"
   },
   {
    "duration": 469,
    "start_time": "2024-12-16T19:17:26.049Z"
   },
   {
    "duration": 197,
    "start_time": "2024-12-16T19:17:26.519Z"
   },
   {
    "duration": 10,
    "start_time": "2024-12-16T19:17:26.718Z"
   },
   {
    "duration": 141,
    "start_time": "2024-12-16T19:17:26.729Z"
   },
   {
    "duration": 121,
    "start_time": "2024-12-16T19:17:26.872Z"
   },
   {
    "duration": 153,
    "start_time": "2024-12-16T19:17:26.995Z"
   },
   {
    "duration": 38,
    "start_time": "2024-12-16T19:17:27.149Z"
   },
   {
    "duration": 290,
    "start_time": "2024-12-16T19:17:27.189Z"
   },
   {
    "duration": 536,
    "start_time": "2024-12-16T19:17:44.457Z"
   },
   {
    "duration": 1048,
    "start_time": "2024-12-17T20:03:05.940Z"
   },
   {
    "duration": 147,
    "start_time": "2024-12-17T20:03:06.990Z"
   },
   {
    "duration": 21,
    "start_time": "2024-12-17T20:03:07.138Z"
   },
   {
    "duration": 53,
    "start_time": "2024-12-17T20:03:07.161Z"
   },
   {
    "duration": 11,
    "start_time": "2024-12-17T20:03:07.217Z"
   },
   {
    "duration": 27,
    "start_time": "2024-12-17T20:03:07.230Z"
   },
   {
    "duration": 24,
    "start_time": "2024-12-17T20:03:07.259Z"
   },
   {
    "duration": 18,
    "start_time": "2024-12-17T20:03:07.284Z"
   },
   {
    "duration": 22,
    "start_time": "2024-12-17T20:03:07.303Z"
   },
   {
    "duration": 6,
    "start_time": "2024-12-17T20:03:07.326Z"
   },
   {
    "duration": 38,
    "start_time": "2024-12-17T20:03:07.333Z"
   },
   {
    "duration": 47,
    "start_time": "2024-12-17T20:03:07.372Z"
   },
   {
    "duration": 7,
    "start_time": "2024-12-17T20:03:07.420Z"
   },
   {
    "duration": 213,
    "start_time": "2024-12-17T20:03:07.429Z"
   },
   {
    "duration": 15,
    "start_time": "2024-12-17T20:03:07.643Z"
   },
   {
    "duration": 78,
    "start_time": "2024-12-17T20:03:07.659Z"
   },
   {
    "duration": 335,
    "start_time": "2024-12-17T20:03:07.738Z"
   },
   {
    "duration": 7,
    "start_time": "2024-12-17T20:03:08.074Z"
   },
   {
    "duration": 33,
    "start_time": "2024-12-17T20:03:08.083Z"
   },
   {
    "duration": 227,
    "start_time": "2024-12-17T20:03:08.117Z"
   },
   {
    "duration": 23,
    "start_time": "2024-12-17T20:03:08.346Z"
   },
   {
    "duration": 336,
    "start_time": "2024-12-17T20:03:08.370Z"
   },
   {
    "duration": 312,
    "start_time": "2024-12-17T20:03:08.708Z"
   },
   {
    "duration": 329,
    "start_time": "2024-12-17T20:03:09.022Z"
   },
   {
    "duration": 340,
    "start_time": "2024-12-17T20:03:09.352Z"
   },
   {
    "duration": 143,
    "start_time": "2024-12-17T20:03:09.693Z"
   },
   {
    "duration": 11,
    "start_time": "2024-12-17T20:03:09.838Z"
   },
   {
    "duration": 486,
    "start_time": "2024-12-17T20:03:09.850Z"
   },
   {
    "duration": 216,
    "start_time": "2024-12-17T20:03:10.337Z"
   },
   {
    "duration": 9,
    "start_time": "2024-12-17T20:03:10.555Z"
   },
   {
    "duration": 233,
    "start_time": "2024-12-17T20:03:10.566Z"
   },
   {
    "duration": 138,
    "start_time": "2024-12-17T20:03:10.801Z"
   },
   {
    "duration": 137,
    "start_time": "2024-12-17T20:03:10.940Z"
   },
   {
    "duration": 47,
    "start_time": "2024-12-17T20:03:11.079Z"
   },
   {
    "duration": 327,
    "start_time": "2024-12-17T20:03:11.128Z"
   },
   {
    "duration": 9,
    "start_time": "2024-12-17T20:03:11.457Z"
   },
   {
    "duration": 28,
    "start_time": "2024-12-17T20:03:11.467Z"
   },
   {
    "duration": 51,
    "start_time": "2024-12-18T11:19:22.251Z"
   },
   {
    "duration": 1359,
    "start_time": "2024-12-18T11:19:26.848Z"
   },
   {
    "duration": 201,
    "start_time": "2024-12-18T11:19:28.997Z"
   },
   {
    "duration": 16,
    "start_time": "2024-12-18T11:19:36.050Z"
   },
   {
    "duration": 3,
    "start_time": "2024-12-18T11:26:21.235Z"
   },
   {
    "duration": 94,
    "start_time": "2024-12-18T11:26:21.241Z"
   },
   {
    "duration": 15,
    "start_time": "2024-12-18T11:26:21.337Z"
   },
   {
    "duration": 31,
    "start_time": "2024-12-18T11:26:21.354Z"
   },
   {
    "duration": 14,
    "start_time": "2024-12-18T11:26:21.388Z"
   },
   {
    "duration": 24,
    "start_time": "2024-12-18T11:26:21.404Z"
   },
   {
    "duration": 13,
    "start_time": "2024-12-18T11:26:21.430Z"
   },
   {
    "duration": 11,
    "start_time": "2024-12-18T11:26:21.445Z"
   },
   {
    "duration": 22,
    "start_time": "2024-12-18T11:26:21.457Z"
   },
   {
    "duration": 32,
    "start_time": "2024-12-18T11:26:21.481Z"
   },
   {
    "duration": 14,
    "start_time": "2024-12-18T11:26:21.516Z"
   },
   {
    "duration": 27,
    "start_time": "2024-12-18T11:26:27.587Z"
   },
   {
    "duration": 19,
    "start_time": "2024-12-18T11:26:38.597Z"
   },
   {
    "duration": 13,
    "start_time": "2024-12-18T11:33:58.397Z"
   },
   {
    "duration": 12,
    "start_time": "2024-12-18T11:34:37.227Z"
   },
   {
    "duration": 10,
    "start_time": "2024-12-18T11:34:46.318Z"
   },
   {
    "duration": 144,
    "start_time": "2024-12-18T11:35:07.567Z"
   },
   {
    "duration": 33,
    "start_time": "2024-12-18T11:35:49.058Z"
   },
   {
    "duration": 27,
    "start_time": "2024-12-18T11:36:22.167Z"
   },
   {
    "duration": 409,
    "start_time": "2024-12-18T11:36:50.844Z"
   },
   {
    "duration": 23,
    "start_time": "2024-12-18T11:38:22.478Z"
   },
   {
    "duration": 22,
    "start_time": "2024-12-18T11:38:57.715Z"
   },
   {
    "duration": 24,
    "start_time": "2024-12-18T11:39:04.224Z"
   },
   {
    "duration": 27,
    "start_time": "2024-12-18T11:39:25.127Z"
   },
   {
    "duration": 28,
    "start_time": "2024-12-18T11:39:34.588Z"
   },
   {
    "duration": 29,
    "start_time": "2024-12-18T11:39:42.067Z"
   },
   {
    "duration": 28,
    "start_time": "2024-12-18T11:40:10.718Z"
   },
   {
    "duration": 28,
    "start_time": "2024-12-18T11:40:19.786Z"
   },
   {
    "duration": 30,
    "start_time": "2024-12-18T11:40:31.817Z"
   },
   {
    "duration": 22,
    "start_time": "2024-12-18T11:41:01.797Z"
   },
   {
    "duration": 27,
    "start_time": "2024-12-18T11:47:30.626Z"
   },
   {
    "duration": 24,
    "start_time": "2024-12-18T11:47:56.787Z"
   },
   {
    "duration": 21,
    "start_time": "2024-12-18T11:49:05.943Z"
   },
   {
    "duration": 20,
    "start_time": "2024-12-18T11:51:47.208Z"
   },
   {
    "duration": 83,
    "start_time": "2024-12-18T11:57:21.649Z"
   },
   {
    "duration": 128,
    "start_time": "2024-12-18T11:57:48.304Z"
   },
   {
    "duration": 25,
    "start_time": "2024-12-18T11:58:22.828Z"
   },
   {
    "duration": 222,
    "start_time": "2024-12-18T12:02:23.554Z"
   },
   {
    "duration": 203,
    "start_time": "2024-12-18T12:03:34.417Z"
   },
   {
    "duration": 259,
    "start_time": "2024-12-18T12:03:47.864Z"
   },
   {
    "duration": 252,
    "start_time": "2024-12-18T12:03:56.578Z"
   },
   {
    "duration": 250,
    "start_time": "2024-12-18T12:04:00.090Z"
   },
   {
    "duration": 252,
    "start_time": "2024-12-18T12:04:17.523Z"
   },
   {
    "duration": 283,
    "start_time": "2024-12-18T12:04:25.898Z"
   },
   {
    "duration": 6,
    "start_time": "2024-12-18T12:05:10.842Z"
   },
   {
    "duration": 9,
    "start_time": "2024-12-18T12:05:25.464Z"
   },
   {
    "duration": 9,
    "start_time": "2024-12-18T12:06:11.606Z"
   },
   {
    "duration": 214,
    "start_time": "2024-12-18T12:06:18.396Z"
   },
   {
    "duration": 17,
    "start_time": "2024-12-18T12:10:48.433Z"
   },
   {
    "duration": 113,
    "start_time": "2024-12-18T12:13:40.411Z"
   },
   {
    "duration": 18,
    "start_time": "2024-12-18T12:13:46.664Z"
   },
   {
    "duration": 11,
    "start_time": "2024-12-18T12:14:07.853Z"
   },
   {
    "duration": 17,
    "start_time": "2024-12-18T12:14:37.463Z"
   },
   {
    "duration": 17,
    "start_time": "2024-12-18T12:15:08.094Z"
   },
   {
    "duration": 8,
    "start_time": "2024-12-18T12:17:27.873Z"
   },
   {
    "duration": 18,
    "start_time": "2024-12-18T12:17:51.134Z"
   },
   {
    "duration": 13,
    "start_time": "2024-12-18T12:17:59.468Z"
   },
   {
    "duration": 3,
    "start_time": "2024-12-18T12:18:05.975Z"
   },
   {
    "duration": 111,
    "start_time": "2024-12-18T12:18:05.980Z"
   },
   {
    "duration": 16,
    "start_time": "2024-12-18T12:18:06.092Z"
   },
   {
    "duration": 54,
    "start_time": "2024-12-18T12:18:06.109Z"
   },
   {
    "duration": 23,
    "start_time": "2024-12-18T12:18:06.165Z"
   },
   {
    "duration": 28,
    "start_time": "2024-12-18T12:18:06.189Z"
   },
   {
    "duration": 35,
    "start_time": "2024-12-18T12:18:06.218Z"
   },
   {
    "duration": 29,
    "start_time": "2024-12-18T12:18:06.254Z"
   },
   {
    "duration": 52,
    "start_time": "2024-12-18T12:18:06.285Z"
   },
   {
    "duration": 40,
    "start_time": "2024-12-18T12:18:06.338Z"
   },
   {
    "duration": 18,
    "start_time": "2024-12-18T12:18:06.380Z"
   },
   {
    "duration": 31,
    "start_time": "2024-12-18T12:18:06.400Z"
   },
   {
    "duration": 30,
    "start_time": "2024-12-18T12:18:06.434Z"
   },
   {
    "duration": 33,
    "start_time": "2024-12-18T12:18:06.465Z"
   },
   {
    "duration": 24,
    "start_time": "2024-12-18T12:18:06.499Z"
   },
   {
    "duration": 52,
    "start_time": "2024-12-18T12:18:06.525Z"
   },
   {
    "duration": 242,
    "start_time": "2024-12-18T12:18:06.579Z"
   },
   {
    "duration": 21,
    "start_time": "2024-12-18T12:18:06.822Z"
   },
   {
    "duration": 28,
    "start_time": "2024-12-18T12:18:06.845Z"
   },
   {
    "duration": 25,
    "start_time": "2024-12-18T12:18:06.875Z"
   },
   {
    "duration": 48,
    "start_time": "2024-12-18T12:18:06.902Z"
   },
   {
    "duration": 12,
    "start_time": "2024-12-18T12:18:12.673Z"
   },
   {
    "duration": 2,
    "start_time": "2024-12-18T12:18:25.754Z"
   },
   {
    "duration": 77,
    "start_time": "2024-12-18T12:18:25.758Z"
   },
   {
    "duration": 14,
    "start_time": "2024-12-18T12:18:25.837Z"
   },
   {
    "duration": 22,
    "start_time": "2024-12-18T12:18:25.853Z"
   },
   {
    "duration": 8,
    "start_time": "2024-12-18T12:18:25.876Z"
   },
   {
    "duration": 5,
    "start_time": "2024-12-18T12:18:25.885Z"
   },
   {
    "duration": 43,
    "start_time": "2024-12-18T12:18:25.892Z"
   },
   {
    "duration": 9,
    "start_time": "2024-12-18T12:18:25.937Z"
   },
   {
    "duration": 10,
    "start_time": "2024-12-18T12:18:25.948Z"
   },
   {
    "duration": 18,
    "start_time": "2024-12-18T12:18:25.959Z"
   },
   {
    "duration": 7,
    "start_time": "2024-12-18T12:18:25.979Z"
   },
   {
    "duration": 61,
    "start_time": "2024-12-18T12:18:25.988Z"
   },
   {
    "duration": 17,
    "start_time": "2024-12-18T12:18:26.051Z"
   },
   {
    "duration": 22,
    "start_time": "2024-12-18T12:18:26.069Z"
   },
   {
    "duration": 43,
    "start_time": "2024-12-18T12:18:26.093Z"
   },
   {
    "duration": 9,
    "start_time": "2024-12-18T12:18:26.138Z"
   },
   {
    "duration": 236,
    "start_time": "2024-12-18T12:18:26.148Z"
   },
   {
    "duration": 15,
    "start_time": "2024-12-18T12:18:26.386Z"
   },
   {
    "duration": 28,
    "start_time": "2024-12-18T12:18:26.403Z"
   },
   {
    "duration": 17,
    "start_time": "2024-12-18T12:18:26.433Z"
   },
   {
    "duration": 12,
    "start_time": "2024-12-18T12:18:26.452Z"
   },
   {
    "duration": 19,
    "start_time": "2024-12-18T12:18:26.466Z"
   },
   {
    "duration": 363,
    "start_time": "2024-12-18T12:18:26.487Z"
   },
   {
    "duration": 3,
    "start_time": "2024-12-18T12:23:44.554Z"
   },
   {
    "duration": 90,
    "start_time": "2024-12-18T12:23:44.560Z"
   },
   {
    "duration": 16,
    "start_time": "2024-12-18T12:23:44.652Z"
   },
   {
    "duration": 34,
    "start_time": "2024-12-18T12:23:44.670Z"
   },
   {
    "duration": 8,
    "start_time": "2024-12-18T12:23:44.731Z"
   },
   {
    "duration": 10,
    "start_time": "2024-12-18T12:23:44.740Z"
   },
   {
    "duration": 20,
    "start_time": "2024-12-18T12:23:44.751Z"
   },
   {
    "duration": 10,
    "start_time": "2024-12-18T12:23:44.773Z"
   },
   {
    "duration": 12,
    "start_time": "2024-12-18T12:23:44.785Z"
   },
   {
    "duration": 42,
    "start_time": "2024-12-18T12:23:44.798Z"
   },
   {
    "duration": 7,
    "start_time": "2024-12-18T12:23:44.843Z"
   },
   {
    "duration": 29,
    "start_time": "2024-12-18T12:23:44.852Z"
   },
   {
    "duration": 52,
    "start_time": "2024-12-18T12:23:44.883Z"
   },
   {
    "duration": 24,
    "start_time": "2024-12-18T12:23:44.938Z"
   },
   {
    "duration": 23,
    "start_time": "2024-12-18T12:23:44.965Z"
   },
   {
    "duration": 7,
    "start_time": "2024-12-18T12:23:44.990Z"
   },
   {
    "duration": 277,
    "start_time": "2024-12-18T12:23:45.029Z"
   },
   {
    "duration": 30,
    "start_time": "2024-12-18T12:23:45.308Z"
   },
   {
    "duration": 16,
    "start_time": "2024-12-18T12:23:45.340Z"
   },
   {
    "duration": 36,
    "start_time": "2024-12-18T12:23:45.360Z"
   },
   {
    "duration": 112,
    "start_time": "2024-12-18T12:23:45.398Z"
   },
   {
    "duration": 54,
    "start_time": "2024-12-18T12:23:45.511Z"
   },
   {
    "duration": 338,
    "start_time": "2024-12-18T12:23:45.567Z"
   },
   {
    "duration": 8,
    "start_time": "2024-12-18T12:23:45.906Z"
   },
   {
    "duration": 24,
    "start_time": "2024-12-18T12:23:56.334Z"
   },
   {
    "duration": 179,
    "start_time": "2024-12-18T12:24:20.584Z"
   },
   {
    "duration": 171,
    "start_time": "2024-12-18T12:26:16.083Z"
   },
   {
    "duration": 6,
    "start_time": "2024-12-18T12:29:02.513Z"
   },
   {
    "duration": 115,
    "start_time": "2024-12-18T12:31:07.173Z"
   },
   {
    "duration": 19,
    "start_time": "2024-12-18T12:31:25.313Z"
   },
   {
    "duration": 240,
    "start_time": "2024-12-18T12:32:08.126Z"
   },
   {
    "duration": 607,
    "start_time": "2024-12-18T12:36:38.452Z"
   },
   {
    "duration": 503,
    "start_time": "2024-12-18T12:36:52.052Z"
   },
   {
    "duration": 515,
    "start_time": "2024-12-18T12:37:17.183Z"
   },
   {
    "duration": 512,
    "start_time": "2024-12-18T12:44:54.120Z"
   },
   {
    "duration": 522,
    "start_time": "2024-12-18T12:45:06.255Z"
   },
   {
    "duration": 644,
    "start_time": "2024-12-18T12:45:17.930Z"
   },
   {
    "duration": 481,
    "start_time": "2024-12-18T12:46:18.819Z"
   },
   {
    "duration": 506,
    "start_time": "2024-12-18T12:46:55.473Z"
   },
   {
    "duration": 139,
    "start_time": "2024-12-18T12:57:48.158Z"
   },
   {
    "duration": 128,
    "start_time": "2024-12-18T12:58:00.051Z"
   },
   {
    "duration": 25,
    "start_time": "2024-12-18T13:03:14.672Z"
   },
   {
    "duration": 17,
    "start_time": "2024-12-18T13:07:40.322Z"
   },
   {
    "duration": 17,
    "start_time": "2024-12-18T13:12:07.472Z"
   },
   {
    "duration": 9,
    "start_time": "2024-12-18T13:13:09.623Z"
   },
   {
    "duration": 8,
    "start_time": "2024-12-18T13:13:12.034Z"
   },
   {
    "duration": 11,
    "start_time": "2024-12-18T13:13:20.103Z"
   },
   {
    "duration": 11,
    "start_time": "2024-12-18T13:13:46.608Z"
   },
   {
    "duration": 14,
    "start_time": "2024-12-18T13:13:50.708Z"
   },
   {
    "duration": 17,
    "start_time": "2024-12-18T13:14:14.503Z"
   },
   {
    "duration": 17,
    "start_time": "2024-12-18T13:16:35.562Z"
   },
   {
    "duration": 608,
    "start_time": "2024-12-18T13:16:42.708Z"
   },
   {
    "duration": 484,
    "start_time": "2024-12-18T13:17:05.200Z"
   },
   {
    "duration": 540,
    "start_time": "2024-12-18T13:17:16.206Z"
   },
   {
    "duration": 219,
    "start_time": "2024-12-18T13:19:08.489Z"
   },
   {
    "duration": 109,
    "start_time": "2024-12-18T13:19:36.732Z"
   },
   {
    "duration": 208,
    "start_time": "2024-12-18T13:20:27.380Z"
   },
   {
    "duration": 595,
    "start_time": "2024-12-18T13:24:12.149Z"
   },
   {
    "duration": 691,
    "start_time": "2024-12-18T13:24:19.609Z"
   },
   {
    "duration": 572,
    "start_time": "2024-12-18T13:24:33.009Z"
   },
   {
    "duration": 328,
    "start_time": "2024-12-18T13:27:34.342Z"
   },
   {
    "duration": 328,
    "start_time": "2024-12-18T13:27:43.252Z"
   },
   {
    "duration": 331,
    "start_time": "2024-12-18T13:27:50.142Z"
   },
   {
    "duration": 332,
    "start_time": "2024-12-18T13:28:20.563Z"
   },
   {
    "duration": 315,
    "start_time": "2024-12-18T13:28:30.100Z"
   },
   {
    "duration": 325,
    "start_time": "2024-12-18T13:28:39.643Z"
   },
   {
    "duration": 311,
    "start_time": "2024-12-18T13:30:00.923Z"
   },
   {
    "duration": 179,
    "start_time": "2024-12-18T13:31:41.384Z"
   },
   {
    "duration": 470,
    "start_time": "2024-12-18T13:31:51.695Z"
   },
   {
    "duration": 353,
    "start_time": "2024-12-18T13:31:58.363Z"
   },
   {
    "duration": 343,
    "start_time": "2024-12-18T13:35:36.550Z"
   },
   {
    "duration": 317,
    "start_time": "2024-12-18T13:35:53.532Z"
   },
   {
    "duration": 9,
    "start_time": "2024-12-18T13:36:53.667Z"
   },
   {
    "duration": 5,
    "start_time": "2024-12-18T13:36:57.872Z"
   },
   {
    "duration": 330,
    "start_time": "2024-12-18T13:37:24.382Z"
   },
   {
    "duration": 318,
    "start_time": "2024-12-18T13:37:55.783Z"
   },
   {
    "duration": 305,
    "start_time": "2024-12-18T13:38:01.503Z"
   },
   {
    "duration": 4,
    "start_time": "2024-12-18T15:30:31.639Z"
   },
   {
    "duration": 98,
    "start_time": "2024-12-18T15:30:31.998Z"
   },
   {
    "duration": 32,
    "start_time": "2024-12-18T15:30:32.098Z"
   },
   {
    "duration": 34,
    "start_time": "2024-12-18T15:30:32.406Z"
   },
   {
    "duration": 16,
    "start_time": "2024-12-18T15:30:32.443Z"
   },
   {
    "duration": 24,
    "start_time": "2024-12-18T15:30:32.461Z"
   },
   {
    "duration": 16,
    "start_time": "2024-12-18T15:30:32.749Z"
   },
   {
    "duration": 24,
    "start_time": "2024-12-18T15:30:32.767Z"
   },
   {
    "duration": 15,
    "start_time": "2024-12-18T15:30:33.033Z"
   },
   {
    "duration": 47,
    "start_time": "2024-12-18T15:30:33.051Z"
   },
   {
    "duration": 9,
    "start_time": "2024-12-18T15:30:33.101Z"
   },
   {
    "duration": 27,
    "start_time": "2024-12-18T15:30:34.958Z"
   },
   {
    "duration": 17,
    "start_time": "2024-12-18T15:30:35.220Z"
   },
   {
    "duration": 67,
    "start_time": "2024-12-18T15:30:35.239Z"
   },
   {
    "duration": 25,
    "start_time": "2024-12-18T15:30:35.308Z"
   },
   {
    "duration": 10,
    "start_time": "2024-12-18T15:30:36.260Z"
   },
   {
    "duration": 260,
    "start_time": "2024-12-18T15:30:36.272Z"
   },
   {
    "duration": 16,
    "start_time": "2024-12-18T15:30:37.003Z"
   },
   {
    "duration": 17,
    "start_time": "2024-12-18T15:30:37.166Z"
   },
   {
    "duration": 26,
    "start_time": "2024-12-18T15:30:37.213Z"
   },
   {
    "duration": 32,
    "start_time": "2024-12-18T15:30:37.241Z"
   },
   {
    "duration": 21,
    "start_time": "2024-12-18T15:30:37.748Z"
   },
   {
    "duration": 355,
    "start_time": "2024-12-18T15:30:38.324Z"
   },
   {
    "duration": 8,
    "start_time": "2024-12-18T15:30:38.681Z"
   },
   {
    "duration": 17,
    "start_time": "2024-12-18T15:30:38.690Z"
   },
   {
    "duration": 206,
    "start_time": "2024-12-18T15:30:38.730Z"
   },
   {
    "duration": 21,
    "start_time": "2024-12-18T15:30:38.973Z"
   },
   {
    "duration": 659,
    "start_time": "2024-12-18T15:30:41.495Z"
   },
   {
    "duration": 346,
    "start_time": "2024-12-18T15:32:23.178Z"
   },
   {
    "duration": 327,
    "start_time": "2024-12-18T15:32:47.586Z"
   },
   {
    "duration": 339,
    "start_time": "2024-12-18T15:33:52.755Z"
   },
   {
    "duration": 340,
    "start_time": "2024-12-18T15:34:11.953Z"
   },
   {
    "duration": 325,
    "start_time": "2024-12-18T15:34:30.798Z"
   },
   {
    "duration": 350,
    "start_time": "2024-12-18T15:34:46.053Z"
   },
   {
    "duration": 373,
    "start_time": "2024-12-18T15:34:59.746Z"
   },
   {
    "duration": 302,
    "start_time": "2024-12-18T15:35:12.017Z"
   },
   {
    "duration": 93,
    "start_time": "2024-12-18T15:38:15.920Z"
   },
   {
    "duration": 103,
    "start_time": "2024-12-18T15:38:35.483Z"
   },
   {
    "duration": 323,
    "start_time": "2024-12-18T15:38:47.687Z"
   },
   {
    "duration": 339,
    "start_time": "2024-12-18T15:38:57.101Z"
   },
   {
    "duration": 510,
    "start_time": "2024-12-18T15:39:28.871Z"
   },
   {
    "duration": 207,
    "start_time": "2024-12-18T15:39:53.370Z"
   },
   {
    "duration": 348,
    "start_time": "2024-12-18T15:39:59.473Z"
   },
   {
    "duration": 340,
    "start_time": "2024-12-18T15:42:17.046Z"
   },
   {
    "duration": 310,
    "start_time": "2024-12-18T15:43:42.903Z"
   },
   {
    "duration": 183,
    "start_time": "2024-12-18T15:44:17.498Z"
   },
   {
    "duration": 315,
    "start_time": "2024-12-18T15:44:30.894Z"
   },
   {
    "duration": 25,
    "start_time": "2024-12-18T15:47:11.357Z"
   },
   {
    "duration": 193,
    "start_time": "2024-12-18T15:49:30.360Z"
   },
   {
    "duration": 3,
    "start_time": "2024-12-18T15:49:37.867Z"
   },
   {
    "duration": 77,
    "start_time": "2024-12-18T15:49:37.872Z"
   },
   {
    "duration": 16,
    "start_time": "2024-12-18T15:49:37.952Z"
   },
   {
    "duration": 44,
    "start_time": "2024-12-18T15:49:37.969Z"
   },
   {
    "duration": 21,
    "start_time": "2024-12-18T15:49:38.015Z"
   },
   {
    "duration": 6,
    "start_time": "2024-12-18T15:49:38.279Z"
   },
   {
    "duration": 17,
    "start_time": "2024-12-18T15:49:38.287Z"
   },
   {
    "duration": 10,
    "start_time": "2024-12-18T15:49:38.717Z"
   },
   {
    "duration": 10,
    "start_time": "2024-12-18T15:49:38.730Z"
   },
   {
    "duration": 17,
    "start_time": "2024-12-18T15:49:39.079Z"
   },
   {
    "duration": 7,
    "start_time": "2024-12-18T15:49:39.099Z"
   },
   {
    "duration": 27,
    "start_time": "2024-12-18T15:49:39.108Z"
   },
   {
    "duration": 19,
    "start_time": "2024-12-18T15:49:39.137Z"
   },
   {
    "duration": 26,
    "start_time": "2024-12-18T15:49:39.159Z"
   },
   {
    "duration": 33,
    "start_time": "2024-12-18T15:49:39.925Z"
   },
   {
    "duration": 8,
    "start_time": "2024-12-18T15:49:39.960Z"
   },
   {
    "duration": 294,
    "start_time": "2024-12-18T15:49:39.970Z"
   },
   {
    "duration": 15,
    "start_time": "2024-12-18T15:49:40.266Z"
   },
   {
    "duration": 16,
    "start_time": "2024-12-18T15:49:40.816Z"
   },
   {
    "duration": 18,
    "start_time": "2024-12-18T15:49:40.834Z"
   },
   {
    "duration": 18,
    "start_time": "2024-12-18T15:49:40.853Z"
   },
   {
    "duration": 22,
    "start_time": "2024-12-18T15:49:41.081Z"
   },
   {
    "duration": 338,
    "start_time": "2024-12-18T15:49:41.717Z"
   },
   {
    "duration": 9,
    "start_time": "2024-12-18T15:49:42.057Z"
   },
   {
    "duration": 45,
    "start_time": "2024-12-18T15:49:42.068Z"
   },
   {
    "duration": 177,
    "start_time": "2024-12-18T15:49:42.311Z"
   },
   {
    "duration": 20,
    "start_time": "2024-12-18T15:49:42.490Z"
   },
   {
    "duration": 712,
    "start_time": "2024-12-18T15:49:44.302Z"
   },
   {
    "duration": 347,
    "start_time": "2024-12-18T15:49:48.689Z"
   },
   {
    "duration": 328,
    "start_time": "2024-12-18T15:50:14.390Z"
   },
   {
    "duration": 316,
    "start_time": "2024-12-18T15:50:18.918Z"
   },
   {
    "duration": 29,
    "start_time": "2024-12-18T15:57:37.492Z"
   },
   {
    "duration": 41,
    "start_time": "2024-12-18T15:57:53.383Z"
   },
   {
    "duration": 472,
    "start_time": "2024-12-18T16:02:09.125Z"
   },
   {
    "duration": 463,
    "start_time": "2024-12-18T16:02:59.105Z"
   },
   {
    "duration": 470,
    "start_time": "2024-12-18T16:03:10.825Z"
   },
   {
    "duration": 110,
    "start_time": "2024-12-18T16:04:29.276Z"
   },
   {
    "duration": 486,
    "start_time": "2024-12-18T16:04:40.956Z"
   },
   {
    "duration": 500,
    "start_time": "2024-12-18T16:05:18.984Z"
   },
   {
    "duration": 254,
    "start_time": "2024-12-18T16:05:31.715Z"
   },
   {
    "duration": 511,
    "start_time": "2024-12-18T16:05:37.994Z"
   },
   {
    "duration": 139,
    "start_time": "2024-12-18T16:05:47.897Z"
   },
   {
    "duration": 488,
    "start_time": "2024-12-18T16:05:51.244Z"
   },
   {
    "duration": 486,
    "start_time": "2024-12-18T16:05:57.075Z"
   },
   {
    "duration": 457,
    "start_time": "2024-12-18T16:06:07.313Z"
   },
   {
    "duration": 482,
    "start_time": "2024-12-18T16:06:13.880Z"
   },
   {
    "duration": 521,
    "start_time": "2024-12-18T16:07:44.749Z"
   },
   {
    "duration": 3,
    "start_time": "2024-12-18T16:08:48.765Z"
   },
   {
    "duration": 70,
    "start_time": "2024-12-18T16:08:48.966Z"
   },
   {
    "duration": 15,
    "start_time": "2024-12-18T16:08:49.038Z"
   },
   {
    "duration": 22,
    "start_time": "2024-12-18T16:08:49.054Z"
   },
   {
    "duration": 6,
    "start_time": "2024-12-18T16:08:49.419Z"
   },
   {
    "duration": 9,
    "start_time": "2024-12-18T16:08:49.428Z"
   },
   {
    "duration": 15,
    "start_time": "2024-12-18T16:08:49.439Z"
   },
   {
    "duration": 16,
    "start_time": "2024-12-18T16:08:49.456Z"
   },
   {
    "duration": 12,
    "start_time": "2024-12-18T16:08:50.236Z"
   },
   {
    "duration": 16,
    "start_time": "2024-12-18T16:08:50.477Z"
   },
   {
    "duration": 13,
    "start_time": "2024-12-18T16:08:50.496Z"
   },
   {
    "duration": 45,
    "start_time": "2024-12-18T16:08:50.511Z"
   },
   {
    "duration": 17,
    "start_time": "2024-12-18T16:08:51.091Z"
   },
   {
    "duration": 23,
    "start_time": "2024-12-18T16:08:51.111Z"
   },
   {
    "duration": 31,
    "start_time": "2024-12-18T16:08:51.459Z"
   },
   {
    "duration": 9,
    "start_time": "2024-12-18T16:08:51.493Z"
   },
   {
    "duration": 207,
    "start_time": "2024-12-18T16:08:52.033Z"
   },
   {
    "duration": 15,
    "start_time": "2024-12-18T16:08:52.242Z"
   },
   {
    "duration": 41,
    "start_time": "2024-12-18T16:08:52.258Z"
   },
   {
    "duration": 16,
    "start_time": "2024-12-18T16:08:52.301Z"
   },
   {
    "duration": 13,
    "start_time": "2024-12-18T16:08:52.640Z"
   },
   {
    "duration": 22,
    "start_time": "2024-12-18T16:08:52.655Z"
   },
   {
    "duration": 326,
    "start_time": "2024-12-18T16:08:53.235Z"
   },
   {
    "duration": 8,
    "start_time": "2024-12-18T16:08:53.562Z"
   },
   {
    "duration": 32,
    "start_time": "2024-12-18T16:08:53.571Z"
   },
   {
    "duration": 239,
    "start_time": "2024-12-18T16:08:53.606Z"
   },
   {
    "duration": 22,
    "start_time": "2024-12-18T16:08:53.847Z"
   },
   {
    "duration": 694,
    "start_time": "2024-12-18T16:08:54.072Z"
   },
   {
    "duration": 341,
    "start_time": "2024-12-18T16:08:54.768Z"
   },
   {
    "duration": 470,
    "start_time": "2024-12-18T16:08:55.111Z"
   },
   {
    "duration": 16,
    "start_time": "2024-12-18T16:25:39.467Z"
   },
   {
    "duration": 16,
    "start_time": "2024-12-18T16:26:20.569Z"
   },
   {
    "duration": 1204,
    "start_time": "2024-12-18T16:28:01.647Z"
   },
   {
    "duration": 18,
    "start_time": "2024-12-18T16:28:19.804Z"
   },
   {
    "duration": 9,
    "start_time": "2024-12-18T16:34:23.144Z"
   },
   {
    "duration": 5,
    "start_time": "2024-12-18T16:35:07.004Z"
   },
   {
    "duration": 215,
    "start_time": "2024-12-18T16:40:38.745Z"
   },
   {
    "duration": 195,
    "start_time": "2024-12-18T16:42:20.554Z"
   },
   {
    "duration": 221,
    "start_time": "2024-12-18T16:42:28.940Z"
   },
   {
    "duration": 219,
    "start_time": "2024-12-18T16:42:42.134Z"
   },
   {
    "duration": 378,
    "start_time": "2024-12-18T16:45:15.240Z"
   },
   {
    "duration": 188,
    "start_time": "2024-12-18T16:45:48.806Z"
   },
   {
    "duration": 357,
    "start_time": "2024-12-18T16:46:06.704Z"
   },
   {
    "duration": 396,
    "start_time": "2024-12-18T16:46:38.246Z"
   },
   {
    "duration": 404,
    "start_time": "2024-12-18T16:46:47.937Z"
   },
   {
    "duration": 381,
    "start_time": "2024-12-18T16:47:08.830Z"
   },
   {
    "duration": 565,
    "start_time": "2024-12-18T16:47:19.153Z"
   },
   {
    "duration": 396,
    "start_time": "2024-12-18T16:48:01.218Z"
   },
   {
    "duration": 329,
    "start_time": "2024-12-18T16:48:16.282Z"
   },
   {
    "duration": 395,
    "start_time": "2024-12-18T16:48:25.870Z"
   },
   {
    "duration": 399,
    "start_time": "2024-12-18T16:49:11.361Z"
   },
   {
    "duration": 410,
    "start_time": "2024-12-18T16:49:25.235Z"
   },
   {
    "duration": 380,
    "start_time": "2024-12-18T16:49:47.891Z"
   },
   {
    "duration": 90,
    "start_time": "2024-12-18T16:52:21.927Z"
   },
   {
    "duration": 396,
    "start_time": "2024-12-18T16:52:27.192Z"
   },
   {
    "duration": 406,
    "start_time": "2024-12-18T16:52:44.792Z"
   },
   {
    "duration": 626,
    "start_time": "2024-12-18T16:54:14.310Z"
   },
   {
    "duration": 3,
    "start_time": "2024-12-18T16:54:23.542Z"
   },
   {
    "duration": 101,
    "start_time": "2024-12-18T16:54:23.547Z"
   },
   {
    "duration": 14,
    "start_time": "2024-12-18T16:54:23.650Z"
   },
   {
    "duration": 21,
    "start_time": "2024-12-18T16:54:23.666Z"
   },
   {
    "duration": 10,
    "start_time": "2024-12-18T16:54:23.689Z"
   },
   {
    "duration": 11,
    "start_time": "2024-12-18T16:54:23.700Z"
   },
   {
    "duration": 13,
    "start_time": "2024-12-18T16:54:23.729Z"
   },
   {
    "duration": 9,
    "start_time": "2024-12-18T16:54:23.753Z"
   },
   {
    "duration": 20,
    "start_time": "2024-12-18T16:54:23.764Z"
   },
   {
    "duration": 15,
    "start_time": "2024-12-18T16:54:23.786Z"
   },
   {
    "duration": 8,
    "start_time": "2024-12-18T16:54:24.171Z"
   },
   {
    "duration": 54,
    "start_time": "2024-12-18T16:54:24.181Z"
   },
   {
    "duration": 18,
    "start_time": "2024-12-18T16:54:24.238Z"
   },
   {
    "duration": 23,
    "start_time": "2024-12-18T16:54:24.258Z"
   },
   {
    "duration": 24,
    "start_time": "2024-12-18T16:54:25.115Z"
   },
   {
    "duration": 8,
    "start_time": "2024-12-18T16:54:25.141Z"
   },
   {
    "duration": 231,
    "start_time": "2024-12-18T16:54:25.151Z"
   },
   {
    "duration": 15,
    "start_time": "2024-12-18T16:54:25.384Z"
   },
   {
    "duration": 18,
    "start_time": "2024-12-18T16:54:25.899Z"
   },
   {
    "duration": 18,
    "start_time": "2024-12-18T16:54:25.920Z"
   },
   {
    "duration": 15,
    "start_time": "2024-12-18T16:54:25.940Z"
   },
   {
    "duration": 23,
    "start_time": "2024-12-18T16:54:25.957Z"
   },
   {
    "duration": 331,
    "start_time": "2024-12-18T16:54:26.761Z"
   },
   {
    "duration": 6,
    "start_time": "2024-12-18T16:54:27.095Z"
   },
   {
    "duration": 29,
    "start_time": "2024-12-18T16:54:27.103Z"
   },
   {
    "duration": 182,
    "start_time": "2024-12-18T16:54:27.134Z"
   },
   {
    "duration": 26,
    "start_time": "2024-12-18T16:54:27.319Z"
   },
   {
    "duration": 515,
    "start_time": "2024-12-18T16:54:27.347Z"
   },
   {
    "duration": 325,
    "start_time": "2024-12-18T16:54:32.409Z"
   },
   {
    "duration": 483,
    "start_time": "2024-12-18T16:54:34.302Z"
   },
   {
    "duration": 17,
    "start_time": "2024-12-18T16:54:35.933Z"
   },
   {
    "duration": 253,
    "start_time": "2024-12-18T16:54:35.953Z"
   },
   {
    "duration": 14,
    "start_time": "2024-12-18T16:55:05.398Z"
   },
   {
    "duration": 9,
    "start_time": "2024-12-18T16:55:12.144Z"
   },
   {
    "duration": 308,
    "start_time": "2024-12-18T16:55:17.470Z"
   },
   {
    "duration": 427,
    "start_time": "2024-12-18T16:56:08.028Z"
   },
   {
    "duration": 381,
    "start_time": "2024-12-18T16:56:20.391Z"
   },
   {
    "duration": 549,
    "start_time": "2024-12-18T16:56:32.935Z"
   },
   {
    "duration": 16,
    "start_time": "2024-12-18T16:57:10.639Z"
   },
   {
    "duration": 29,
    "start_time": "2024-12-18T16:58:04.336Z"
   },
   {
    "duration": 25,
    "start_time": "2024-12-18T16:58:19.642Z"
   },
   {
    "duration": 32,
    "start_time": "2024-12-18T16:58:31.745Z"
   },
   {
    "duration": 381,
    "start_time": "2024-12-18T16:59:19.603Z"
   },
   {
    "duration": 407,
    "start_time": "2024-12-18T16:59:25.746Z"
   },
   {
    "duration": 430,
    "start_time": "2024-12-18T16:59:57.962Z"
   },
   {
    "duration": 435,
    "start_time": "2024-12-18T17:00:54.784Z"
   },
   {
    "duration": 7,
    "start_time": "2024-12-18T17:02:00.587Z"
   },
   {
    "duration": 10,
    "start_time": "2024-12-18T17:02:21.274Z"
   },
   {
    "duration": 7,
    "start_time": "2024-12-18T17:02:38.182Z"
   },
   {
    "duration": 8,
    "start_time": "2024-12-18T17:02:45.526Z"
   },
   {
    "duration": 11,
    "start_time": "2024-12-18T17:02:55.842Z"
   },
   {
    "duration": 7,
    "start_time": "2024-12-18T17:02:59.011Z"
   },
   {
    "duration": 7,
    "start_time": "2024-12-18T17:03:11.665Z"
   },
   {
    "duration": 8,
    "start_time": "2024-12-18T17:04:21.370Z"
   },
   {
    "duration": 418,
    "start_time": "2024-12-18T17:06:48.247Z"
   },
   {
    "duration": 424,
    "start_time": "2024-12-18T17:06:56.486Z"
   },
   {
    "duration": 216,
    "start_time": "2024-12-18T17:08:32.081Z"
   },
   {
    "duration": 8,
    "start_time": "2024-12-18T17:13:32.464Z"
   },
   {
    "duration": 3,
    "start_time": "2024-12-18T17:13:46.131Z"
   },
   {
    "duration": 93,
    "start_time": "2024-12-18T17:13:46.137Z"
   },
   {
    "duration": 15,
    "start_time": "2024-12-18T17:13:46.992Z"
   },
   {
    "duration": 22,
    "start_time": "2024-12-18T17:13:47.613Z"
   },
   {
    "duration": 5,
    "start_time": "2024-12-18T17:13:47.637Z"
   },
   {
    "duration": 6,
    "start_time": "2024-12-18T17:13:47.712Z"
   },
   {
    "duration": 11,
    "start_time": "2024-12-18T17:13:48.611Z"
   },
   {
    "duration": 12,
    "start_time": "2024-12-18T17:13:48.624Z"
   },
   {
    "duration": 11,
    "start_time": "2024-12-18T17:13:48.637Z"
   },
   {
    "duration": 18,
    "start_time": "2024-12-18T17:13:49.069Z"
   },
   {
    "duration": 8,
    "start_time": "2024-12-18T17:13:49.255Z"
   },
   {
    "duration": 31,
    "start_time": "2024-12-18T17:13:49.265Z"
   },
   {
    "duration": 15,
    "start_time": "2024-12-18T17:13:49.298Z"
   },
   {
    "duration": 23,
    "start_time": "2024-12-18T17:13:49.315Z"
   },
   {
    "duration": 25,
    "start_time": "2024-12-18T17:13:49.340Z"
   },
   {
    "duration": 8,
    "start_time": "2024-12-18T17:13:49.385Z"
   },
   {
    "duration": 390,
    "start_time": "2024-12-18T17:13:50.380Z"
   },
   {
    "duration": 15,
    "start_time": "2024-12-18T17:13:50.772Z"
   },
   {
    "duration": 24,
    "start_time": "2024-12-18T17:13:50.789Z"
   },
   {
    "duration": 27,
    "start_time": "2024-12-18T17:13:50.816Z"
   },
   {
    "duration": 26,
    "start_time": "2024-12-18T17:13:50.845Z"
   },
   {
    "duration": 21,
    "start_time": "2024-12-18T17:13:50.873Z"
   },
   {
    "duration": 349,
    "start_time": "2024-12-18T17:13:50.896Z"
   },
   {
    "duration": 7,
    "start_time": "2024-12-18T17:13:51.247Z"
   },
   {
    "duration": 17,
    "start_time": "2024-12-18T17:13:51.385Z"
   },
   {
    "duration": 178,
    "start_time": "2024-12-18T17:13:51.404Z"
   },
   {
    "duration": 20,
    "start_time": "2024-12-18T17:13:51.584Z"
   },
   {
    "duration": 547,
    "start_time": "2024-12-18T17:13:51.606Z"
   },
   {
    "duration": 354,
    "start_time": "2024-12-18T17:13:52.154Z"
   },
   {
    "duration": 7,
    "start_time": "2024-12-18T17:14:24.817Z"
   },
   {
    "duration": 518,
    "start_time": "2024-12-18T17:22:22.168Z"
   },
   {
    "duration": 22,
    "start_time": "2024-12-18T17:22:52.215Z"
   },
   {
    "duration": 3,
    "start_time": "2024-12-18T17:26:49.748Z"
   },
   {
    "duration": 72,
    "start_time": "2024-12-18T17:26:51.156Z"
   },
   {
    "duration": 20,
    "start_time": "2024-12-18T17:26:51.231Z"
   },
   {
    "duration": 22,
    "start_time": "2024-12-18T17:26:53.395Z"
   },
   {
    "duration": 9,
    "start_time": "2024-12-18T17:26:53.419Z"
   },
   {
    "duration": 20,
    "start_time": "2024-12-18T17:26:53.435Z"
   },
   {
    "duration": 15,
    "start_time": "2024-12-18T17:26:53.457Z"
   },
   {
    "duration": 24,
    "start_time": "2024-12-18T17:26:53.474Z"
   },
   {
    "duration": 9,
    "start_time": "2024-12-18T17:26:53.500Z"
   },
   {
    "duration": 44,
    "start_time": "2024-12-18T17:26:53.511Z"
   },
   {
    "duration": 7,
    "start_time": "2024-12-18T17:26:55.663Z"
   },
   {
    "duration": 28,
    "start_time": "2024-12-18T17:26:55.672Z"
   },
   {
    "duration": 54,
    "start_time": "2024-12-18T17:26:55.702Z"
   },
   {
    "duration": 24,
    "start_time": "2024-12-18T17:26:55.758Z"
   },
   {
    "duration": 25,
    "start_time": "2024-12-18T17:26:55.784Z"
   },
   {
    "duration": 26,
    "start_time": "2024-12-18T17:26:55.811Z"
   },
   {
    "duration": 236,
    "start_time": "2024-12-18T17:26:55.842Z"
   },
   {
    "duration": 15,
    "start_time": "2024-12-18T17:26:56.079Z"
   },
   {
    "duration": 18,
    "start_time": "2024-12-18T17:26:56.095Z"
   },
   {
    "duration": 23,
    "start_time": "2024-12-18T17:26:56.132Z"
   },
   {
    "duration": 13,
    "start_time": "2024-12-18T17:26:56.158Z"
   },
   {
    "duration": 19,
    "start_time": "2024-12-18T17:26:56.173Z"
   },
   {
    "duration": 374,
    "start_time": "2024-12-18T17:26:56.194Z"
   },
   {
    "duration": 6,
    "start_time": "2024-12-18T17:26:56.570Z"
   },
   {
    "duration": 26,
    "start_time": "2024-12-18T17:26:56.578Z"
   },
   {
    "duration": 194,
    "start_time": "2024-12-18T17:26:56.607Z"
   },
   {
    "duration": 34,
    "start_time": "2024-12-18T17:26:56.803Z"
   },
   {
    "duration": 548,
    "start_time": "2024-12-18T17:26:56.843Z"
   },
   {
    "duration": 514,
    "start_time": "2024-12-18T17:26:58.053Z"
   },
   {
    "duration": 8,
    "start_time": "2024-12-18T17:26:58.568Z"
   },
   {
    "duration": 519,
    "start_time": "2024-12-18T17:26:58.578Z"
   },
   {
    "duration": 17,
    "start_time": "2024-12-18T17:26:59.098Z"
   },
   {
    "duration": 242,
    "start_time": "2024-12-18T17:26:59.131Z"
   },
   {
    "duration": 491,
    "start_time": "2024-12-18T17:26:59.375Z"
   },
   {
    "duration": 7,
    "start_time": "2024-12-18T17:26:59.868Z"
   },
   {
    "duration": 14,
    "start_time": "2024-12-18T17:26:59.877Z"
   },
   {
    "duration": 142,
    "start_time": "2024-12-18T17:27:18.754Z"
   },
   {
    "duration": 153,
    "start_time": "2024-12-18T17:27:28.263Z"
   },
   {
    "duration": 143,
    "start_time": "2024-12-18T17:27:58.597Z"
   },
   {
    "duration": 49,
    "start_time": "2024-12-18T17:34:46.615Z"
   },
   {
    "duration": 38,
    "start_time": "2024-12-18T17:35:21.763Z"
   },
   {
    "duration": 40,
    "start_time": "2024-12-18T17:36:02.745Z"
   },
   {
    "duration": 307,
    "start_time": "2024-12-18T17:37:03.082Z"
   },
   {
    "duration": 17,
    "start_time": "2024-12-18T17:38:19.986Z"
   },
   {
    "duration": 8,
    "start_time": "2024-12-18T17:38:27.288Z"
   },
   {
    "duration": 8,
    "start_time": "2024-12-18T17:38:46.119Z"
   },
   {
    "duration": 9,
    "start_time": "2024-12-18T17:38:51.638Z"
   },
   {
    "duration": 3,
    "start_time": "2024-12-18T17:38:59.944Z"
   },
   {
    "duration": 96,
    "start_time": "2024-12-18T17:38:59.949Z"
   },
   {
    "duration": 16,
    "start_time": "2024-12-18T17:39:00.047Z"
   },
   {
    "duration": 54,
    "start_time": "2024-12-18T17:39:00.065Z"
   },
   {
    "duration": 52,
    "start_time": "2024-12-18T17:39:00.121Z"
   },
   {
    "duration": 40,
    "start_time": "2024-12-18T17:39:00.175Z"
   },
   {
    "duration": 34,
    "start_time": "2024-12-18T17:39:00.217Z"
   },
   {
    "duration": 58,
    "start_time": "2024-12-18T17:39:00.252Z"
   },
   {
    "duration": 64,
    "start_time": "2024-12-18T17:39:00.312Z"
   },
   {
    "duration": 53,
    "start_time": "2024-12-18T17:39:00.379Z"
   },
   {
    "duration": 35,
    "start_time": "2024-12-18T17:39:00.433Z"
   },
   {
    "duration": 65,
    "start_time": "2024-12-18T17:39:00.470Z"
   },
   {
    "duration": 23,
    "start_time": "2024-12-18T17:39:00.536Z"
   },
   {
    "duration": 39,
    "start_time": "2024-12-18T17:39:00.561Z"
   },
   {
    "duration": 23,
    "start_time": "2024-12-18T17:39:00.602Z"
   },
   {
    "duration": 9,
    "start_time": "2024-12-18T17:39:00.630Z"
   },
   {
    "duration": 232,
    "start_time": "2024-12-18T17:39:00.640Z"
   },
   {
    "duration": 16,
    "start_time": "2024-12-18T17:39:00.874Z"
   },
   {
    "duration": 35,
    "start_time": "2024-12-18T17:39:00.892Z"
   },
   {
    "duration": 61,
    "start_time": "2024-12-18T17:39:00.928Z"
   },
   {
    "duration": 16,
    "start_time": "2024-12-18T17:39:00.991Z"
   },
   {
    "duration": 39,
    "start_time": "2024-12-18T17:39:01.009Z"
   },
   {
    "duration": 372,
    "start_time": "2024-12-18T17:39:01.050Z"
   },
   {
    "duration": 11,
    "start_time": "2024-12-18T17:39:01.424Z"
   },
   {
    "duration": 58,
    "start_time": "2024-12-18T17:39:01.436Z"
   },
   {
    "duration": 182,
    "start_time": "2024-12-18T17:39:01.495Z"
   },
   {
    "duration": 20,
    "start_time": "2024-12-18T17:39:01.678Z"
   },
   {
    "duration": 522,
    "start_time": "2024-12-18T17:39:02.021Z"
   },
   {
    "duration": 536,
    "start_time": "2024-12-18T17:39:02.546Z"
   },
   {
    "duration": 8,
    "start_time": "2024-12-18T17:39:03.083Z"
   },
   {
    "duration": 480,
    "start_time": "2024-12-18T17:39:03.093Z"
   },
   {
    "duration": 16,
    "start_time": "2024-12-18T17:39:03.575Z"
   },
   {
    "duration": 240,
    "start_time": "2024-12-18T17:39:03.593Z"
   },
   {
    "duration": 446,
    "start_time": "2024-12-18T17:39:03.834Z"
   },
   {
    "duration": 7,
    "start_time": "2024-12-18T17:39:04.282Z"
   },
   {
    "duration": 8,
    "start_time": "2024-12-18T17:39:04.290Z"
   },
   {
    "duration": 152,
    "start_time": "2024-12-18T17:39:04.299Z"
   },
   {
    "duration": 138,
    "start_time": "2024-12-18T17:39:04.453Z"
   },
   {
    "duration": 168,
    "start_time": "2024-12-18T17:39:04.593Z"
   },
   {
    "duration": 41,
    "start_time": "2024-12-18T17:39:04.763Z"
   },
   {
    "duration": 303,
    "start_time": "2024-12-18T17:39:04.807Z"
   },
   {
    "duration": 18,
    "start_time": "2024-12-18T17:39:05.112Z"
   },
   {
    "duration": 34,
    "start_time": "2024-12-18T17:39:05.132Z"
   },
   {
    "duration": 26,
    "start_time": "2024-12-18T17:42:38.534Z"
   },
   {
    "duration": 7,
    "start_time": "2024-12-18T17:43:42.340Z"
   },
   {
    "duration": 27,
    "start_time": "2024-12-18T17:44:00.568Z"
   },
   {
    "duration": 9,
    "start_time": "2024-12-18T17:44:50.671Z"
   },
   {
    "duration": 7,
    "start_time": "2024-12-18T17:54:39.488Z"
   },
   {
    "duration": 8,
    "start_time": "2024-12-18T17:55:51.436Z"
   },
   {
    "duration": 8,
    "start_time": "2024-12-18T17:56:43.483Z"
   },
   {
    "duration": 4,
    "start_time": "2024-12-18T18:04:51.713Z"
   },
   {
    "duration": 78,
    "start_time": "2024-12-18T18:04:51.719Z"
   },
   {
    "duration": 16,
    "start_time": "2024-12-18T18:04:51.799Z"
   },
   {
    "duration": 22,
    "start_time": "2024-12-18T18:04:51.990Z"
   },
   {
    "duration": 17,
    "start_time": "2024-12-18T18:04:52.015Z"
   },
   {
    "duration": 25,
    "start_time": "2024-12-18T18:04:52.034Z"
   },
   {
    "duration": 34,
    "start_time": "2024-12-18T18:04:52.061Z"
   },
   {
    "duration": 13,
    "start_time": "2024-12-18T18:04:52.098Z"
   },
   {
    "duration": 19,
    "start_time": "2024-12-18T18:04:52.113Z"
   },
   {
    "duration": 16,
    "start_time": "2024-12-18T18:04:52.135Z"
   },
   {
    "duration": 8,
    "start_time": "2024-12-18T18:04:52.154Z"
   },
   {
    "duration": 42,
    "start_time": "2024-12-18T18:04:52.163Z"
   },
   {
    "duration": 33,
    "start_time": "2024-12-18T18:04:52.207Z"
   },
   {
    "duration": 22,
    "start_time": "2024-12-18T18:04:52.241Z"
   },
   {
    "duration": 39,
    "start_time": "2024-12-18T18:04:52.264Z"
   },
   {
    "duration": 8,
    "start_time": "2024-12-18T18:04:52.305Z"
   },
   {
    "duration": 219,
    "start_time": "2024-12-18T18:04:52.329Z"
   },
   {
    "duration": 16,
    "start_time": "2024-12-18T18:04:52.549Z"
   },
   {
    "duration": 34,
    "start_time": "2024-12-18T18:04:52.567Z"
   },
   {
    "duration": 29,
    "start_time": "2024-12-18T18:04:52.603Z"
   },
   {
    "duration": 44,
    "start_time": "2024-12-18T18:04:52.633Z"
   },
   {
    "duration": 21,
    "start_time": "2024-12-18T18:04:54.048Z"
   },
   {
    "duration": 336,
    "start_time": "2024-12-18T18:04:54.071Z"
   },
   {
    "duration": 7,
    "start_time": "2024-12-18T18:04:54.408Z"
   },
   {
    "duration": 16,
    "start_time": "2024-12-18T18:04:54.430Z"
   },
   {
    "duration": 189,
    "start_time": "2024-12-18T18:04:54.448Z"
   },
   {
    "duration": 20,
    "start_time": "2024-12-18T18:04:54.639Z"
   },
   {
    "duration": 567,
    "start_time": "2024-12-18T18:04:54.660Z"
   },
   {
    "duration": 316,
    "start_time": "2024-12-18T18:04:55.229Z"
   },
   {
    "duration": 8,
    "start_time": "2024-12-18T18:04:55.547Z"
   },
   {
    "duration": 683,
    "start_time": "2024-12-18T18:04:55.556Z"
   },
   {
    "duration": 15,
    "start_time": "2024-12-18T18:04:56.242Z"
   },
   {
    "duration": 238,
    "start_time": "2024-12-18T18:04:56.259Z"
   },
   {
    "duration": 469,
    "start_time": "2024-12-18T18:04:56.499Z"
   },
   {
    "duration": 8,
    "start_time": "2024-12-18T18:04:56.970Z"
   },
   {
    "duration": 9,
    "start_time": "2024-12-18T18:04:56.979Z"
   },
   {
    "duration": 163,
    "start_time": "2024-12-18T18:04:56.990Z"
   },
   {
    "duration": 141,
    "start_time": "2024-12-18T18:04:57.155Z"
   },
   {
    "duration": 140,
    "start_time": "2024-12-18T18:04:57.298Z"
   },
   {
    "duration": 40,
    "start_time": "2024-12-18T18:04:57.440Z"
   },
   {
    "duration": 315,
    "start_time": "2024-12-18T18:04:57.482Z"
   },
   {
    "duration": 8,
    "start_time": "2024-12-18T18:04:57.799Z"
   },
   {
    "duration": 24,
    "start_time": "2024-12-18T18:04:57.809Z"
   },
   {
    "duration": 24,
    "start_time": "2024-12-18T18:04:57.836Z"
   },
   {
    "duration": 1173,
    "start_time": "2024-12-18T21:00:40.442Z"
   },
   {
    "duration": 256,
    "start_time": "2024-12-18T21:00:41.617Z"
   },
   {
    "duration": 13,
    "start_time": "2024-12-18T21:00:41.874Z"
   },
   {
    "duration": 40,
    "start_time": "2024-12-18T21:00:41.889Z"
   },
   {
    "duration": 46,
    "start_time": "2024-12-18T21:00:41.931Z"
   },
   {
    "duration": 7,
    "start_time": "2024-12-18T21:00:41.978Z"
   },
   {
    "duration": 10,
    "start_time": "2024-12-18T21:00:41.986Z"
   },
   {
    "duration": 9,
    "start_time": "2024-12-18T21:00:41.997Z"
   },
   {
    "duration": 20,
    "start_time": "2024-12-18T21:00:42.007Z"
   },
   {
    "duration": 14,
    "start_time": "2024-12-18T21:00:42.030Z"
   },
   {
    "duration": 14,
    "start_time": "2024-12-18T21:00:42.045Z"
   },
   {
    "duration": 26,
    "start_time": "2024-12-18T21:00:42.061Z"
   },
   {
    "duration": 14,
    "start_time": "2024-12-18T21:00:42.088Z"
   },
   {
    "duration": 19,
    "start_time": "2024-12-18T21:00:42.104Z"
   },
   {
    "duration": 33,
    "start_time": "2024-12-18T21:00:42.124Z"
   },
   {
    "duration": 8,
    "start_time": "2024-12-18T21:00:42.158Z"
   },
   {
    "duration": 229,
    "start_time": "2024-12-18T21:00:42.167Z"
   },
   {
    "duration": 13,
    "start_time": "2024-12-18T21:00:42.398Z"
   },
   {
    "duration": 13,
    "start_time": "2024-12-18T21:00:42.413Z"
   },
   {
    "duration": 25,
    "start_time": "2024-12-18T21:00:42.427Z"
   },
   {
    "duration": 10,
    "start_time": "2024-12-18T21:00:42.454Z"
   },
   {
    "duration": 17,
    "start_time": "2024-12-18T21:00:42.465Z"
   },
   {
    "duration": 334,
    "start_time": "2024-12-18T21:00:42.484Z"
   },
   {
    "duration": 6,
    "start_time": "2024-12-18T21:00:42.820Z"
   },
   {
    "duration": 13,
    "start_time": "2024-12-18T21:00:42.827Z"
   },
   {
    "duration": 153,
    "start_time": "2024-12-18T21:00:42.841Z"
   },
   {
    "duration": 18,
    "start_time": "2024-12-18T21:00:42.995Z"
   },
   {
    "duration": 454,
    "start_time": "2024-12-18T21:00:43.016Z"
   },
   {
    "duration": 379,
    "start_time": "2024-12-18T21:00:43.472Z"
   },
   {
    "duration": 7,
    "start_time": "2024-12-18T21:00:43.853Z"
   },
   {
    "duration": 513,
    "start_time": "2024-12-18T21:00:43.862Z"
   },
   {
    "duration": 15,
    "start_time": "2024-12-18T21:00:44.376Z"
   },
   {
    "duration": 212,
    "start_time": "2024-12-18T21:00:44.393Z"
   },
   {
    "duration": 446,
    "start_time": "2024-12-18T21:00:44.607Z"
   },
   {
    "duration": 7,
    "start_time": "2024-12-18T21:00:45.055Z"
   },
   {
    "duration": 19,
    "start_time": "2024-12-18T21:00:45.064Z"
   },
   {
    "duration": 129,
    "start_time": "2024-12-18T21:00:45.085Z"
   },
   {
    "duration": 119,
    "start_time": "2024-12-18T21:00:45.215Z"
   },
   {
    "duration": 126,
    "start_time": "2024-12-18T21:00:45.335Z"
   },
   {
    "duration": 34,
    "start_time": "2024-12-18T21:00:45.462Z"
   },
   {
    "duration": 300,
    "start_time": "2024-12-18T21:00:45.498Z"
   },
   {
    "duration": 7,
    "start_time": "2024-12-18T21:00:45.800Z"
   },
   {
    "duration": 7,
    "start_time": "2024-12-18T21:00:45.808Z"
   },
   {
    "duration": 29,
    "start_time": "2024-12-18T21:00:45.817Z"
   }
  ],
  "kernelspec": {
   "display_name": "Python 3 (ipykernel)",
   "language": "python",
   "name": "python3"
  },
  "language_info": {
   "codemirror_mode": {
    "name": "ipython",
    "version": 3
   },
   "file_extension": ".py",
   "mimetype": "text/x-python",
   "name": "python",
   "nbconvert_exporter": "python",
   "pygments_lexer": "ipython3",
   "version": "3.12.7"
  },
  "toc": {
   "base_numbering": 1,
   "nav_menu": {},
   "number_sections": true,
   "sideBar": true,
   "skip_h1_title": true,
   "title_cell": "Table of Contents",
   "title_sidebar": "Contents",
   "toc_cell": false,
   "toc_position": {
    "height": "calc(100% - 180px)",
    "left": "10px",
    "top": "150px",
    "width": "371.188px"
   },
   "toc_section_display": true,
   "toc_window_display": true
  }
 },
 "nbformat": 4,
 "nbformat_minor": 4
}
