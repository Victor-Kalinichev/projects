{
 "cells": [
  {
   "cell_type": "markdown",
   "metadata": {
    "toc": true
   },
   "source": [
    "<h1>Содержание<span class=\"tocSkip\"></span></h1>\n",
    "<div class=\"toc\"><ul class=\"toc-item\"><li><ul class=\"toc-item\"><li><span><a href=\"#Описание-проекта\" data-toc-modified-id=\"Описание-проекта-0.1\"><span class=\"toc-item-num\">0.1&nbsp;&nbsp;</span>Описание проекта</a></span></li><li><span><a href=\"#Цели-проекта\" data-toc-modified-id=\"Цели-проекта-0.2\"><span class=\"toc-item-num\">0.2&nbsp;&nbsp;</span>Цели проекта</a></span></li><li><span><a href=\"#Ход-исследования\" data-toc-modified-id=\"Ход-исследования-0.3\"><span class=\"toc-item-num\">0.3&nbsp;&nbsp;</span>Ход исследования</a></span></li></ul></li><li><span><a href=\"#Загрузка-и-предобработка-данных\" data-toc-modified-id=\"Загрузка-и-предобработка-данных-1\"><span class=\"toc-item-num\">1&nbsp;&nbsp;</span>Загрузка и предобработка данных</a></span></li><li><span><a href=\"#Исследовательский-и-корреляционный-анализ-данных\" data-toc-modified-id=\"Исследовательский-и-корреляционный-анализ-данных-2\"><span class=\"toc-item-num\">2&nbsp;&nbsp;</span>Исследовательский и корреляционный анализ данных</a></span></li><li><span><a href=\"#Подготовка-данных\" data-toc-modified-id=\"Подготовка-данных-3\"><span class=\"toc-item-num\">3&nbsp;&nbsp;</span>Подготовка данных</a></span></li><li><span><a href=\"#Обучение-и-оценка-моделей\" data-toc-modified-id=\"Обучение-и-оценка-моделей-4\"><span class=\"toc-item-num\">4&nbsp;&nbsp;</span>Обучение и оценка моделей</a></span></li><li><span><a href=\"#Общий-вывод\" data-toc-modified-id=\"Общий-вывод-5\"><span class=\"toc-item-num\">5&nbsp;&nbsp;</span>Общий вывод</a></span></li></ul></div>"
   ]
  },
  {
   "cell_type": "markdown",
   "metadata": {},
   "source": [
    "#  Проект по прогнозированию заказов такси"
   ]
  },
  {
   "cell_type": "markdown",
   "metadata": {},
   "source": [
    "### Описание проекта\n",
    "**Заказчик:** Компания «Чётенькое такси»"
   ]
  },
  {
   "cell_type": "markdown",
   "metadata": {},
   "source": [
    "**Описание данных** \n",
    "\n",
    "Датасет содержит исторические данные о заказах такси в аэропортах."
   ]
  },
  {
   "cell_type": "markdown",
   "metadata": {},
   "source": [
    "### Цели проекта "
   ]
  },
  {
   "cell_type": "markdown",
   "metadata": {},
   "source": [
    "Построить модель для прогнозирования количества заказов такси. Это нужно, чтобы правильно определять период пиковой нагрузки и привлекать больше водителей в это время.  Количество заказов — непрерывная количественная величина, соответственно, в ходе проекта будет решена задача регрессии.\n",
    "\n",
    "\n",
    "Дополнительное условие: значение метрики *RMSE* на тестовой выборке должно быть не больше 48."
   ]
  },
  {
   "cell_type": "markdown",
   "metadata": {},
   "source": [
    "### Ход исследования"
   ]
  },
  {
   "cell_type": "markdown",
   "metadata": {},
   "source": [
    "- **Загрузка и предобработка данных**: загрузка и изучение общей информации о предоставленном датасете, ресемплирование данных по одному часу. Корректировка типов данных, дубликатов и пропусков.\n",
    "\n",
    "- **Анализ данных**: создание признаков, описание и визуалиция информации обо всех признаках, устранение аномалий. Корреляционный анализ\n",
    "\n",
    "- **Подготовка данных**: кодирование и масштабирование признаков перед обучением модели.\n",
    "\n",
    "- **Обучение и оценка моделей**: обучение моделей для задачи регрессии, подбор гиперпараметров. Оценка качества моделей, выбор лучшей модели  и её проверка на тестовой выборке.\n",
    "\n",
    "- **Общий вывод** и подведение итогов по проделанным работам, рекомендации заказчику."
   ]
  },
  {
   "cell_type": "code",
   "execution_count": 1,
   "metadata": {},
   "outputs": [],
   "source": [
    "!pip install --upgrade scikit-learn -q"
   ]
  },
  {
   "cell_type": "code",
   "execution_count": 2,
   "metadata": {},
   "outputs": [],
   "source": [
    "import os\n",
    "import pandas as pd\n",
    "from matplotlib import pyplot as plt\n",
    "import numpy as np\n",
    "import scipy.stats as stats\n",
    "import seaborn as sns\n",
    "import lightgbm as lgb\n",
    "\n",
    "from statsmodels.tsa.seasonal import seasonal_decompose\n",
    "\n",
    "from sklearn.compose import ColumnTransformer\n",
    "from sklearn.dummy import DummyRegressor\n",
    "from sklearn.pipeline import Pipeline\n",
    "\n",
    "from sklearn.linear_model import LinearRegression\n",
    "from sklearn.tree import DecisionTreeRegressor\n",
    "from sklearn.model_selection import (\n",
    "                                    RandomizedSearchCV,\n",
    "                                    train_test_split,\n",
    "                                    TimeSeriesSplit\n",
    "                                )\n",
    "from sklearn.preprocessing import (\n",
    "                                    StandardScaler,\n",
    "                                    OneHotEncoder\n",
    "                                )\n",
    "from sklearn.metrics import (\n",
    "                             mean_squared_error,\n",
    "                             make_scorer\n",
    ")\n",
    "\n",
    "\n",
    "RANDOM_STATE = 42"
   ]
  },
  {
   "cell_type": "markdown",
   "metadata": {},
   "source": [
    "## Загрузка и предобработка данных\n",
    "\n",
    "<a href=\"#Содержание\">Назад к содержанию</a>"
   ]
  },
  {
   "cell_type": "markdown",
   "metadata": {},
   "source": [
    "Для начала загрузим данные. Применим библиотеку os, чтобы убедиться в корректности пути, по которому находится датасет."
   ]
  },
  {
   "cell_type": "code",
   "execution_count": 3,
   "metadata": {},
   "outputs": [
    {
     "data": {
      "text/html": [
       "<div>\n",
       "<style scoped>\n",
       "    .dataframe tbody tr th:only-of-type {\n",
       "        vertical-align: middle;\n",
       "    }\n",
       "\n",
       "    .dataframe tbody tr th {\n",
       "        vertical-align: top;\n",
       "    }\n",
       "\n",
       "    .dataframe thead th {\n",
       "        text-align: right;\n",
       "    }\n",
       "</style>\n",
       "<table border=\"1\" class=\"dataframe\">\n",
       "  <thead>\n",
       "    <tr style=\"text-align: right;\">\n",
       "      <th></th>\n",
       "      <th>datetime</th>\n",
       "      <th>num_orders</th>\n",
       "    </tr>\n",
       "  </thead>\n",
       "  <tbody>\n",
       "    <tr>\n",
       "      <th>23637</th>\n",
       "      <td>2018-08-12 03:30:00</td>\n",
       "      <td>14</td>\n",
       "    </tr>\n",
       "    <tr>\n",
       "      <th>3464</th>\n",
       "      <td>2018-03-25 01:20:00</td>\n",
       "      <td>22</td>\n",
       "    </tr>\n",
       "    <tr>\n",
       "      <th>17796</th>\n",
       "      <td>2018-07-02 14:00:00</td>\n",
       "      <td>4</td>\n",
       "    </tr>\n",
       "    <tr>\n",
       "      <th>23505</th>\n",
       "      <td>2018-08-11 05:30:00</td>\n",
       "      <td>11</td>\n",
       "    </tr>\n",
       "    <tr>\n",
       "      <th>23220</th>\n",
       "      <td>2018-08-09 06:00:00</td>\n",
       "      <td>10</td>\n",
       "    </tr>\n",
       "  </tbody>\n",
       "</table>\n",
       "</div>"
      ],
      "text/plain": [
       "                  datetime  num_orders\n",
       "23637  2018-08-12 03:30:00          14\n",
       "3464   2018-03-25 01:20:00          22\n",
       "17796  2018-07-02 14:00:00           4\n",
       "23505  2018-08-11 05:30:00          11\n",
       "23220  2018-08-09 06:00:00          10"
      ]
     },
     "metadata": {},
     "output_type": "display_data"
    },
    {
     "data": {
      "text/plain": [
       "(26496, 2)"
      ]
     },
     "metadata": {},
     "output_type": "display_data"
    }
   ],
   "source": [
    "pth = 'taxi_time_series.csv'\n",
    "if os.path.exists(pth):\n",
    "    taxi = pd.read_csv(pth)\n",
    "    display(taxi.sample(5), taxi.shape)\n",
    "else:\n",
    "    print('Something is wrong')"
   ]
  },
  {
   "cell_type": "markdown",
   "metadata": {},
   "source": [
    "Всего в датасете 2 признака и 26496 наблюдений. Далее проведём предобработку данных, а после её завершения — ресэмплирование по одному часу. Выведем общую информацию о данных на экран:"
   ]
  },
  {
   "cell_type": "code",
   "execution_count": 4,
   "metadata": {},
   "outputs": [
    {
     "name": "stdout",
     "output_type": "stream",
     "text": [
      "<class 'pandas.core.frame.DataFrame'>\n",
      "RangeIndex: 26496 entries, 0 to 26495\n",
      "Data columns (total 2 columns):\n",
      " #   Column      Non-Null Count  Dtype \n",
      "---  ------      --------------  ----- \n",
      " 0   datetime    26496 non-null  object\n",
      " 1   num_orders  26496 non-null  int64 \n",
      "dtypes: int64(1), object(1)\n",
      "memory usage: 414.1+ KB\n"
     ]
    }
   ],
   "source": [
    "taxi.info()"
   ]
  },
  {
   "cell_type": "markdown",
   "metadata": {},
   "source": [
    "Количество ненулевых значений по каждому признаку совпадает с количеством строк — значит, пропусков в данных нет. С названиями признаков также всё в порядке, они написаны в стиле snake_case. Однако в столбце datetime тип данных стоит поменять на соответствующий (datetime), а не object."
   ]
  },
  {
   "cell_type": "code",
   "execution_count": 5,
   "metadata": {},
   "outputs": [
    {
     "name": "stdout",
     "output_type": "stream",
     "text": [
      "<class 'pandas.core.frame.DataFrame'>\n",
      "RangeIndex: 26496 entries, 0 to 26495\n",
      "Data columns (total 2 columns):\n",
      " #   Column      Non-Null Count  Dtype         \n",
      "---  ------      --------------  -----         \n",
      " 0   datetime    26496 non-null  datetime64[ns]\n",
      " 1   num_orders  26496 non-null  int64         \n",
      "dtypes: datetime64[ns](1), int64(1)\n",
      "memory usage: 414.1 KB\n"
     ]
    }
   ],
   "source": [
    "taxi['datetime'] = pd.to_datetime(taxi['datetime'])\n",
    "taxi.info()"
   ]
  },
  {
   "cell_type": "markdown",
   "metadata": {},
   "source": [
    "Типы данных теперь проставлены корректно. Проверим датасет на наличие полных дубликатов."
   ]
  },
  {
   "cell_type": "code",
   "execution_count": 6,
   "metadata": {},
   "outputs": [
    {
     "data": {
      "text/plain": [
       "0"
      ]
     },
     "execution_count": 6,
     "metadata": {},
     "output_type": "execute_result"
    }
   ],
   "source": [
    "taxi.duplicated().sum()"
   ]
  },
  {
   "cell_type": "markdown",
   "metadata": {},
   "source": [
    "Полных дубликатов нет, проверим на наличие неполных по столбцу datetime"
   ]
  },
  {
   "cell_type": "code",
   "execution_count": 7,
   "metadata": {},
   "outputs": [
    {
     "data": {
      "text/plain": [
       "2018-03-09 22:10:00    1\n",
       "2018-07-20 13:00:00    1\n",
       "2018-04-07 16:50:00    1\n",
       "2018-05-13 22:40:00    1\n",
       "2018-03-06 22:30:00    1\n",
       "                      ..\n",
       "2018-06-22 17:10:00    1\n",
       "2018-06-06 20:00:00    1\n",
       "2018-04-20 04:30:00    1\n",
       "2018-04-04 07:20:00    1\n",
       "2018-06-26 15:40:00    1\n",
       "Name: datetime, Length: 26496, dtype: int64"
      ]
     },
     "execution_count": 7,
     "metadata": {},
     "output_type": "execute_result"
    }
   ],
   "source": [
    "taxi['datetime'].value_counts()"
   ]
  },
  {
   "cell_type": "markdown",
   "metadata": {},
   "source": [
    "С помощью value_counts мы выяснили, что для каждого уникального значения datetime есть только одна строка в датафрейме. Далее перенёсем в индекс датасета столбец datetime и убедимся, что он является монотонным. Если это так — проведём ресэплирование по часу."
   ]
  },
  {
   "cell_type": "code",
   "execution_count": 8,
   "metadata": {},
   "outputs": [
    {
     "data": {
      "text/plain": [
       "True"
      ]
     },
     "execution_count": 8,
     "metadata": {},
     "output_type": "execute_result"
    }
   ],
   "source": [
    "taxi.set_index('datetime', inplace=True)\n",
    "taxi.index.is_monotonic"
   ]
  },
  {
   "cell_type": "code",
   "execution_count": 9,
   "metadata": {},
   "outputs": [
    {
     "data": {
      "text/html": [
       "<div>\n",
       "<style scoped>\n",
       "    .dataframe tbody tr th:only-of-type {\n",
       "        vertical-align: middle;\n",
       "    }\n",
       "\n",
       "    .dataframe tbody tr th {\n",
       "        vertical-align: top;\n",
       "    }\n",
       "\n",
       "    .dataframe thead th {\n",
       "        text-align: right;\n",
       "    }\n",
       "</style>\n",
       "<table border=\"1\" class=\"dataframe\">\n",
       "  <thead>\n",
       "    <tr style=\"text-align: right;\">\n",
       "      <th></th>\n",
       "      <th>num_orders</th>\n",
       "    </tr>\n",
       "    <tr>\n",
       "      <th>datetime</th>\n",
       "      <th></th>\n",
       "    </tr>\n",
       "  </thead>\n",
       "  <tbody>\n",
       "    <tr>\n",
       "      <th>2018-03-01 00:00:00</th>\n",
       "      <td>124</td>\n",
       "    </tr>\n",
       "    <tr>\n",
       "      <th>2018-03-01 01:00:00</th>\n",
       "      <td>85</td>\n",
       "    </tr>\n",
       "    <tr>\n",
       "      <th>2018-03-01 02:00:00</th>\n",
       "      <td>71</td>\n",
       "    </tr>\n",
       "    <tr>\n",
       "      <th>2018-03-01 03:00:00</th>\n",
       "      <td>66</td>\n",
       "    </tr>\n",
       "    <tr>\n",
       "      <th>2018-03-01 04:00:00</th>\n",
       "      <td>43</td>\n",
       "    </tr>\n",
       "  </tbody>\n",
       "</table>\n",
       "</div>"
      ],
      "text/plain": [
       "                     num_orders\n",
       "datetime                       \n",
       "2018-03-01 00:00:00         124\n",
       "2018-03-01 01:00:00          85\n",
       "2018-03-01 02:00:00          71\n",
       "2018-03-01 03:00:00          66\n",
       "2018-03-01 04:00:00          43"
      ]
     },
     "execution_count": 9,
     "metadata": {},
     "output_type": "execute_result"
    }
   ],
   "source": [
    "taxi = taxi.resample('1H').sum()\n",
    "taxi.head()"
   ]
  },
  {
   "cell_type": "markdown",
   "metadata": {},
   "source": [
    "Длина датасета стало ровно в 6 раз меньше: всё логично, так как ранее количество заказов было прописано за каждые 10 минут."
   ]
  },
  {
   "cell_type": "markdown",
   "metadata": {},
   "source": [
    "**Вывод по загрузке и предобработке данных**\n",
    "\n",
    "- Изначальный размер датасета — 2 признака и 26496 наблюдений;\n",
    "- Названия признаков написаны в корректном змеином регистре;\n",
    "- Изначально датасет состоит из двух типов данных — object (столбец datetime) и int (столбец num_orders);\n",
    "- Пропусков в данных не обнаружено;\n",
    "- Дубликатов в данных не обнаружено;\n",
    "- По столбцу datetime тип данных заменён на datetime;\n",
    "- Столбец datetime перемещён в индекс датасета, также произведено ресэмплирование данных по одному часу. В результате его длина сократилась в 6 раз (4416 строк)"
   ]
  },
  {
   "cell_type": "markdown",
   "metadata": {},
   "source": [
    "## Исследовательский и корреляционный анализ данных\n",
    "\n",
    "<a href=\"#Содержание\">Назад к содержанию</a>"
   ]
  },
  {
   "cell_type": "markdown",
   "metadata": {},
   "source": [
    "Сейчас в нашем датасете по сути находится только целевой признак — num_orders. Перед тем, как приступать к анализу, создадим несколько входных признаков на основе даты и времени. Это нужно, чтобы в дальнейшем нашим моделям было на чём обучаться. После создания признаков проанализируем их вместе с целевым."
   ]
  },
  {
   "cell_type": "markdown",
   "metadata": {},
   "source": [
    "Для начала проверим, за какие годы датасет содержит информацию и есть ли смысл делать для года отдельный признак."
   ]
  },
  {
   "cell_type": "code",
   "execution_count": 10,
   "metadata": {},
   "outputs": [
    {
     "data": {
      "text/plain": [
       "Int64Index([2018], dtype='int64', name='datetime')"
      ]
     },
     "execution_count": 10,
     "metadata": {},
     "output_type": "execute_result"
    }
   ],
   "source": [
    "taxi.index.year.unique()"
   ]
  },
  {
   "cell_type": "markdown",
   "metadata": {},
   "source": [
    "У года только одно уникальное значение — 2018, соответственно, нет смысла делать признак year. Он не будет нести в себе полезной информации для обучения моделей."
   ]
  },
  {
   "cell_type": "code",
   "execution_count": 11,
   "metadata": {},
   "outputs": [
    {
     "data": {
      "text/plain": [
       "Int64Index([3, 4, 5, 6, 7, 8], dtype='int64', name='datetime')"
      ]
     },
     "execution_count": 11,
     "metadata": {},
     "output_type": "execute_result"
    }
   ],
   "source": [
    "taxi.index.month.unique()"
   ]
  },
  {
   "cell_type": "markdown",
   "metadata": {},
   "source": [
    "Месяцев в данных 6: с марта по август. Создавать на их основе отдельный признак не будем — более информативными для исследования будут признаки hour и day_of_week. (ведь в разное время дня и разные дни недели нагрузка на службы такси меняется. Модели должны это учитывать)"
   ]
  },
  {
   "cell_type": "code",
   "execution_count": 12,
   "metadata": {},
   "outputs": [
    {
     "data": {
      "text/html": [
       "<div>\n",
       "<style scoped>\n",
       "    .dataframe tbody tr th:only-of-type {\n",
       "        vertical-align: middle;\n",
       "    }\n",
       "\n",
       "    .dataframe tbody tr th {\n",
       "        vertical-align: top;\n",
       "    }\n",
       "\n",
       "    .dataframe thead th {\n",
       "        text-align: right;\n",
       "    }\n",
       "</style>\n",
       "<table border=\"1\" class=\"dataframe\">\n",
       "  <thead>\n",
       "    <tr style=\"text-align: right;\">\n",
       "      <th></th>\n",
       "      <th>num_orders</th>\n",
       "      <th>hour</th>\n",
       "      <th>day_of_week</th>\n",
       "    </tr>\n",
       "    <tr>\n",
       "      <th>datetime</th>\n",
       "      <th></th>\n",
       "      <th></th>\n",
       "      <th></th>\n",
       "    </tr>\n",
       "  </thead>\n",
       "  <tbody>\n",
       "    <tr>\n",
       "      <th>2018-04-11 08:00:00</th>\n",
       "      <td>60</td>\n",
       "      <td>8</td>\n",
       "      <td>2</td>\n",
       "    </tr>\n",
       "    <tr>\n",
       "      <th>2018-07-09 20:00:00</th>\n",
       "      <td>59</td>\n",
       "      <td>20</td>\n",
       "      <td>0</td>\n",
       "    </tr>\n",
       "    <tr>\n",
       "      <th>2018-07-29 09:00:00</th>\n",
       "      <td>98</td>\n",
       "      <td>9</td>\n",
       "      <td>6</td>\n",
       "    </tr>\n",
       "    <tr>\n",
       "      <th>2018-05-05 22:00:00</th>\n",
       "      <td>75</td>\n",
       "      <td>22</td>\n",
       "      <td>5</td>\n",
       "    </tr>\n",
       "    <tr>\n",
       "      <th>2018-04-21 01:00:00</th>\n",
       "      <td>119</td>\n",
       "      <td>1</td>\n",
       "      <td>5</td>\n",
       "    </tr>\n",
       "  </tbody>\n",
       "</table>\n",
       "</div>"
      ],
      "text/plain": [
       "                     num_orders  hour  day_of_week\n",
       "datetime                                          \n",
       "2018-04-11 08:00:00          60     8            2\n",
       "2018-07-09 20:00:00          59    20            0\n",
       "2018-07-29 09:00:00          98     9            6\n",
       "2018-05-05 22:00:00          75    22            5\n",
       "2018-04-21 01:00:00         119     1            5"
      ]
     },
     "execution_count": 12,
     "metadata": {},
     "output_type": "execute_result"
    }
   ],
   "source": [
    "taxi['hour'] =  taxi.index.hour\n",
    "taxi['day_of_week'] = taxi.index.dayofweek\n",
    "taxi.sample(5)"
   ]
  },
  {
   "cell_type": "markdown",
   "metadata": {},
   "source": [
    "Теперь проанализируем каждый из признаков."
   ]
  },
  {
   "cell_type": "code",
   "execution_count": 13,
   "metadata": {},
   "outputs": [
    {
     "data": {
      "text/plain": [
       "'Описание признака: num_orders'"
      ]
     },
     "metadata": {},
     "output_type": "display_data"
    },
    {
     "data": {
      "text/plain": [
       "count    4416.000000\n",
       "mean       84.422781\n",
       "std        45.023853\n",
       "min         0.000000\n",
       "25%        54.000000\n",
       "50%        78.000000\n",
       "75%       107.000000\n",
       "max       462.000000\n",
       "Name: num_orders, dtype: float64"
      ]
     },
     "metadata": {},
     "output_type": "display_data"
    },
    {
     "data": {
      "image/png": "[encoded data removed]",
      "text/plain": [
       "<Figure size 576x432 with 2 Axes>"
      ]
     },
     "metadata": {
      "needs_background": "light"
     },
     "output_type": "display_data"
    }
   ],
   "source": [
    "plt.figure(figsize=(8, 6))\n",
    "plt.subplot(2, 1, 1)\n",
    "sns.boxplot(data=taxi, x='num_orders')\n",
    "plt.title('Ящик с усами для num_orders')\n",
    "plt.ylabel('Количество наблюдений')\n",
    "plt.xlabel('num_orders')\n",
    "plt.xticks(rotation=30)\n",
    "\n",
    "plt.subplot(2, 1, 2)\n",
    "sns.histplot(data=taxi, x='num_orders')\n",
    "plt.title('Гистограмма для num_orders')\n",
    "plt.gca().set_yticks([])\n",
    "plt.ylabel('Количество наблюдений')\n",
    "plt.xlabel('num_orders')\n",
    "plt.xticks(rotation=30)\n",
    "\n",
    "display(f'Описание признака: num_orders',\n",
    "        taxi['num_orders'].describe()\n",
    "       )\n",
    "\n",
    "plt.tight_layout()   \n",
    "plt.show()    "
   ]
  },
  {
   "cell_type": "markdown",
   "metadata": {},
   "source": [
    "Признак num_orders (в отрыве от его динамики во времени) распределён нормально со средним в 84.4 заказов в час. Минимальное значение 0 вполне реалистично — в тот или иной час действительно может вообще не быть заказов. Но максимальное число 462 заказов/час уже вызывает вопросы."
   ]
  },
  {
   "cell_type": "markdown",
   "metadata": {},
   "source": [
    "У нас нет информации о том, в какие аэропорты были эти заказы. По названию компании  «Чётенькое такси» можно предположить, что она работает в России. \n",
    "\n",
    "В таком случае, сделаем следующее допущение. В наш датасет входят данные о самых крупных аэропортах нашей страны (Шереметьево, Домодедово и Внуково). По информации chat gpt, \n",
    "\n",
    "*«В часы пик (утро и вечер):\n",
    "В крупных аэропортах, таких как Шереметьево и Домодедово, количество заказов такси в час может достигать от 300 до 800+ заказов.*\n",
    "\n",
    "*Средние показатели: Обычно в не пиковое время это число снижается до 100–300 заказов в час.*\n",
    "\n",
    "Делаем вывод, что 462 заказа в час пик — это вариант нормы, удалять или изменять такие значения не нужно."
   ]
  },
  {
   "cell_type": "code",
   "execution_count": 14,
   "metadata": {
    "scrolled": true
   },
   "outputs": [
    {
     "data": {
      "image/png": "[encoded data removed]",
      "text/plain": [
       "<Figure size 1152x4608 with 14 Axes>"
      ]
     },
     "metadata": {
      "needs_background": "light"
     },
     "output_type": "display_data"
    }
   ],
   "source": [
    "weeks = sorted(taxi.index.isocalendar().week.unique())\n",
    "\n",
    "plt.figure(figsize=(16, 64))\n",
    "\n",
    "for i in range(0, len(weeks), 2):\n",
    "    week_pair = weeks[i:i+2]\n",
    "    plt.subplot((len(weeks) + 1) // 2, 2, i//2 + 1)\n",
    "    data_pair = taxi[taxi.index.isocalendar().week.isin(week_pair)]\n",
    "    sns.histplot(data=data_pair, x='num_orders', bins=14)\n",
    "    plt.title(f'Недели {week_pair[0]} и {week_pair[-1]}')\n",
    "\n",
    "plt.tight_layout()\n",
    "plt.show()"
   ]
  },
  {
   "cell_type": "markdown",
   "metadata": {},
   "source": [
    "Выше была произведена визуализация целевого признака по временным промежуткам в 2 недели. Тип распределения сохраняется такой же, как и у совокупности в целом — нормальный."
   ]
  },
  {
   "cell_type": "markdown",
   "metadata": {},
   "source": [
    "Далее построим столбчатые диаграммы по каждому из дискретных признаков."
   ]
  },
  {
   "cell_type": "code",
   "execution_count": 15,
   "metadata": {},
   "outputs": [
    {
     "data": {
      "text/plain": [
       "'Частота значений для признака: hour'"
      ]
     },
     "metadata": {},
     "output_type": "display_data"
    },
    {
     "data": {
      "text/plain": [
       "0     184\n",
       "1     184\n",
       "2     184\n",
       "3     184\n",
       "4     184\n",
       "5     184\n",
       "6     184\n",
       "7     184\n",
       "8     184\n",
       "9     184\n",
       "10    184\n",
       "11    184\n",
       "12    184\n",
       "13    184\n",
       "14    184\n",
       "15    184\n",
       "16    184\n",
       "17    184\n",
       "18    184\n",
       "19    184\n",
       "20    184\n",
       "21    184\n",
       "22    184\n",
       "23    184\n",
       "Name: hour, dtype: int64"
      ]
     },
     "metadata": {},
     "output_type": "display_data"
    },
    {
     "data": {
      "text/plain": [
       "'Частота значений для признака: day_of_week'"
      ]
     },
     "metadata": {},
     "output_type": "display_data"
    },
    {
     "data": {
      "text/plain": [
       "0    624\n",
       "1    624\n",
       "2    624\n",
       "3    648\n",
       "4    648\n",
       "5    624\n",
       "6    624\n",
       "Name: day_of_week, dtype: int64"
      ]
     },
     "metadata": {},
     "output_type": "display_data"
    },
    {
     "data": {
      "image/png": "[encoded data removed]",
      "text/plain": [
       "<Figure size 936x936 with 2 Axes>"
      ]
     },
     "metadata": {
      "needs_background": "light"
     },
     "output_type": "display_data"
    }
   ],
   "source": [
    "discrete_features = [\n",
    "                    'hour',\n",
    "                    'day_of_week'\n",
    "                    ]\n",
    "\n",
    "plt.figure(figsize=(13, 13))\n",
    "for i, feature in enumerate(discrete_features, start=1):\n",
    "    \n",
    "    plt.subplot(2, 2, i)\n",
    "    sns.countplot(data=taxi, x=feature)\n",
    "    plt.title(f'Столбчатая диаграмма для {feature}', fontweight='bold', fontsize=14)\n",
    "    plt.gca().set_yticks([])\n",
    "    plt.ylabel('Количество наблюдений')\n",
    "    plt.xlabel(feature)\n",
    "    plt.xticks(rotation=45)\n",
    "    \n",
    "    display(f'Частота значений для признака: {feature}',\n",
    "            taxi[feature].value_counts().sort_index()\n",
    "           )  \n",
    "plt.tight_layout()   \n",
    "plt.show()"
   ]
  },
  {
   "cell_type": "markdown",
   "metadata": {},
   "source": [
    "Эти диаграммы несут довольно мало информации для анализа, значения распределены практически поровну. Актуально для обоих признаков. \n",
    "\n",
    "- Признак hour. Для всех часов количество наблюдений — 184, они распределены поровну.\n",
    "\n",
    "\n",
    "- Признак day_of_week. Наибольшее число наблюдений было для четверга и пятницы (648), наименьшее (624) - для понедельника, вторника, среды, субботы и воскресенья."
   ]
  },
  {
   "cell_type": "markdown",
   "metadata": {},
   "source": [
    "Далее построим более информативный график с помощью тепловой карты. Он позволит нам понять, в какие часы каких дней недели было больше всего заказов, в среднем."
   ]
  },
  {
   "cell_type": "code",
   "execution_count": 16,
   "metadata": {},
   "outputs": [
    {
     "data": {
      "image/png": "[encoded data removed]",
      "text/plain": [
       "<Figure size 1152x720 with 2 Axes>"
      ]
     },
     "metadata": {
      "needs_background": "light"
     },
     "output_type": "display_data"
    }
   ],
   "source": [
    "pivot_table = taxi.pivot_table(values='num_orders', index='day_of_week', columns='hour', aggfunc='mean')\n",
    "\n",
    "plt.figure(figsize=(16,10))\n",
    "sns.heatmap(pivot_table, annot=True, fmt=\".1f\", cmap='coolwarm')\n",
    "plt.title('Среднее число заказов по часам и дням недели', fontsize=14, fontweight='bold')\n",
    "plt.xlabel('Час дня')\n",
    "plt.ylabel('День недели')\n",
    "plt.show()"
   ]
  },
  {
   "cell_type": "markdown",
   "metadata": {},
   "source": [
    "- Самое высокое среднее число заказов было в понедельник в 0:00 (168.6), а также в субботу в 0:00 (169.9)\n",
    "- Также высокие значения характерны для среды в 0:00 (137.5),четверга в 0:00 (147.1), пятницы в 0:00 (145.7) и в 22:00 (146.3), субботы в 1:00 (133)\n",
    "- Самое низкое среднее число заказов — вторник в 6:00 (23.2), четверг в 6:00 (14.4), воскресенье в 6:00 (20.8)."
   ]
  },
  {
   "cell_type": "markdown",
   "metadata": {},
   "source": [
    "Далее на основании скользящего среднего визуализируем тренд, сезонность и остатки целевого признака."
   ]
  },
  {
   "cell_type": "code",
   "execution_count": 17,
   "metadata": {},
   "outputs": [
    {
     "data": {
      "image/png": "[encoded data removed]",
      "text/plain": [
       "<Figure size 1008x576 with 3 Axes>"
      ]
     },
     "metadata": {
      "needs_background": "light"
     },
     "output_type": "display_data"
    }
   ],
   "source": [
    "decomposition = seasonal_decompose(taxi['num_orders'], model='additive', period=168)\n",
    "\n",
    "plt.figure(figsize=(14, 8))\n",
    "\n",
    "plt.subplot(3, 1, 1)\n",
    "plt.plot(decomposition.trend, label='Тренд', color='orange')\n",
    "plt.title('Тренд')\n",
    "plt.xlabel('Время')\n",
    "plt.ylabel('Количество заказов')\n",
    "plt.legend()\n",
    "plt.grid()\n",
    "\n",
    "plt.subplot(3, 1, 2)\n",
    "plt.plot(decomposition.seasonal, label='Сезонность', color='green')\n",
    "plt.title('Сезонность')\n",
    "plt.xlabel('Время')\n",
    "plt.ylabel('Сезонный эффект')\n",
    "plt.legend()\n",
    "plt.grid()\n",
    "\n",
    "plt.subplot(3, 1, 3)\n",
    "plt.plot(decomposition.resid, label='Остатки', color='red')\n",
    "plt.title('Остатки')\n",
    "plt.xlabel('Время')\n",
    "plt.ylabel('Остаточный эффект')\n",
    "plt.legend()\n",
    "plt.grid()\n",
    "\n",
    "plt.tight_layout()\n",
    "plt.show()"
   ]
  },
  {
   "cell_type": "markdown",
   "metadata": {},
   "source": [
    "- график тренда показывает устойчивое увеличение скользящего среднего числа заказов с течением времени. То есть, в августе в среднем заказов было больше, чем в марте;\n",
    "\n",
    "- график сезонности показывает, что у целевого признака есть регулярные колебания. То есть, в поведении заказов действительно есть устойчивые паттерны. В определенную часть недели их среднее число увеличивается, а затем уменьшается;\n",
    "\n",
    "- явных паттернов или трендов на графике остатков нет — они хаотичны."
   ]
  },
  {
   "cell_type": "markdown",
   "metadata": {},
   "source": [
    "Также добавим в датасет 2 новых признака на основе нашего таргета — лаговые значения и скользящее среднее. И тот, и другой признак будут основываться в данных за неделю (168 часов)."
   ]
  },
  {
   "cell_type": "code",
   "execution_count": 18,
   "metadata": {},
   "outputs": [
    {
     "data": {
      "text/html": [
       "<div>\n",
       "<style scoped>\n",
       "    .dataframe tbody tr th:only-of-type {\n",
       "        vertical-align: middle;\n",
       "    }\n",
       "\n",
       "    .dataframe tbody tr th {\n",
       "        vertical-align: top;\n",
       "    }\n",
       "\n",
       "    .dataframe thead th {\n",
       "        text-align: right;\n",
       "    }\n",
       "</style>\n",
       "<table border=\"1\" class=\"dataframe\">\n",
       "  <thead>\n",
       "    <tr style=\"text-align: right;\">\n",
       "      <th></th>\n",
       "      <th>num_orders</th>\n",
       "      <th>hour</th>\n",
       "      <th>day_of_week</th>\n",
       "      <th>lag_values</th>\n",
       "      <th>rolling_mean</th>\n",
       "    </tr>\n",
       "    <tr>\n",
       "      <th>datetime</th>\n",
       "      <th></th>\n",
       "      <th></th>\n",
       "      <th></th>\n",
       "      <th></th>\n",
       "      <th></th>\n",
       "    </tr>\n",
       "  </thead>\n",
       "  <tbody>\n",
       "    <tr>\n",
       "      <th>2018-03-01 00:00:00</th>\n",
       "      <td>124</td>\n",
       "      <td>0</td>\n",
       "      <td>3</td>\n",
       "      <td>NaN</td>\n",
       "      <td>NaN</td>\n",
       "    </tr>\n",
       "    <tr>\n",
       "      <th>2018-03-01 01:00:00</th>\n",
       "      <td>85</td>\n",
       "      <td>1</td>\n",
       "      <td>3</td>\n",
       "      <td>NaN</td>\n",
       "      <td>NaN</td>\n",
       "    </tr>\n",
       "    <tr>\n",
       "      <th>2018-03-01 02:00:00</th>\n",
       "      <td>71</td>\n",
       "      <td>2</td>\n",
       "      <td>3</td>\n",
       "      <td>NaN</td>\n",
       "      <td>NaN</td>\n",
       "    </tr>\n",
       "    <tr>\n",
       "      <th>2018-03-01 03:00:00</th>\n",
       "      <td>66</td>\n",
       "      <td>3</td>\n",
       "      <td>3</td>\n",
       "      <td>NaN</td>\n",
       "      <td>NaN</td>\n",
       "    </tr>\n",
       "    <tr>\n",
       "      <th>2018-03-01 04:00:00</th>\n",
       "      <td>43</td>\n",
       "      <td>4</td>\n",
       "      <td>3</td>\n",
       "      <td>NaN</td>\n",
       "      <td>NaN</td>\n",
       "    </tr>\n",
       "  </tbody>\n",
       "</table>\n",
       "</div>"
      ],
      "text/plain": [
       "                     num_orders  hour  day_of_week  lag_values  rolling_mean\n",
       "datetime                                                                    \n",
       "2018-03-01 00:00:00         124     0            3         NaN           NaN\n",
       "2018-03-01 01:00:00          85     1            3         NaN           NaN\n",
       "2018-03-01 02:00:00          71     2            3         NaN           NaN\n",
       "2018-03-01 03:00:00          66     3            3         NaN           NaN\n",
       "2018-03-01 04:00:00          43     4            3         NaN           NaN"
      ]
     },
     "metadata": {},
     "output_type": "display_data"
    },
    {
     "data": {
      "text/plain": [
       "num_orders        0\n",
       "hour              0\n",
       "day_of_week       0\n",
       "lag_values      168\n",
       "rolling_mean    168\n",
       "dtype: int64"
      ]
     },
     "metadata": {},
     "output_type": "display_data"
    }
   ],
   "source": [
    "taxi['lag_values'] = taxi['num_orders'].shift(168)\n",
    "taxi['rolling_mean'] = taxi['num_orders'].shift().rolling(168).mean()\n",
    "display(taxi.head(), taxi.isna().sum())"
   ]
  },
  {
   "cell_type": "markdown",
   "metadata": {},
   "source": [
    "Теперь нужно удалить первые 168 строк датасета — линейная регрессия не сможет обработать пропуски."
   ]
  },
  {
   "cell_type": "code",
   "execution_count": 19,
   "metadata": {},
   "outputs": [
    {
     "data": {
      "text/plain": [
       "num_orders      0\n",
       "hour            0\n",
       "day_of_week     0\n",
       "lag_values      0\n",
       "rolling_mean    0\n",
       "dtype: int64"
      ]
     },
     "execution_count": 19,
     "metadata": {},
     "output_type": "execute_result"
    }
   ],
   "source": [
    "taxi = taxi.dropna(subset=['lag_values', 'rolling_mean'])\n",
    "taxi.isna().sum()"
   ]
  },
  {
   "cell_type": "markdown",
   "metadata": {},
   "source": [
    "**Вывод по исследовательскому анализу данных**\n",
    "\n",
    "- В данные добавлено 4 новых признака — час, день недели, лаговые значения за неделю и скользяшее среднее с окном в неделю.\n",
    "\n",
    "\n",
    "Визуализация и анализ признаков\n",
    "\n",
    "\n",
    "- Признак num_orders распределён нормально со средним в 84.4 заказов в час. Минимальное значение 0, максимальное — 462. Также  проведена его визуализация по временным промежуткам в 2 недели. Распределение получилось такое же, как и у совокупности в целом — нормальное.\n",
    "\n",
    "- Признак hour. Для всех часов количество наблюдений — 184, они распределены поровну.\n",
    "\n",
    "\n",
    "- Признак day_of_week. Наибольшее число наблюдений было для четверга и пятницы (648), наименьшее (624) - для понедельника, вторника, среды, субботы и воскресенья.\n",
    "\n",
    "\n",
    "Анализ тепловой карты\n",
    "\n",
    "\n",
    "- Самое высокое среднее число заказов было в понедельник в 0:00 (168.6), а также в субботу в 0:00 (169.9)\n",
    "\n",
    "\n",
    "- Также высокие значения характерны для среды в 0:00 (137.5),четверга в 0:00 (147.1), пятницы в 0:00 (145.7) и в 22:00 (146.3), субботы в 1:00 (133)\n",
    "\n",
    "\n",
    "- Самое низкое среднее число заказов — вторник в 6:00 (23.2), четверг в 6:00 (14.4), воскресенье в 6:00 (20.8).\n",
    "\n",
    "\n",
    "Анализ трендов, сезонности и остатков\n",
    "\n",
    "- график тренда показывает устойчивое увеличение скользящего среднего числа заказов с течением времени. То есть, в августе в среднем заказов было больше, чем в марте;\n",
    "\n",
    "- график сезонности показывает, что у целевого признака есть регулярные колебания. То есть, в поведении заказов действительно есть устойчивые паттерны. В определенную часть недели их среднее число увеличивается, а затем уменьшается;\n",
    "\n",
    "- явных паттернов или трендов на графике остатков нет — они хаотичны.\n",
    "\n",
    "\n",
    "\n",
    "Также были удалены первые 168 строк датасета: в них значения признаков 'lag_values' и 'rolling_mean' пропущены. Модель линейной регрессии не сможет обучаться на пропусках."
   ]
  },
  {
   "cell_type": "markdown",
   "metadata": {},
   "source": [
    "Далее проведём корреляционный анализ наших признаков. "
   ]
  },
  {
   "cell_type": "code",
   "execution_count": 20,
   "metadata": {},
   "outputs": [
    {
     "data": {
      "image/png": "[encoded data removed]",
      "text/plain": [
       "<Figure size 648x648 with 2 Axes>"
      ]
     },
     "metadata": {
      "needs_background": "light"
     },
     "output_type": "display_data"
    }
   ],
   "source": [
    "correlation_matrix = taxi.corr()\n",
    "plt.figure(figsize=(9,9))\n",
    "sns.heatmap(correlation_matrix, annot=True, cmap='Greens', fmt='.2f', square=True, cbar=True)\n",
    "plt.title('Матрица корреляций')\n",
    "plt.show()"
   ]
  },
  {
   "cell_type": "markdown",
   "metadata": {},
   "source": [
    "- Умеренная положительная корреляция наблюдается между rolling_mean и num_orders (0.55), rolling_mean и lag_values (0.51)\n",
    "- Высркая положительная корреляция между lag_values и num_orders (0.81)\n",
    "\n",
    "Между другими парами признаков корреляция отсутствует. Однако это не значит, что остальные признаки бесполезны и их можно удалить. Коффициенты корреляции помогают установить именно линейную связь, то есть, для других признаков она может быть нелинейной."
   ]
  },
  {
   "cell_type": "markdown",
   "metadata": {},
   "source": [
    "**Вывод по корреляционному анализу данных**\n",
    "\n",
    "Умеренная корреляция наблюдается только между месяцем и таргетом (0.51), между другими парами признаков она отсутствует."
   ]
  },
  {
   "cell_type": "markdown",
   "metadata": {},
   "source": [
    "## Подготовка данных\n",
    "\n",
    "<a href=\"#Содержание\">Назад к содержанию</a>"
   ]
  },
  {
   "cell_type": "markdown",
   "metadata": {},
   "source": [
    "Разобъём датасет на входящие и целевой признаки и сформируем выборки (тестовая - 10%). Затем подготовим данные к обучению с помощью пайплайнов."
   ]
  },
  {
   "cell_type": "code",
   "execution_count": 21,
   "metadata": {},
   "outputs": [
    {
     "name": "stdout",
     "output_type": "stream",
     "text": [
      "(3823, 4) (425, 4) (3823,) (425,)\n"
     ]
    }
   ],
   "source": [
    "X = taxi.drop('num_orders', axis=1)\n",
    "y = taxi['num_orders']\n",
    "\n",
    "X_train, X_test, y_train, y_test = train_test_split(\n",
    "    X,\n",
    "    y,\n",
    "    test_size= .1,\n",
    "    shuffle=False\n",
    ")\n",
    "    \n",
    "print(X_train.shape, X_test.shape, y_train.shape, y_test.shape)\n",
    "\n",
    "cat_features = ['hour', 'day_of_week']\n",
    "num_features = ['lag_values', 'rolling_mean']\n",
    "\n",
    "num_transformer = Pipeline(\n",
    "    steps=[\n",
    "    (\n",
    "        'scaler',\n",
    "        StandardScaler()\n",
    "    )  \n",
    "]\n",
    ")\n",
    "\n",
    "cat_transformer = Pipeline(\n",
    "    steps=[\n",
    "    (\n",
    "        'ohe',\n",
    "        OneHotEncoder(handle_unknown='ignore', drop='first')\n",
    "    )\n",
    "    ]\n",
    ")\n",
    "\n",
    "preprocessor = ColumnTransformer(\n",
    "    transformers=[\n",
    "        (\n",
    "            'num',\n",
    "            num_transformer,\n",
    "            num_features\n",
    "        ),\n",
    "        (\n",
    "            'cat',\n",
    "            cat_transformer,\n",
    "            cat_features\n",
    "        )\n",
    "    ]\n",
    ")\n",
    "\n",
    "X_train_transformed = preprocessor.fit_transform(X_train)\n",
    "X_test_transformed = preprocessor.transform(X_test)"
   ]
  },
  {
   "cell_type": "markdown",
   "metadata": {},
   "source": [
    "## Обучение и оценка моделей\n",
    "\n",
    "<a href=\"#Содержание\">Назад к содержанию</a>"
   ]
  },
  {
   "cell_type": "markdown",
   "metadata": {},
   "source": [
    "Сначала создадим функцию, которая будет вычислять метрику rmse."
   ]
  },
  {
   "cell_type": "code",
   "execution_count": 22,
   "metadata": {},
   "outputs": [],
   "source": [
    "def rmse(y_true, y_pred):\n",
    "    return np.sqrt(mean_squared_error(y_true, y_pred))\n",
    "rmse_scorer = make_scorer(rmse, greater_is_better=False)"
   ]
  },
  {
   "cell_type": "markdown",
   "metadata": {},
   "source": [
    "Теперь обучим три модели — дерево решений, линрег и градиентный бустинг с различными комбинациями параметров. На рандомизированной кроссвалидации применим нашу метрику rmse_scorer и выявим лучшую модель."
   ]
  },
  {
   "cell_type": "code",
   "execution_count": 23,
   "metadata": {},
   "outputs": [
    {
     "name": "stderr",
     "output_type": "stream",
     "text": [
      "/opt/conda/lib/python3.9/site-packages/sklearn/utils/deprecation.py:151: FutureWarning: 'force_all_finite' was renamed to 'ensure_all_finite' in 1.6 and will be removed in 1.8.\n",
      "  warnings.warn(\n",
      "/opt/conda/lib/python3.9/site-packages/sklearn/utils/deprecation.py:151: FutureWarning: 'force_all_finite' was renamed to 'ensure_all_finite' in 1.6 and will be removed in 1.8.\n",
      "  warnings.warn(\n",
      "/opt/conda/lib/python3.9/site-packages/sklearn/utils/deprecation.py:151: FutureWarning: 'force_all_finite' was renamed to 'ensure_all_finite' in 1.6 and will be removed in 1.8.\n",
      "  warnings.warn(\n",
      "/opt/conda/lib/python3.9/site-packages/sklearn/utils/deprecation.py:151: FutureWarning: 'force_all_finite' was renamed to 'ensure_all_finite' in 1.6 and will be removed in 1.8.\n",
      "  warnings.warn(\n",
      "/opt/conda/lib/python3.9/site-packages/sklearn/utils/deprecation.py:151: FutureWarning: 'force_all_finite' was renamed to 'ensure_all_finite' in 1.6 and will be removed in 1.8.\n",
      "  warnings.warn(\n",
      "/opt/conda/lib/python3.9/site-packages/sklearn/utils/deprecation.py:151: FutureWarning: 'force_all_finite' was renamed to 'ensure_all_finite' in 1.6 and will be removed in 1.8.\n",
      "  warnings.warn(\n",
      "/opt/conda/lib/python3.9/site-packages/sklearn/utils/deprecation.py:151: FutureWarning: 'force_all_finite' was renamed to 'ensure_all_finite' in 1.6 and will be removed in 1.8.\n",
      "  warnings.warn(\n",
      "/opt/conda/lib/python3.9/site-packages/sklearn/utils/deprecation.py:151: FutureWarning: 'force_all_finite' was renamed to 'ensure_all_finite' in 1.6 and will be removed in 1.8.\n",
      "  warnings.warn(\n",
      "/opt/conda/lib/python3.9/site-packages/sklearn/utils/deprecation.py:151: FutureWarning: 'force_all_finite' was renamed to 'ensure_all_finite' in 1.6 and will be removed in 1.8.\n",
      "  warnings.warn(\n",
      "/opt/conda/lib/python3.9/site-packages/sklearn/utils/deprecation.py:151: FutureWarning: 'force_all_finite' was renamed to 'ensure_all_finite' in 1.6 and will be removed in 1.8.\n",
      "  warnings.warn(\n",
      "/opt/conda/lib/python3.9/site-packages/sklearn/utils/deprecation.py:151: FutureWarning: 'force_all_finite' was renamed to 'ensure_all_finite' in 1.6 and will be removed in 1.8.\n",
      "  warnings.warn(\n",
      "/opt/conda/lib/python3.9/site-packages/sklearn/utils/deprecation.py:151: FutureWarning: 'force_all_finite' was renamed to 'ensure_all_finite' in 1.6 and will be removed in 1.8.\n",
      "  warnings.warn(\n",
      "/opt/conda/lib/python3.9/site-packages/sklearn/utils/deprecation.py:151: FutureWarning: 'force_all_finite' was renamed to 'ensure_all_finite' in 1.6 and will be removed in 1.8.\n",
      "  warnings.warn(\n",
      "/opt/conda/lib/python3.9/site-packages/sklearn/utils/deprecation.py:151: FutureWarning: 'force_all_finite' was renamed to 'ensure_all_finite' in 1.6 and will be removed in 1.8.\n",
      "  warnings.warn(\n",
      "/opt/conda/lib/python3.9/site-packages/sklearn/utils/deprecation.py:151: FutureWarning: 'force_all_finite' was renamed to 'ensure_all_finite' in 1.6 and will be removed in 1.8.\n",
      "  warnings.warn(\n",
      "/opt/conda/lib/python3.9/site-packages/sklearn/utils/deprecation.py:151: FutureWarning: 'force_all_finite' was renamed to 'ensure_all_finite' in 1.6 and will be removed in 1.8.\n",
      "  warnings.warn(\n",
      "/opt/conda/lib/python3.9/site-packages/sklearn/utils/deprecation.py:151: FutureWarning: 'force_all_finite' was renamed to 'ensure_all_finite' in 1.6 and will be removed in 1.8.\n",
      "  warnings.warn(\n",
      "/opt/conda/lib/python3.9/site-packages/sklearn/utils/deprecation.py:151: FutureWarning: 'force_all_finite' was renamed to 'ensure_all_finite' in 1.6 and will be removed in 1.8.\n",
      "  warnings.warn(\n",
      "/opt/conda/lib/python3.9/site-packages/sklearn/utils/deprecation.py:151: FutureWarning: 'force_all_finite' was renamed to 'ensure_all_finite' in 1.6 and will be removed in 1.8.\n",
      "  warnings.warn(\n",
      "/opt/conda/lib/python3.9/site-packages/sklearn/utils/deprecation.py:151: FutureWarning: 'force_all_finite' was renamed to 'ensure_all_finite' in 1.6 and will be removed in 1.8.\n",
      "  warnings.warn(\n",
      "/opt/conda/lib/python3.9/site-packages/sklearn/utils/deprecation.py:151: FutureWarning: 'force_all_finite' was renamed to 'ensure_all_finite' in 1.6 and will be removed in 1.8.\n",
      "  warnings.warn(\n",
      "/opt/conda/lib/python3.9/site-packages/sklearn/utils/deprecation.py:151: FutureWarning: 'force_all_finite' was renamed to 'ensure_all_finite' in 1.6 and will be removed in 1.8.\n",
      "  warnings.warn(\n",
      "/opt/conda/lib/python3.9/site-packages/sklearn/utils/deprecation.py:151: FutureWarning: 'force_all_finite' was renamed to 'ensure_all_finite' in 1.6 and will be removed in 1.8.\n",
      "  warnings.warn(\n",
      "/opt/conda/lib/python3.9/site-packages/sklearn/utils/deprecation.py:151: FutureWarning: 'force_all_finite' was renamed to 'ensure_all_finite' in 1.6 and will be removed in 1.8.\n",
      "  warnings.warn(\n",
      "/opt/conda/lib/python3.9/site-packages/sklearn/utils/deprecation.py:151: FutureWarning: 'force_all_finite' was renamed to 'ensure_all_finite' in 1.6 and will be removed in 1.8.\n",
      "  warnings.warn(\n",
      "/opt/conda/lib/python3.9/site-packages/sklearn/utils/deprecation.py:151: FutureWarning: 'force_all_finite' was renamed to 'ensure_all_finite' in 1.6 and will be removed in 1.8.\n",
      "  warnings.warn(\n",
      "/opt/conda/lib/python3.9/site-packages/sklearn/utils/deprecation.py:151: FutureWarning: 'force_all_finite' was renamed to 'ensure_all_finite' in 1.6 and will be removed in 1.8.\n",
      "  warnings.warn(\n",
      "/opt/conda/lib/python3.9/site-packages/sklearn/utils/deprecation.py:151: FutureWarning: 'force_all_finite' was renamed to 'ensure_all_finite' in 1.6 and will be removed in 1.8.\n",
      "  warnings.warn(\n",
      "/opt/conda/lib/python3.9/site-packages/sklearn/utils/deprecation.py:151: FutureWarning: 'force_all_finite' was renamed to 'ensure_all_finite' in 1.6 and will be removed in 1.8.\n",
      "  warnings.warn(\n",
      "/opt/conda/lib/python3.9/site-packages/sklearn/utils/deprecation.py:151: FutureWarning: 'force_all_finite' was renamed to 'ensure_all_finite' in 1.6 and will be removed in 1.8.\n",
      "  warnings.warn(\n"
     ]
    },
    {
     "data": {
      "text/plain": [
       "\"Лучшая модель: Pipeline(steps=[('model', LinearRegression())])\""
      ]
     },
     "metadata": {},
     "output_type": "display_data"
    },
    {
     "data": {
      "text/plain": [
       "\"Лучшие параметры: {'model': LinearRegression()}\""
      ]
     },
     "metadata": {},
     "output_type": "display_data"
    },
    {
     "data": {
      "text/plain": [
       "'Метрика лучшей модели на кросс-валидации: 23.51986767598791'"
      ]
     },
     "metadata": {},
     "output_type": "display_data"
    }
   ],
   "source": [
    "#Создаём пайплайн с различными вариантами моделей и их гиперпараметров\n",
    "pipeline = Pipeline(\n",
    "    steps=[\n",
    "    (\n",
    "        'model', LinearRegression()\n",
    "    )  \n",
    "]\n",
    ")\n",
    "\n",
    "param_grid = [\n",
    "    {\n",
    "        'model': [DecisionTreeRegressor(random_state=RANDOM_STATE)],\n",
    "        'model__max_depth': range(2, 11),\n",
    "        'model__min_samples_split': range(2, 7),\n",
    "        'model__min_samples_leaf': range(1, 3)\n",
    "    },\n",
    "    {\n",
    "        'model': [LinearRegression()]\n",
    "    },\n",
    "       {\n",
    "        'model': [lgb.LGBMRegressor(random_state=RANDOM_STATE)],\n",
    "        'model__num_leaves': [31, 50],\n",
    "        'model__learning_rate': [0.01, 0.1],\n",
    "        'model__n_estimators': [100]\n",
    "    }\n",
    "]\n",
    "\n",
    "#Проводим рандомизированную кроссвалидацию\n",
    "tscv = TimeSeriesSplit(n_splits=5)\n",
    "\n",
    "search = RandomizedSearchCV(\n",
    "    estimator=pipeline,\n",
    "    param_distributions=param_grid,\n",
    "    scoring=rmse_scorer,\n",
    "    n_iter=70,\n",
    "    cv=tscv,\n",
    "    n_jobs=-1,\n",
    "    random_state=RANDOM_STATE\n",
    ")\n",
    "\n",
    "search.fit(X_train_transformed, y_train)\n",
    "\n",
    "#Сохраняем реультаты кроссвалидации в порядке убывания значения метрики\n",
    "results = pd.DataFrame(search.cv_results_).sort_values(by='mean_test_score')\n",
    "\n",
    "best_model = search.best_estimator_\n",
    "best_params = search.best_params_\n",
    "best_score = search.best_score_\n",
    "\n",
    "display(F\"Лучшая модель: {best_model}\")\n",
    "display(f\"Лучшие параметры: {best_params}\")\n",
    "display(f\"Метрика лучшей модели на кросс-валидации: {-best_score}\")  "
   ]
  },
  {
   "cell_type": "markdown",
   "metadata": {},
   "source": [
    "Лучшей моделью оказалась LinearRegression. Значение rmse на кросс-валидации: 23.52\n",
    "\n",
    "\n",
    "Проверим её качество на тестовой выборке."
   ]
  },
  {
   "cell_type": "code",
   "execution_count": 24,
   "metadata": {},
   "outputs": [
    {
     "data": {
      "text/plain": [
       "35.78868895200364"
      ]
     },
     "execution_count": 24,
     "metadata": {},
     "output_type": "execute_result"
    }
   ],
   "source": [
    "y_pred = best_model.predict(X_test_transformed)\n",
    "rmse(y_test, y_pred)"
   ]
  },
  {
   "cell_type": "markdown",
   "metadata": {},
   "source": [
    "Значение метрики на тестовой выборке меньше 48 — успех! Также стоит проверить модель на адекватность — сравнить результаты с DummyRegressor."
   ]
  },
  {
   "cell_type": "code",
   "execution_count": 25,
   "metadata": {},
   "outputs": [
    {
     "data": {
      "text/plain": [
       "84.45113423436631"
      ]
     },
     "execution_count": 25,
     "metadata": {},
     "output_type": "execute_result"
    }
   ],
   "source": [
    "dummy_regr = DummyRegressor(strategy=\"mean\")\n",
    "dummy_regr.fit(X_train_transformed, y_train)\n",
    "y_pred_dummy = dummy_regr.predict(X_test_transformed)\n",
    "rmse(y_test, y_pred_dummy)"
   ]
  },
  {
   "cell_type": "markdown",
   "metadata": {},
   "source": [
    "Линрег более чем в 2 раза превосходит по качеству дамми регрессор."
   ]
  },
  {
   "cell_type": "markdown",
   "metadata": {},
   "source": [
    "## Общий вывод\n",
    "\n",
    "<a href=\"#Содержание\">Назад к содержанию</a>"
   ]
  },
  {
   "cell_type": "markdown",
   "metadata": {},
   "source": [
    "**Загрузка и подготовка данных**\n",
    "\n",
    "- Изначальный размер датасета — 2 признака и 26496 наблюдений;\n",
    "- Названия признаков написаны в корректном змеином регистре;\n",
    "- Изначально датасет состоит из двух типов данных — object (столбец datetime) и int (столбец num_orders);\n",
    "- Пропусков в данных не обнаружено;\n",
    "- Дубликатов в данных не обнаружено;\n",
    "- По столбцу datetime тип данных заменён на datetime;\n",
    "- Столбец datetime перемещён в индекс датасета, также произведено ресэмплирование данных по одному часу. В результате его длина сократилась в 6 раз (4416 строк)"
   ]
  },
  {
   "cell_type": "markdown",
   "metadata": {},
   "source": [
    "**Анализ данных**\n",
    "\n",
    "- В данные добавлено 4 новых признака — час, день недели, лаговые значения за неделю и скользяшее среднее с окном в неделю.\n",
    "\n",
    "\n",
    "Визуализация и анализ признаков\n",
    "\n",
    "\n",
    "- Признак num_orders распределён нормально со средним в 84.4 заказов в час. Минимальное значение 0, максимальное — 462. Также  проведена его визуализация по временным промежуткам в 2 недели. Распределение получилось такое же, как и у совокупности в целом — нормальное.\n",
    "\n",
    "- Признак hour. Для всех часов количество наблюдений — 184, они распределены поровну.\n",
    "\n",
    "\n",
    "- Признак day_of_week. Наибольшее число наблюдений было для четверга и пятницы (648), наименьшее (624) - для понедельника, вторника, среды, субботы и воскресенья.\n",
    "\n",
    "\n",
    "Анализ тепловой карты\n",
    "\n",
    "\n",
    "- Самое высокое среднее число заказов было в понедельник в 0:00 (168.6), а также в субботу в 0:00 (169.9)\n",
    "\n",
    "\n",
    "- Также высокие значения характерны для среды в 0:00 (137.5),четверга в 0:00 (147.1), пятницы в 0:00 (145.7) и в 22:00 (146.3), субботы в 1:00 (133)\n",
    "\n",
    "\n",
    "- Самое низкое среднее число заказов — вторник в 6:00 (23.2), четверг в 6:00 (14.4), воскресенье в 6:00 (20.8).\n",
    "\n",
    "\n",
    "Анализ трендов, сезонности и остатков\n",
    "\n",
    "- график тренда показывает устойчивое увеличение скользящего среднего числа заказов с течением времени. То есть, в августе в среднем заказов было больше, чем в марте;\n",
    "\n",
    "- график сезонности показывает, что у целевого признака есть регулярные колебания. То есть, в поведении заказов действительно есть устойчивые паттерны. В определенную часть недели их среднее число увеличивается, а затем уменьшается;\n",
    "\n",
    "- явных паттернов или трендов на графике остатков нет — они хаотичны.\n",
    "\n",
    "\n",
    "\n",
    "Также были удалены первые 168 строк датасета: в них значения признаков 'lag_values' и 'rolling_mean' пропущены. Модель линейной регрессии не сможет обучаться на пропусках.\n",
    "\n",
    "\n",
    "Вывод по корреляционному анализу данных\n",
    "\n",
    "- Умеренная положительная корреляция наблюдается между rolling_mean и num_orders (0.55), rolling_mean и lag_values (0.51);\n",
    "- Высокая положительная корреляция между lag_values и num_orders (0.81);\n",
    "\n",
    "\n",
    "Между другими парами признаков корреляция отсутствует."
   ]
  },
  {
   "cell_type": "markdown",
   "metadata": {},
   "source": [
    "**Подготовка признаков, обучение и оценка моделей**\n",
    "\n",
    "- датасет разбит на тренировочную и тестовую выборки в соотношении 9 к 1;\n",
    "\n",
    "\n",
    "- установлен параметр shuffle=False, чтобы данные разбивались на выборки по порядку, а не перемешивались;\n",
    "\n",
    "\n",
    "- числовые признаки промасштабированы с помощью StandardScaler, категориальные закодированы с помощью OneHotEncoder;\n",
    "\n",
    "\n",
    "- обучены три модели: дерево решений, линейная регрессия и градиентный бустинг с различными комбинациями гиперпараметров. На рандомизированной кроссвалидации применена метрика rmse_scorer;\n",
    "\n",
    "\n",
    "- Лучшей моделью оказалась LinearRegression. Значение rmse на кросс-валидации: 23.52\n",
    "\n",
    "\n",
    "- Значение метрики на тестовой выборке для лучшей модели — 35.79. \n",
    "\n",
    "- Также модель проверена на адекватность с помощью DummyRegressor; его метрика на тесте - 84.45. Соответственно, линейная регрессия справляется с предсказаниями лучше."
   ]
  },
  {
   "cell_type": "markdown",
   "metadata": {},
   "source": [
    "**Рекомендации заказчику**\n",
    "\n",
    "Рекомендую в дальнейшем собирать ещё больше информации о заказах такси, чтобы добавлять в данные новые признаки и повышать точность предсказательной модели. С ростом объёма данных лучшие предсказания может давать уже другая модель, например, линейная регрессия, или градиентный бустинг."
   ]
  }
 ],
 "metadata": {
  "ExecuteTimeLog": [
   {
    "duration": 13055,
    "start_time": "2025-05-11T17:28:20.615Z"
   },
   {
    "duration": 7204,
    "start_time": "2025-05-11T18:20:32.497Z"
   },
   {
    "duration": 999,
    "start_time": "2025-05-11T18:20:39.704Z"
   },
   {
    "duration": 37,
    "start_time": "2025-05-11T18:21:07.051Z"
   },
   {
    "duration": 8,
    "start_time": "2025-05-11T18:22:35.778Z"
   },
   {
    "duration": 131,
    "start_time": "2025-05-11T18:26:15.767Z"
   },
   {
    "duration": 11,
    "start_time": "2025-05-11T18:26:18.758Z"
   },
   {
    "duration": 11,
    "start_time": "2025-05-11T18:26:26.038Z"
   },
   {
    "duration": 23,
    "start_time": "2025-05-11T18:27:17.919Z"
   },
   {
    "duration": 21,
    "start_time": "2025-05-11T18:27:36.950Z"
   },
   {
    "duration": 28,
    "start_time": "2025-05-11T18:27:44.798Z"
   },
   {
    "duration": 22,
    "start_time": "2025-05-11T18:29:18.076Z"
   },
   {
    "duration": 14,
    "start_time": "2025-05-11T18:30:15.516Z"
   },
   {
    "duration": 14,
    "start_time": "2025-05-11T18:34:43.521Z"
   },
   {
    "duration": 18,
    "start_time": "2025-05-11T18:35:37.114Z"
   },
   {
    "duration": 12,
    "start_time": "2025-05-11T18:35:59.455Z"
   },
   {
    "duration": 7,
    "start_time": "2025-05-11T18:38:00.175Z"
   },
   {
    "duration": 7,
    "start_time": "2025-05-11T18:38:09.631Z"
   },
   {
    "duration": 11516,
    "start_time": "2025-05-12T07:11:52.261Z"
   },
   {
    "duration": 47,
    "start_time": "2025-05-12T07:12:03.780Z"
   },
   {
    "duration": 37,
    "start_time": "2025-05-12T07:12:03.828Z"
   },
   {
    "duration": 33,
    "start_time": "2025-05-12T07:12:03.866Z"
   },
   {
    "duration": 7,
    "start_time": "2025-05-12T07:12:03.901Z"
   },
   {
    "duration": 12,
    "start_time": "2025-05-12T07:21:34.957Z"
   },
   {
    "duration": 18,
    "start_time": "2025-05-12T07:31:50.038Z"
   },
   {
    "duration": 4,
    "start_time": "2025-05-12T07:46:19.943Z"
   },
   {
    "duration": 6492,
    "start_time": "2025-05-12T07:50:45.082Z"
   },
   {
    "duration": 46,
    "start_time": "2025-05-12T07:50:51.577Z"
   },
   {
    "duration": 12,
    "start_time": "2025-05-12T07:50:51.624Z"
   },
   {
    "duration": 29,
    "start_time": "2025-05-12T07:50:51.638Z"
   },
   {
    "duration": 14,
    "start_time": "2025-05-12T07:50:51.668Z"
   },
   {
    "duration": 17,
    "start_time": "2025-05-12T07:50:51.684Z"
   },
   {
    "duration": 5,
    "start_time": "2025-05-12T07:50:51.703Z"
   },
   {
    "duration": 9,
    "start_time": "2025-05-12T07:52:24.336Z"
   },
   {
    "duration": 14,
    "start_time": "2025-05-12T07:52:32.631Z"
   },
   {
    "duration": 6812,
    "start_time": "2025-05-12T07:52:52.282Z"
   },
   {
    "duration": 47,
    "start_time": "2025-05-12T07:52:59.097Z"
   },
   {
    "duration": 13,
    "start_time": "2025-05-12T07:52:59.145Z"
   },
   {
    "duration": 69,
    "start_time": "2025-05-12T07:52:59.159Z"
   },
   {
    "duration": 12,
    "start_time": "2025-05-12T07:52:59.230Z"
   },
   {
    "duration": 7,
    "start_time": "2025-05-12T07:52:59.243Z"
   },
   {
    "duration": 7,
    "start_time": "2025-05-12T07:52:59.251Z"
   },
   {
    "duration": 21,
    "start_time": "2025-05-12T07:52:59.260Z"
   },
   {
    "duration": 242,
    "start_time": "2025-05-12T07:52:59.283Z"
   },
   {
    "duration": 11,
    "start_time": "2025-05-12T07:54:44.251Z"
   },
   {
    "duration": 8,
    "start_time": "2025-05-12T07:54:48.955Z"
   },
   {
    "duration": 10,
    "start_time": "2025-05-12T07:55:38.050Z"
   },
   {
    "duration": 5,
    "start_time": "2025-05-12T07:57:05.463Z"
   },
   {
    "duration": 5,
    "start_time": "2025-05-12T07:57:09.815Z"
   },
   {
    "duration": 5,
    "start_time": "2025-05-12T07:57:16.687Z"
   },
   {
    "duration": 6032,
    "start_time": "2025-05-12T08:09:15.044Z"
   },
   {
    "duration": 138,
    "start_time": "2025-05-12T08:09:53.059Z"
   },
   {
    "duration": 8,
    "start_time": "2025-05-12T08:10:14.211Z"
   },
   {
    "duration": 13,
    "start_time": "2025-05-12T08:10:20.387Z"
   },
   {
    "duration": 5,
    "start_time": "2025-05-12T08:10:46.601Z"
   },
   {
    "duration": 16,
    "start_time": "2025-05-12T08:15:33.965Z"
   },
   {
    "duration": 7610,
    "start_time": "2025-05-12T08:15:45.156Z"
   },
   {
    "duration": 54,
    "start_time": "2025-05-12T08:15:52.769Z"
   },
   {
    "duration": 22,
    "start_time": "2025-05-12T08:15:52.825Z"
   },
   {
    "duration": 47,
    "start_time": "2025-05-12T08:15:52.849Z"
   },
   {
    "duration": 10,
    "start_time": "2025-05-12T08:15:52.899Z"
   },
   {
    "duration": 7,
    "start_time": "2025-05-12T08:15:52.911Z"
   },
   {
    "duration": 9,
    "start_time": "2025-05-12T08:15:52.920Z"
   },
   {
    "duration": 24,
    "start_time": "2025-05-12T08:15:52.931Z"
   },
   {
    "duration": 6,
    "start_time": "2025-05-12T08:15:52.957Z"
   },
   {
    "duration": 10,
    "start_time": "2025-05-12T08:15:52.965Z"
   },
   {
    "duration": 37,
    "start_time": "2025-05-12T08:15:52.976Z"
   },
   {
    "duration": 12339,
    "start_time": "2025-05-13T13:03:43.766Z"
   },
   {
    "duration": 60,
    "start_time": "2025-05-13T13:03:56.108Z"
   },
   {
    "duration": 14,
    "start_time": "2025-05-13T13:03:56.169Z"
   },
   {
    "duration": 19,
    "start_time": "2025-05-13T13:03:56.184Z"
   },
   {
    "duration": 33,
    "start_time": "2025-05-13T13:03:56.205Z"
   },
   {
    "duration": 30,
    "start_time": "2025-05-13T13:03:56.239Z"
   },
   {
    "duration": 6,
    "start_time": "2025-05-13T13:03:56.271Z"
   },
   {
    "duration": 19,
    "start_time": "2025-05-13T13:03:56.278Z"
   },
   {
    "duration": 5,
    "start_time": "2025-05-13T13:03:56.299Z"
   },
   {
    "duration": 27,
    "start_time": "2025-05-13T13:03:56.305Z"
   },
   {
    "duration": 14,
    "start_time": "2025-05-13T13:03:56.334Z"
   },
   {
    "duration": 708,
    "start_time": "2025-05-13T13:03:56.349Z"
   },
   {
    "duration": 702,
    "start_time": "2025-05-13T13:04:21.812Z"
   },
   {
    "duration": 631,
    "start_time": "2025-05-13T13:06:01.059Z"
   },
   {
    "duration": 613,
    "start_time": "2025-05-13T13:06:12.620Z"
   },
   {
    "duration": 626,
    "start_time": "2025-05-13T13:06:17.298Z"
   },
   {
    "duration": 129,
    "start_time": "2025-05-13T13:06:36.769Z"
   },
   {
    "duration": 597,
    "start_time": "2025-05-13T13:06:46.635Z"
   },
   {
    "duration": 685,
    "start_time": "2025-05-13T13:07:23.410Z"
   },
   {
    "duration": 373,
    "start_time": "2025-05-13T13:12:57.837Z"
   },
   {
    "duration": 348,
    "start_time": "2025-05-13T13:13:11.063Z"
   },
   {
    "duration": 457,
    "start_time": "2025-05-13T13:13:15.988Z"
   },
   {
    "duration": 490,
    "start_time": "2025-05-13T13:14:09.804Z"
   },
   {
    "duration": 449,
    "start_time": "2025-05-13T13:15:17.059Z"
   },
   {
    "duration": 19,
    "start_time": "2025-05-13T13:19:55.034Z"
   },
   {
    "duration": 13,
    "start_time": "2025-05-13T13:20:17.719Z"
   },
   {
    "duration": 15,
    "start_time": "2025-05-13T13:20:23.631Z"
   },
   {
    "duration": 9,
    "start_time": "2025-05-13T13:20:28.558Z"
   },
   {
    "duration": 11,
    "start_time": "2025-05-13T13:20:52.615Z"
   },
   {
    "duration": 15,
    "start_time": "2025-05-13T13:22:59.302Z"
   },
   {
    "duration": 18,
    "start_time": "2025-05-13T13:23:24.431Z"
   },
   {
    "duration": 6,
    "start_time": "2025-05-13T13:23:58.317Z"
   },
   {
    "duration": 6,
    "start_time": "2025-05-13T13:34:37.756Z"
   },
   {
    "duration": 6,
    "start_time": "2025-05-13T13:34:50.644Z"
   },
   {
    "duration": 10,
    "start_time": "2025-05-13T13:35:20.787Z"
   },
   {
    "duration": 11,
    "start_time": "2025-05-13T13:36:11.124Z"
   },
   {
    "duration": 9,
    "start_time": "2025-05-13T13:38:26.667Z"
   },
   {
    "duration": 11,
    "start_time": "2025-05-13T13:41:02.759Z"
   },
   {
    "duration": 158,
    "start_time": "2025-05-13T13:41:13.232Z"
   },
   {
    "duration": 13,
    "start_time": "2025-05-13T13:42:29.944Z"
   },
   {
    "duration": 666,
    "start_time": "2025-05-13T13:46:13.480Z"
   },
   {
    "duration": 1370,
    "start_time": "2025-05-13T13:55:41.256Z"
   },
   {
    "duration": 1514,
    "start_time": "2025-05-13T13:55:53.598Z"
   },
   {
    "duration": 1539,
    "start_time": "2025-05-13T13:57:41.587Z"
   },
   {
    "duration": 1482,
    "start_time": "2025-05-13T13:58:08.995Z"
   },
   {
    "duration": 8404,
    "start_time": "2025-05-13T14:10:13.620Z"
   },
   {
    "duration": 66,
    "start_time": "2025-05-13T14:10:22.026Z"
   },
   {
    "duration": 15,
    "start_time": "2025-05-13T14:10:22.093Z"
   },
   {
    "duration": 40,
    "start_time": "2025-05-13T14:10:22.111Z"
   },
   {
    "duration": 22,
    "start_time": "2025-05-13T14:10:22.153Z"
   },
   {
    "duration": 25,
    "start_time": "2025-05-13T14:10:22.176Z"
   },
   {
    "duration": 7,
    "start_time": "2025-05-13T14:10:22.203Z"
   },
   {
    "duration": 18,
    "start_time": "2025-05-13T14:10:22.212Z"
   },
   {
    "duration": 16,
    "start_time": "2025-05-13T14:10:22.231Z"
   },
   {
    "duration": 8,
    "start_time": "2025-05-13T14:10:22.253Z"
   },
   {
    "duration": 30,
    "start_time": "2025-05-13T14:10:22.264Z"
   },
   {
    "duration": 583,
    "start_time": "2025-05-13T14:10:22.296Z"
   },
   {
    "duration": 8,
    "start_time": "2025-05-13T14:10:22.881Z"
   },
   {
    "duration": 61,
    "start_time": "2025-05-13T14:10:22.891Z"
   },
   {
    "duration": 828,
    "start_time": "2025-05-13T14:10:22.954Z"
   },
   {
    "duration": 1639,
    "start_time": "2025-05-13T14:10:23.784Z"
   },
   {
    "duration": 537,
    "start_time": "2025-05-13T14:19:50.730Z"
   },
   {
    "duration": 404,
    "start_time": "2025-05-13T14:20:46.922Z"
   },
   {
    "duration": 329,
    "start_time": "2025-05-13T14:21:06.416Z"
   },
   {
    "duration": 7598,
    "start_time": "2025-05-13T14:27:34.170Z"
   },
   {
    "duration": 61,
    "start_time": "2025-05-13T14:27:41.771Z"
   },
   {
    "duration": 22,
    "start_time": "2025-05-13T14:27:41.834Z"
   },
   {
    "duration": 18,
    "start_time": "2025-05-13T14:27:41.869Z"
   },
   {
    "duration": 8,
    "start_time": "2025-05-13T14:27:41.889Z"
   },
   {
    "duration": 7,
    "start_time": "2025-05-13T14:27:41.899Z"
   },
   {
    "duration": 6,
    "start_time": "2025-05-13T14:27:41.908Z"
   },
   {
    "duration": 40,
    "start_time": "2025-05-13T14:27:41.916Z"
   },
   {
    "duration": 7,
    "start_time": "2025-05-13T14:27:41.960Z"
   },
   {
    "duration": 5,
    "start_time": "2025-05-13T14:27:41.969Z"
   },
   {
    "duration": 15,
    "start_time": "2025-05-13T14:27:41.975Z"
   },
   {
    "duration": 578,
    "start_time": "2025-05-13T14:27:41.991Z"
   },
   {
    "duration": 765,
    "start_time": "2025-05-13T14:27:42.570Z"
   },
   {
    "duration": 1504,
    "start_time": "2025-05-13T14:27:43.344Z"
   },
   {
    "duration": 403,
    "start_time": "2025-05-13T14:27:44.850Z"
   },
   {
    "duration": 142,
    "start_time": "2025-05-13T14:27:45.263Z"
   },
   {
    "duration": 1417,
    "start_time": "2025-05-13T14:30:30.370Z"
   },
   {
    "duration": 623,
    "start_time": "2025-05-13T14:36:23.597Z"
   },
   {
    "duration": 782,
    "start_time": "2025-05-13T14:36:49.500Z"
   },
   {
    "duration": 627,
    "start_time": "2025-05-13T14:37:01.972Z"
   },
   {
    "duration": 739,
    "start_time": "2025-05-13T14:37:34.132Z"
   },
   {
    "duration": 646,
    "start_time": "2025-05-13T14:37:41.349Z"
   },
   {
    "duration": 672,
    "start_time": "2025-05-13T14:37:44.507Z"
   },
   {
    "duration": 804,
    "start_time": "2025-05-13T14:38:55.875Z"
   },
   {
    "duration": 690,
    "start_time": "2025-05-13T14:39:00.075Z"
   },
   {
    "duration": 665,
    "start_time": "2025-05-13T14:39:07.595Z"
   },
   {
    "duration": 23,
    "start_time": "2025-05-13T14:41:13.810Z"
   },
   {
    "duration": 662,
    "start_time": "2025-05-13T14:52:25.625Z"
   },
   {
    "duration": 307,
    "start_time": "2025-05-13T14:54:13.912Z"
   },
   {
    "duration": 276,
    "start_time": "2025-05-13T14:54:59.055Z"
   },
   {
    "duration": 390,
    "start_time": "2025-05-13T14:55:15.142Z"
   },
   {
    "duration": 274,
    "start_time": "2025-05-13T14:55:23.582Z"
   },
   {
    "duration": 295,
    "start_time": "2025-05-13T14:55:51.078Z"
   },
   {
    "duration": 278,
    "start_time": "2025-05-13T14:57:16.285Z"
   },
   {
    "duration": 312,
    "start_time": "2025-05-13T14:57:23.973Z"
   },
   {
    "duration": 401,
    "start_time": "2025-05-13T14:58:04.180Z"
   },
   {
    "duration": 357,
    "start_time": "2025-05-13T15:08:58.693Z"
   },
   {
    "duration": 11,
    "start_time": "2025-05-13T15:20:37.915Z"
   },
   {
    "duration": 1181,
    "start_time": "2025-05-13T15:22:09.738Z"
   },
   {
    "duration": 12,
    "start_time": "2025-05-13T15:22:26.529Z"
   },
   {
    "duration": 6953,
    "start_time": "2025-05-13T15:22:49.384Z"
   },
   {
    "duration": 50,
    "start_time": "2025-05-13T15:22:56.340Z"
   },
   {
    "duration": 12,
    "start_time": "2025-05-13T15:22:56.392Z"
   },
   {
    "duration": 32,
    "start_time": "2025-05-13T15:22:56.407Z"
   },
   {
    "duration": 9,
    "start_time": "2025-05-13T15:22:56.440Z"
   },
   {
    "duration": 8,
    "start_time": "2025-05-13T15:22:56.450Z"
   },
   {
    "duration": 4,
    "start_time": "2025-05-13T15:22:56.460Z"
   },
   {
    "duration": 16,
    "start_time": "2025-05-13T15:22:56.466Z"
   },
   {
    "duration": 5,
    "start_time": "2025-05-13T15:22:56.484Z"
   },
   {
    "duration": 6,
    "start_time": "2025-05-13T15:22:56.491Z"
   },
   {
    "duration": 13,
    "start_time": "2025-05-13T15:22:56.538Z"
   },
   {
    "duration": 520,
    "start_time": "2025-05-13T15:22:56.553Z"
   },
   {
    "duration": 622,
    "start_time": "2025-05-13T15:22:57.075Z"
   },
   {
    "duration": 1424,
    "start_time": "2025-05-13T15:22:57.699Z"
   },
   {
    "duration": 355,
    "start_time": "2025-05-13T15:22:59.125Z"
   },
   {
    "duration": 341,
    "start_time": "2025-05-13T15:22:59.481Z"
   },
   {
    "duration": 26,
    "start_time": "2025-05-13T15:22:59.823Z"
   },
   {
    "duration": 21,
    "start_time": "2025-05-13T15:25:18.563Z"
   },
   {
    "duration": 21,
    "start_time": "2025-05-13T15:25:24.508Z"
   },
   {
    "duration": 4,
    "start_time": "2025-05-13T15:26:52.987Z"
   },
   {
    "duration": 1749,
    "start_time": "2025-05-13T15:28:25.851Z"
   },
   {
    "duration": 33,
    "start_time": "2025-05-13T15:29:35.715Z"
   },
   {
    "duration": 69,
    "start_time": "2025-05-13T15:30:51.503Z"
   },
   {
    "duration": 29,
    "start_time": "2025-05-13T15:31:20.228Z"
   },
   {
    "duration": 32,
    "start_time": "2025-05-13T15:31:29.404Z"
   },
   {
    "duration": 7278,
    "start_time": "2025-05-13T15:31:49.754Z"
   },
   {
    "duration": 51,
    "start_time": "2025-05-13T15:31:57.036Z"
   },
   {
    "duration": 17,
    "start_time": "2025-05-13T15:31:57.089Z"
   },
   {
    "duration": 32,
    "start_time": "2025-05-13T15:31:57.108Z"
   },
   {
    "duration": 27,
    "start_time": "2025-05-13T15:31:57.142Z"
   },
   {
    "duration": 8,
    "start_time": "2025-05-13T15:31:57.171Z"
   },
   {
    "duration": 6,
    "start_time": "2025-05-13T15:31:57.181Z"
   },
   {
    "duration": 14,
    "start_time": "2025-05-13T15:31:57.189Z"
   },
   {
    "duration": 5,
    "start_time": "2025-05-13T15:31:57.205Z"
   },
   {
    "duration": 28,
    "start_time": "2025-05-13T15:31:57.212Z"
   },
   {
    "duration": 15,
    "start_time": "2025-05-13T15:31:57.242Z"
   },
   {
    "duration": 569,
    "start_time": "2025-05-13T15:31:57.259Z"
   },
   {
    "duration": 586,
    "start_time": "2025-05-13T15:31:57.830Z"
   },
   {
    "duration": 1424,
    "start_time": "2025-05-13T15:31:58.419Z"
   },
   {
    "duration": 361,
    "start_time": "2025-05-13T15:31:59.845Z"
   },
   {
    "duration": 365,
    "start_time": "2025-05-13T15:32:00.207Z"
   },
   {
    "duration": 20,
    "start_time": "2025-05-13T15:32:00.573Z"
   },
   {
    "duration": 20,
    "start_time": "2025-05-13T15:32:00.595Z"
   },
   {
    "duration": 1057,
    "start_time": "2025-05-13T15:32:00.617Z"
   },
   {
    "duration": 20,
    "start_time": "2025-05-13T15:32:01.676Z"
   },
   {
    "duration": 931,
    "start_time": "2025-05-13T15:33:07.156Z"
   },
   {
    "duration": 969,
    "start_time": "2025-05-13T15:33:20.698Z"
   },
   {
    "duration": 970,
    "start_time": "2025-05-13T15:33:44.136Z"
   },
   {
    "duration": 7204,
    "start_time": "2025-05-13T15:33:52.204Z"
   },
   {
    "duration": 51,
    "start_time": "2025-05-13T15:33:59.411Z"
   },
   {
    "duration": 15,
    "start_time": "2025-05-13T15:33:59.464Z"
   },
   {
    "duration": 32,
    "start_time": "2025-05-13T15:33:59.481Z"
   },
   {
    "duration": 9,
    "start_time": "2025-05-13T15:33:59.516Z"
   },
   {
    "duration": 20,
    "start_time": "2025-05-13T15:33:59.527Z"
   },
   {
    "duration": 17,
    "start_time": "2025-05-13T15:33:59.549Z"
   },
   {
    "duration": 37,
    "start_time": "2025-05-13T15:33:59.568Z"
   },
   {
    "duration": 11,
    "start_time": "2025-05-13T15:33:59.606Z"
   },
   {
    "duration": 5,
    "start_time": "2025-05-13T15:33:59.619Z"
   },
   {
    "duration": 16,
    "start_time": "2025-05-13T15:33:59.626Z"
   },
   {
    "duration": 518,
    "start_time": "2025-05-13T15:33:59.643Z"
   },
   {
    "duration": 656,
    "start_time": "2025-05-13T15:34:00.163Z"
   },
   {
    "duration": 1521,
    "start_time": "2025-05-13T15:34:00.821Z"
   },
   {
    "duration": 358,
    "start_time": "2025-05-13T15:34:02.345Z"
   },
   {
    "duration": 388,
    "start_time": "2025-05-13T15:34:02.705Z"
   },
   {
    "duration": 21,
    "start_time": "2025-05-13T15:34:03.096Z"
   },
   {
    "duration": 34,
    "start_time": "2025-05-13T15:34:03.119Z"
   },
   {
    "duration": 985,
    "start_time": "2025-05-13T15:34:03.155Z"
   },
   {
    "duration": 24,
    "start_time": "2025-05-13T15:34:04.142Z"
   },
   {
    "duration": 7292,
    "start_time": "2025-05-13T15:38:26.778Z"
   },
   {
    "duration": 56,
    "start_time": "2025-05-13T15:38:34.073Z"
   },
   {
    "duration": 15,
    "start_time": "2025-05-13T15:38:34.131Z"
   },
   {
    "duration": 32,
    "start_time": "2025-05-13T15:38:34.148Z"
   },
   {
    "duration": 13,
    "start_time": "2025-05-13T15:38:34.183Z"
   },
   {
    "duration": 28,
    "start_time": "2025-05-13T15:38:34.198Z"
   },
   {
    "duration": 11,
    "start_time": "2025-05-13T15:38:34.228Z"
   },
   {
    "duration": 16,
    "start_time": "2025-05-13T15:38:34.241Z"
   },
   {
    "duration": 5,
    "start_time": "2025-05-13T15:38:34.259Z"
   },
   {
    "duration": 16,
    "start_time": "2025-05-13T15:38:34.266Z"
   },
   {
    "duration": 22,
    "start_time": "2025-05-13T15:38:34.283Z"
   },
   {
    "duration": 551,
    "start_time": "2025-05-13T15:38:34.307Z"
   },
   {
    "duration": 656,
    "start_time": "2025-05-13T15:38:34.860Z"
   },
   {
    "duration": 1439,
    "start_time": "2025-05-13T15:38:35.518Z"
   },
   {
    "duration": 373,
    "start_time": "2025-05-13T15:38:36.959Z"
   },
   {
    "duration": 360,
    "start_time": "2025-05-13T15:38:37.336Z"
   },
   {
    "duration": 19,
    "start_time": "2025-05-13T15:38:37.698Z"
   },
   {
    "duration": 51,
    "start_time": "2025-05-13T15:38:37.719Z"
   },
   {
    "duration": 826,
    "start_time": "2025-05-13T15:38:37.772Z"
   },
   {
    "duration": 21,
    "start_time": "2025-05-13T15:38:38.600Z"
   },
   {
    "duration": 4,
    "start_time": "2025-05-13T15:41:35.784Z"
   },
   {
    "duration": 12,
    "start_time": "2025-05-13T15:46:28.685Z"
   },
   {
    "duration": 7278,
    "start_time": "2025-05-13T15:47:24.239Z"
   },
   {
    "duration": 67,
    "start_time": "2025-05-13T15:47:31.520Z"
   },
   {
    "duration": 19,
    "start_time": "2025-05-13T15:47:31.590Z"
   },
   {
    "duration": 46,
    "start_time": "2025-05-13T15:47:31.611Z"
   },
   {
    "duration": 17,
    "start_time": "2025-05-13T15:47:31.660Z"
   },
   {
    "duration": 23,
    "start_time": "2025-05-13T15:47:31.679Z"
   },
   {
    "duration": 9,
    "start_time": "2025-05-13T15:47:31.704Z"
   },
   {
    "duration": 39,
    "start_time": "2025-05-13T15:47:31.714Z"
   },
   {
    "duration": 104,
    "start_time": "2025-05-13T15:47:31.755Z"
   },
   {
    "duration": 49,
    "start_time": "2025-05-13T15:47:31.861Z"
   },
   {
    "duration": 40,
    "start_time": "2025-05-13T15:47:31.911Z"
   },
   {
    "duration": 568,
    "start_time": "2025-05-13T15:47:31.952Z"
   },
   {
    "duration": 591,
    "start_time": "2025-05-13T15:47:32.522Z"
   },
   {
    "duration": 1478,
    "start_time": "2025-05-13T15:47:33.116Z"
   },
   {
    "duration": 385,
    "start_time": "2025-05-13T15:47:34.595Z"
   },
   {
    "duration": 356,
    "start_time": "2025-05-13T15:47:34.982Z"
   },
   {
    "duration": 23,
    "start_time": "2025-05-13T15:47:35.339Z"
   },
   {
    "duration": 168,
    "start_time": "2025-05-13T15:47:35.365Z"
   },
   {
    "duration": 817,
    "start_time": "2025-05-13T15:47:35.535Z"
   },
   {
    "duration": 22,
    "start_time": "2025-05-13T15:47:36.354Z"
   },
   {
    "duration": 35,
    "start_time": "2025-05-13T15:47:36.378Z"
   },
   {
    "duration": 45,
    "start_time": "2025-05-13T15:47:36.415Z"
   },
   {
    "duration": 7388,
    "start_time": "2025-05-13T15:57:10.701Z"
   },
   {
    "duration": 51,
    "start_time": "2025-05-13T15:57:18.092Z"
   },
   {
    "duration": 14,
    "start_time": "2025-05-13T15:57:18.145Z"
   },
   {
    "duration": 19,
    "start_time": "2025-05-13T15:57:18.161Z"
   },
   {
    "duration": 10,
    "start_time": "2025-05-13T15:57:18.182Z"
   },
   {
    "duration": 10,
    "start_time": "2025-05-13T15:57:18.194Z"
   },
   {
    "duration": 6,
    "start_time": "2025-05-13T15:57:18.239Z"
   },
   {
    "duration": 16,
    "start_time": "2025-05-13T15:57:18.246Z"
   },
   {
    "duration": 6,
    "start_time": "2025-05-13T15:57:18.264Z"
   },
   {
    "duration": 5,
    "start_time": "2025-05-13T15:57:18.273Z"
   },
   {
    "duration": 15,
    "start_time": "2025-05-13T15:57:18.280Z"
   },
   {
    "duration": 567,
    "start_time": "2025-05-13T15:57:18.297Z"
   },
   {
    "duration": 631,
    "start_time": "2025-05-13T15:57:18.866Z"
   },
   {
    "duration": 1428,
    "start_time": "2025-05-13T15:57:19.499Z"
   },
   {
    "duration": 356,
    "start_time": "2025-05-13T15:57:20.929Z"
   },
   {
    "duration": 378,
    "start_time": "2025-05-13T15:57:21.287Z"
   },
   {
    "duration": 21,
    "start_time": "2025-05-13T15:57:21.667Z"
   },
   {
    "duration": 6,
    "start_time": "2025-05-13T15:57:21.690Z"
   },
   {
    "duration": 818,
    "start_time": "2025-05-13T15:57:21.697Z"
   },
   {
    "duration": 35,
    "start_time": "2025-05-13T15:57:22.516Z"
   },
   {
    "duration": 5,
    "start_time": "2025-05-13T15:57:22.553Z"
   },
   {
    "duration": 39,
    "start_time": "2025-05-13T15:57:22.560Z"
   },
   {
    "duration": 13299,
    "start_time": "2025-05-13T16:11:05.568Z"
   },
   {
    "duration": 50,
    "start_time": "2025-05-13T16:11:18.869Z"
   },
   {
    "duration": 13,
    "start_time": "2025-05-13T16:11:18.920Z"
   },
   {
    "duration": 18,
    "start_time": "2025-05-13T16:11:18.935Z"
   },
   {
    "duration": 8,
    "start_time": "2025-05-13T16:11:18.956Z"
   },
   {
    "duration": 8,
    "start_time": "2025-05-13T16:11:18.966Z"
   },
   {
    "duration": 7,
    "start_time": "2025-05-13T16:11:18.976Z"
   },
   {
    "duration": 22,
    "start_time": "2025-05-13T16:11:18.984Z"
   },
   {
    "duration": 30,
    "start_time": "2025-05-13T16:11:19.007Z"
   },
   {
    "duration": 5,
    "start_time": "2025-05-13T16:11:19.039Z"
   },
   {
    "duration": 96,
    "start_time": "2025-05-13T16:11:19.046Z"
   },
   {
    "duration": 466,
    "start_time": "2025-05-13T16:11:19.144Z"
   },
   {
    "duration": 649,
    "start_time": "2025-05-13T16:11:19.612Z"
   },
   {
    "duration": 1193,
    "start_time": "2025-05-13T16:11:20.263Z"
   },
   {
    "duration": 301,
    "start_time": "2025-05-13T16:11:21.458Z"
   },
   {
    "duration": 296,
    "start_time": "2025-05-13T16:11:21.761Z"
   },
   {
    "duration": 15,
    "start_time": "2025-05-13T16:11:22.058Z"
   },
   {
    "duration": 62,
    "start_time": "2025-05-13T16:11:22.074Z"
   },
   {
    "duration": 512,
    "start_time": "2025-05-13T16:11:22.138Z"
   },
   {
    "duration": 18,
    "start_time": "2025-05-13T16:11:22.652Z"
   },
   {
    "duration": 3,
    "start_time": "2025-05-13T16:11:22.672Z"
   },
   {
    "duration": 9,
    "start_time": "2025-05-13T16:11:22.676Z"
   },
   {
    "duration": 7931,
    "start_time": "2025-05-14T17:27:13.127Z"
   },
   {
    "duration": 1617,
    "start_time": "2025-05-14T17:27:24.830Z"
   },
   {
    "duration": 132,
    "start_time": "2025-05-14T18:01:33.906Z"
   },
   {
    "duration": 3334,
    "start_time": "2025-05-14T18:01:42.999Z"
   },
   {
    "duration": 1464,
    "start_time": "2025-05-14T18:01:46.335Z"
   },
   {
    "duration": 48,
    "start_time": "2025-05-14T18:01:47.800Z"
   },
   {
    "duration": 13,
    "start_time": "2025-05-14T18:01:47.850Z"
   },
   {
    "duration": 18,
    "start_time": "2025-05-14T18:01:47.865Z"
   },
   {
    "duration": 25,
    "start_time": "2025-05-14T18:01:47.885Z"
   },
   {
    "duration": 22,
    "start_time": "2025-05-14T18:01:47.911Z"
   },
   {
    "duration": 16,
    "start_time": "2025-05-14T18:01:47.935Z"
   },
   {
    "duration": 19,
    "start_time": "2025-05-14T18:01:47.952Z"
   },
   {
    "duration": 5,
    "start_time": "2025-05-14T18:01:47.972Z"
   },
   {
    "duration": 29,
    "start_time": "2025-05-14T18:01:47.978Z"
   },
   {
    "duration": 12,
    "start_time": "2025-05-14T18:01:48.008Z"
   },
   {
    "duration": 485,
    "start_time": "2025-05-14T18:01:48.022Z"
   },
   {
    "duration": 5065,
    "start_time": "2025-05-14T18:01:48.510Z"
   },
   {
    "duration": 4740,
    "start_time": "2025-05-14T18:02:07.095Z"
   },
   {
    "duration": 80,
    "start_time": "2025-05-14T18:06:56.035Z"
   },
   {
    "duration": 114,
    "start_time": "2025-05-14T18:07:09.172Z"
   },
   {
    "duration": 89,
    "start_time": "2025-05-14T18:07:31.338Z"
   },
   {
    "duration": 2690,
    "start_time": "2025-05-14T18:08:01.171Z"
   },
   {
    "duration": 2517,
    "start_time": "2025-05-14T18:08:59.402Z"
   },
   {
    "duration": 2839,
    "start_time": "2025-05-14T18:10:09.442Z"
   },
   {
    "duration": 2369,
    "start_time": "2025-05-14T18:11:10.936Z"
   },
   {
    "duration": 7732,
    "start_time": "2025-05-15T07:43:28.595Z"
   },
   {
    "duration": 1563,
    "start_time": "2025-05-15T07:43:36.330Z"
   },
   {
    "duration": 58,
    "start_time": "2025-05-15T07:43:37.895Z"
   },
   {
    "duration": 84,
    "start_time": "2025-05-15T07:43:37.954Z"
   },
   {
    "duration": 187,
    "start_time": "2025-05-15T07:43:38.040Z"
   },
   {
    "duration": 41,
    "start_time": "2025-05-15T07:43:38.229Z"
   },
   {
    "duration": 24,
    "start_time": "2025-05-15T07:43:38.271Z"
   },
   {
    "duration": 54,
    "start_time": "2025-05-15T07:43:38.297Z"
   },
   {
    "duration": 88,
    "start_time": "2025-05-15T07:43:38.353Z"
   },
   {
    "duration": 12,
    "start_time": "2025-05-15T07:43:38.442Z"
   },
   {
    "duration": 69,
    "start_time": "2025-05-15T07:43:38.456Z"
   },
   {
    "duration": 22,
    "start_time": "2025-05-15T07:43:38.527Z"
   },
   {
    "duration": 511,
    "start_time": "2025-05-15T07:43:38.551Z"
   },
   {
    "duration": 2465,
    "start_time": "2025-05-15T07:43:39.064Z"
   },
   {
    "duration": 230,
    "start_time": "2025-05-15T07:43:41.531Z"
   },
   {
    "duration": 470,
    "start_time": "2025-05-15T07:44:05.866Z"
   },
   {
    "duration": 323,
    "start_time": "2025-05-15T07:49:20.214Z"
   },
   {
    "duration": 384,
    "start_time": "2025-05-15T07:49:28.668Z"
   },
   {
    "duration": 275,
    "start_time": "2025-05-15T07:49:35.766Z"
   },
   {
    "duration": 259,
    "start_time": "2025-05-15T07:51:04.188Z"
   },
   {
    "duration": 265,
    "start_time": "2025-05-15T07:51:08.236Z"
   },
   {
    "duration": 27,
    "start_time": "2025-05-15T07:52:50.990Z"
   },
   {
    "duration": 566,
    "start_time": "2025-05-15T07:56:11.233Z"
   },
   {
    "duration": 763,
    "start_time": "2025-05-15T07:56:34.424Z"
   },
   {
    "duration": 407,
    "start_time": "2025-05-15T07:59:40.958Z"
   },
   {
    "duration": 561,
    "start_time": "2025-05-15T08:00:07.790Z"
   },
   {
    "duration": 604,
    "start_time": "2025-05-15T08:00:45.414Z"
   },
   {
    "duration": 578,
    "start_time": "2025-05-15T08:01:45.861Z"
   },
   {
    "duration": 564,
    "start_time": "2025-05-15T08:01:55.132Z"
   },
   {
    "duration": 533,
    "start_time": "2025-05-15T08:02:02.868Z"
   },
   {
    "duration": 806,
    "start_time": "2025-05-15T08:03:32.396Z"
   },
   {
    "duration": 697,
    "start_time": "2025-05-15T08:04:05.323Z"
   },
   {
    "duration": 663,
    "start_time": "2025-05-15T08:04:28.451Z"
   },
   {
    "duration": 323,
    "start_time": "2025-05-15T08:13:19.804Z"
   },
   {
    "duration": 1019,
    "start_time": "2025-05-15T08:13:56.589Z"
   },
   {
    "duration": 387,
    "start_time": "2025-05-15T08:14:32.707Z"
   },
   {
    "duration": 368,
    "start_time": "2025-05-15T08:14:40.323Z"
   },
   {
    "duration": 553,
    "start_time": "2025-05-15T08:15:34.041Z"
   },
   {
    "duration": 753,
    "start_time": "2025-05-15T08:15:43.554Z"
   },
   {
    "duration": 994,
    "start_time": "2025-05-15T08:16:08.130Z"
   },
   {
    "duration": 735,
    "start_time": "2025-05-15T08:17:56.480Z"
   },
   {
    "duration": 256,
    "start_time": "2025-05-15T08:22:17.333Z"
   },
   {
    "duration": 655,
    "start_time": "2025-05-15T08:23:00.268Z"
   },
   {
    "duration": 23,
    "start_time": "2025-05-15T09:08:59.793Z"
   },
   {
    "duration": 16,
    "start_time": "2025-05-15T09:12:24.333Z"
   },
   {
    "duration": 19,
    "start_time": "2025-05-15T09:12:41.678Z"
   },
   {
    "duration": 3263,
    "start_time": "2025-05-15T09:13:31.932Z"
   },
   {
    "duration": 1505,
    "start_time": "2025-05-15T09:13:35.198Z"
   },
   {
    "duration": 48,
    "start_time": "2025-05-15T09:13:36.705Z"
   },
   {
    "duration": 123,
    "start_time": "2025-05-15T09:13:36.756Z"
   },
   {
    "duration": 36,
    "start_time": "2025-05-15T09:13:36.882Z"
   },
   {
    "duration": 14,
    "start_time": "2025-05-15T09:13:36.920Z"
   },
   {
    "duration": 10,
    "start_time": "2025-05-15T09:13:36.936Z"
   },
   {
    "duration": 25,
    "start_time": "2025-05-15T09:13:36.948Z"
   },
   {
    "duration": 15,
    "start_time": "2025-05-15T09:13:36.974Z"
   },
   {
    "duration": 5,
    "start_time": "2025-05-15T09:13:36.990Z"
   },
   {
    "duration": 4,
    "start_time": "2025-05-15T09:13:36.997Z"
   },
   {
    "duration": 22,
    "start_time": "2025-05-15T09:13:37.003Z"
   },
   {
    "duration": 494,
    "start_time": "2025-05-15T09:13:37.027Z"
   },
   {
    "duration": 2501,
    "start_time": "2025-05-15T09:13:37.524Z"
   },
   {
    "duration": 499,
    "start_time": "2025-05-15T09:13:40.027Z"
   },
   {
    "duration": 1464,
    "start_time": "2025-05-15T09:13:40.527Z"
   },
   {
    "duration": 842,
    "start_time": "2025-05-15T09:13:41.996Z"
   },
   {
    "duration": 13,
    "start_time": "2025-05-15T09:13:42.840Z"
   },
   {
    "duration": 63,
    "start_time": "2025-05-15T09:13:42.855Z"
   },
   {
    "duration": 363,
    "start_time": "2025-05-15T09:18:49.787Z"
   },
   {
    "duration": 29,
    "start_time": "2025-05-15T09:35:47.251Z"
   },
   {
    "duration": 15,
    "start_time": "2025-05-15T09:37:23.362Z"
   },
   {
    "duration": 9,
    "start_time": "2025-05-15T09:37:30.195Z"
   },
   {
    "duration": 3160,
    "start_time": "2025-05-15T09:38:24.757Z"
   },
   {
    "duration": 1375,
    "start_time": "2025-05-15T09:38:27.919Z"
   },
   {
    "duration": 56,
    "start_time": "2025-05-15T09:38:29.296Z"
   },
   {
    "duration": 12,
    "start_time": "2025-05-15T09:38:29.353Z"
   },
   {
    "duration": 112,
    "start_time": "2025-05-15T09:38:29.367Z"
   },
   {
    "duration": 127,
    "start_time": "2025-05-15T09:38:29.481Z"
   },
   {
    "duration": 33,
    "start_time": "2025-05-15T09:38:29.609Z"
   },
   {
    "duration": 45,
    "start_time": "2025-05-15T09:38:29.644Z"
   },
   {
    "duration": 55,
    "start_time": "2025-05-15T09:38:29.691Z"
   },
   {
    "duration": 92,
    "start_time": "2025-05-15T09:38:29.749Z"
   },
   {
    "duration": 100,
    "start_time": "2025-05-15T09:38:29.843Z"
   },
   {
    "duration": 44,
    "start_time": "2025-05-15T09:38:29.945Z"
   },
   {
    "duration": 444,
    "start_time": "2025-05-15T09:38:29.991Z"
   },
   {
    "duration": 2599,
    "start_time": "2025-05-15T09:38:30.438Z"
   },
   {
    "duration": 485,
    "start_time": "2025-05-15T09:38:33.039Z"
   },
   {
    "duration": 1450,
    "start_time": "2025-05-15T09:38:33.526Z"
   },
   {
    "duration": 773,
    "start_time": "2025-05-15T09:38:34.978Z"
   },
   {
    "duration": 30,
    "start_time": "2025-05-15T09:38:35.753Z"
   },
   {
    "duration": 19,
    "start_time": "2025-05-15T09:38:35.786Z"
   },
   {
    "duration": 416,
    "start_time": "2025-05-15T09:38:51.664Z"
   },
   {
    "duration": 27,
    "start_time": "2025-05-15T09:39:00.816Z"
   },
   {
    "duration": 4,
    "start_time": "2025-05-15T09:39:12.991Z"
   },
   {
    "duration": 5,
    "start_time": "2025-05-15T09:40:39.190Z"
   },
   {
    "duration": 17954,
    "start_time": "2025-05-15T09:43:47.581Z"
   },
   {
    "duration": 17,
    "start_time": "2025-05-15T09:44:05.537Z"
   },
   {
    "duration": 4,
    "start_time": "2025-05-15T09:44:31.493Z"
   },
   {
    "duration": 11,
    "start_time": "2025-05-15T09:44:44.236Z"
   },
   {
    "duration": 6,
    "start_time": "2025-05-15T09:46:00.123Z"
   },
   {
    "duration": 9,
    "start_time": "2025-05-15T09:49:15.554Z"
   },
   {
    "duration": 3,
    "start_time": "2025-05-15T09:52:18.494Z"
   },
   {
    "duration": 17000,
    "start_time": "2025-05-15T09:52:23.398Z"
   },
   {
    "duration": 8,
    "start_time": "2025-05-15T09:52:40.400Z"
   },
   {
    "duration": 18434,
    "start_time": "2025-05-15T09:54:37.773Z"
   },
   {
    "duration": 6,
    "start_time": "2025-05-15T09:56:59.979Z"
   },
   {
    "duration": 3126,
    "start_time": "2025-05-15T10:00:10.010Z"
   },
   {
    "duration": 1366,
    "start_time": "2025-05-15T10:00:13.139Z"
   },
   {
    "duration": 57,
    "start_time": "2025-05-15T10:00:14.506Z"
   },
   {
    "duration": 12,
    "start_time": "2025-05-15T10:00:14.564Z"
   },
   {
    "duration": 121,
    "start_time": "2025-05-15T10:00:14.578Z"
   },
   {
    "duration": 29,
    "start_time": "2025-05-15T10:00:14.700Z"
   },
   {
    "duration": 93,
    "start_time": "2025-05-15T10:00:14.731Z"
   },
   {
    "duration": 98,
    "start_time": "2025-05-15T10:00:14.826Z"
   },
   {
    "duration": 126,
    "start_time": "2025-05-15T10:00:14.926Z"
   },
   {
    "duration": 69,
    "start_time": "2025-05-15T10:00:15.053Z"
   },
   {
    "duration": 36,
    "start_time": "2025-05-15T10:00:15.124Z"
   },
   {
    "duration": 51,
    "start_time": "2025-05-15T10:00:15.162Z"
   },
   {
    "duration": 541,
    "start_time": "2025-05-15T10:00:15.214Z"
   },
   {
    "duration": 2550,
    "start_time": "2025-05-15T10:00:15.758Z"
   },
   {
    "duration": 488,
    "start_time": "2025-05-15T10:00:18.309Z"
   },
   {
    "duration": 1380,
    "start_time": "2025-05-15T10:00:18.799Z"
   },
   {
    "duration": 805,
    "start_time": "2025-05-15T10:00:20.181Z"
   },
   {
    "duration": 13,
    "start_time": "2025-05-15T10:00:20.988Z"
   },
   {
    "duration": 46,
    "start_time": "2025-05-15T10:00:21.003Z"
   },
   {
    "duration": 391,
    "start_time": "2025-05-15T10:00:21.050Z"
   },
   {
    "duration": 40,
    "start_time": "2025-05-15T10:00:21.443Z"
   },
   {
    "duration": 5,
    "start_time": "2025-05-15T10:00:21.485Z"
   },
   {
    "duration": 18391,
    "start_time": "2025-05-15T10:00:21.492Z"
   },
   {
    "duration": 6,
    "start_time": "2025-05-15T10:00:39.885Z"
   },
   {
    "duration": 128,
    "start_time": "2025-05-15T10:02:18.822Z"
   },
   {
    "duration": 7,
    "start_time": "2025-05-15T10:02:44.774Z"
   },
   {
    "duration": 6,
    "start_time": "2025-05-15T10:02:52.110Z"
   },
   {
    "duration": 3079,
    "start_time": "2025-05-15T10:02:58.996Z"
   },
   {
    "duration": 1428,
    "start_time": "2025-05-15T10:03:02.077Z"
   },
   {
    "duration": 48,
    "start_time": "2025-05-15T10:03:03.508Z"
   },
   {
    "duration": 12,
    "start_time": "2025-05-15T10:03:03.557Z"
   },
   {
    "duration": 16,
    "start_time": "2025-05-15T10:03:03.577Z"
   },
   {
    "duration": 20,
    "start_time": "2025-05-15T10:03:03.594Z"
   },
   {
    "duration": 11,
    "start_time": "2025-05-15T10:03:03.616Z"
   },
   {
    "duration": 17,
    "start_time": "2025-05-15T10:03:03.628Z"
   },
   {
    "duration": 22,
    "start_time": "2025-05-15T10:03:03.647Z"
   },
   {
    "duration": 7,
    "start_time": "2025-05-15T10:03:03.670Z"
   },
   {
    "duration": 6,
    "start_time": "2025-05-15T10:03:03.678Z"
   },
   {
    "duration": 11,
    "start_time": "2025-05-15T10:03:03.686Z"
   },
   {
    "duration": 458,
    "start_time": "2025-05-15T10:03:03.698Z"
   },
   {
    "duration": 2517,
    "start_time": "2025-05-15T10:03:04.159Z"
   },
   {
    "duration": 495,
    "start_time": "2025-05-15T10:03:06.678Z"
   },
   {
    "duration": 1423,
    "start_time": "2025-05-15T10:03:07.176Z"
   },
   {
    "duration": 783,
    "start_time": "2025-05-15T10:03:08.600Z"
   },
   {
    "duration": 17,
    "start_time": "2025-05-15T10:03:09.385Z"
   },
   {
    "duration": 10,
    "start_time": "2025-05-15T10:03:09.404Z"
   },
   {
    "duration": 424,
    "start_time": "2025-05-15T10:03:09.416Z"
   },
   {
    "duration": 36,
    "start_time": "2025-05-15T10:03:09.842Z"
   },
   {
    "duration": 28,
    "start_time": "2025-05-15T10:03:09.881Z"
   },
   {
    "duration": 16776,
    "start_time": "2025-05-15T10:03:09.911Z"
   },
   {
    "duration": 7,
    "start_time": "2025-05-15T10:03:26.689Z"
   },
   {
    "duration": 15,
    "start_time": "2025-05-15T10:03:26.700Z"
   },
   {
    "duration": 3198,
    "start_time": "2025-05-15T10:15:17.098Z"
   },
   {
    "duration": 1408,
    "start_time": "2025-05-15T10:15:20.299Z"
   },
   {
    "duration": 59,
    "start_time": "2025-05-15T10:15:21.708Z"
   },
   {
    "duration": 13,
    "start_time": "2025-05-15T10:15:21.769Z"
   },
   {
    "duration": 68,
    "start_time": "2025-05-15T10:15:21.784Z"
   },
   {
    "duration": 13,
    "start_time": "2025-05-15T10:15:21.854Z"
   },
   {
    "duration": 8,
    "start_time": "2025-05-15T10:15:21.869Z"
   },
   {
    "duration": 5,
    "start_time": "2025-05-15T10:15:21.878Z"
   },
   {
    "duration": 27,
    "start_time": "2025-05-15T10:15:21.884Z"
   },
   {
    "duration": 29,
    "start_time": "2025-05-15T10:15:21.914Z"
   },
   {
    "duration": 9,
    "start_time": "2025-05-15T10:15:21.945Z"
   },
   {
    "duration": 13,
    "start_time": "2025-05-15T10:15:21.956Z"
   },
   {
    "duration": 461,
    "start_time": "2025-05-15T10:15:21.971Z"
   },
   {
    "duration": 2508,
    "start_time": "2025-05-15T10:15:22.434Z"
   },
   {
    "duration": 493,
    "start_time": "2025-05-15T10:15:24.945Z"
   },
   {
    "duration": 1529,
    "start_time": "2025-05-15T10:15:25.440Z"
   },
   {
    "duration": 813,
    "start_time": "2025-05-15T10:15:26.971Z"
   },
   {
    "duration": 15,
    "start_time": "2025-05-15T10:15:27.786Z"
   },
   {
    "duration": 59,
    "start_time": "2025-05-15T10:15:27.802Z"
   },
   {
    "duration": 384,
    "start_time": "2025-05-15T10:15:27.862Z"
   },
   {
    "duration": 36,
    "start_time": "2025-05-15T10:15:28.248Z"
   },
   {
    "duration": 3,
    "start_time": "2025-05-15T10:15:28.286Z"
   },
   {
    "duration": 26339,
    "start_time": "2025-05-15T10:15:28.291Z"
   },
   {
    "duration": 6,
    "start_time": "2025-05-15T10:15:54.631Z"
   },
   {
    "duration": 21,
    "start_time": "2025-05-15T10:15:54.638Z"
   },
   {
    "duration": 3154,
    "start_time": "2025-05-15T10:17:44.667Z"
   },
   {
    "duration": 1401,
    "start_time": "2025-05-15T10:17:47.824Z"
   },
   {
    "duration": 46,
    "start_time": "2025-05-15T10:17:49.227Z"
   },
   {
    "duration": 14,
    "start_time": "2025-05-15T10:17:49.276Z"
   },
   {
    "duration": 25,
    "start_time": "2025-05-15T10:17:49.293Z"
   },
   {
    "duration": 9,
    "start_time": "2025-05-15T10:17:49.320Z"
   },
   {
    "duration": 12,
    "start_time": "2025-05-15T10:17:49.330Z"
   },
   {
    "duration": 5,
    "start_time": "2025-05-15T10:17:49.376Z"
   },
   {
    "duration": 33,
    "start_time": "2025-05-15T10:17:49.383Z"
   },
   {
    "duration": 4,
    "start_time": "2025-05-15T10:17:49.419Z"
   },
   {
    "duration": 8,
    "start_time": "2025-05-15T10:17:49.425Z"
   },
   {
    "duration": 11,
    "start_time": "2025-05-15T10:17:49.435Z"
   },
   {
    "duration": 470,
    "start_time": "2025-05-15T10:17:49.448Z"
   },
   {
    "duration": 2483,
    "start_time": "2025-05-15T10:17:49.921Z"
   },
   {
    "duration": 467,
    "start_time": "2025-05-15T10:17:52.406Z"
   },
   {
    "duration": 1409,
    "start_time": "2025-05-15T10:17:52.877Z"
   },
   {
    "duration": 788,
    "start_time": "2025-05-15T10:17:54.288Z"
   },
   {
    "duration": 14,
    "start_time": "2025-05-15T10:17:55.078Z"
   },
   {
    "duration": 216,
    "start_time": "2025-05-15T10:17:55.093Z"
   },
   {
    "duration": 369,
    "start_time": "2025-05-15T10:17:55.310Z"
   },
   {
    "duration": 25,
    "start_time": "2025-05-15T10:17:55.681Z"
   },
   {
    "duration": 176,
    "start_time": "2025-05-15T10:17:55.708Z"
   },
   {
    "duration": 17263,
    "start_time": "2025-05-15T10:17:55.886Z"
   },
   {
    "duration": 6,
    "start_time": "2025-05-15T10:18:13.150Z"
   },
   {
    "duration": 22,
    "start_time": "2025-05-15T10:18:13.157Z"
   }
  ],
  "kernelspec": {
   "display_name": "Python 3 (ipykernel)",
   "language": "python",
   "name": "python3"
  },
  "language_info": {
   "codemirror_mode": {
    "name": "ipython",
    "version": 3
   },
   "file_extension": ".py",
   "mimetype": "text/x-python",
   "name": "python",
   "nbconvert_exporter": "python",
   "pygments_lexer": "ipython3",
   "version": "3.12.7"
  },
  "toc": {
   "base_numbering": 1,
   "nav_menu": {},
   "number_sections": true,
   "sideBar": false,
   "skip_h1_title": true,
   "title_cell": "Содержание",
   "title_sidebar": "Contents",
   "toc_cell": true,
   "toc_position": {
    "height": "47.6875px",
    "left": "55px",
    "top": "168.125px",
    "width": "212px"
   },
   "toc_section_display": true,
   "toc_window_display": false
  }
 },
 "nbformat": 4,
 "nbformat_minor": 4
}
